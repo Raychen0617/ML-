{
 "metadata": {
  "language_info": {
   "codemirror_mode": {
    "name": "ipython",
    "version": 3
   },
   "file_extension": ".py",
   "mimetype": "text/x-python",
   "name": "python",
   "nbconvert_exporter": "python",
   "pygments_lexer": "ipython3",
   "version": "3.8.3-final"
  },
  "orig_nbformat": 2,
  "kernelspec": {
   "name": "python3",
   "display_name": "Python 3"
  }
 },
 "nbformat": 4,
 "nbformat_minor": 2,
 "cells": [
  {
   "source": [
    "# 0716230 陳子睿"
   ],
   "cell_type": "markdown",
   "metadata": {}
  },
  {
   "source": [
    "# 1. DATA INPUT"
   ],
   "cell_type": "markdown",
   "metadata": {}
  },
  {
   "cell_type": "code",
   "execution_count": 130,
   "metadata": {},
   "outputs": [],
   "source": [
    "import numpy as np\n",
    "import pandas as pd\n",
    "import seaborn as sns\n",
    "import csv\n",
    "from sklearn.metrics import accuracy_score\n",
    "from sklearn.metrics import f1_score\n",
    "from sklearn.model_selection import train_test_split\n",
    "from sklearn.preprocessing import LabelEncoder\n",
    "from sklearn.preprocessing import OneHotEncoder\n",
    "from sklearn.model_selection import learning_curve\n",
    "import matplotlib.pyplot as plt\n",
    "from sklearn.metrics import precision_score\n",
    "from sklearn.metrics import confusion_matrix\n",
    "from sklearn.metrics import classification_report\n",
    "\n",
    "d1=pd.read_csv(\"student-mat.csv\",sep=\";\")\n",
    "df_original = pd.DataFrame(data=d1)\n",
    "df_original.columns = ['school','sex','age','address','family_size','parents_status','mother_education','father_education',\n",
    "'mother_job','father_job','reason','guardian','commute_time','study_time','failures','school_support','family_support','paid_classes','activities','nursery','desire_higher_edu','internet','romantic','family_quality',\n",
    "'free_time','go_out','weekday_alcohol_usage','weekend_alcohol_usage','health','absences','period1_score','period2_score','final_score']\n",
    "df=df_original\n",
    "df_binary=df_original\n",
    "#df_original.head(10)\n"
   ]
  },
  {
   "source": [
    "### code explain\n",
    "\n",
    "load csv file <br>\n",
    "change the data's column to what you want <br>\n",
    "make the data into two dataframe (binary data and five level data) <br>\n",
    "store the original data at df_original\n"
   ],
   "cell_type": "markdown",
   "metadata": {}
  },
  {
   "source": [
    "# 2. DATA PREPROCESSING"
   ],
   "cell_type": "markdown",
   "metadata": {}
  },
  {
   "source": [
    "## Transform data format and shape so your model can process them"
   ],
   "cell_type": "markdown",
   "metadata": {}
  },
  {
   "cell_type": "code",
   "execution_count": 131,
   "metadata": {},
   "outputs": [],
   "source": [
    "df = pd.get_dummies(df)\n",
    "df_binary = pd.get_dummies(df_binary)"
   ]
  },
  {
   "source": [
    "### code explain\n",
    "use panda.get_dummies to turn categorical features to numerical features"
   ],
   "cell_type": "markdown",
   "metadata": {}
  },
  {
   "source": [
    "## Shuffle data"
   ],
   "cell_type": "markdown",
   "metadata": {}
  },
  {
   "cell_type": "code",
   "execution_count": 132,
   "metadata": {},
   "outputs": [],
   "source": [
    "from sklearn.utils import shuffle\n",
    "df = shuffle(df , random_state=1)\n",
    "df_binary = shuffle(df_binary , random_state=1)\n",
    "\n"
   ]
  },
  {
   "source": [
    "### code explain\n",
    "use shuffle function to randomly shuffle the data"
   ],
   "cell_type": "markdown",
   "metadata": {}
  },
  {
   "source": [
    "## Transform label format so you can do the required two tasks described below Data section."
   ],
   "cell_type": "markdown",
   "metadata": {}
  },
  {
   "cell_type": "code",
   "execution_count": 133,
   "metadata": {},
   "outputs": [],
   "source": [
    "# convert final_score to categorical variable \n",
    "# A 16-20 B:14-15 C:12-13 D 10-11  F:0~9\n",
    "df.loc[(df.final_score >= 16) & (df.final_score <= 20), 'final_grade'] = 'A' \n",
    "df.loc[(df.final_score >= 14) & (df.final_score <= 15), 'final_grade'] = 'B' \n",
    "df.loc[(df.final_score >= 12) & (df.final_score <= 13), 'final_grade'] = 'C' \n",
    "df.loc[(df.final_score >= 10) & (df.final_score <= 11), 'final_grade'] = 'D' \n",
    "df.loc[(df.final_score >= 0) & (df.final_score <= 9), 'final_grade'] = 'F'\n",
    "\n",
    "# convert final_score(G3) to classification\n",
    "df_binary['final_grade'] = 'fail'\n",
    "df_binary.loc[(df_binary.final_score >= 10), 'final_grade'] = 'pass'\n",
    "df.head(10)\n",
    "\n",
    "df = df.drop(columns=['final_score'])\n",
    "df_binary = df_binary.drop(columns=['final_score'])\n",
    "\n",
    "#df['final_grade'].head(10)\n"
   ]
  },
  {
   "source": [
    "### code explain \n",
    "change five level data's final grade to five levels A,B,C,D,F (according to their final_score)<br>\n",
    "change binary level data's final grade to binary levels pass and fail (according to their final_score)<br>"
   ],
   "cell_type": "markdown",
   "metadata": {}
  },
  {
   "source": [
    "# 3. MODEL CONSTRUCTION"
   ],
   "cell_type": "markdown",
   "metadata": {}
  },
  {
   "source": [
    "## construct decision tree"
   ],
   "cell_type": "markdown",
   "metadata": {}
  },
  {
   "cell_type": "code",
   "execution_count": 134,
   "metadata": {},
   "outputs": [],
   "source": [
    "import six\n",
    "import sys\n",
    "sys.modules['sklearn.externals.six'] = six\n",
    "#from id3 import Id3Estimator\n",
    "#estimator = Id3Estimator( min_samples_split=13)\n",
    "\n",
    "\n",
    "from sklearn.tree import DecisionTreeClassifier\n",
    "estimator = DecisionTreeClassifier(criterion='gini',min_samples_leaf=17)"
   ]
  },
  {
   "source": [
    "### code explain \n",
    "\n",
    "***Decision tree algorithm :*** the sklearn Desicion Tree classifier use an optimised version of the CART algorithm. This algorithm is very similiar to id3 algorithm but use gini as criterion. The decision rule of CART is same as id3, however, the main difference between CART and ID3 is that it supports numerical target variables (regression) and does not compute rule sets. CART constructs binary trees, namely each internal node has exactly two outgoing edges, using the feature and threshold that yields the largest information gain at each node. I also specify the min_samples_leaf to avoid overfitting.\n",
    "\n"
   ],
   "cell_type": "markdown",
   "metadata": {}
  },
  {
   "source": [
    "## construct random forest (with three different numbers of trees)"
   ],
   "cell_type": "markdown",
   "metadata": {}
  },
  {
   "cell_type": "code",
   "execution_count": 135,
   "metadata": {},
   "outputs": [],
   "source": [
    "from sklearn.ensemble import RandomForestClassifier\n",
    "forest1 = RandomForestClassifier(n_estimators=10, max_depth=7,oob_score=True)\n",
    "forest2 = RandomForestClassifier(n_estimators=20, max_depth=7,oob_score=True)\n",
    "forest3 = RandomForestClassifier(n_estimators=100, max_depth=7,oob_score=True)"
   ]
  },
  {
   "source": [],
   "cell_type": "markdown",
   "metadata": {}
  },
  {
   "source": [
    "### Data selection : both randomly select samples and features done by sklearn module\n",
    "The sklearn module will use bootstrap sampling and will ***randomly select both samples and features***\n",
    "<br><br>\n",
    "### Comparing result between three trees\n",
    "Random forest model will get better accuracy if n_estimator is larger (in theory). However, when constructing the random forest model, we should specify a not to big max_depth to avoid overfitting. In most condition, when n is larger, the accuracy is the better but also more time-consuming.\n",
    "<br><br>\n",
    "\n",
    "### Understand the difference between K-fold cross-validation and Random Forest. \n",
    "K-fold cross validation works by breaking your training data into K equal-sized folds.And then it iterates through each fold, treating that fold as holdout data, and other K-1 folds as training data. Eventually evaluating ***using the same model’s*** performance on the one holdout fold.\n",
    "\n",
    "Random Forest select k data instances form m data(m>>k), and construct ***many decision tree (model) for each k data***. When testing data, these models use voting to decide their final result\n",
    "<br><br>\n",
    "### Code explain\n",
    "use sklearn RandomForestClassifier to construct the model.\n",
    "oob_score=True means that we will also use out of bag error (construct data that aren't selected to become a tree)\n",
    "specify max_depth to avoid overfitting.(Chapter 2 p.40)\n",
    "n_estimator means how many trees will be generate (it will select data by Bootstrap sample with replacement Chapter 2 p.40)<br>\n",
    "bootstrap=True (default), use bootstrap sampling."
   ],
   "cell_type": "markdown",
   "metadata": {}
  },
  {
   "source": [
    "## construct KNN"
   ],
   "cell_type": "markdown",
   "metadata": {}
  },
  {
   "cell_type": "code",
   "execution_count": 136,
   "metadata": {},
   "outputs": [],
   "source": [
    "from sklearn import preprocessing\n",
    "\n",
    "normalized_df = preprocessing.normalize(df.iloc[:,:58])\n",
    "normalized_df_binary = preprocessing.normalize(df_binary.iloc[:,:58])\n",
    "\n",
    "X_norm = normalized_df[ : ,:58]\n",
    "\n",
    "from sklearn.neighbors import KNeighborsClassifier\n",
    "neigh1 = KNeighborsClassifier(n_neighbors=5,weights='distance')\n",
    "neigh2 = KNeighborsClassifier(n_neighbors=10,weights='distance')\n",
    "neigh3 = KNeighborsClassifier(n_neighbors=100,weights='distance')"
   ]
  },
  {
   "source": [
    "### compare three models with different K value\n",
    "KNN model's accuracy will vary with K, because when K is larger the influence of noise data and important data will be lower. G1 and G2 are data that are very closely relate to G3, thus when K is very big, the accuracy will be lower. However, if I drop G1,G2, the accuracy may be better when K is larger. In conclusion , the best K is not always the largest one.\n",
    "<br><br>\n",
    "\n",
    "### code explain\n",
    "I use sklearn preprocessing to normalize data frame. And then use sklearn KNeighborsClassifier to construct models.\n",
    "n_neighbors is the value of K, weights='distance' means that when caculating K nearest neighbors, we will consider its distance of each node.\n",
    "\n",
    "\n"
   ],
   "cell_type": "markdown",
   "metadata": {}
  },
  {
   "source": [
    "# 4. VALIDATION"
   ],
   "cell_type": "markdown",
   "metadata": {}
  },
  {
   "source": [
    "## Holdout validation (five level)"
   ],
   "cell_type": "markdown",
   "metadata": {}
  },
  {
   "cell_type": "code",
   "execution_count": 137,
   "metadata": {},
   "outputs": [],
   "source": [
    "# split the data into feature 1-58 columns and output column\n",
    "X_five_class = df.iloc[:,:58].values   \n",
    "Y_five_class = df['final_grade'].values\n",
    "\n",
    "# hold out splitting data into 70% training and 30% test data: \n",
    "# test_size is the ratio\n",
    "X_five_train, X_five_test, y_five_train, y_five_test = train_test_split(X_five_class, Y_five_class, test_size=0.3, random_state=1) "
   ]
  },
  {
   "source": [
    "## K-Fold validation (five level)"
   ],
   "cell_type": "markdown",
   "metadata": {}
  },
  {
   "cell_type": "code",
   "execution_count": 138,
   "metadata": {},
   "outputs": [],
   "source": [
    "X_five_train_list = []\n",
    "Y_five_train_list = []\n",
    "X_five_test_list = []\n",
    "Y_five_test_list = []\n",
    "\n",
    "# K-fold cross-validation\n",
    "from sklearn.model_selection import KFold\n",
    "cv = KFold(n_splits=3 , random_state=1, shuffle=True)\n",
    "\n",
    "for train_index, test_index in cv.split(X_five_class, Y_five_class):\n",
    "    X_five_train_list.append(X_five_class[train_index])\n",
    "    X_five_test_list.append(X_five_class[test_index])\n",
    "    Y_five_train_list.append(Y_five_class[train_index])\n",
    "    Y_five_test_list.append(Y_five_class[test_index])\n"
   ]
  },
  {
   "source": [
    "## Holdout validation (binary class)"
   ],
   "cell_type": "markdown",
   "metadata": {}
  },
  {
   "cell_type": "code",
   "execution_count": 139,
   "metadata": {},
   "outputs": [],
   "source": [
    "# split the data into feature 1-58 columns and output column\n",
    "X_binary = df_binary.iloc[:,:58].values   \n",
    "Y_binary = df_binary['final_grade'].values\n",
    "\n",
    "# hold out splitting data into 70% training and 30% test data: \n",
    "# test_size is the ratio\n",
    "X_binary_train, X_binary_test, y_binary_train, y_binary_test = train_test_split(X_binary, Y_binary, test_size=0.3, random_state=1) \n"
   ]
  },
  {
   "source": [
    "## K-Fold validation (binary class)"
   ],
   "cell_type": "markdown",
   "metadata": {}
  },
  {
   "cell_type": "code",
   "execution_count": 140,
   "metadata": {},
   "outputs": [],
   "source": [
    "X_binary_train_list = []\n",
    "Y_binary_train_list = []\n",
    "X_binary_test_list = []\n",
    "Y_binary_test_list = []\n",
    "\n",
    "# K-fold cross-validation\n",
    "from sklearn.model_selection import KFold\n",
    "cv = KFold(n_splits=3 , random_state=1, shuffle=True)\n",
    "\n",
    "for train_index, test_index in cv.split(X_binary, Y_binary):\n",
    "    X_binary_train_list.append(X_binary[train_index])\n",
    "    X_binary_test_list.append(X_binary[test_index])\n",
    "    Y_binary_train_list.append(Y_binary[train_index])\n",
    "    Y_binary_test_list.append(Y_binary[test_index])"
   ]
  },
  {
   "source": [
    "### code explain\n",
    "\n",
    "Split the data into conditional test and train data and result train and test data\n",
    "\n",
    "Hold out validation : import train_test_split to split the data<br>\n",
    "test_size=0.3 means that after splitting,(test size/all size) = 0.3. Which is equal to (train_size : test_size) = 7:3<br>\n",
    "<br>\n",
    "K-Fold validation : import KFold to split the data, and then use for loop to append those data into train_list and test_list.<br>\n",
    "Do the exactly same thing on both five level and binary level data."
   ],
   "cell_type": "markdown",
   "metadata": {}
  },
  {
   "source": [
    "# 5. RESULT"
   ],
   "cell_type": "markdown",
   "metadata": {}
  },
  {
   "source": [
    "## Decision-Tree Hold-out result (binary class)"
   ],
   "cell_type": "markdown",
   "metadata": {}
  },
  {
   "cell_type": "code",
   "execution_count": 141,
   "metadata": {},
   "outputs": [
    {
     "output_type": "stream",
     "name": "stdout",
     "text": [
      "[[44  3]\n [ 7 65]]\n\n\nHold out splitting Accuracy : 0.9160\nHold out splitting Precision : 0.9160\nHold out splitting Sensitivity : 0.9195\n\n\n              precision    recall  f1-score   support\n\n        fail       0.86      0.94      0.90        47\n        pass       0.96      0.90      0.93        72\n\n    accuracy                           0.92       119\n   macro avg       0.91      0.92      0.91       119\nweighted avg       0.92      0.92      0.92       119\n\n"
     ]
    }
   ],
   "source": [
    "from sklearn.metrics import recall_score\n",
    "\n",
    "estimator.fit(X_binary_train,y_binary_train)\n",
    "y_binary_pred = estimator.predict(X_binary_test)\n",
    "pre = precision_score(y_binary_test, y_binary_pred, average='micro')\n",
    "acc = accuracy_score(y_binary_test, y_binary_pred)\n",
    "cm = confusion_matrix(y_binary_test, y_binary_pred)\n",
    "recall = recall_score(y_binary_test, y_binary_pred, average='macro')\n",
    "\n",
    "print(cm)\n",
    "print(\"\\n\")\n",
    "print('Hold out splitting Accuracy : {:.4f}'.format(acc))\n",
    "print('Hold out splitting Precision : {:.4f}'.format(pre))\n",
    "print('Hold out splitting Sensitivity : {:.4f}'.format(recall))\n",
    "print(\"\\n\")\n",
    "print(classification_report(y_binary_test, y_binary_pred))"
   ]
  },
  {
   "source": [
    "## Random-Forest forest1 Hold-out result (binary class)"
   ],
   "cell_type": "markdown",
   "metadata": {}
  },
  {
   "cell_type": "code",
   "execution_count": 142,
   "metadata": {},
   "outputs": [
    {
     "output_type": "stream",
     "name": "stdout",
     "text": [
      "[[39  8]\n [ 2 70]]\n\n\nHold out splitting Accuracy : 0.9160\nHold out splitting Precision : 0.9160\nHold out splitting Sensitivity : 0.9010\n\n\n              precision    recall  f1-score   support\n\n        fail       0.95      0.83      0.89        47\n        pass       0.90      0.97      0.93        72\n\n    accuracy                           0.92       119\n   macro avg       0.92      0.90      0.91       119\nweighted avg       0.92      0.92      0.91       119\n\n"
     ]
    }
   ],
   "source": [
    "from sklearn.metrics import recall_score\n",
    "\n",
    "forest1.fit(X_binary_train,y_binary_train)\n",
    "y_binary_pred = forest1.predict(X_binary_test)\n",
    "pre = precision_score(y_binary_test, y_binary_pred, average='micro')\n",
    "acc = accuracy_score(y_binary_test, y_binary_pred)\n",
    "cm = confusion_matrix(y_binary_test, y_binary_pred)\n",
    "recall = recall_score(y_binary_test, y_binary_pred, average='macro')\n",
    "\n",
    "print(cm)\n",
    "print(\"\\n\")\n",
    "print('Hold out splitting Accuracy : {:.4f}'.format(acc))\n",
    "print('Hold out splitting Precision : {:.4f}'.format(pre))\n",
    "print('Hold out splitting Sensitivity : {:.4f}'.format(recall))\n",
    "print(\"\\n\")\n",
    "print(classification_report(y_binary_test, y_binary_pred))"
   ]
  },
  {
   "source": [
    "## Random-Forest forest2 Hold-out result (binary class)"
   ],
   "cell_type": "markdown",
   "metadata": {}
  },
  {
   "cell_type": "code",
   "execution_count": 143,
   "metadata": {},
   "outputs": [
    {
     "output_type": "stream",
     "name": "stdout",
     "text": [
      "[[38  9]\n [ 3 69]]\n\n\nHold out splitting Accuracy : 0.8992\nHold out splitting Precision : 0.8992\nHold out splitting Sensitivity : 0.8834\n\n\n              precision    recall  f1-score   support\n\n        fail       0.93      0.81      0.86        47\n        pass       0.88      0.96      0.92        72\n\n    accuracy                           0.90       119\n   macro avg       0.91      0.88      0.89       119\nweighted avg       0.90      0.90      0.90       119\n\n"
     ]
    }
   ],
   "source": [
    "forest2.fit(X_binary_train,y_binary_train)\n",
    "y_binary_pred = forest2.predict(X_binary_test)\n",
    "pre = precision_score(y_binary_test, y_binary_pred, average='micro')\n",
    "acc = accuracy_score(y_binary_test, y_binary_pred)\n",
    "cm = confusion_matrix(y_binary_test, y_binary_pred)\n",
    "recall = recall_score(y_binary_test, y_binary_pred, average='macro')\n",
    "\n",
    "print(cm)\n",
    "print(\"\\n\")\n",
    "print('Hold out splitting Accuracy : {:.4f}'.format(acc))\n",
    "print('Hold out splitting Precision : {:.4f}'.format(pre))\n",
    "print('Hold out splitting Sensitivity : {:.4f}'.format(recall))\n",
    "print(\"\\n\")\n",
    "print(classification_report(y_binary_test, y_binary_pred))"
   ]
  },
  {
   "source": [
    "## Random-Forest forest3 Hold-out result (binary class)"
   ],
   "cell_type": "markdown",
   "metadata": {}
  },
  {
   "cell_type": "code",
   "execution_count": 144,
   "metadata": {},
   "outputs": [
    {
     "output_type": "stream",
     "name": "stdout",
     "text": [
      "[[37 10]\n [ 4 68]]\n\n\nHold out splitting Accuracy : 0.8824\nHold out splitting Precision : 0.8824\nHold out splitting Sensitivity : 0.8658\n\n\n              precision    recall  f1-score   support\n\n        fail       0.90      0.79      0.84        47\n        pass       0.87      0.94      0.91        72\n\n    accuracy                           0.88       119\n   macro avg       0.89      0.87      0.87       119\nweighted avg       0.88      0.88      0.88       119\n\n"
     ]
    }
   ],
   "source": [
    "forest3.fit(X_binary_train,y_binary_train)\n",
    "y_binary_pred = forest3.predict(X_binary_test)\n",
    "pre = precision_score(y_binary_test, y_binary_pred, average='micro')\n",
    "acc = accuracy_score(y_binary_test, y_binary_pred)\n",
    "cm = confusion_matrix(y_binary_test, y_binary_pred)\n",
    "recall = recall_score(y_binary_test, y_binary_pred, average='macro')\n",
    "\n",
    "print(cm)\n",
    "print(\"\\n\")\n",
    "print('Hold out splitting Accuracy : {:.4f}'.format(acc))\n",
    "print('Hold out splitting Precision : {:.4f}'.format(pre))\n",
    "print('Hold out splitting Sensitivity : {:.4f}'.format(recall))\n",
    "print(\"\\n\")\n",
    "print(classification_report(y_binary_test, y_binary_pred))"
   ]
  },
  {
   "source": [
    "## KNN neigh1 Hold out validation result (binary)"
   ],
   "cell_type": "markdown",
   "metadata": {}
  },
  {
   "cell_type": "code",
   "execution_count": 145,
   "metadata": {},
   "outputs": [
    {
     "output_type": "stream",
     "name": "stdout",
     "text": [
      "[[33 14]\n [ 4 68]]\n\n\nHold out splitting Accuracy : 0.8487\nHold out splitting Precision : 0.8487\nHold out splitting Sensitivity : 0.8233\n\n\n              precision    recall  f1-score   support\n\n        fail       0.89      0.70      0.79        47\n        pass       0.83      0.94      0.88        72\n\n    accuracy                           0.85       119\n   macro avg       0.86      0.82      0.83       119\nweighted avg       0.85      0.85      0.84       119\n\n"
     ]
    }
   ],
   "source": [
    "from sklearn import preprocessing\n",
    "# normalize\n",
    "X_norm_train = preprocessing.normalize(X_binary_train)\n",
    "X_norm_test = preprocessing.normalize(X_binary_test)\n",
    "\n",
    "\n",
    "neigh1.fit(X_norm_train,y_binary_train)\n",
    "y_binary_pred = neigh1.predict(X_norm_test)\n",
    "pre = precision_score(y_binary_test, y_binary_pred, average='micro')\n",
    "acc = accuracy_score(y_binary_test, y_binary_pred)\n",
    "cm = confusion_matrix(y_binary_test, y_binary_pred)\n",
    "recall = recall_score(y_binary_test, y_binary_pred, average='macro')\n",
    "\n",
    "print(cm)\n",
    "print(\"\\n\")\n",
    "print('Hold out splitting Accuracy : {:.4f}'.format(acc))\n",
    "print('Hold out splitting Precision : {:.4f}'.format(pre))\n",
    "print('Hold out splitting Sensitivity : {:.4f}'.format(recall))\n",
    "print(\"\\n\")\n",
    "print(classification_report(y_binary_test, y_binary_pred))\n",
    "\n"
   ]
  },
  {
   "source": [
    "## KNN neigh2 Hold out validation result (binary)"
   ],
   "cell_type": "markdown",
   "metadata": {}
  },
  {
   "cell_type": "code",
   "execution_count": 146,
   "metadata": {},
   "outputs": [
    {
     "output_type": "stream",
     "name": "stdout",
     "text": [
      "[[36 11]\n [ 4 68]]\n\n\nHold out splitting Accuracy : 0.8739\nHold out splitting Precision : 0.8739\nHold out splitting Sensitivity : 0.8552\n\n\n              precision    recall  f1-score   support\n\n        fail       0.90      0.77      0.83        47\n        pass       0.86      0.94      0.90        72\n\n    accuracy                           0.87       119\n   macro avg       0.88      0.86      0.86       119\nweighted avg       0.88      0.87      0.87       119\n\n"
     ]
    }
   ],
   "source": [
    "# normalize\n",
    "X_norm_train = preprocessing.normalize(X_binary_train)\n",
    "X_norm_test = preprocessing.normalize(X_binary_test)\n",
    "\n",
    "\n",
    "neigh2.fit(X_norm_train,y_binary_train)\n",
    "y_binary_pred = neigh2.predict(X_norm_test)\n",
    "pre = precision_score(y_binary_test, y_binary_pred, average='micro')\n",
    "acc = accuracy_score(y_binary_test, y_binary_pred)\n",
    "cm = confusion_matrix(y_binary_test, y_binary_pred)\n",
    "recall = recall_score(y_binary_test, y_binary_pred, average='macro')\n",
    "\n",
    "print(cm)\n",
    "print(\"\\n\")\n",
    "print('Hold out splitting Accuracy : {:.4f}'.format(acc))\n",
    "print('Hold out splitting Precision : {:.4f}'.format(pre))\n",
    "print('Hold out splitting Sensitivity : {:.4f}'.format(recall))\n",
    "print(\"\\n\")\n",
    "print(classification_report(y_binary_test, y_binary_pred))\n"
   ]
  },
  {
   "source": [
    "## KNN neigh3 Hold out validation result (binary)"
   ],
   "cell_type": "markdown",
   "metadata": {}
  },
  {
   "cell_type": "code",
   "execution_count": 147,
   "metadata": {},
   "outputs": [
    {
     "output_type": "stream",
     "name": "stdout",
     "text": [
      "[[ 9 38]\n [ 0 72]]\n\n\nHold out splitting Accuracy : 0.6807\nHold out splitting Precision : 0.6807\nHold out splitting Sensitivity : 0.5957\n\n\n              precision    recall  f1-score   support\n\n        fail       1.00      0.19      0.32        47\n        pass       0.65      1.00      0.79        72\n\n    accuracy                           0.68       119\n   macro avg       0.83      0.60      0.56       119\nweighted avg       0.79      0.68      0.61       119\n\n"
     ]
    }
   ],
   "source": [
    "# normalize\n",
    "X_norm_train = preprocessing.normalize(X_binary_train)\n",
    "X_norm_test = preprocessing.normalize(X_binary_test)\n",
    "\n",
    "\n",
    "neigh3.fit(X_norm_train,y_binary_train)\n",
    "y_binary_pred = neigh3.predict(X_norm_test)\n",
    "pre = precision_score(y_binary_test, y_binary_pred, average='micro')\n",
    "acc = accuracy_score(y_binary_test, y_binary_pred)\n",
    "cm = confusion_matrix(y_binary_test, y_binary_pred)\n",
    "recall = recall_score(y_binary_test, y_binary_pred, average='macro')\n",
    "\n",
    "print(cm)\n",
    "print(\"\\n\")\n",
    "print('Hold out splitting Accuracy : {:.4f}'.format(acc))\n",
    "print('Hold out splitting Precision : {:.4f}'.format(pre))\n",
    "print('Hold out splitting Sensitivity : {:.4f}'.format(recall))\n",
    "print(\"\\n\")\n",
    "print(classification_report(y_binary_test, y_binary_pred))\n"
   ]
  },
  {
   "source": [
    "### code explain for above 7 seven result\n",
    "\n",
    "choose the model you want (forest, estimator , neigh)\n",
    "\n",
    "X_norm_train = preprocessing.normalize(X_binary_train) --> normalize train data\n",
    "X_norm_test = preprocessing.normalize(X_binary_test) --> normalize test data\n",
    "model.fit(X_train, y_train) --> use train data to fit the data <br>\n",
    "y_pred = model.predict(X_test) --> predict y_pred by getting X-test <br>\n",
    "then compare y_test(result) with y_pred (predict result) <br>\n",
    "precision_score(y_test, y_pred)--> get precision <br>\n",
    "accuracy_score(y_test, y_pred) --> get accuracy <br>\n",
    "confusion_matrix(y_test, y_pred) --> get confusion matrix <br>\n",
    "recall_score(y_test, y_pred, average='macro') --> get sensitivity <br>\n"
   ],
   "cell_type": "markdown",
   "metadata": {}
  },
  {
   "source": [
    "## Decision-Tree K-Fold validation result (binary)"
   ],
   "cell_type": "markdown",
   "metadata": {}
  },
  {
   "cell_type": "code",
   "execution_count": 148,
   "metadata": {},
   "outputs": [
    {
     "output_type": "stream",
     "name": "stdout",
     "text": [
      "[[52  3]\n",
      " [ 7 70]]\n",
      "\n",
      "\n",
      "[[32  7]\n",
      " [ 3 90]]\n",
      "\n",
      "\n",
      "[[36  0]\n",
      " [11 84]]\n",
      "\n",
      "\n",
      "K-FOLD splitting Accuracy : 0.9215\n",
      "K-FOLD splitting Precision : 0.9081\n",
      "K-FOLD splitting Sensitivity  : 0.9212\n",
      "              precision    recall  f1-score   support\n",
      "\n",
      "        fail       0.85      0.92      0.89       130\n",
      "        pass       0.96      0.92      0.94       265\n",
      "\n",
      "    accuracy                           0.92       395\n",
      "   macro avg       0.91      0.92      0.91       395\n",
      "weighted avg       0.92      0.92      0.92       395\n",
      "\n",
      "\n",
      "\n"
     ]
    }
   ],
   "source": [
    "accuracy = 0\n",
    "precision = 0\n",
    "recall = 0\n",
    "\n",
    "for i in range(3):\n",
    "\n",
    "    estimator.fit(X_binary_train_list[i], Y_binary_train_list[i])\n",
    "    y_binary_pred = estimator.predict(X_binary_test_list[i]) \n",
    "    precision += precision_score(Y_binary_test_list[i], y_binary_pred, average='macro')\n",
    "    accuracy += accuracy_score(Y_binary_test_list[i], y_binary_pred)\n",
    "    recall += recall_score(Y_binary_test_list[i], y_binary_pred, average='macro')\n",
    "    cm = confusion_matrix(Y_binary_test_list[i], y_binary_pred)\n",
    "    print(cm)\n",
    "    print(\"\\n\")\n",
    "\n",
    "print('K-FOLD splitting Accuracy : {:.4f}'.format(accuracy/3))\n",
    "print('K-FOLD splitting Precision : {:.4f}'.format(precision/3))\n",
    "print('K-FOLD splitting Sensitivity  : {:.4f}'.format(recall/3))\n",
    "from sklearn.model_selection import cross_val_predict\n",
    "score = cross_val_predict(estimator, X_binary, Y_binary, cv=cv)\n",
    "score.shape\n",
    "print(classification_report(Y_binary, score))\n",
    "print(\"\\n\")"
   ]
  },
  {
   "source": [
    "## Random-Forest forest1 K-Fold result (binary class)"
   ],
   "cell_type": "markdown",
   "metadata": {}
  },
  {
   "cell_type": "code",
   "execution_count": 149,
   "metadata": {},
   "outputs": [
    {
     "output_type": "stream",
     "name": "stdout",
     "text": [
      "[[42 13]\n",
      " [ 3 74]]\n",
      "\n",
      "\n",
      "[[27 12]\n",
      " [ 5 88]]\n",
      "\n",
      "\n",
      "[[33  3]\n",
      " [15 80]]\n",
      "\n",
      "\n",
      "K-FOLD splitting Accuracy : 0.8709\n",
      "K-FOLD splitting Precision : 0.8598\n",
      "K-FOLD splitting Sensitivity  : 0.8537\n",
      "              precision    recall  f1-score   support\n",
      "\n",
      "        fail       0.82      0.75      0.78       130\n",
      "        pass       0.88      0.92      0.90       265\n",
      "\n",
      "    accuracy                           0.86       395\n",
      "   macro avg       0.85      0.83      0.84       395\n",
      "weighted avg       0.86      0.86      0.86       395\n",
      "\n",
      "\n",
      "\n"
     ]
    }
   ],
   "source": [
    "accuracy = 0\n",
    "precision = 0\n",
    "recall = 0\n",
    "\n",
    "for i in range(3):\n",
    "\n",
    "    forest1.fit(X_binary_train_list[i], Y_binary_train_list[i])\n",
    "    y_binary_pred = forest1.predict(X_binary_test_list[i]) \n",
    "    precision += precision_score(Y_binary_test_list[i], y_binary_pred, average='macro')\n",
    "    accuracy += accuracy_score(Y_binary_test_list[i], y_binary_pred)\n",
    "    recall += recall_score(Y_binary_test_list[i], y_binary_pred, average='macro')\n",
    "    cm = confusion_matrix(Y_binary_test_list[i], y_binary_pred)\n",
    "    print(cm)\n",
    "    print(\"\\n\")\n",
    "\n",
    "print('K-FOLD splitting Accuracy : {:.4f}'.format(accuracy/3))\n",
    "print('K-FOLD splitting Precision : {:.4f}'.format(precision/3))\n",
    "print('K-FOLD splitting Sensitivity  : {:.4f}'.format(recall/3))\n",
    "from sklearn.model_selection import cross_val_predict\n",
    "score = cross_val_predict(forest1, X_binary, Y_binary, cv=cv)\n",
    "score.shape\n",
    "print(classification_report(Y_binary, score))\n",
    "print(\"\\n\")"
   ]
  },
  {
   "source": [
    "## Random-Forest forest2 K-Fold result (binary class)"
   ],
   "cell_type": "markdown",
   "metadata": {}
  },
  {
   "cell_type": "code",
   "execution_count": 150,
   "metadata": {},
   "outputs": [
    {
     "output_type": "stream",
     "name": "stdout",
     "text": [
      "[[40 15]\n",
      " [ 4 73]]\n",
      "\n",
      "\n",
      "[[29 10]\n",
      " [ 5 88]]\n",
      "\n",
      "\n",
      "[[33  3]\n",
      " [ 9 86]]\n",
      "\n",
      "\n",
      "K-FOLD splitting Accuracy : 0.8836\n",
      "K-FOLD splitting Precision : 0.8736\n",
      "K-FOLD splitting Sensitivity  : 0.8645\n",
      "              precision    recall  f1-score   support\n",
      "\n",
      "        fail       0.85      0.85      0.85       130\n",
      "        pass       0.92      0.92      0.92       265\n",
      "\n",
      "    accuracy                           0.90       395\n",
      "   macro avg       0.89      0.89      0.89       395\n",
      "weighted avg       0.90      0.90      0.90       395\n",
      "\n",
      "\n",
      "\n"
     ]
    }
   ],
   "source": [
    "accuracy = 0\n",
    "precision = 0\n",
    "recall = 0\n",
    "\n",
    "for i in range(3):\n",
    "\n",
    "    forest2.fit(X_binary_train_list[i], Y_binary_train_list[i])\n",
    "    y_binary_pred = forest2.predict(X_binary_test_list[i]) \n",
    "    precision += precision_score(Y_binary_test_list[i], y_binary_pred, average='macro')\n",
    "    accuracy += accuracy_score(Y_binary_test_list[i], y_binary_pred)\n",
    "    recall += recall_score(Y_binary_test_list[i], y_binary_pred, average='macro')\n",
    "    cm = confusion_matrix(Y_binary_test_list[i], y_binary_pred)\n",
    "    print(cm)\n",
    "    print(\"\\n\")\n",
    "\n",
    "print('K-FOLD splitting Accuracy : {:.4f}'.format(accuracy/3))\n",
    "print('K-FOLD splitting Precision : {:.4f}'.format(precision/3))\n",
    "print('K-FOLD splitting Sensitivity  : {:.4f}'.format(recall/3))\n",
    "from sklearn.model_selection import cross_val_predict\n",
    "score = cross_val_predict(forest2, X_binary, Y_binary, cv=cv)\n",
    "score.shape\n",
    "print(classification_report(Y_binary, score))\n",
    "print(\"\\n\")"
   ]
  },
  {
   "source": [
    "## Random-Forest forest3 K-Fold result (binary class)"
   ],
   "cell_type": "markdown",
   "metadata": {}
  },
  {
   "cell_type": "code",
   "execution_count": 151,
   "metadata": {},
   "outputs": [
    {
     "output_type": "stream",
     "name": "stdout",
     "text": [
      "[[45 10]\n",
      " [ 2 75]]\n",
      "\n",
      "\n",
      "[[30  9]\n",
      " [ 4 89]]\n",
      "\n",
      "\n",
      "[[34  2]\n",
      " [10 85]]\n",
      "\n",
      "\n",
      "K-FOLD splitting Accuracy : 0.9063\n",
      "K-FOLD splitting Precision : 0.8967\n",
      "K-FOLD splitting Sensitivity  : 0.8929\n",
      "              precision    recall  f1-score   support\n",
      "\n",
      "        fail       0.86      0.82      0.84       130\n",
      "        pass       0.92      0.94      0.93       265\n",
      "\n",
      "    accuracy                           0.90       395\n",
      "   macro avg       0.89      0.88      0.88       395\n",
      "weighted avg       0.90      0.90      0.90       395\n",
      "\n",
      "\n",
      "\n"
     ]
    }
   ],
   "source": [
    "accuracy = 0\n",
    "precision = 0\n",
    "recall = 0\n",
    "\n",
    "for i in range(3):\n",
    "\n",
    "    forest3.fit(X_binary_train_list[i], Y_binary_train_list[i])\n",
    "    y_binary_pred = forest3.predict(X_binary_test_list[i]) \n",
    "    precision += precision_score(Y_binary_test_list[i], y_binary_pred, average='macro')\n",
    "    accuracy += accuracy_score(Y_binary_test_list[i], y_binary_pred)\n",
    "    recall += recall_score(Y_binary_test_list[i], y_binary_pred, average='macro')\n",
    "    cm = confusion_matrix(Y_binary_test_list[i], y_binary_pred)\n",
    "    print(cm)\n",
    "    print(\"\\n\")\n",
    "\n",
    "print('K-FOLD splitting Accuracy : {:.4f}'.format(accuracy/3))\n",
    "print('K-FOLD splitting Precision : {:.4f}'.format(precision/3))\n",
    "print('K-FOLD splitting Sensitivity  : {:.4f}'.format(recall/3))\n",
    "from sklearn.model_selection import cross_val_predict\n",
    "score = cross_val_predict(forest3, X_binary, Y_binary, cv=cv)\n",
    "score.shape\n",
    "print(classification_report(Y_binary, score))\n",
    "print(\"\\n\")"
   ]
  },
  {
   "source": [
    "## KNN neigh1 K-Fold validation result (binary)"
   ],
   "cell_type": "markdown",
   "metadata": {}
  },
  {
   "cell_type": "code",
   "execution_count": 152,
   "metadata": {},
   "outputs": [
    {
     "output_type": "stream",
     "name": "stdout",
     "text": [
      "[[39 16]\n [ 3 74]]\n\n\n[[27 12]\n [ 2 91]]\n\n\n[[29  7]\n [ 8 87]]\n\n\nK-FOLD splitting Accuracy : 0.8785\nK-FOLD splitting Precision : 0.8791\nK-FOLD splitting Sensitivity  : 0.8437\n              precision    recall  f1-score   support\n\n        fail       0.88      0.73      0.80       130\n        pass       0.88      0.95      0.91       265\n\n    accuracy                           0.88       395\n   macro avg       0.88      0.84      0.86       395\nweighted avg       0.88      0.88      0.88       395\n\n\n\n"
     ]
    }
   ],
   "source": [
    "accuracy = 0\n",
    "precision = 0\n",
    "recall = 0\n",
    "\n",
    "from sklearn import preprocessing\n",
    "\n",
    "for i in range(3):\n",
    "\n",
    "    # normalize\n",
    "    X_norm_train = preprocessing.normalize(X_binary_train_list[i])\n",
    "    X_norm_test = preprocessing.normalize(X_binary_test_list[i])\n",
    "\n",
    "    neigh1.fit(X_norm_train, Y_binary_train_list[i])\n",
    "    y_binary_pred = neigh1.predict(X_norm_test) \n",
    "    precision += precision_score(Y_binary_test_list[i], y_binary_pred, average='macro')\n",
    "    accuracy += accuracy_score(Y_binary_test_list[i], y_binary_pred)\n",
    "    recall += recall_score(Y_binary_test_list[i], y_binary_pred, average='macro')\n",
    "    cm = confusion_matrix(Y_binary_test_list[i], y_binary_pred)\n",
    "    print(cm)\n",
    "    print(\"\\n\")\n",
    "\n",
    "print('K-FOLD splitting Accuracy : {:.4f}'.format(accuracy/3))\n",
    "print('K-FOLD splitting Precision : {:.4f}'.format(precision/3))\n",
    "print('K-FOLD splitting Sensitivity  : {:.4f}'.format(recall/3))\n",
    "from sklearn.model_selection import cross_val_predict\n",
    "score = cross_val_predict(neigh1, X_norm, Y_binary, cv=cv)\n",
    "score.shape\n",
    "print(classification_report(Y_binary, score))\n",
    "print(\"\\n\")"
   ]
  },
  {
   "source": [
    "## KNN neigh2 K-Fold validation result (binary)"
   ],
   "cell_type": "markdown",
   "metadata": {}
  },
  {
   "cell_type": "code",
   "execution_count": 153,
   "metadata": {},
   "outputs": [
    {
     "output_type": "stream",
     "name": "stdout",
     "text": [
      "[[41 14]\n [ 3 74]]\n\n\n[[26 13]\n [ 2 91]]\n\n\n[[31  5]\n [ 8 87]]\n\n\nK-FOLD splitting Accuracy : 0.8861\nK-FOLD splitting Precision : 0.8861\nK-FOLD splitting Sensitivity  : 0.8548\n              precision    recall  f1-score   support\n\n        fail       0.88      0.75      0.81       130\n        pass       0.89      0.95      0.92       265\n\n    accuracy                           0.89       395\n   macro avg       0.89      0.85      0.87       395\nweighted avg       0.89      0.89      0.88       395\n\n\n\n"
     ]
    }
   ],
   "source": [
    "accuracy = 0\n",
    "precision = 0\n",
    "recall = 0\n",
    "\n",
    "for i in range(3):\n",
    "    \n",
    "    X_norm_train = preprocessing.normalize(X_binary_train_list[i])\n",
    "    X_norm_test = preprocessing.normalize(X_binary_test_list[i])\n",
    "\n",
    "    neigh2.fit(X_norm_train, Y_binary_train_list[i])\n",
    "    y_binary_pred = neigh2.predict(X_norm_test) \n",
    "    precision += precision_score(Y_binary_test_list[i], y_binary_pred, average='macro')\n",
    "    accuracy += accuracy_score(Y_binary_test_list[i], y_binary_pred)\n",
    "    recall += recall_score(Y_binary_test_list[i], y_binary_pred, average='macro')\n",
    "    cm = confusion_matrix(Y_binary_test_list[i], y_binary_pred)\n",
    "    print(cm)\n",
    "    print(\"\\n\")\n",
    "\n",
    "print('K-FOLD splitting Accuracy : {:.4f}'.format(accuracy/3))\n",
    "print('K-FOLD splitting Precision : {:.4f}'.format(precision/3))\n",
    "print('K-FOLD splitting Sensitivity  : {:.4f}'.format(recall/3))\n",
    "from sklearn.model_selection import cross_val_predict\n",
    "score = cross_val_predict(neigh2, X_norm, Y_binary, cv=cv)\n",
    "score.shape\n",
    "print(classification_report(Y_binary, score))\n",
    "print(\"\\n\")"
   ]
  },
  {
   "source": [
    "## KNN neigh3 K-Fold validation result (binary)"
   ],
   "cell_type": "markdown",
   "metadata": {}
  },
  {
   "cell_type": "code",
   "execution_count": 154,
   "metadata": {},
   "outputs": [
    {
     "output_type": "stream",
     "name": "stdout",
     "text": [
      "[[10 45]\n",
      " [ 0 77]]\n",
      "\n",
      "\n",
      "[[10 29]\n",
      " [ 0 93]]\n",
      "\n",
      "\n",
      "[[16 20]\n",
      " [ 0 95]]\n",
      "\n",
      "\n",
      "K-FOLD splitting Accuracy : 0.7622\n",
      "K-FOLD splitting Precision : 0.8699\n",
      "K-FOLD splitting Sensitivity  : 0.6471\n",
      "              precision    recall  f1-score   support\n",
      "\n",
      "        fail       1.00      0.28      0.43       130\n",
      "        pass       0.74      1.00      0.85       265\n",
      "\n",
      "    accuracy                           0.76       395\n",
      "   macro avg       0.87      0.64      0.64       395\n",
      "weighted avg       0.82      0.76      0.71       395\n",
      "\n",
      "\n",
      "\n"
     ]
    }
   ],
   "source": [
    "accuracy = 0\n",
    "precision = 0\n",
    "recall = 0\n",
    "\n",
    "for i in range(3):\n",
    "\n",
    "    X_norm_train = preprocessing.normalize(X_binary_train_list[i])\n",
    "    X_norm_test = preprocessing.normalize(X_binary_test_list[i])\n",
    "\n",
    "    neigh3.fit(X_norm_train, Y_binary_train_list[i])\n",
    "    y_binary_pred = neigh3.predict(X_norm_test) \n",
    "    precision += precision_score(Y_binary_test_list[i], y_binary_pred, average='macro')\n",
    "    accuracy += accuracy_score(Y_binary_test_list[i], y_binary_pred)\n",
    "    recall += recall_score(Y_binary_test_list[i], y_binary_pred, average='macro')\n",
    "    cm = confusion_matrix(Y_binary_test_list[i], y_binary_pred)\n",
    "    print(cm)\n",
    "    print(\"\\n\")\n",
    "\n",
    "print('K-FOLD splitting Accuracy : {:.4f}'.format(accuracy/3))\n",
    "print('K-FOLD splitting Precision : {:.4f}'.format(precision/3))\n",
    "print('K-FOLD splitting Sensitivity  : {:.4f}'.format(recall/3))\n",
    "from sklearn.model_selection import cross_val_predict\n",
    "score = cross_val_predict(neigh3, X_norm, Y_binary, cv=cv)\n",
    "score.shape\n",
    "print(classification_report(Y_binary, score))\n",
    "print(\"\\n\")"
   ]
  },
  {
   "source": [
    "### code explain\n",
    "For K-Fold , after spliting data into 3 parts, choose two parts to be training data and one part to be the test data in every loop. Then do the same thing as hold-out validation.\n",
    "\n",
    "choose the model you want (forest, estimator , neigh)\n",
    "\n",
    "X_norm_train = preprocessing.normalize(X_binary_train_list[i]) --> normalize train data <br>\n",
    "X_norm_test = preprocessing.normalize(X_binary_test_list[i]) --> normalize test data <br>\n",
    "model.fit(X_train, y_train) --> use train data to fit the data <br>\n",
    "y_pred = model.predict(X_test) --> predict y_pred by getting X-test <br>\n",
    "then compare y_test(result) with y_pred (predict result) <br>\n",
    "precision_score(y_test, y_pred)--> get precision <br>\n",
    "accuracy_score(y_test, y_pred) --> get accuracy <br>\n",
    "confusion_matrix(y_test, y_pred) --> get confusion matrix <br>\n",
    "recall_score(y_test, y_pred, average='macro') --> get sensitivity <br>\n"
   ],
   "cell_type": "markdown",
   "metadata": {}
  },
  {
   "source": [
    "## Decision-Tree Hold-out result (five class)"
   ],
   "cell_type": "markdown",
   "metadata": {}
  },
  {
   "cell_type": "code",
   "execution_count": 155,
   "metadata": {},
   "outputs": [
    {
     "output_type": "stream",
     "name": "stdout",
     "text": [
      "[[12  2  0  0  0]\n [ 0 10  2  0  0]\n [ 0  1 14  3  0]\n [ 0  0  4 17  7]\n [ 0  0  0  3 44]]\n\n\nHold out splitting Accuracy : 0.8151\nHold out splitting Precision : 0.8151\nHold out splitting Sensitivity : 0.8023\n\n\n              precision    recall  f1-score   support\n\n           A       1.00      0.86      0.92        14\n           B       0.77      0.83      0.80        12\n           C       0.70      0.78      0.74        18\n           D       0.74      0.61      0.67        28\n           F       0.86      0.94      0.90        47\n\n    accuracy                           0.82       119\n   macro avg       0.81      0.80      0.80       119\nweighted avg       0.82      0.82      0.81       119\n\n"
     ]
    }
   ],
   "source": [
    "from sklearn.metrics import recall_score\n",
    "\n",
    "estimator.fit(X_five_train,y_five_train)\n",
    "y_five_pred = estimator.predict(X_five_test)\n",
    "pre = precision_score(y_five_test, y_five_pred, average='micro')\n",
    "acc = accuracy_score(y_five_test, y_five_pred)\n",
    "cm = confusion_matrix(y_five_test, y_five_pred)\n",
    "recall = recall_score(y_five_test, y_five_pred, average='macro')\n",
    "\n",
    "print(cm)\n",
    "print(\"\\n\")\n",
    "print('Hold out splitting Accuracy : {:.4f}'.format(acc))\n",
    "print('Hold out splitting Precision : {:.4f}'.format(pre))\n",
    "print('Hold out splitting Sensitivity : {:.4f}'.format(recall))\n",
    "print(\"\\n\")\n",
    "print(classification_report(y_five_test, y_five_pred))\n",
    "\n"
   ]
  },
  {
   "source": [
    "## Random-Forest forest1 Hold-out result (five class)"
   ],
   "cell_type": "markdown",
   "metadata": {}
  },
  {
   "cell_type": "code",
   "execution_count": 156,
   "metadata": {},
   "outputs": [
    {
     "output_type": "stream",
     "name": "stdout",
     "text": [
      "[[ 4  7  2  1  0]\n [ 1  9  1  1  0]\n [ 0  3  6  8  1]\n [ 0  2  4 17  5]\n [ 0  0  0  9 38]]\n\n\nHold out splitting Accuracy : 0.6218\nHold out splitting Precision : 0.6218\nHold out splitting Sensitivity : 0.5569\n\n\n              precision    recall  f1-score   support\n\n           A       0.80      0.29      0.42        14\n           B       0.43      0.75      0.55        12\n           C       0.46      0.33      0.39        18\n           D       0.47      0.61      0.53        28\n           F       0.86      0.81      0.84        47\n\n    accuracy                           0.62       119\n   macro avg       0.61      0.56      0.54       119\nweighted avg       0.66      0.62      0.62       119\n\n"
     ]
    }
   ],
   "source": [
    "\n",
    "forest1.fit(X_five_train,y_five_train)\n",
    "y_five_pred = forest1.predict(X_five_test)\n",
    "pre = precision_score(y_five_test, y_five_pred, average='micro')\n",
    "acc = accuracy_score(y_five_test, y_five_pred)\n",
    "cm = confusion_matrix(y_five_test, y_five_pred)\n",
    "recall = recall_score(y_five_test, y_five_pred, average='macro')\n",
    "\n",
    "print(cm)\n",
    "print(\"\\n\")\n",
    "print('Hold out splitting Accuracy : {:.4f}'.format(acc))\n",
    "print('Hold out splitting Precision : {:.4f}'.format(pre))\n",
    "print('Hold out splitting Sensitivity : {:.4f}'.format(recall))\n",
    "print(\"\\n\")\n",
    "print(classification_report(y_five_test, y_five_pred))"
   ]
  },
  {
   "source": [
    "## Random-Forest forest2 Hold-out result (five class)"
   ],
   "cell_type": "markdown",
   "metadata": {}
  },
  {
   "cell_type": "code",
   "execution_count": 157,
   "metadata": {},
   "outputs": [
    {
     "output_type": "stream",
     "name": "stdout",
     "text": [
      "[[ 2  9  1  2  0]\n [ 0 10  1  1  0]\n [ 0  3  5 10  0]\n [ 0  0  2 19  7]\n [ 0  0  0  6 41]]\n\n\nHold out splitting Accuracy : 0.6471\nHold out splitting Precision : 0.6471\nHold out splitting Sensitivity : 0.5610\n\n\n              precision    recall  f1-score   support\n\n           A       1.00      0.14      0.25        14\n           B       0.45      0.83      0.59        12\n           C       0.56      0.28      0.37        18\n           D       0.50      0.68      0.58        28\n           F       0.85      0.87      0.86        47\n\n    accuracy                           0.65       119\n   macro avg       0.67      0.56      0.53       119\nweighted avg       0.70      0.65      0.62       119\n\n"
     ]
    }
   ],
   "source": [
    "forest2.fit(X_five_train,y_five_train)\n",
    "y_five_pred = forest2.predict(X_five_test)\n",
    "pre = precision_score(y_five_test, y_five_pred, average='micro')\n",
    "acc = accuracy_score(y_five_test, y_five_pred)\n",
    "cm = confusion_matrix(y_five_test, y_five_pred)\n",
    "recall = recall_score(y_five_test, y_five_pred, average='macro')\n",
    "\n",
    "print(cm)\n",
    "print(\"\\n\")\n",
    "print('Hold out splitting Accuracy : {:.4f}'.format(acc))\n",
    "print('Hold out splitting Precision : {:.4f}'.format(pre))\n",
    "print('Hold out splitting Sensitivity : {:.4f}'.format(recall))\n",
    "print(\"\\n\")\n",
    "print(classification_report(y_five_test, y_five_pred))"
   ]
  },
  {
   "source": [
    "## Random-Forest forest3 Hold-out result (five class)"
   ],
   "cell_type": "markdown",
   "metadata": {}
  },
  {
   "cell_type": "code",
   "execution_count": 158,
   "metadata": {},
   "outputs": [
    {
     "output_type": "stream",
     "name": "stdout",
     "text": [
      "[[ 6  7  1  0  0]\n [ 0 11  1  0  0]\n [ 0  3 10  5  0]\n [ 0  1  1 21  5]\n [ 0  0  0  7 40]]\n\n\nHold out splitting Accuracy : 0.7395\nHold out splitting Precision : 0.7395\nHold out splitting Sensitivity : 0.7004\n\n\n              precision    recall  f1-score   support\n\n           A       1.00      0.43      0.60        14\n           B       0.50      0.92      0.65        12\n           C       0.77      0.56      0.65        18\n           D       0.64      0.75      0.69        28\n           F       0.89      0.85      0.87        47\n\n    accuracy                           0.74       119\n   macro avg       0.76      0.70      0.69       119\nweighted avg       0.79      0.74      0.74       119\n\n"
     ]
    }
   ],
   "source": [
    "forest3.fit(X_five_train,y_five_train)\n",
    "y_five_pred = forest3.predict(X_five_test)\n",
    "pre = precision_score(y_five_test, y_five_pred, average='micro')\n",
    "acc = accuracy_score(y_five_test, y_five_pred)\n",
    "cm = confusion_matrix(y_five_test, y_five_pred)\n",
    "recall = recall_score(y_five_test, y_five_pred, average='macro')\n",
    "\n",
    "print(cm)\n",
    "print(\"\\n\")\n",
    "print('Hold out splitting Accuracy : {:.4f}'.format(acc))\n",
    "print('Hold out splitting Precision : {:.4f}'.format(pre))\n",
    "print('Hold out splitting Sensitivity : {:.4f}'.format(recall))\n",
    "print(\"\\n\")\n",
    "print(classification_report(y_five_test, y_five_pred))"
   ]
  },
  {
   "source": [
    "## KNN neigh1 Hold out validation result (five class)"
   ],
   "cell_type": "markdown",
   "metadata": {}
  },
  {
   "cell_type": "code",
   "execution_count": 159,
   "metadata": {},
   "outputs": [
    {
     "output_type": "stream",
     "name": "stdout",
     "text": [
      "[[ 5  7  2  0  0]\n [ 3  8  1  0  0]\n [ 0  5  6  7  0]\n [ 0  1  6 14  7]\n [ 0  0  0 12 35]]\n\n\nHold out splitting Accuracy : 0.5714\nHold out splitting Precision : 0.5714\nHold out splitting Sensitivity : 0.5204\n\n\n              precision    recall  f1-score   support\n\n           A       0.62      0.36      0.45        14\n           B       0.38      0.67      0.48        12\n           C       0.40      0.33      0.36        18\n           D       0.42      0.50      0.46        28\n           F       0.83      0.74      0.79        47\n\n    accuracy                           0.57       119\n   macro avg       0.53      0.52      0.51       119\nweighted avg       0.60      0.57      0.58       119\n\n"
     ]
    }
   ],
   "source": [
    "X_norm_train = preprocessing.normalize(X_five_train)\n",
    "X_norm_test = preprocessing.normalize(X_five_test)\n",
    "\n",
    "\n",
    "neigh1.fit(X_norm_train,y_five_train)\n",
    "y_five_pred = neigh1.predict(X_norm_test)\n",
    "pre = precision_score(y_five_test, y_five_pred, average='micro')\n",
    "acc = accuracy_score(y_five_test, y_five_pred)\n",
    "cm = confusion_matrix(y_five_test, y_five_pred)\n",
    "recall = recall_score(y_five_test, y_five_pred, average='macro')\n",
    "\n",
    "print(cm)\n",
    "print(\"\\n\")\n",
    "print('Hold out splitting Accuracy : {:.4f}'.format(acc))\n",
    "print('Hold out splitting Precision : {:.4f}'.format(pre))\n",
    "print('Hold out splitting Sensitivity : {:.4f}'.format(recall))\n",
    "print(\"\\n\")\n",
    "print(classification_report(y_five_test, y_five_pred))"
   ]
  },
  {
   "source": [
    "## KNN neigh2 Hold out validation result (five class)"
   ],
   "cell_type": "markdown",
   "metadata": {}
  },
  {
   "cell_type": "code",
   "execution_count": 160,
   "metadata": {},
   "outputs": [
    {
     "output_type": "stream",
     "name": "stdout",
     "text": [
      "[[ 5  8  0  1  0]\n [ 3  7  2  0  0]\n [ 0  4  5  9  0]\n [ 0  1  4 16  7]\n [ 0  0  0 11 36]]\n\n\nHold out splitting Accuracy : 0.5798\nHold out splitting Precision : 0.5798\nHold out splitting Sensitivity : 0.5111\n\n\n              precision    recall  f1-score   support\n\n           A       0.62      0.36      0.45        14\n           B       0.35      0.58      0.44        12\n           C       0.45      0.28      0.34        18\n           D       0.43      0.57      0.49        28\n           F       0.84      0.77      0.80        47\n\n    accuracy                           0.58       119\n   macro avg       0.54      0.51      0.51       119\nweighted avg       0.61      0.58      0.58       119\n\n"
     ]
    }
   ],
   "source": [
    "X_norm_train = preprocessing.normalize(X_five_train)\n",
    "X_norm_test = preprocessing.normalize(X_five_test)\n",
    "\n",
    "\n",
    "neigh2.fit(X_norm_train,y_five_train)\n",
    "y_five_pred = neigh2.predict(X_norm_test)\n",
    "pre = precision_score(y_five_test, y_five_pred, average='micro')\n",
    "acc = accuracy_score(y_five_test, y_five_pred)\n",
    "cm = confusion_matrix(y_five_test, y_five_pred)\n",
    "recall = recall_score(y_five_test, y_five_pred, average='macro')\n",
    "\n",
    "print(cm)\n",
    "print(\"\\n\")\n",
    "print('Hold out splitting Accuracy : {:.4f}'.format(acc))\n",
    "print('Hold out splitting Precision : {:.4f}'.format(pre))\n",
    "print('Hold out splitting Sensitivity : {:.4f}'.format(recall))\n",
    "print(\"\\n\")\n",
    "print(classification_report(y_five_test, y_five_pred))"
   ]
  },
  {
   "source": [
    "## KNN neigh3 Hold out validation result (five class)"
   ],
   "cell_type": "markdown",
   "metadata": {}
  },
  {
   "cell_type": "code",
   "execution_count": 161,
   "metadata": {},
   "outputs": [
    {
     "output_type": "stream",
     "name": "stdout",
     "text": [
      "[[ 0 13  0  1  0]\n [ 0 11  0  1  0]\n [ 0  2  0 13  3]\n [ 0  2  0 21  5]\n [ 0  0  0 20 27]]\n\n\nHold out splitting Accuracy : 0.4958\nHold out splitting Precision : 0.4958\nHold out splitting Sensitivity : 0.4482\n\n\n              precision    recall  f1-score   support\n\n           A       0.00      0.00      0.00        14\n           B       0.39      0.92      0.55        12\n           C       0.00      0.00      0.00        18\n           D       0.38      0.75      0.50        28\n           F       0.77      0.57      0.66        47\n\n    accuracy                           0.50       119\n   macro avg       0.31      0.45      0.34       119\nweighted avg       0.43      0.50      0.43       119\n\n"
     ]
    }
   ],
   "source": [
    "X_norm_train = preprocessing.normalize(X_five_train)\n",
    "X_norm_test = preprocessing.normalize(X_five_test)\n",
    "\n",
    "\n",
    "neigh3.fit(X_norm_train,y_five_train)\n",
    "y_five_pred = neigh3.predict(X_norm_test)\n",
    "pre = precision_score(y_five_test, y_five_pred, average='micro')\n",
    "acc = accuracy_score(y_five_test, y_five_pred)\n",
    "cm = confusion_matrix(y_five_test, y_five_pred)\n",
    "recall = recall_score(y_five_test, y_five_pred, average='macro')\n",
    "\n",
    "print(cm)\n",
    "print(\"\\n\")\n",
    "print('Hold out splitting Accuracy : {:.4f}'.format(acc))\n",
    "print('Hold out splitting Precision : {:.4f}'.format(pre))\n",
    "print('Hold out splitting Sensitivity : {:.4f}'.format(recall))\n",
    "print(\"\\n\")\n",
    "print(classification_report(y_five_test, y_five_pred))"
   ]
  },
  {
   "source": [
    "### code explain for above 7 seven result\n",
    "\n",
    "choose the model you want (forest, estimator , neigh)\n",
    "\n",
    "X_norm_train = preprocessing.normalize(X_binary_train) --> normalize train data\n",
    "X_norm_test = preprocessing.normalize(X_binary_test) --> normalize test data\n",
    "model.fit(X_train, y_train) --> use train data to fit the data <br>\n",
    "y_pred = model.predict(X_test) --> predict y_pred by getting X-test <br>\n",
    "then compare y_test(result) with y_pred (predict result) <br>\n",
    "precision_score(y_test, y_pred)--> get precision <br>\n",
    "accuracy_score(y_test, y_pred) --> get accuracy <br>\n",
    "confusion_matrix(y_test, y_pred) --> get confusion matrix <br>\n",
    "recall_score(y_test, y_pred, average='macro') --> get sensitivity <br>\n"
   ],
   "cell_type": "markdown",
   "metadata": {}
  },
  {
   "source": [
    "## Decision-Tree K-Fold validation (five class)"
   ],
   "cell_type": "markdown",
   "metadata": {}
  },
  {
   "cell_type": "code",
   "execution_count": 162,
   "metadata": {},
   "outputs": [
    {
     "output_type": "stream",
     "name": "stdout",
     "text": [
      "[[13  2  0  0  0]\n",
      " [ 1 11  2  0  0]\n",
      " [ 0  1 15  3  0]\n",
      " [ 0  0  5 17  7]\n",
      " [ 0  0  0  3 52]]\n",
      "\n",
      "\n",
      "[[11  7  0  0  0]\n",
      " [ 2 17  5  0  0]\n",
      " [ 0  1 18  2  0]\n",
      " [ 0  0  5 22  3]\n",
      " [ 0  0  0  7 32]]\n",
      "\n",
      "\n",
      "[[ 6  1  0  0  0]\n",
      " [ 0 16  6  0  0]\n",
      " [ 0  1 17  4  0]\n",
      " [ 0  0  5 28 11]\n",
      " [ 0  0  0  0 36]]\n",
      "\n",
      "\n",
      "K-FOLD splitting Accuracy : 0.7873\n",
      "K-FOLD splitting Precision : 0.7964\n",
      "K-FOLD splitting Sensitivity  : 0.7798\n",
      "              precision    recall  f1-score   support\n",
      "\n",
      "           A       0.91      0.75      0.82        40\n",
      "           B       0.77      0.73      0.75        60\n",
      "           C       0.64      0.81      0.71        62\n",
      "           D       0.78      0.65      0.71       103\n",
      "           F       0.85      0.92      0.89       130\n",
      "\n",
      "    accuracy                           0.79       395\n",
      "   macro avg       0.79      0.77      0.78       395\n",
      "weighted avg       0.79      0.79      0.79       395\n",
      "\n",
      "\n",
      "\n"
     ]
    }
   ],
   "source": [
    "accuracy = 0\n",
    "precision = 0\n",
    "recall = 0\n",
    "\n",
    "for i in range(3):\n",
    "\n",
    "    estimator.fit(X_five_train_list[i], Y_five_train_list[i])\n",
    "    y_five_pred = estimator.predict(X_five_test_list[i]) \n",
    "    precision += precision_score(Y_five_test_list[i], y_five_pred, average='macro')\n",
    "    accuracy += accuracy_score(Y_five_test_list[i], y_five_pred)\n",
    "    recall += recall_score(Y_five_test_list[i], y_five_pred, average='macro')\n",
    "    cm = confusion_matrix(Y_five_test_list[i], y_five_pred)\n",
    "    print(cm)\n",
    "    print(\"\\n\")\n",
    "\n",
    "print('K-FOLD splitting Accuracy : {:.4f}'.format(accuracy/3))\n",
    "print('K-FOLD splitting Precision : {:.4f}'.format(precision/3))\n",
    "print('K-FOLD splitting Sensitivity  : {:.4f}'.format(recall/3))\n",
    "from sklearn.model_selection import cross_val_predict\n",
    "score = cross_val_predict(estimator, X_five_class, Y_five_class, cv=cv)\n",
    "score.shape\n",
    "print(classification_report(Y_five_class, score))\n",
    "print(\"\\n\")"
   ]
  },
  {
   "source": [
    "## Random-Forest forest1 K-Fold validation result (five class)"
   ],
   "cell_type": "markdown",
   "metadata": {}
  },
  {
   "cell_type": "code",
   "execution_count": 163,
   "metadata": {},
   "outputs": [
    {
     "output_type": "stream",
     "name": "stdout",
     "text": [
      "[[ 6  7  0  2  0]\n",
      " [ 1  9  2  2  0]\n",
      " [ 1  4  6  4  4]\n",
      " [ 1  0  5 15  8]\n",
      " [ 0  0  0 11 44]]\n",
      "\n",
      "\n",
      "[[ 8  8  2  0  0]\n",
      " [ 5 13  4  2  0]\n",
      " [ 1  1  8 10  1]\n",
      " [ 0  1  1 22  6]\n",
      " [ 0  0  2  5 32]]\n",
      "\n",
      "\n",
      "[[ 4  3  0  0  0]\n",
      " [ 3 12  6  1  0]\n",
      " [ 1  3  6 10  2]\n",
      " [ 0  0  6 24 14]\n",
      " [ 0  0  0  3 33]]\n",
      "\n",
      "\n",
      "K-FOLD splitting Accuracy : 0.6126\n",
      "K-FOLD splitting Precision : 0.5735\n",
      "K-FOLD splitting Sensitivity  : 0.5632\n",
      "              precision    recall  f1-score   support\n",
      "\n",
      "           A       0.70      0.40      0.51        40\n",
      "           B       0.53      0.63      0.58        60\n",
      "           C       0.33      0.24      0.28        62\n",
      "           D       0.44      0.43      0.44       103\n",
      "           F       0.69      0.82      0.75       130\n",
      "\n",
      "    accuracy                           0.56       395\n",
      "   macro avg       0.54      0.51      0.51       395\n",
      "weighted avg       0.54      0.56      0.54       395\n",
      "\n",
      "\n",
      "\n"
     ]
    }
   ],
   "source": [
    "accuracy = 0\n",
    "precision = 0\n",
    "recall = 0\n",
    "\n",
    "for i in range(3):\n",
    "\n",
    "    forest1.fit(X_five_train_list[i], Y_five_train_list[i])\n",
    "    y_five_pred = forest1.predict(X_five_test_list[i]) \n",
    "    precision += precision_score(Y_five_test_list[i], y_five_pred, average='macro')\n",
    "    accuracy += accuracy_score(Y_five_test_list[i], y_five_pred)\n",
    "    recall += recall_score(Y_five_test_list[i], y_five_pred, average='macro')\n",
    "    cm = confusion_matrix(Y_five_test_list[i], y_five_pred)\n",
    "    print(cm)\n",
    "    print(\"\\n\")\n",
    "\n",
    "print('K-FOLD splitting Accuracy : {:.4f}'.format(accuracy/3))\n",
    "print('K-FOLD splitting Precision : {:.4f}'.format(precision/3))\n",
    "print('K-FOLD splitting Sensitivity  : {:.4f}'.format(recall/3))\n",
    "from sklearn.model_selection import cross_val_predict\n",
    "score = cross_val_predict(forest1, X_five_class, Y_five_class, cv=cv)\n",
    "score.shape\n",
    "print(classification_report(Y_five_class, score))\n",
    "print(\"\\n\")"
   ]
  },
  {
   "source": [
    "## Random-Forest forest2 K-Fold validation result (five class)"
   ],
   "cell_type": "markdown",
   "metadata": {}
  },
  {
   "cell_type": "code",
   "execution_count": 164,
   "metadata": {},
   "outputs": [
    {
     "output_type": "stream",
     "name": "stdout",
     "text": [
      "[[ 4  7  1  2  1]\n",
      " [ 1 11  2  0  0]\n",
      " [ 0  1  7 11  0]\n",
      " [ 0  1  3 20  5]\n",
      " [ 0  0  0  9 46]]\n",
      "\n",
      "\n",
      "[[ 8  8  1  1  0]\n",
      " [ 2 16  3  3  0]\n",
      " [ 0  5  4 12  0]\n",
      " [ 0  0  4 21  5]\n",
      " [ 0  0  0  9 30]]\n",
      "\n",
      "\n",
      "[[ 4  2  1  0  0]\n",
      " [ 6  9  5  2  0]\n",
      " [ 1  5  5  9  2]\n",
      " [ 0  2  4 13 25]\n",
      " [ 0  0  0  2 34]]\n",
      "\n",
      "\n",
      "K-FOLD splitting Accuracy : 0.5871\n",
      "K-FOLD splitting Precision : 0.5668\n",
      "K-FOLD splitting Sensitivity  : 0.5444\n",
      "              precision    recall  f1-score   support\n",
      "\n",
      "           A       0.68      0.47      0.56        40\n",
      "           B       0.55      0.65      0.60        60\n",
      "           C       0.54      0.34      0.42        62\n",
      "           D       0.58      0.65      0.61       103\n",
      "           F       0.79      0.85      0.82       130\n",
      "\n",
      "    accuracy                           0.65       395\n",
      "   macro avg       0.63      0.59      0.60       395\n",
      "weighted avg       0.65      0.65      0.64       395\n",
      "\n",
      "\n",
      "\n"
     ]
    }
   ],
   "source": [
    "accuracy = 0\n",
    "precision = 0\n",
    "recall = 0\n",
    "\n",
    "for i in range(3):\n",
    "\n",
    "    forest2.fit(X_five_train_list[i], Y_five_train_list[i])\n",
    "    y_five_pred = forest2.predict(X_five_test_list[i]) \n",
    "    precision += precision_score(Y_five_test_list[i], y_five_pred, average='macro')\n",
    "    accuracy += accuracy_score(Y_five_test_list[i], y_five_pred)\n",
    "    recall += recall_score(Y_five_test_list[i], y_five_pred, average='macro')\n",
    "    cm = confusion_matrix(Y_five_test_list[i], y_five_pred)\n",
    "    print(cm)\n",
    "    print(\"\\n\")\n",
    "\n",
    "print('K-FOLD splitting Accuracy : {:.4f}'.format(accuracy/3))\n",
    "print('K-FOLD splitting Precision : {:.4f}'.format(precision/3))\n",
    "print('K-FOLD splitting Sensitivity  : {:.4f}'.format(recall/3))\n",
    "from sklearn.model_selection import cross_val_predict\n",
    "score = cross_val_predict(forest2, X_five_class, Y_five_class, cv=cv)\n",
    "score.shape\n",
    "print(classification_report(Y_five_class, score))\n",
    "print(\"\\n\")"
   ]
  },
  {
   "source": [
    "## Random-Forest forest3 K-Fold validation result (five class)"
   ],
   "cell_type": "markdown",
   "metadata": {}
  },
  {
   "cell_type": "code",
   "execution_count": 165,
   "metadata": {},
   "outputs": [
    {
     "output_type": "stream",
     "name": "stdout",
     "text": [
      "[[ 4 10  1  0  0]\n",
      " [ 1 11  2  0  0]\n",
      " [ 0  4 10  5  0]\n",
      " [ 0  0  4 21  4]\n",
      " [ 0  0  0  9 46]]\n",
      "\n",
      "\n",
      "[[10  8  0  0  0]\n",
      " [ 2 19  3  0  0]\n",
      " [ 0  3  9  9  0]\n",
      " [ 0  0  2 21  7]\n",
      " [ 0  0  0  5 34]]\n",
      "\n",
      "\n",
      "[[ 6  1  0  0  0]\n",
      " [ 2 12  6  2  0]\n",
      " [ 0  8  2 12  0]\n",
      " [ 0  3  3 23 15]\n",
      " [ 0  0  0  0 36]]\n",
      "\n",
      "\n",
      "K-FOLD splitting Accuracy : 0.6682\n",
      "K-FOLD splitting Precision : 0.6431\n",
      "K-FOLD splitting Sensitivity  : 0.6335\n",
      "              precision    recall  f1-score   support\n",
      "\n",
      "           A       0.67      0.45      0.54        40\n",
      "           B       0.53      0.68      0.60        60\n",
      "           C       0.52      0.26      0.34        62\n",
      "           D       0.55      0.57      0.56       103\n",
      "           F       0.78      0.92      0.84       130\n",
      "\n",
      "    accuracy                           0.64       395\n",
      "   macro avg       0.61      0.58      0.58       395\n",
      "weighted avg       0.63      0.64      0.62       395\n",
      "\n",
      "\n",
      "\n"
     ]
    }
   ],
   "source": [
    "accuracy = 0\n",
    "precision = 0\n",
    "recall = 0\n",
    "\n",
    "for i in range(3):\n",
    "\n",
    "    forest3.fit(X_five_train_list[i], Y_five_train_list[i])\n",
    "    y_five_pred = forest3.predict(X_five_test_list[i]) \n",
    "    precision += precision_score(Y_five_test_list[i], y_five_pred, average='macro')\n",
    "    accuracy += accuracy_score(Y_five_test_list[i], y_five_pred)\n",
    "    recall += recall_score(Y_five_test_list[i], y_five_pred, average='macro')\n",
    "    cm = confusion_matrix(Y_five_test_list[i], y_five_pred)\n",
    "    print(cm)\n",
    "    print(\"\\n\")\n",
    "\n",
    "print('K-FOLD splitting Accuracy : {:.4f}'.format(accuracy/3))\n",
    "print('K-FOLD splitting Precision : {:.4f}'.format(precision/3))\n",
    "print('K-FOLD splitting Sensitivity  : {:.4f}'.format(recall/3))\n",
    "from sklearn.model_selection import cross_val_predict\n",
    "score = cross_val_predict(forest3, X_five_class, Y_five_class, cv=cv)\n",
    "score.shape\n",
    "print(classification_report(Y_five_class, score))\n",
    "print(\"\\n\")"
   ]
  },
  {
   "source": [
    "## KNN neigh1 K-Fold validation result (five class)"
   ],
   "cell_type": "markdown",
   "metadata": {}
  },
  {
   "cell_type": "code",
   "execution_count": 166,
   "metadata": {},
   "outputs": [
    {
     "output_type": "stream",
     "name": "stdout",
     "text": [
      "[[ 5  8  2  0  0]\n [ 2 11  1  0  0]\n [ 1  2  8  8  0]\n [ 0  2  6 15  6]\n [ 0  0  1 13 41]]\n\n\n[[10  7  1  0  0]\n [ 6 13  4  1  0]\n [ 0  5  8  8  0]\n [ 0  1  7 20  2]\n [ 0  0  1 11 27]]\n\n\n[[ 6  1  0  0  0]\n [ 6 11  4  1  0]\n [ 1 10  5  6  0]\n [ 0  2  6 26 10]\n [ 0  0  1  4 31]]\n\n\nK-FOLD splitting Accuracy : 0.6000\nK-FOLD splitting Precision : 0.5643\nK-FOLD splitting Sensitivity  : 0.5784\n              precision    recall  f1-score   support\n\n           A       0.57      0.53      0.55        40\n           B       0.48      0.58      0.53        60\n           C       0.38      0.34      0.36        62\n           D       0.54      0.59      0.56       103\n           F       0.85      0.76      0.80       130\n\n    accuracy                           0.60       395\n   macro avg       0.56      0.56      0.56       395\nweighted avg       0.61      0.60      0.60       395\n\n\n\n"
     ]
    }
   ],
   "source": [
    "accuracy = 0\n",
    "precision = 0\n",
    "recall = 0\n",
    "\n",
    "for i in range(3):\n",
    "\n",
    "    X_norm_train = preprocessing.normalize(X_five_train_list[i])\n",
    "    X_norm_test = preprocessing.normalize(X_five_test_list[i])\n",
    "\n",
    "    neigh1.fit(X_norm_train, Y_five_train_list[i])\n",
    "    y_five_pred = neigh1.predict(X_norm_test) \n",
    "    precision += precision_score(Y_five_test_list[i], y_five_pred, average='macro')\n",
    "    accuracy += accuracy_score(Y_five_test_list[i], y_five_pred)\n",
    "    recall += recall_score(Y_five_test_list[i], y_five_pred, average='macro')\n",
    "    cm = confusion_matrix(Y_five_test_list[i], y_five_pred)\n",
    "    print(cm)\n",
    "    print(\"\\n\")\n",
    "\n",
    "print('K-FOLD splitting Accuracy : {:.4f}'.format(accuracy/3))\n",
    "print('K-FOLD splitting Precision : {:.4f}'.format(precision/3))\n",
    "print('K-FOLD splitting Sensitivity  : {:.4f}'.format(recall/3))\n",
    "from sklearn.model_selection import cross_val_predict\n",
    "score = cross_val_predict(neigh1, X_norm, Y_five_class, cv=cv)\n",
    "score.shape\n",
    "print(classification_report(Y_five_class, score))\n",
    "print(\"\\n\")"
   ]
  },
  {
   "source": [
    "## KNN neigh2 K-Fold validation result (five class)"
   ],
   "cell_type": "markdown",
   "metadata": {}
  },
  {
   "cell_type": "code",
   "execution_count": 167,
   "metadata": {},
   "outputs": [
    {
     "output_type": "stream",
     "name": "stdout",
     "text": [
      "[[ 4 10  0  1  0]\n [ 1 11  2  0  0]\n [ 0  3  6 10  0]\n [ 0  2  5 16  6]\n [ 0  0  0 13 42]]\n\n\n[[10  6  2  0  0]\n [ 7 15  2  0  0]\n [ 0  5  8  8  0]\n [ 0  0  8 20  2]\n [ 0  0  1 12 26]]\n\n\n[[ 6  1  0  0  0]\n [ 6 12  2  2  0]\n [ 0 14  4  4  0]\n [ 0  4  7 22 11]\n [ 0  0  0  4 32]]\n\n\nK-FOLD splitting Accuracy : 0.5924\nK-FOLD splitting Precision : 0.5707\nK-FOLD splitting Sensitivity  : 0.5701\n              precision    recall  f1-score   support\n\n           A       0.59      0.50      0.54        40\n           B       0.46      0.63      0.53        60\n           C       0.38      0.29      0.33        62\n           D       0.52      0.56      0.54       103\n           F       0.84      0.77      0.80       130\n\n    accuracy                           0.59       395\n   macro avg       0.56      0.55      0.55       395\nweighted avg       0.60      0.59      0.59       395\n\n\n\n"
     ]
    }
   ],
   "source": [
    "accuracy = 0\n",
    "precision = 0\n",
    "recall = 0\n",
    "\n",
    "for i in range(3):\n",
    "\n",
    "    X_norm_train = preprocessing.normalize(X_five_train_list[i])\n",
    "    X_norm_test = preprocessing.normalize(X_five_test_list[i])\n",
    "\n",
    "    neigh2.fit(X_norm_train, Y_five_train_list[i])\n",
    "    y_five_pred = neigh2.predict(X_norm_test) \n",
    "    precision += precision_score(Y_five_test_list[i], y_five_pred, average='macro')\n",
    "    accuracy += accuracy_score(Y_five_test_list[i], y_five_pred)\n",
    "    recall += recall_score(Y_five_test_list[i], y_five_pred, average='macro')\n",
    "    cm = confusion_matrix(Y_five_test_list[i], y_five_pred)\n",
    "    print(cm)\n",
    "    print(\"\\n\")\n",
    "\n",
    "print('K-FOLD splitting Accuracy : {:.4f}'.format(accuracy/3))\n",
    "print('K-FOLD splitting Precision : {:.4f}'.format(precision/3))\n",
    "print('K-FOLD splitting Sensitivity  : {:.4f}'.format(recall/3))\n",
    "from sklearn.model_selection import cross_val_predict\n",
    "score = cross_val_predict(neigh2, X_norm, Y_five_class, cv=cv)\n",
    "score.shape\n",
    "print(classification_report(Y_five_class, score))\n",
    "print(\"\\n\")"
   ]
  },
  {
   "source": [
    "## KNN neigh3 K-Fold validation result (five class)\n"
   ],
   "cell_type": "markdown",
   "metadata": {}
  },
  {
   "cell_type": "code",
   "execution_count": 168,
   "metadata": {},
   "outputs": [
    {
     "output_type": "stream",
     "name": "stdout",
     "text": [
      "[[ 0 13  0  2  0]\n",
      " [ 0 12  0  2  0]\n",
      " [ 0  2  0 15  2]\n",
      " [ 0  3  0 22  4]\n",
      " [ 0  0  0 29 26]]\n",
      "\n",
      "\n",
      "[[ 0 16  0  2  0]\n",
      " [ 0 18  0  6  0]\n",
      " [ 0  5  0 15  1]\n",
      " [ 0  0  0 29  1]\n",
      " [ 0  0  0 16 23]]\n",
      "\n",
      "\n",
      "[[ 1  6  0  0  0]\n",
      " [ 0 16  0  6  0]\n",
      " [ 1  8  0 12  1]\n",
      " [ 0  2  0 32 10]\n",
      " [ 0  0  0  4 32]]\n",
      "\n",
      "\n",
      "K-FOLD splitting Accuracy : 0.5344\n",
      "K-FOLD splitting Precision : 0.3781\n",
      "K-FOLD splitting Sensitivity  : 0.4587\n",
      "              precision    recall  f1-score   support\n",
      "\n",
      "           A       0.50      0.03      0.05        40\n",
      "           B       0.46      0.77      0.57        60\n",
      "           C       0.00      0.00      0.00        62\n",
      "           D       0.43      0.81      0.56       103\n",
      "           F       0.81      0.62      0.70       130\n",
      "\n",
      "    accuracy                           0.53       395\n",
      "   macro avg       0.44      0.44      0.38       395\n",
      "weighted avg       0.50      0.53      0.47       395\n",
      "\n",
      "\n",
      "\n"
     ]
    }
   ],
   "source": [
    "accuracy = 0\n",
    "precision = 0\n",
    "recall = 0\n",
    "\n",
    "for i in range(3):\n",
    "\n",
    "    X_norm_train = preprocessing.normalize(X_five_train_list[i])\n",
    "    X_norm_test = preprocessing.normalize(X_five_test_list[i])\n",
    "\n",
    "    neigh3.fit(X_norm_train, Y_five_train_list[i])\n",
    "    y_five_pred = neigh3.predict(X_norm_test) \n",
    "    precision += precision_score(Y_five_test_list[i], y_five_pred, average='macro')\n",
    "    accuracy += accuracy_score(Y_five_test_list[i], y_five_pred)\n",
    "    recall += recall_score(Y_five_test_list[i], y_five_pred, average='macro')\n",
    "    cm = confusion_matrix(Y_five_test_list[i], y_five_pred)\n",
    "    print(cm)\n",
    "    print(\"\\n\")\n",
    "\n",
    "print('K-FOLD splitting Accuracy : {:.4f}'.format(accuracy/3))\n",
    "print('K-FOLD splitting Precision : {:.4f}'.format(precision/3))\n",
    "print('K-FOLD splitting Sensitivity  : {:.4f}'.format(recall/3))\n",
    "from sklearn.model_selection import cross_val_predict\n",
    "score = cross_val_predict(neigh3, X_norm, Y_five_class, cv=cv)\n",
    "score.shape\n",
    "print(classification_report(Y_five_class, score))\n",
    "print(\"\\n\")"
   ]
  },
  {
   "source": [
    "### code explain for above seven result \n",
    "For K-Fold , after spliting data into 3 parts, choose two parts to be training data and one part to be the test data in every loop. Then do the same thing as hold-out validation.\n",
    "\n",
    "choose the model you want (forest, estimator , neigh)\n",
    "\n",
    "X_norm_train = preprocessing.normalize(X_binary_train_list[i]) --> normalize train data <br>\n",
    "X_norm_test = preprocessing.normalize(X_binary_test_list[i]) --> normalize test data <br>\n",
    "model.fit(X_train, y_train) --> use train data to fit the data <br>\n",
    "y_pred = model.predict(X_test) --> predict y_pred by getting X-test <br>\n",
    "then compare y_test(result) with y_pred (predict result) <br>\n",
    "precision_score(y_test, y_pred)--> get precision <br>\n",
    "accuracy_score(y_test, y_pred) --> get accuracy <br>\n",
    "confusion_matrix(y_test, y_pred) --> get confusion matrix <br>\n",
    "recall_score(y_test, y_pred, average='macro') --> get sensitivity <br>\n"
   ],
   "cell_type": "markdown",
   "metadata": {}
  },
  {
   "source": [
    "# 6. COMPARISON & CONCLUSION"
   ],
   "cell_type": "markdown",
   "metadata": {}
  },
  {
   "source": [
    "#### Model's comparison : Decision tree > Random forest > KNN (in most cases)\n",
    "\n",
    "Decision tree : From the result, I found that the accuracy of decision tree are quite good comparing to other model, in most condition, it's accuracy is the highest especially in the five level classification (sometimes lower than large random decision tree).\n",
    "\n",
    "Random Forest : Random forest model will get better accuracy if n_estimator is larger (in theory). However, when constructing the random forest model, we should specify a not to big max_depth to avoid overfitting. In most condition, when n is large, the accuracy is the better than KNN.\n",
    "\n",
    "KNN : KNN model's accuracy will vary with K, because when K is larger the influence of noise data and important data will be lower. G1 and G2 are data that are very closely relate to G3, thus when K is very big, the accuracy will be lower. However, if I drop G1,G2, the accuracy may be better when K is larger. In most condition, the acuuracy is the lowest one of these three model.\n",
    "\n",
    "\n",
    "#### K fold validation vs Hold out validation :\n",
    "In conclusion, K-fold is sometimes more accurate than Hold-out validation. After searching, I found there may be some reason that may cause K-Fold accuracy lower than Hold-out, first is the k value is not good for this condition. Secondly, maybe there are some overfitting or underfitting in models. Hold out's performance evaluation is subject to higher variance given the smaller size of the data and usually gives a lower estimation error. However, K-fold validation is more time consuming to train and test model. So choosing a k is also choosing between time and acuuracy. \n"
   ],
   "cell_type": "markdown",
   "metadata": {}
  },
  {
   "source": [
    "# 7. QUESTION"
   ],
   "cell_type": "markdown",
   "metadata": {}
  },
  {
   "source": [
    "## Decision Tree : Show the prediction and reasoning of 1-samples in the validation set."
   ],
   "cell_type": "markdown",
   "metadata": {}
  },
  {
   "source": [
    "from sklearn import tree\n",
    "import pydotplus \n",
    "from collections import defaultdict\n",
    "import graphviz\n",
    "\n",
    "# use the model train by K-Fold and five-level  \n",
    "text_representation = tree.export_text(estimator)\n",
    "print(text_representation)\n",
    "tree.plot_tree(estimator,filled=True)\n",
    "\n",
    "\n",
    "print(\"test data :\",X_five_train_list[2][14,:]) # 1-sample"
   ],
   "cell_type": "code",
   "metadata": {},
   "execution_count": 169,
   "outputs": [
    {
     "output_type": "stream",
     "name": "stdout",
     "text": [
      "|--- feature_14 <= 9.50\n",
      "|   |--- feature_14 <= 8.50\n",
      "|   |   |--- feature_14 <= 7.50\n",
      "|   |   |   |--- class: F\n",
      "|   |   |--- feature_14 >  7.50\n",
      "|   |   |   |--- class: F\n",
      "|   |--- feature_14 >  8.50\n",
      "|   |   |--- feature_8 <= 3.50\n",
      "|   |   |   |--- class: F\n",
      "|   |   |--- feature_8 >  3.50\n",
      "|   |   |   |--- class: F\n",
      "|--- feature_14 >  9.50\n",
      "|   |--- feature_14 <= 13.50\n",
      "|   |   |--- feature_14 <= 11.50\n",
      "|   |   |   |--- feature_13 <= 10.50\n",
      "|   |   |   |   |--- class: D\n",
      "|   |   |   |--- feature_13 >  10.50\n",
      "|   |   |   |   |--- class: D\n",
      "|   |   |--- feature_14 >  11.50\n",
      "|   |   |   |--- feature_9 <= 1.50\n",
      "|   |   |   |   |--- class: C\n",
      "|   |   |   |--- feature_9 >  1.50\n",
      "|   |   |   |   |--- class: C\n",
      "|   |--- feature_14 >  13.50\n",
      "|   |   |--- feature_14 <= 15.50\n",
      "|   |   |   |--- feature_32 <= 0.50\n",
      "|   |   |   |   |--- class: B\n",
      "|   |   |   |--- feature_32 >  0.50\n",
      "|   |   |   |   |--- class: B\n",
      "|   |   |--- feature_14 >  15.50\n",
      "|   |   |   |--- class: A\n",
      "\n",
      "test data : [18  2  2  1  3  0  4  3  3  1  2  2  5 18 18  1  0  1  0  0  1  1  0  0\n",
      "  1  1  0  0  0  0  1  0  0  0  0  0  0  1  0  0  1  0  1  0  0  1  0  1\n",
      "  1  0  0  1  0  1  0  1  1  0]\n"
     ]
    },
    {
     "output_type": "display_data",
     "data": {
      "text/plain": "<Figure size 432x288 with 1 Axes>",
      "image/svg+xml": "<?xml version=\"1.0\" encoding=\"utf-8\" standalone=\"no\"?>\r\n<!DOCTYPE svg PUBLIC \"-//W3C//DTD SVG 1.1//EN\"\r\n  \"http://www.w3.org/Graphics/SVG/1.1/DTD/svg11.dtd\">\r\n<!-- Created with matplotlib (https://matplotlib.org/) -->\r\n<svg height=\"231.84pt\" version=\"1.1\" viewBox=\"0 0 349.2 231.84\" width=\"349.2pt\" xmlns=\"http://www.w3.org/2000/svg\" xmlns:xlink=\"http://www.w3.org/1999/xlink\">\r\n <defs>\r\n  <style type=\"text/css\">\r\n*{stroke-linecap:butt;stroke-linejoin:round;}\r\n  </style>\r\n </defs>\r\n <g id=\"figure_1\">\r\n  <g id=\"patch_1\">\r\n   <path d=\"M 0 231.84 \r\nL 349.2 231.84 \r\nL 349.2 0 \r\nL 0 0 \r\nz\r\n\" style=\"fill:none;\"/>\r\n  </g>\r\n  <g id=\"axes_1\">\r\n   <g id=\"patch_2\">\r\n    <path d=\"M 144.195445 194.906458 \r\nQ 150.467177 178.613441 157.14055 161.277023 \r\n\" style=\"fill:none;stroke:#000000;stroke-linecap:round;\"/>\r\n    <path d=\"M 144.949745 194.218132 \r\nL 144.195445 194.906458 \r\nL 144.097364 193.890022 \r\n\" style=\"fill:none;stroke:#000000;stroke-linecap:round;\"/>\r\n   </g>\r\n   <g id=\"text_1\">\r\n    <g id=\"patch_3\">\r\n     <path d=\"M 127.253664 207.471172 \r\nL 154.986336 207.471172 \r\nL 154.986336 198.320828 \r\nL 127.253664 198.320828 \r\nz\r\n\" style=\"fill:#aaa8f4;stroke:#000000;stroke-linejoin:miter;\"/>\r\n    </g>\r\n    <!-- gini = 0.497 -->\r\n    <defs>\r\n     <path d=\"M 45.40625 27.984375 \r\nQ 45.40625 37.75 41.375 43.109375 \r\nQ 37.359375 48.484375 30.078125 48.484375 \r\nQ 22.859375 48.484375 18.828125 43.109375 \r\nQ 14.796875 37.75 14.796875 27.984375 \r\nQ 14.796875 18.265625 18.828125 12.890625 \r\nQ 22.859375 7.515625 30.078125 7.515625 \r\nQ 37.359375 7.515625 41.375 12.890625 \r\nQ 45.40625 18.265625 45.40625 27.984375 \r\nz\r\nM 54.390625 6.78125 \r\nQ 54.390625 -7.171875 48.1875 -13.984375 \r\nQ 42 -20.796875 29.203125 -20.796875 \r\nQ 24.46875 -20.796875 20.265625 -20.09375 \r\nQ 16.0625 -19.390625 12.109375 -17.921875 \r\nL 12.109375 -9.1875 \r\nQ 16.0625 -11.328125 19.921875 -12.34375 \r\nQ 23.78125 -13.375 27.78125 -13.375 \r\nQ 36.625 -13.375 41.015625 -8.765625 \r\nQ 45.40625 -4.15625 45.40625 5.171875 \r\nL 45.40625 9.625 \r\nQ 42.625 4.78125 38.28125 2.390625 \r\nQ 33.9375 0 27.875 0 \r\nQ 17.828125 0 11.671875 7.65625 \r\nQ 5.515625 15.328125 5.515625 27.984375 \r\nQ 5.515625 40.671875 11.671875 48.328125 \r\nQ 17.828125 56 27.875 56 \r\nQ 33.9375 56 38.28125 53.609375 \r\nQ 42.625 51.21875 45.40625 46.390625 \r\nL 45.40625 54.6875 \r\nL 54.390625 54.6875 \r\nz\r\n\" id=\"DejaVuSans-103\"/>\r\n     <path d=\"M 9.421875 54.6875 \r\nL 18.40625 54.6875 \r\nL 18.40625 0 \r\nL 9.421875 0 \r\nz\r\nM 9.421875 75.984375 \r\nL 18.40625 75.984375 \r\nL 18.40625 64.59375 \r\nL 9.421875 64.59375 \r\nz\r\n\" id=\"DejaVuSans-105\"/>\r\n     <path d=\"M 54.890625 33.015625 \r\nL 54.890625 0 \r\nL 45.90625 0 \r\nL 45.90625 32.71875 \r\nQ 45.90625 40.484375 42.875 44.328125 \r\nQ 39.84375 48.1875 33.796875 48.1875 \r\nQ 26.515625 48.1875 22.3125 43.546875 \r\nQ 18.109375 38.921875 18.109375 30.90625 \r\nL 18.109375 0 \r\nL 9.078125 0 \r\nL 9.078125 54.6875 \r\nL 18.109375 54.6875 \r\nL 18.109375 46.1875 \r\nQ 21.34375 51.125 25.703125 53.5625 \r\nQ 30.078125 56 35.796875 56 \r\nQ 45.21875 56 50.046875 50.171875 \r\nQ 54.890625 44.34375 54.890625 33.015625 \r\nz\r\n\" id=\"DejaVuSans-110\"/>\r\n     <path id=\"DejaVuSans-32\"/>\r\n     <path d=\"M 10.59375 45.40625 \r\nL 73.1875 45.40625 \r\nL 73.1875 37.203125 \r\nL 10.59375 37.203125 \r\nz\r\nM 10.59375 25.484375 \r\nL 73.1875 25.484375 \r\nL 73.1875 17.1875 \r\nL 10.59375 17.1875 \r\nz\r\n\" id=\"DejaVuSans-61\"/>\r\n     <path d=\"M 31.78125 66.40625 \r\nQ 24.171875 66.40625 20.328125 58.90625 \r\nQ 16.5 51.421875 16.5 36.375 \r\nQ 16.5 21.390625 20.328125 13.890625 \r\nQ 24.171875 6.390625 31.78125 6.390625 \r\nQ 39.453125 6.390625 43.28125 13.890625 \r\nQ 47.125 21.390625 47.125 36.375 \r\nQ 47.125 51.421875 43.28125 58.90625 \r\nQ 39.453125 66.40625 31.78125 66.40625 \r\nz\r\nM 31.78125 74.21875 \r\nQ 44.046875 74.21875 50.515625 64.515625 \r\nQ 56.984375 54.828125 56.984375 36.375 \r\nQ 56.984375 17.96875 50.515625 8.265625 \r\nQ 44.046875 -1.421875 31.78125 -1.421875 \r\nQ 19.53125 -1.421875 13.0625 8.265625 \r\nQ 6.59375 17.96875 6.59375 36.375 \r\nQ 6.59375 54.828125 13.0625 64.515625 \r\nQ 19.53125 74.21875 31.78125 74.21875 \r\nz\r\n\" id=\"DejaVuSans-48\"/>\r\n     <path d=\"M 10.6875 12.40625 \r\nL 21 12.40625 \r\nL 21 0 \r\nL 10.6875 0 \r\nz\r\n\" id=\"DejaVuSans-46\"/>\r\n     <path d=\"M 37.796875 64.3125 \r\nL 12.890625 25.390625 \r\nL 37.796875 25.390625 \r\nz\r\nM 35.203125 72.90625 \r\nL 47.609375 72.90625 \r\nL 47.609375 25.390625 \r\nL 58.015625 25.390625 \r\nL 58.015625 17.1875 \r\nL 47.609375 17.1875 \r\nL 47.609375 0 \r\nL 37.796875 0 \r\nL 37.796875 17.1875 \r\nL 4.890625 17.1875 \r\nL 4.890625 26.703125 \r\nz\r\n\" id=\"DejaVuSans-52\"/>\r\n     <path d=\"M 10.984375 1.515625 \r\nL 10.984375 10.5 \r\nQ 14.703125 8.734375 18.5 7.8125 \r\nQ 22.3125 6.890625 25.984375 6.890625 \r\nQ 35.75 6.890625 40.890625 13.453125 \r\nQ 46.046875 20.015625 46.78125 33.40625 \r\nQ 43.953125 29.203125 39.59375 26.953125 \r\nQ 35.25 24.703125 29.984375 24.703125 \r\nQ 19.046875 24.703125 12.671875 31.3125 \r\nQ 6.296875 37.9375 6.296875 49.421875 \r\nQ 6.296875 60.640625 12.9375 67.421875 \r\nQ 19.578125 74.21875 30.609375 74.21875 \r\nQ 43.265625 74.21875 49.921875 64.515625 \r\nQ 56.59375 54.828125 56.59375 36.375 \r\nQ 56.59375 19.140625 48.40625 8.859375 \r\nQ 40.234375 -1.421875 26.421875 -1.421875 \r\nQ 22.703125 -1.421875 18.890625 -0.6875 \r\nQ 15.09375 0.046875 10.984375 1.515625 \r\nz\r\nM 30.609375 32.421875 \r\nQ 37.25 32.421875 41.125 36.953125 \r\nQ 45.015625 41.5 45.015625 49.421875 \r\nQ 45.015625 57.28125 41.125 61.84375 \r\nQ 37.25 66.40625 30.609375 66.40625 \r\nQ 23.96875 66.40625 20.09375 61.84375 \r\nQ 16.21875 57.28125 16.21875 49.421875 \r\nQ 16.21875 41.5 20.09375 36.953125 \r\nQ 23.96875 32.421875 30.609375 32.421875 \r\nz\r\n\" id=\"DejaVuSans-57\"/>\r\n     <path d=\"M 8.203125 72.90625 \r\nL 55.078125 72.90625 \r\nL 55.078125 68.703125 \r\nL 28.609375 0 \r\nL 18.3125 0 \r\nL 43.21875 64.59375 \r\nL 8.203125 64.59375 \r\nz\r\n\" id=\"DejaVuSans-55\"/>\r\n    </defs>\r\n    <g transform=\"translate(134.086488 200.969187)scale(0.022834 -0.022834)\">\r\n     <use xlink:href=\"#DejaVuSans-103\"/>\r\n     <use x=\"63.476562\" xlink:href=\"#DejaVuSans-105\"/>\r\n     <use x=\"91.259766\" xlink:href=\"#DejaVuSans-110\"/>\r\n     <use x=\"154.638672\" xlink:href=\"#DejaVuSans-105\"/>\r\n     <use x=\"182.421875\" xlink:href=\"#DejaVuSans-32\"/>\r\n     <use x=\"214.208984\" xlink:href=\"#DejaVuSans-61\"/>\r\n     <use x=\"297.998047\" xlink:href=\"#DejaVuSans-32\"/>\r\n     <use x=\"329.785156\" xlink:href=\"#DejaVuSans-48\"/>\r\n     <use x=\"393.408203\" xlink:href=\"#DejaVuSans-46\"/>\r\n     <use x=\"425.195312\" xlink:href=\"#DejaVuSans-52\"/>\r\n     <use x=\"488.818359\" xlink:href=\"#DejaVuSans-57\"/>\r\n     <use x=\"552.441406\" xlink:href=\"#DejaVuSans-55\"/>\r\n    </g>\r\n    <!-- samples = 24 -->\r\n    <defs>\r\n     <path d=\"M 44.28125 53.078125 \r\nL 44.28125 44.578125 \r\nQ 40.484375 46.53125 36.375 47.5 \r\nQ 32.28125 48.484375 27.875 48.484375 \r\nQ 21.1875 48.484375 17.84375 46.4375 \r\nQ 14.5 44.390625 14.5 40.28125 \r\nQ 14.5 37.15625 16.890625 35.375 \r\nQ 19.28125 33.59375 26.515625 31.984375 \r\nL 29.59375 31.296875 \r\nQ 39.15625 29.25 43.1875 25.515625 \r\nQ 47.21875 21.78125 47.21875 15.09375 \r\nQ 47.21875 7.46875 41.1875 3.015625 \r\nQ 35.15625 -1.421875 24.609375 -1.421875 \r\nQ 20.21875 -1.421875 15.453125 -0.5625 \r\nQ 10.6875 0.296875 5.421875 2 \r\nL 5.421875 11.28125 \r\nQ 10.40625 8.6875 15.234375 7.390625 \r\nQ 20.0625 6.109375 24.8125 6.109375 \r\nQ 31.15625 6.109375 34.5625 8.28125 \r\nQ 37.984375 10.453125 37.984375 14.40625 \r\nQ 37.984375 18.0625 35.515625 20.015625 \r\nQ 33.0625 21.96875 24.703125 23.78125 \r\nL 21.578125 24.515625 \r\nQ 13.234375 26.265625 9.515625 29.90625 \r\nQ 5.8125 33.546875 5.8125 39.890625 \r\nQ 5.8125 47.609375 11.28125 51.796875 \r\nQ 16.75 56 26.8125 56 \r\nQ 31.78125 56 36.171875 55.265625 \r\nQ 40.578125 54.546875 44.28125 53.078125 \r\nz\r\n\" id=\"DejaVuSans-115\"/>\r\n     <path d=\"M 34.28125 27.484375 \r\nQ 23.390625 27.484375 19.1875 25 \r\nQ 14.984375 22.515625 14.984375 16.5 \r\nQ 14.984375 11.71875 18.140625 8.90625 \r\nQ 21.296875 6.109375 26.703125 6.109375 \r\nQ 34.1875 6.109375 38.703125 11.40625 \r\nQ 43.21875 16.703125 43.21875 25.484375 \r\nL 43.21875 27.484375 \r\nz\r\nM 52.203125 31.203125 \r\nL 52.203125 0 \r\nL 43.21875 0 \r\nL 43.21875 8.296875 \r\nQ 40.140625 3.328125 35.546875 0.953125 \r\nQ 30.953125 -1.421875 24.3125 -1.421875 \r\nQ 15.921875 -1.421875 10.953125 3.296875 \r\nQ 6 8.015625 6 15.921875 \r\nQ 6 25.140625 12.171875 29.828125 \r\nQ 18.359375 34.515625 30.609375 34.515625 \r\nL 43.21875 34.515625 \r\nL 43.21875 35.40625 \r\nQ 43.21875 41.609375 39.140625 45 \r\nQ 35.0625 48.390625 27.6875 48.390625 \r\nQ 23 48.390625 18.546875 47.265625 \r\nQ 14.109375 46.140625 10.015625 43.890625 \r\nL 10.015625 52.203125 \r\nQ 14.9375 54.109375 19.578125 55.046875 \r\nQ 24.21875 56 28.609375 56 \r\nQ 40.484375 56 46.34375 49.84375 \r\nQ 52.203125 43.703125 52.203125 31.203125 \r\nz\r\n\" id=\"DejaVuSans-97\"/>\r\n     <path d=\"M 52 44.1875 \r\nQ 55.375 50.25 60.0625 53.125 \r\nQ 64.75 56 71.09375 56 \r\nQ 79.640625 56 84.28125 50.015625 \r\nQ 88.921875 44.046875 88.921875 33.015625 \r\nL 88.921875 0 \r\nL 79.890625 0 \r\nL 79.890625 32.71875 \r\nQ 79.890625 40.578125 77.09375 44.375 \r\nQ 74.3125 48.1875 68.609375 48.1875 \r\nQ 61.625 48.1875 57.5625 43.546875 \r\nQ 53.515625 38.921875 53.515625 30.90625 \r\nL 53.515625 0 \r\nL 44.484375 0 \r\nL 44.484375 32.71875 \r\nQ 44.484375 40.625 41.703125 44.40625 \r\nQ 38.921875 48.1875 33.109375 48.1875 \r\nQ 26.21875 48.1875 22.15625 43.53125 \r\nQ 18.109375 38.875 18.109375 30.90625 \r\nL 18.109375 0 \r\nL 9.078125 0 \r\nL 9.078125 54.6875 \r\nL 18.109375 54.6875 \r\nL 18.109375 46.1875 \r\nQ 21.1875 51.21875 25.484375 53.609375 \r\nQ 29.78125 56 35.6875 56 \r\nQ 41.65625 56 45.828125 52.96875 \r\nQ 50 49.953125 52 44.1875 \r\nz\r\n\" id=\"DejaVuSans-109\"/>\r\n     <path d=\"M 18.109375 8.203125 \r\nL 18.109375 -20.796875 \r\nL 9.078125 -20.796875 \r\nL 9.078125 54.6875 \r\nL 18.109375 54.6875 \r\nL 18.109375 46.390625 \r\nQ 20.953125 51.265625 25.265625 53.625 \r\nQ 29.59375 56 35.59375 56 \r\nQ 45.5625 56 51.78125 48.09375 \r\nQ 58.015625 40.1875 58.015625 27.296875 \r\nQ 58.015625 14.40625 51.78125 6.484375 \r\nQ 45.5625 -1.421875 35.59375 -1.421875 \r\nQ 29.59375 -1.421875 25.265625 0.953125 \r\nQ 20.953125 3.328125 18.109375 8.203125 \r\nz\r\nM 48.6875 27.296875 \r\nQ 48.6875 37.203125 44.609375 42.84375 \r\nQ 40.53125 48.484375 33.40625 48.484375 \r\nQ 26.265625 48.484375 22.1875 42.84375 \r\nQ 18.109375 37.203125 18.109375 27.296875 \r\nQ 18.109375 17.390625 22.1875 11.75 \r\nQ 26.265625 6.109375 33.40625 6.109375 \r\nQ 40.53125 6.109375 44.609375 11.75 \r\nQ 48.6875 17.390625 48.6875 27.296875 \r\nz\r\n\" id=\"DejaVuSans-112\"/>\r\n     <path d=\"M 9.421875 75.984375 \r\nL 18.40625 75.984375 \r\nL 18.40625 0 \r\nL 9.421875 0 \r\nz\r\n\" id=\"DejaVuSans-108\"/>\r\n     <path d=\"M 56.203125 29.59375 \r\nL 56.203125 25.203125 \r\nL 14.890625 25.203125 \r\nQ 15.484375 15.921875 20.484375 11.0625 \r\nQ 25.484375 6.203125 34.421875 6.203125 \r\nQ 39.59375 6.203125 44.453125 7.46875 \r\nQ 49.3125 8.734375 54.109375 11.28125 \r\nL 54.109375 2.78125 \r\nQ 49.265625 0.734375 44.1875 -0.34375 \r\nQ 39.109375 -1.421875 33.890625 -1.421875 \r\nQ 20.796875 -1.421875 13.15625 6.1875 \r\nQ 5.515625 13.8125 5.515625 26.8125 \r\nQ 5.515625 40.234375 12.765625 48.109375 \r\nQ 20.015625 56 32.328125 56 \r\nQ 43.359375 56 49.78125 48.890625 \r\nQ 56.203125 41.796875 56.203125 29.59375 \r\nz\r\nM 47.21875 32.234375 \r\nQ 47.125 39.59375 43.09375 43.984375 \r\nQ 39.0625 48.390625 32.421875 48.390625 \r\nQ 24.90625 48.390625 20.390625 44.140625 \r\nQ 15.875 39.890625 15.1875 32.171875 \r\nz\r\n\" id=\"DejaVuSans-101\"/>\r\n     <path d=\"M 19.1875 8.296875 \r\nL 53.609375 8.296875 \r\nL 53.609375 0 \r\nL 7.328125 0 \r\nL 7.328125 8.296875 \r\nQ 12.9375 14.109375 22.625 23.890625 \r\nQ 32.328125 33.6875 34.8125 36.53125 \r\nQ 39.546875 41.84375 41.421875 45.53125 \r\nQ 43.3125 49.21875 43.3125 52.78125 \r\nQ 43.3125 58.59375 39.234375 62.25 \r\nQ 35.15625 65.921875 28.609375 65.921875 \r\nQ 23.96875 65.921875 18.8125 64.3125 \r\nQ 13.671875 62.703125 7.8125 59.421875 \r\nL 7.8125 69.390625 \r\nQ 13.765625 71.78125 18.9375 73 \r\nQ 24.125 74.21875 28.421875 74.21875 \r\nQ 39.75 74.21875 46.484375 68.546875 \r\nQ 53.21875 62.890625 53.21875 53.421875 \r\nQ 53.21875 48.921875 51.53125 44.890625 \r\nQ 49.859375 40.875 45.40625 35.40625 \r\nQ 44.1875 33.984375 37.640625 27.21875 \r\nQ 31.109375 20.453125 19.1875 8.296875 \r\nz\r\n\" id=\"DejaVuSans-50\"/>\r\n    </defs>\r\n    <g transform=\"translate(133.239142 203.526069)scale(0.022834 -0.022834)\">\r\n     <use xlink:href=\"#DejaVuSans-115\"/>\r\n     <use x=\"52.099609\" xlink:href=\"#DejaVuSans-97\"/>\r\n     <use x=\"113.378906\" xlink:href=\"#DejaVuSans-109\"/>\r\n     <use x=\"210.791016\" xlink:href=\"#DejaVuSans-112\"/>\r\n     <use x=\"274.267578\" xlink:href=\"#DejaVuSans-108\"/>\r\n     <use x=\"302.050781\" xlink:href=\"#DejaVuSans-101\"/>\r\n     <use x=\"363.574219\" xlink:href=\"#DejaVuSans-115\"/>\r\n     <use x=\"415.673828\" xlink:href=\"#DejaVuSans-32\"/>\r\n     <use x=\"447.460938\" xlink:href=\"#DejaVuSans-61\"/>\r\n     <use x=\"531.25\" xlink:href=\"#DejaVuSans-32\"/>\r\n     <use x=\"563.037109\" xlink:href=\"#DejaVuSans-50\"/>\r\n     <use x=\"626.660156\" xlink:href=\"#DejaVuSans-52\"/>\r\n    </g>\r\n    <!-- value = [0, 0, 1, 15, 8] -->\r\n    <defs>\r\n     <path d=\"M 2.984375 54.6875 \r\nL 12.5 54.6875 \r\nL 29.59375 8.796875 \r\nL 46.6875 54.6875 \r\nL 56.203125 54.6875 \r\nL 35.6875 0 \r\nL 23.484375 0 \r\nz\r\n\" id=\"DejaVuSans-118\"/>\r\n     <path d=\"M 8.5 21.578125 \r\nL 8.5 54.6875 \r\nL 17.484375 54.6875 \r\nL 17.484375 21.921875 \r\nQ 17.484375 14.15625 20.5 10.265625 \r\nQ 23.53125 6.390625 29.59375 6.390625 \r\nQ 36.859375 6.390625 41.078125 11.03125 \r\nQ 45.3125 15.671875 45.3125 23.6875 \r\nL 45.3125 54.6875 \r\nL 54.296875 54.6875 \r\nL 54.296875 0 \r\nL 45.3125 0 \r\nL 45.3125 8.40625 \r\nQ 42.046875 3.421875 37.71875 1 \r\nQ 33.40625 -1.421875 27.6875 -1.421875 \r\nQ 18.265625 -1.421875 13.375 4.4375 \r\nQ 8.5 10.296875 8.5 21.578125 \r\nz\r\nM 31.109375 56 \r\nz\r\n\" id=\"DejaVuSans-117\"/>\r\n     <path d=\"M 8.59375 75.984375 \r\nL 29.296875 75.984375 \r\nL 29.296875 69 \r\nL 17.578125 69 \r\nL 17.578125 -6.203125 \r\nL 29.296875 -6.203125 \r\nL 29.296875 -13.1875 \r\nL 8.59375 -13.1875 \r\nz\r\n\" id=\"DejaVuSans-91\"/>\r\n     <path d=\"M 11.71875 12.40625 \r\nL 22.015625 12.40625 \r\nL 22.015625 4 \r\nL 14.015625 -11.625 \r\nL 7.71875 -11.625 \r\nL 11.71875 4 \r\nz\r\n\" id=\"DejaVuSans-44\"/>\r\n     <path d=\"M 12.40625 8.296875 \r\nL 28.515625 8.296875 \r\nL 28.515625 63.921875 \r\nL 10.984375 60.40625 \r\nL 10.984375 69.390625 \r\nL 28.421875 72.90625 \r\nL 38.28125 72.90625 \r\nL 38.28125 8.296875 \r\nL 54.390625 8.296875 \r\nL 54.390625 0 \r\nL 12.40625 0 \r\nz\r\n\" id=\"DejaVuSans-49\"/>\r\n     <path d=\"M 10.796875 72.90625 \r\nL 49.515625 72.90625 \r\nL 49.515625 64.59375 \r\nL 19.828125 64.59375 \r\nL 19.828125 46.734375 \r\nQ 21.96875 47.46875 24.109375 47.828125 \r\nQ 26.265625 48.1875 28.421875 48.1875 \r\nQ 40.625 48.1875 47.75 41.5 \r\nQ 54.890625 34.8125 54.890625 23.390625 \r\nQ 54.890625 11.625 47.5625 5.09375 \r\nQ 40.234375 -1.421875 26.90625 -1.421875 \r\nQ 22.3125 -1.421875 17.546875 -0.640625 \r\nQ 12.796875 0.140625 7.71875 1.703125 \r\nL 7.71875 11.625 \r\nQ 12.109375 9.234375 16.796875 8.0625 \r\nQ 21.484375 6.890625 26.703125 6.890625 \r\nQ 35.15625 6.890625 40.078125 11.328125 \r\nQ 45.015625 15.765625 45.015625 23.390625 \r\nQ 45.015625 31 40.078125 35.4375 \r\nQ 35.15625 39.890625 26.703125 39.890625 \r\nQ 22.75 39.890625 18.8125 39.015625 \r\nQ 14.890625 38.140625 10.796875 36.28125 \r\nz\r\n\" id=\"DejaVuSans-53\"/>\r\n     <path d=\"M 31.78125 34.625 \r\nQ 24.75 34.625 20.71875 30.859375 \r\nQ 16.703125 27.09375 16.703125 20.515625 \r\nQ 16.703125 13.921875 20.71875 10.15625 \r\nQ 24.75 6.390625 31.78125 6.390625 \r\nQ 38.8125 6.390625 42.859375 10.171875 \r\nQ 46.921875 13.96875 46.921875 20.515625 \r\nQ 46.921875 27.09375 42.890625 30.859375 \r\nQ 38.875 34.625 31.78125 34.625 \r\nz\r\nM 21.921875 38.8125 \r\nQ 15.578125 40.375 12.03125 44.71875 \r\nQ 8.5 49.078125 8.5 55.328125 \r\nQ 8.5 64.0625 14.71875 69.140625 \r\nQ 20.953125 74.21875 31.78125 74.21875 \r\nQ 42.671875 74.21875 48.875 69.140625 \r\nQ 55.078125 64.0625 55.078125 55.328125 \r\nQ 55.078125 49.078125 51.53125 44.71875 \r\nQ 48 40.375 41.703125 38.8125 \r\nQ 48.828125 37.15625 52.796875 32.3125 \r\nQ 56.78125 27.484375 56.78125 20.515625 \r\nQ 56.78125 9.90625 50.3125 4.234375 \r\nQ 43.84375 -1.421875 31.78125 -1.421875 \r\nQ 19.734375 -1.421875 13.25 4.234375 \r\nQ 6.78125 9.90625 6.78125 20.515625 \r\nQ 6.78125 27.484375 10.78125 32.3125 \r\nQ 14.796875 37.15625 21.921875 38.8125 \r\nz\r\nM 18.3125 54.390625 \r\nQ 18.3125 48.734375 21.84375 45.5625 \r\nQ 25.390625 42.390625 31.78125 42.390625 \r\nQ 38.140625 42.390625 41.71875 45.5625 \r\nQ 45.3125 48.734375 45.3125 54.390625 \r\nQ 45.3125 60.0625 41.71875 63.234375 \r\nQ 38.140625 66.40625 31.78125 66.40625 \r\nQ 25.390625 66.40625 21.84375 63.234375 \r\nQ 18.3125 60.0625 18.3125 54.390625 \r\nz\r\n\" id=\"DejaVuSans-56\"/>\r\n     <path d=\"M 30.421875 75.984375 \r\nL 30.421875 -13.1875 \r\nL 9.71875 -13.1875 \r\nL 9.71875 -6.203125 \r\nL 21.390625 -6.203125 \r\nL 21.390625 69 \r\nL 9.71875 69 \r\nL 9.71875 75.984375 \r\nz\r\n\" id=\"DejaVuSans-93\"/>\r\n    </defs>\r\n    <g transform=\"translate(128.167015 206.082951)scale(0.022834 -0.022834)\">\r\n     <use xlink:href=\"#DejaVuSans-118\"/>\r\n     <use x=\"59.179688\" xlink:href=\"#DejaVuSans-97\"/>\r\n     <use x=\"120.458984\" xlink:href=\"#DejaVuSans-108\"/>\r\n     <use x=\"148.242188\" xlink:href=\"#DejaVuSans-117\"/>\r\n     <use x=\"211.621094\" xlink:href=\"#DejaVuSans-101\"/>\r\n     <use x=\"273.144531\" xlink:href=\"#DejaVuSans-32\"/>\r\n     <use x=\"304.931641\" xlink:href=\"#DejaVuSans-61\"/>\r\n     <use x=\"388.720703\" xlink:href=\"#DejaVuSans-32\"/>\r\n     <use x=\"420.507812\" xlink:href=\"#DejaVuSans-91\"/>\r\n     <use x=\"459.521484\" xlink:href=\"#DejaVuSans-48\"/>\r\n     <use x=\"523.144531\" xlink:href=\"#DejaVuSans-44\"/>\r\n     <use x=\"554.931641\" xlink:href=\"#DejaVuSans-32\"/>\r\n     <use x=\"586.71875\" xlink:href=\"#DejaVuSans-48\"/>\r\n     <use x=\"650.341797\" xlink:href=\"#DejaVuSans-44\"/>\r\n     <use x=\"682.128906\" xlink:href=\"#DejaVuSans-32\"/>\r\n     <use x=\"713.916016\" xlink:href=\"#DejaVuSans-49\"/>\r\n     <use x=\"777.539062\" xlink:href=\"#DejaVuSans-44\"/>\r\n     <use x=\"809.326172\" xlink:href=\"#DejaVuSans-32\"/>\r\n     <use x=\"841.113281\" xlink:href=\"#DejaVuSans-49\"/>\r\n     <use x=\"904.736328\" xlink:href=\"#DejaVuSans-53\"/>\r\n     <use x=\"968.359375\" xlink:href=\"#DejaVuSans-44\"/>\r\n     <use x=\"1000.146484\" xlink:href=\"#DejaVuSans-32\"/>\r\n     <use x=\"1031.933594\" xlink:href=\"#DejaVuSans-56\"/>\r\n     <use x=\"1095.556641\" xlink:href=\"#DejaVuSans-93\"/>\r\n    </g>\r\n   </g>\r\n   <g id=\"patch_4\">\r\n    <path d=\"M 171.524555 194.906458 \r\nQ 165.252823 178.613441 158.57945 161.277023 \r\n\" style=\"fill:none;stroke:#000000;stroke-linecap:round;\"/>\r\n    <path d=\"M 171.622636 193.890022 \r\nL 171.524555 194.906458 \r\nL 170.770255 194.218132 \r\n\" style=\"fill:none;stroke:#000000;stroke-linecap:round;\"/>\r\n   </g>\r\n   <g id=\"text_2\">\r\n    <g id=\"patch_5\">\r\n     <path d=\"M 160.733664 207.471172 \r\nL 188.466336 207.471172 \r\nL 188.466336 198.320828 \r\nL 160.733664 198.320828 \r\nz\r\n\" style=\"fill:#615fea;stroke:#000000;stroke-linejoin:miter;\"/>\r\n    </g>\r\n    <!-- gini = 0.269 -->\r\n    <defs>\r\n     <path d=\"M 33.015625 40.375 \r\nQ 26.375 40.375 22.484375 35.828125 \r\nQ 18.609375 31.296875 18.609375 23.390625 \r\nQ 18.609375 15.53125 22.484375 10.953125 \r\nQ 26.375 6.390625 33.015625 6.390625 \r\nQ 39.65625 6.390625 43.53125 10.953125 \r\nQ 47.40625 15.53125 47.40625 23.390625 \r\nQ 47.40625 31.296875 43.53125 35.828125 \r\nQ 39.65625 40.375 33.015625 40.375 \r\nz\r\nM 52.59375 71.296875 \r\nL 52.59375 62.3125 \r\nQ 48.875 64.0625 45.09375 64.984375 \r\nQ 41.3125 65.921875 37.59375 65.921875 \r\nQ 27.828125 65.921875 22.671875 59.328125 \r\nQ 17.53125 52.734375 16.796875 39.40625 \r\nQ 19.671875 43.65625 24.015625 45.921875 \r\nQ 28.375 48.1875 33.59375 48.1875 \r\nQ 44.578125 48.1875 50.953125 41.515625 \r\nQ 57.328125 34.859375 57.328125 23.390625 \r\nQ 57.328125 12.15625 50.6875 5.359375 \r\nQ 44.046875 -1.421875 33.015625 -1.421875 \r\nQ 20.359375 -1.421875 13.671875 8.265625 \r\nQ 6.984375 17.96875 6.984375 36.375 \r\nQ 6.984375 53.65625 15.1875 63.9375 \r\nQ 23.390625 74.21875 37.203125 74.21875 \r\nQ 40.921875 74.21875 44.703125 73.484375 \r\nQ 48.484375 72.75 52.59375 71.296875 \r\nz\r\n\" id=\"DejaVuSans-54\"/>\r\n    </defs>\r\n    <g transform=\"translate(167.566488 200.969187)scale(0.022834 -0.022834)\">\r\n     <use xlink:href=\"#DejaVuSans-103\"/>\r\n     <use x=\"63.476562\" xlink:href=\"#DejaVuSans-105\"/>\r\n     <use x=\"91.259766\" xlink:href=\"#DejaVuSans-110\"/>\r\n     <use x=\"154.638672\" xlink:href=\"#DejaVuSans-105\"/>\r\n     <use x=\"182.421875\" xlink:href=\"#DejaVuSans-32\"/>\r\n     <use x=\"214.208984\" xlink:href=\"#DejaVuSans-61\"/>\r\n     <use x=\"297.998047\" xlink:href=\"#DejaVuSans-32\"/>\r\n     <use x=\"329.785156\" xlink:href=\"#DejaVuSans-48\"/>\r\n     <use x=\"393.408203\" xlink:href=\"#DejaVuSans-46\"/>\r\n     <use x=\"425.195312\" xlink:href=\"#DejaVuSans-50\"/>\r\n     <use x=\"488.818359\" xlink:href=\"#DejaVuSans-54\"/>\r\n     <use x=\"552.441406\" xlink:href=\"#DejaVuSans-57\"/>\r\n    </g>\r\n    <!-- samples = 25 -->\r\n    <g transform=\"translate(166.719142 203.526069)scale(0.022834 -0.022834)\">\r\n     <use xlink:href=\"#DejaVuSans-115\"/>\r\n     <use x=\"52.099609\" xlink:href=\"#DejaVuSans-97\"/>\r\n     <use x=\"113.378906\" xlink:href=\"#DejaVuSans-109\"/>\r\n     <use x=\"210.791016\" xlink:href=\"#DejaVuSans-112\"/>\r\n     <use x=\"274.267578\" xlink:href=\"#DejaVuSans-108\"/>\r\n     <use x=\"302.050781\" xlink:href=\"#DejaVuSans-101\"/>\r\n     <use x=\"363.574219\" xlink:href=\"#DejaVuSans-115\"/>\r\n     <use x=\"415.673828\" xlink:href=\"#DejaVuSans-32\"/>\r\n     <use x=\"447.460938\" xlink:href=\"#DejaVuSans-61\"/>\r\n     <use x=\"531.25\" xlink:href=\"#DejaVuSans-32\"/>\r\n     <use x=\"563.037109\" xlink:href=\"#DejaVuSans-50\"/>\r\n     <use x=\"626.660156\" xlink:href=\"#DejaVuSans-53\"/>\r\n    </g>\r\n    <!-- value = [0, 0, 4, 21, 0] -->\r\n    <g transform=\"translate(161.647015 206.082951)scale(0.022834 -0.022834)\">\r\n     <use xlink:href=\"#DejaVuSans-118\"/>\r\n     <use x=\"59.179688\" xlink:href=\"#DejaVuSans-97\"/>\r\n     <use x=\"120.458984\" xlink:href=\"#DejaVuSans-108\"/>\r\n     <use x=\"148.242188\" xlink:href=\"#DejaVuSans-117\"/>\r\n     <use x=\"211.621094\" xlink:href=\"#DejaVuSans-101\"/>\r\n     <use x=\"273.144531\" xlink:href=\"#DejaVuSans-32\"/>\r\n     <use x=\"304.931641\" xlink:href=\"#DejaVuSans-61\"/>\r\n     <use x=\"388.720703\" xlink:href=\"#DejaVuSans-32\"/>\r\n     <use x=\"420.507812\" xlink:href=\"#DejaVuSans-91\"/>\r\n     <use x=\"459.521484\" xlink:href=\"#DejaVuSans-48\"/>\r\n     <use x=\"523.144531\" xlink:href=\"#DejaVuSans-44\"/>\r\n     <use x=\"554.931641\" xlink:href=\"#DejaVuSans-32\"/>\r\n     <use x=\"586.71875\" xlink:href=\"#DejaVuSans-48\"/>\r\n     <use x=\"650.341797\" xlink:href=\"#DejaVuSans-44\"/>\r\n     <use x=\"682.128906\" xlink:href=\"#DejaVuSans-32\"/>\r\n     <use x=\"713.916016\" xlink:href=\"#DejaVuSans-52\"/>\r\n     <use x=\"777.539062\" xlink:href=\"#DejaVuSans-44\"/>\r\n     <use x=\"809.326172\" xlink:href=\"#DejaVuSans-32\"/>\r\n     <use x=\"841.113281\" xlink:href=\"#DejaVuSans-50\"/>\r\n     <use x=\"904.736328\" xlink:href=\"#DejaVuSans-49\"/>\r\n     <use x=\"968.359375\" xlink:href=\"#DejaVuSans-44\"/>\r\n     <use x=\"1000.146484\" xlink:href=\"#DejaVuSans-32\"/>\r\n     <use x=\"1031.933594\" xlink:href=\"#DejaVuSans-48\"/>\r\n     <use x=\"1095.556641\" xlink:href=\"#DejaVuSans-93\"/>\r\n    </g>\r\n   </g>\r\n   <g id=\"patch_6\">\r\n    <path d=\"M 211.155445 194.906458 \r\nQ 217.427177 178.613441 224.10055 161.277023 \r\n\" style=\"fill:none;stroke:#000000;stroke-linecap:round;\"/>\r\n    <path d=\"M 211.909745 194.218132 \r\nL 211.155445 194.906458 \r\nL 211.057364 193.890022 \r\n\" style=\"fill:none;stroke:#000000;stroke-linecap:round;\"/>\r\n   </g>\r\n   <g id=\"text_3\">\r\n    <g id=\"patch_7\">\r\n     <path d=\"M 194.213664 207.471172 \r\nL 221.946336 207.471172 \r\nL 221.946336 198.320828 \r\nL 194.213664 198.320828 \r\nz\r\n\" style=\"fill:#b5f5e9;stroke:#000000;stroke-linejoin:miter;\"/>\r\n    </g>\r\n    <!-- gini = 0.607 -->\r\n    <g transform=\"translate(201.046488 200.969187)scale(0.022834 -0.022834)\">\r\n     <use xlink:href=\"#DejaVuSans-103\"/>\r\n     <use x=\"63.476562\" xlink:href=\"#DejaVuSans-105\"/>\r\n     <use x=\"91.259766\" xlink:href=\"#DejaVuSans-110\"/>\r\n     <use x=\"154.638672\" xlink:href=\"#DejaVuSans-105\"/>\r\n     <use x=\"182.421875\" xlink:href=\"#DejaVuSans-32\"/>\r\n     <use x=\"214.208984\" xlink:href=\"#DejaVuSans-61\"/>\r\n     <use x=\"297.998047\" xlink:href=\"#DejaVuSans-32\"/>\r\n     <use x=\"329.785156\" xlink:href=\"#DejaVuSans-48\"/>\r\n     <use x=\"393.408203\" xlink:href=\"#DejaVuSans-46\"/>\r\n     <use x=\"425.195312\" xlink:href=\"#DejaVuSans-54\"/>\r\n     <use x=\"488.818359\" xlink:href=\"#DejaVuSans-48\"/>\r\n     <use x=\"552.441406\" xlink:href=\"#DejaVuSans-55\"/>\r\n    </g>\r\n    <!-- samples = 32 -->\r\n    <defs>\r\n     <path d=\"M 40.578125 39.3125 \r\nQ 47.65625 37.796875 51.625 33 \r\nQ 55.609375 28.21875 55.609375 21.1875 \r\nQ 55.609375 10.40625 48.1875 4.484375 \r\nQ 40.765625 -1.421875 27.09375 -1.421875 \r\nQ 22.515625 -1.421875 17.65625 -0.515625 \r\nQ 12.796875 0.390625 7.625 2.203125 \r\nL 7.625 11.71875 \r\nQ 11.71875 9.328125 16.59375 8.109375 \r\nQ 21.484375 6.890625 26.8125 6.890625 \r\nQ 36.078125 6.890625 40.9375 10.546875 \r\nQ 45.796875 14.203125 45.796875 21.1875 \r\nQ 45.796875 27.640625 41.28125 31.265625 \r\nQ 36.765625 34.90625 28.71875 34.90625 \r\nL 20.21875 34.90625 \r\nL 20.21875 43.015625 \r\nL 29.109375 43.015625 \r\nQ 36.375 43.015625 40.234375 45.921875 \r\nQ 44.09375 48.828125 44.09375 54.296875 \r\nQ 44.09375 59.90625 40.109375 62.90625 \r\nQ 36.140625 65.921875 28.71875 65.921875 \r\nQ 24.65625 65.921875 20.015625 65.03125 \r\nQ 15.375 64.15625 9.8125 62.3125 \r\nL 9.8125 71.09375 \r\nQ 15.4375 72.65625 20.34375 73.4375 \r\nQ 25.25 74.21875 29.59375 74.21875 \r\nQ 40.828125 74.21875 47.359375 69.109375 \r\nQ 53.90625 64.015625 53.90625 55.328125 \r\nQ 53.90625 49.265625 50.4375 45.09375 \r\nQ 46.96875 40.921875 40.578125 39.3125 \r\nz\r\n\" id=\"DejaVuSans-51\"/>\r\n    </defs>\r\n    <g transform=\"translate(200.199142 203.526069)scale(0.022834 -0.022834)\">\r\n     <use xlink:href=\"#DejaVuSans-115\"/>\r\n     <use x=\"52.099609\" xlink:href=\"#DejaVuSans-97\"/>\r\n     <use x=\"113.378906\" xlink:href=\"#DejaVuSans-109\"/>\r\n     <use x=\"210.791016\" xlink:href=\"#DejaVuSans-112\"/>\r\n     <use x=\"274.267578\" xlink:href=\"#DejaVuSans-108\"/>\r\n     <use x=\"302.050781\" xlink:href=\"#DejaVuSans-101\"/>\r\n     <use x=\"363.574219\" xlink:href=\"#DejaVuSans-115\"/>\r\n     <use x=\"415.673828\" xlink:href=\"#DejaVuSans-32\"/>\r\n     <use x=\"447.460938\" xlink:href=\"#DejaVuSans-61\"/>\r\n     <use x=\"531.25\" xlink:href=\"#DejaVuSans-32\"/>\r\n     <use x=\"563.037109\" xlink:href=\"#DejaVuSans-51\"/>\r\n     <use x=\"626.660156\" xlink:href=\"#DejaVuSans-50\"/>\r\n    </g>\r\n    <!-- value = [0, 7, 17, 8, 0] -->\r\n    <g transform=\"translate(195.127015 206.082951)scale(0.022834 -0.022834)\">\r\n     <use xlink:href=\"#DejaVuSans-118\"/>\r\n     <use x=\"59.179688\" xlink:href=\"#DejaVuSans-97\"/>\r\n     <use x=\"120.458984\" xlink:href=\"#DejaVuSans-108\"/>\r\n     <use x=\"148.242188\" xlink:href=\"#DejaVuSans-117\"/>\r\n     <use x=\"211.621094\" xlink:href=\"#DejaVuSans-101\"/>\r\n     <use x=\"273.144531\" xlink:href=\"#DejaVuSans-32\"/>\r\n     <use x=\"304.931641\" xlink:href=\"#DejaVuSans-61\"/>\r\n     <use x=\"388.720703\" xlink:href=\"#DejaVuSans-32\"/>\r\n     <use x=\"420.507812\" xlink:href=\"#DejaVuSans-91\"/>\r\n     <use x=\"459.521484\" xlink:href=\"#DejaVuSans-48\"/>\r\n     <use x=\"523.144531\" xlink:href=\"#DejaVuSans-44\"/>\r\n     <use x=\"554.931641\" xlink:href=\"#DejaVuSans-32\"/>\r\n     <use x=\"586.71875\" xlink:href=\"#DejaVuSans-55\"/>\r\n     <use x=\"650.341797\" xlink:href=\"#DejaVuSans-44\"/>\r\n     <use x=\"682.128906\" xlink:href=\"#DejaVuSans-32\"/>\r\n     <use x=\"713.916016\" xlink:href=\"#DejaVuSans-49\"/>\r\n     <use x=\"777.539062\" xlink:href=\"#DejaVuSans-55\"/>\r\n     <use x=\"841.162109\" xlink:href=\"#DejaVuSans-44\"/>\r\n     <use x=\"872.949219\" xlink:href=\"#DejaVuSans-32\"/>\r\n     <use x=\"904.736328\" xlink:href=\"#DejaVuSans-56\"/>\r\n     <use x=\"968.359375\" xlink:href=\"#DejaVuSans-44\"/>\r\n     <use x=\"1000.146484\" xlink:href=\"#DejaVuSans-32\"/>\r\n     <use x=\"1031.933594\" xlink:href=\"#DejaVuSans-48\"/>\r\n     <use x=\"1095.556641\" xlink:href=\"#DejaVuSans-93\"/>\r\n    </g>\r\n   </g>\r\n   <g id=\"patch_8\">\r\n    <path d=\"M 238.484555 194.906458 \r\nQ 232.212823 178.613441 225.53945 161.277023 \r\n\" style=\"fill:none;stroke:#000000;stroke-linecap:round;\"/>\r\n    <path d=\"M 238.582636 193.890022 \r\nL 238.484555 194.906458 \r\nL 237.730255 194.218132 \r\n\" style=\"fill:none;stroke:#000000;stroke-linecap:round;\"/>\r\n   </g>\r\n   <g id=\"text_4\">\r\n    <g id=\"patch_9\">\r\n     <path d=\"M 227.693664 207.471172 \r\nL 255.426336 207.471172 \r\nL 255.426336 198.320828 \r\nL 227.693664 198.320828 \r\nz\r\n\" style=\"fill:#52e8cc;stroke:#000000;stroke-linejoin:miter;\"/>\r\n    </g>\r\n    <!-- gini = 0.198 -->\r\n    <g transform=\"translate(234.526488 200.969187)scale(0.022834 -0.022834)\">\r\n     <use xlink:href=\"#DejaVuSans-103\"/>\r\n     <use x=\"63.476562\" xlink:href=\"#DejaVuSans-105\"/>\r\n     <use x=\"91.259766\" xlink:href=\"#DejaVuSans-110\"/>\r\n     <use x=\"154.638672\" xlink:href=\"#DejaVuSans-105\"/>\r\n     <use x=\"182.421875\" xlink:href=\"#DejaVuSans-32\"/>\r\n     <use x=\"214.208984\" xlink:href=\"#DejaVuSans-61\"/>\r\n     <use x=\"297.998047\" xlink:href=\"#DejaVuSans-32\"/>\r\n     <use x=\"329.785156\" xlink:href=\"#DejaVuSans-48\"/>\r\n     <use x=\"393.408203\" xlink:href=\"#DejaVuSans-46\"/>\r\n     <use x=\"425.195312\" xlink:href=\"#DejaVuSans-49\"/>\r\n     <use x=\"488.818359\" xlink:href=\"#DejaVuSans-57\"/>\r\n     <use x=\"552.441406\" xlink:href=\"#DejaVuSans-56\"/>\r\n    </g>\r\n    <!-- samples = 18 -->\r\n    <g transform=\"translate(233.679142 203.526069)scale(0.022834 -0.022834)\">\r\n     <use xlink:href=\"#DejaVuSans-115\"/>\r\n     <use x=\"52.099609\" xlink:href=\"#DejaVuSans-97\"/>\r\n     <use x=\"113.378906\" xlink:href=\"#DejaVuSans-109\"/>\r\n     <use x=\"210.791016\" xlink:href=\"#DejaVuSans-112\"/>\r\n     <use x=\"274.267578\" xlink:href=\"#DejaVuSans-108\"/>\r\n     <use x=\"302.050781\" xlink:href=\"#DejaVuSans-101\"/>\r\n     <use x=\"363.574219\" xlink:href=\"#DejaVuSans-115\"/>\r\n     <use x=\"415.673828\" xlink:href=\"#DejaVuSans-32\"/>\r\n     <use x=\"447.460938\" xlink:href=\"#DejaVuSans-61\"/>\r\n     <use x=\"531.25\" xlink:href=\"#DejaVuSans-32\"/>\r\n     <use x=\"563.037109\" xlink:href=\"#DejaVuSans-49\"/>\r\n     <use x=\"626.660156\" xlink:href=\"#DejaVuSans-56\"/>\r\n    </g>\r\n    <!-- value = [0, 0, 16, 2, 0] -->\r\n    <g transform=\"translate(228.607015 206.082951)scale(0.022834 -0.022834)\">\r\n     <use xlink:href=\"#DejaVuSans-118\"/>\r\n     <use x=\"59.179688\" xlink:href=\"#DejaVuSans-97\"/>\r\n     <use x=\"120.458984\" xlink:href=\"#DejaVuSans-108\"/>\r\n     <use x=\"148.242188\" xlink:href=\"#DejaVuSans-117\"/>\r\n     <use x=\"211.621094\" xlink:href=\"#DejaVuSans-101\"/>\r\n     <use x=\"273.144531\" xlink:href=\"#DejaVuSans-32\"/>\r\n     <use x=\"304.931641\" xlink:href=\"#DejaVuSans-61\"/>\r\n     <use x=\"388.720703\" xlink:href=\"#DejaVuSans-32\"/>\r\n     <use x=\"420.507812\" xlink:href=\"#DejaVuSans-91\"/>\r\n     <use x=\"459.521484\" xlink:href=\"#DejaVuSans-48\"/>\r\n     <use x=\"523.144531\" xlink:href=\"#DejaVuSans-44\"/>\r\n     <use x=\"554.931641\" xlink:href=\"#DejaVuSans-32\"/>\r\n     <use x=\"586.71875\" xlink:href=\"#DejaVuSans-48\"/>\r\n     <use x=\"650.341797\" xlink:href=\"#DejaVuSans-44\"/>\r\n     <use x=\"682.128906\" xlink:href=\"#DejaVuSans-32\"/>\r\n     <use x=\"713.916016\" xlink:href=\"#DejaVuSans-49\"/>\r\n     <use x=\"777.539062\" xlink:href=\"#DejaVuSans-54\"/>\r\n     <use x=\"841.162109\" xlink:href=\"#DejaVuSans-44\"/>\r\n     <use x=\"872.949219\" xlink:href=\"#DejaVuSans-32\"/>\r\n     <use x=\"904.736328\" xlink:href=\"#DejaVuSans-50\"/>\r\n     <use x=\"968.359375\" xlink:href=\"#DejaVuSans-44\"/>\r\n     <use x=\"1000.146484\" xlink:href=\"#DejaVuSans-32\"/>\r\n     <use x=\"1031.933594\" xlink:href=\"#DejaVuSans-48\"/>\r\n     <use x=\"1095.556641\" xlink:href=\"#DejaVuSans-93\"/>\r\n    </g>\r\n   </g>\r\n   <g id=\"patch_10\">\r\n    <path d=\"M 278.115445 194.906458 \r\nQ 284.387177 178.613441 291.06055 161.277023 \r\n\" style=\"fill:none;stroke:#000000;stroke-linecap:round;\"/>\r\n    <path d=\"M 278.869745 194.218132 \r\nL 278.115445 194.906458 \r\nL 278.017364 193.890022 \r\n\" style=\"fill:none;stroke:#000000;stroke-linecap:round;\"/>\r\n   </g>\r\n   <g id=\"text_5\">\r\n    <g id=\"patch_11\">\r\n     <path d=\"M 261.173664 207.471172 \r\nL 288.906336 207.471172 \r\nL 288.906336 198.320828 \r\nL 261.173664 198.320828 \r\nz\r\n\" style=\"fill:#d0f6b8;stroke:#000000;stroke-linejoin:miter;\"/>\r\n    </g>\r\n    <!-- gini = 0.517 -->\r\n    <g transform=\"translate(268.006488 200.969187)scale(0.022834 -0.022834)\">\r\n     <use xlink:href=\"#DejaVuSans-103\"/>\r\n     <use x=\"63.476562\" xlink:href=\"#DejaVuSans-105\"/>\r\n     <use x=\"91.259766\" xlink:href=\"#DejaVuSans-110\"/>\r\n     <use x=\"154.638672\" xlink:href=\"#DejaVuSans-105\"/>\r\n     <use x=\"182.421875\" xlink:href=\"#DejaVuSans-32\"/>\r\n     <use x=\"214.208984\" xlink:href=\"#DejaVuSans-61\"/>\r\n     <use x=\"297.998047\" xlink:href=\"#DejaVuSans-32\"/>\r\n     <use x=\"329.785156\" xlink:href=\"#DejaVuSans-48\"/>\r\n     <use x=\"393.408203\" xlink:href=\"#DejaVuSans-46\"/>\r\n     <use x=\"425.195312\" xlink:href=\"#DejaVuSans-53\"/>\r\n     <use x=\"488.818359\" xlink:href=\"#DejaVuSans-49\"/>\r\n     <use x=\"552.441406\" xlink:href=\"#DejaVuSans-55\"/>\r\n    </g>\r\n    <!-- samples = 22 -->\r\n    <g transform=\"translate(267.159142 203.526069)scale(0.022834 -0.022834)\">\r\n     <use xlink:href=\"#DejaVuSans-115\"/>\r\n     <use x=\"52.099609\" xlink:href=\"#DejaVuSans-97\"/>\r\n     <use x=\"113.378906\" xlink:href=\"#DejaVuSans-109\"/>\r\n     <use x=\"210.791016\" xlink:href=\"#DejaVuSans-112\"/>\r\n     <use x=\"274.267578\" xlink:href=\"#DejaVuSans-108\"/>\r\n     <use x=\"302.050781\" xlink:href=\"#DejaVuSans-101\"/>\r\n     <use x=\"363.574219\" xlink:href=\"#DejaVuSans-115\"/>\r\n     <use x=\"415.673828\" xlink:href=\"#DejaVuSans-32\"/>\r\n     <use x=\"447.460938\" xlink:href=\"#DejaVuSans-61\"/>\r\n     <use x=\"531.25\" xlink:href=\"#DejaVuSans-32\"/>\r\n     <use x=\"563.037109\" xlink:href=\"#DejaVuSans-50\"/>\r\n     <use x=\"626.660156\" xlink:href=\"#DejaVuSans-50\"/>\r\n    </g>\r\n    <!-- value = [8, 13, 1, 0, 0] -->\r\n    <g transform=\"translate(262.087015 206.082951)scale(0.022834 -0.022834)\">\r\n     <use xlink:href=\"#DejaVuSans-118\"/>\r\n     <use x=\"59.179688\" xlink:href=\"#DejaVuSans-97\"/>\r\n     <use x=\"120.458984\" xlink:href=\"#DejaVuSans-108\"/>\r\n     <use x=\"148.242188\" xlink:href=\"#DejaVuSans-117\"/>\r\n     <use x=\"211.621094\" xlink:href=\"#DejaVuSans-101\"/>\r\n     <use x=\"273.144531\" xlink:href=\"#DejaVuSans-32\"/>\r\n     <use x=\"304.931641\" xlink:href=\"#DejaVuSans-61\"/>\r\n     <use x=\"388.720703\" xlink:href=\"#DejaVuSans-32\"/>\r\n     <use x=\"420.507812\" xlink:href=\"#DejaVuSans-91\"/>\r\n     <use x=\"459.521484\" xlink:href=\"#DejaVuSans-56\"/>\r\n     <use x=\"523.144531\" xlink:href=\"#DejaVuSans-44\"/>\r\n     <use x=\"554.931641\" xlink:href=\"#DejaVuSans-32\"/>\r\n     <use x=\"586.71875\" xlink:href=\"#DejaVuSans-49\"/>\r\n     <use x=\"650.341797\" xlink:href=\"#DejaVuSans-51\"/>\r\n     <use x=\"713.964844\" xlink:href=\"#DejaVuSans-44\"/>\r\n     <use x=\"745.751953\" xlink:href=\"#DejaVuSans-32\"/>\r\n     <use x=\"777.539062\" xlink:href=\"#DejaVuSans-49\"/>\r\n     <use x=\"841.162109\" xlink:href=\"#DejaVuSans-44\"/>\r\n     <use x=\"872.949219\" xlink:href=\"#DejaVuSans-32\"/>\r\n     <use x=\"904.736328\" xlink:href=\"#DejaVuSans-48\"/>\r\n     <use x=\"968.359375\" xlink:href=\"#DejaVuSans-44\"/>\r\n     <use x=\"1000.146484\" xlink:href=\"#DejaVuSans-32\"/>\r\n     <use x=\"1031.933594\" xlink:href=\"#DejaVuSans-48\"/>\r\n     <use x=\"1095.556641\" xlink:href=\"#DejaVuSans-93\"/>\r\n    </g>\r\n   </g>\r\n   <g id=\"patch_12\">\r\n    <path d=\"M 305.444555 194.906458 \r\nQ 299.172823 178.613441 292.49945 161.277023 \r\n\" style=\"fill:none;stroke:#000000;stroke-linecap:round;\"/>\r\n    <path d=\"M 305.542636 193.890022 \r\nL 305.444555 194.906458 \r\nL 304.690255 194.218132 \r\n\" style=\"fill:none;stroke:#000000;stroke-linecap:round;\"/>\r\n   </g>\r\n   <g id=\"text_6\">\r\n    <g id=\"patch_13\">\r\n     <path d=\"M 294.653664 207.471172 \r\nL 322.386336 207.471172 \r\nL 322.386336 198.320828 \r\nL 294.653664 198.320828 \r\nz\r\n\" style=\"fill:#8ce852;stroke:#000000;stroke-linejoin:miter;\"/>\r\n    </g>\r\n    <!-- gini = 0.215 -->\r\n    <g transform=\"translate(301.486488 200.969187)scale(0.022834 -0.022834)\">\r\n     <use xlink:href=\"#DejaVuSans-103\"/>\r\n     <use x=\"63.476562\" xlink:href=\"#DejaVuSans-105\"/>\r\n     <use x=\"91.259766\" xlink:href=\"#DejaVuSans-110\"/>\r\n     <use x=\"154.638672\" xlink:href=\"#DejaVuSans-105\"/>\r\n     <use x=\"182.421875\" xlink:href=\"#DejaVuSans-32\"/>\r\n     <use x=\"214.208984\" xlink:href=\"#DejaVuSans-61\"/>\r\n     <use x=\"297.998047\" xlink:href=\"#DejaVuSans-32\"/>\r\n     <use x=\"329.785156\" xlink:href=\"#DejaVuSans-48\"/>\r\n     <use x=\"393.408203\" xlink:href=\"#DejaVuSans-46\"/>\r\n     <use x=\"425.195312\" xlink:href=\"#DejaVuSans-50\"/>\r\n     <use x=\"488.818359\" xlink:href=\"#DejaVuSans-49\"/>\r\n     <use x=\"552.441406\" xlink:href=\"#DejaVuSans-53\"/>\r\n    </g>\r\n    <!-- samples = 17 -->\r\n    <g transform=\"translate(300.639142 203.526069)scale(0.022834 -0.022834)\">\r\n     <use xlink:href=\"#DejaVuSans-115\"/>\r\n     <use x=\"52.099609\" xlink:href=\"#DejaVuSans-97\"/>\r\n     <use x=\"113.378906\" xlink:href=\"#DejaVuSans-109\"/>\r\n     <use x=\"210.791016\" xlink:href=\"#DejaVuSans-112\"/>\r\n     <use x=\"274.267578\" xlink:href=\"#DejaVuSans-108\"/>\r\n     <use x=\"302.050781\" xlink:href=\"#DejaVuSans-101\"/>\r\n     <use x=\"363.574219\" xlink:href=\"#DejaVuSans-115\"/>\r\n     <use x=\"415.673828\" xlink:href=\"#DejaVuSans-32\"/>\r\n     <use x=\"447.460938\" xlink:href=\"#DejaVuSans-61\"/>\r\n     <use x=\"531.25\" xlink:href=\"#DejaVuSans-32\"/>\r\n     <use x=\"563.037109\" xlink:href=\"#DejaVuSans-49\"/>\r\n     <use x=\"626.660156\" xlink:href=\"#DejaVuSans-55\"/>\r\n    </g>\r\n    <!-- value = [1, 15, 1, 0, 0] -->\r\n    <g transform=\"translate(295.567015 206.082951)scale(0.022834 -0.022834)\">\r\n     <use xlink:href=\"#DejaVuSans-118\"/>\r\n     <use x=\"59.179688\" xlink:href=\"#DejaVuSans-97\"/>\r\n     <use x=\"120.458984\" xlink:href=\"#DejaVuSans-108\"/>\r\n     <use x=\"148.242188\" xlink:href=\"#DejaVuSans-117\"/>\r\n     <use x=\"211.621094\" xlink:href=\"#DejaVuSans-101\"/>\r\n     <use x=\"273.144531\" xlink:href=\"#DejaVuSans-32\"/>\r\n     <use x=\"304.931641\" xlink:href=\"#DejaVuSans-61\"/>\r\n     <use x=\"388.720703\" xlink:href=\"#DejaVuSans-32\"/>\r\n     <use x=\"420.507812\" xlink:href=\"#DejaVuSans-91\"/>\r\n     <use x=\"459.521484\" xlink:href=\"#DejaVuSans-49\"/>\r\n     <use x=\"523.144531\" xlink:href=\"#DejaVuSans-44\"/>\r\n     <use x=\"554.931641\" xlink:href=\"#DejaVuSans-32\"/>\r\n     <use x=\"586.71875\" xlink:href=\"#DejaVuSans-49\"/>\r\n     <use x=\"650.341797\" xlink:href=\"#DejaVuSans-53\"/>\r\n     <use x=\"713.964844\" xlink:href=\"#DejaVuSans-44\"/>\r\n     <use x=\"745.751953\" xlink:href=\"#DejaVuSans-32\"/>\r\n     <use x=\"777.539062\" xlink:href=\"#DejaVuSans-49\"/>\r\n     <use x=\"841.162109\" xlink:href=\"#DejaVuSans-44\"/>\r\n     <use x=\"872.949219\" xlink:href=\"#DejaVuSans-32\"/>\r\n     <use x=\"904.736328\" xlink:href=\"#DejaVuSans-48\"/>\r\n     <use x=\"968.359375\" xlink:href=\"#DejaVuSans-44\"/>\r\n     <use x=\"1000.146484\" xlink:href=\"#DejaVuSans-32\"/>\r\n     <use x=\"1031.933594\" xlink:href=\"#DejaVuSans-48\"/>\r\n     <use x=\"1095.556641\" xlink:href=\"#DejaVuSans-93\"/>\r\n    </g>\r\n   </g>\r\n   <g id=\"patch_14\">\r\n    <path d=\"M 27.015445 151.418458 \r\nQ 33.287177 135.125441 39.96055 117.789023 \r\n\" style=\"fill:none;stroke:#000000;stroke-linecap:round;\"/>\r\n    <path d=\"M 27.769745 150.730132 \r\nL 27.015445 151.418458 \r\nL 26.917364 150.402022 \r\n\" style=\"fill:none;stroke:#000000;stroke-linecap:round;\"/>\r\n   </g>\r\n   <g id=\"text_7\">\r\n    <g id=\"patch_15\">\r\n     <path d=\"M 10.073664 163.983172 \r\nL 37.806336 163.983172 \r\nL 37.806336 154.832828 \r\nL 10.073664 154.832828 \r\nz\r\n\" style=\"fill:#e539c0;stroke:#000000;stroke-linejoin:miter;\"/>\r\n    </g>\r\n    <!-- gini = 0.0 -->\r\n    <g transform=\"translate(18.359286 157.481187)scale(0.022834 -0.022834)\">\r\n     <use xlink:href=\"#DejaVuSans-103\"/>\r\n     <use x=\"63.476562\" xlink:href=\"#DejaVuSans-105\"/>\r\n     <use x=\"91.259766\" xlink:href=\"#DejaVuSans-110\"/>\r\n     <use x=\"154.638672\" xlink:href=\"#DejaVuSans-105\"/>\r\n     <use x=\"182.421875\" xlink:href=\"#DejaVuSans-32\"/>\r\n     <use x=\"214.208984\" xlink:href=\"#DejaVuSans-61\"/>\r\n     <use x=\"297.998047\" xlink:href=\"#DejaVuSans-32\"/>\r\n     <use x=\"329.785156\" xlink:href=\"#DejaVuSans-48\"/>\r\n     <use x=\"393.408203\" xlink:href=\"#DejaVuSans-46\"/>\r\n     <use x=\"425.195312\" xlink:href=\"#DejaVuSans-48\"/>\r\n    </g>\r\n    <!-- samples = 41 -->\r\n    <g transform=\"translate(16.059142 160.038069)scale(0.022834 -0.022834)\">\r\n     <use xlink:href=\"#DejaVuSans-115\"/>\r\n     <use x=\"52.099609\" xlink:href=\"#DejaVuSans-97\"/>\r\n     <use x=\"113.378906\" xlink:href=\"#DejaVuSans-109\"/>\r\n     <use x=\"210.791016\" xlink:href=\"#DejaVuSans-112\"/>\r\n     <use x=\"274.267578\" xlink:href=\"#DejaVuSans-108\"/>\r\n     <use x=\"302.050781\" xlink:href=\"#DejaVuSans-101\"/>\r\n     <use x=\"363.574219\" xlink:href=\"#DejaVuSans-115\"/>\r\n     <use x=\"415.673828\" xlink:href=\"#DejaVuSans-32\"/>\r\n     <use x=\"447.460938\" xlink:href=\"#DejaVuSans-61\"/>\r\n     <use x=\"531.25\" xlink:href=\"#DejaVuSans-32\"/>\r\n     <use x=\"563.037109\" xlink:href=\"#DejaVuSans-52\"/>\r\n     <use x=\"626.660156\" xlink:href=\"#DejaVuSans-49\"/>\r\n    </g>\r\n    <!-- value = [0, 0, 0, 0, 41] -->\r\n    <g transform=\"translate(10.987015 162.594951)scale(0.022834 -0.022834)\">\r\n     <use xlink:href=\"#DejaVuSans-118\"/>\r\n     <use x=\"59.179688\" xlink:href=\"#DejaVuSans-97\"/>\r\n     <use x=\"120.458984\" xlink:href=\"#DejaVuSans-108\"/>\r\n     <use x=\"148.242188\" xlink:href=\"#DejaVuSans-117\"/>\r\n     <use x=\"211.621094\" xlink:href=\"#DejaVuSans-101\"/>\r\n     <use x=\"273.144531\" xlink:href=\"#DejaVuSans-32\"/>\r\n     <use x=\"304.931641\" xlink:href=\"#DejaVuSans-61\"/>\r\n     <use x=\"388.720703\" xlink:href=\"#DejaVuSans-32\"/>\r\n     <use x=\"420.507812\" xlink:href=\"#DejaVuSans-91\"/>\r\n     <use x=\"459.521484\" xlink:href=\"#DejaVuSans-48\"/>\r\n     <use x=\"523.144531\" xlink:href=\"#DejaVuSans-44\"/>\r\n     <use x=\"554.931641\" xlink:href=\"#DejaVuSans-32\"/>\r\n     <use x=\"586.71875\" xlink:href=\"#DejaVuSans-48\"/>\r\n     <use x=\"650.341797\" xlink:href=\"#DejaVuSans-44\"/>\r\n     <use x=\"682.128906\" xlink:href=\"#DejaVuSans-32\"/>\r\n     <use x=\"713.916016\" xlink:href=\"#DejaVuSans-48\"/>\r\n     <use x=\"777.539062\" xlink:href=\"#DejaVuSans-44\"/>\r\n     <use x=\"809.326172\" xlink:href=\"#DejaVuSans-32\"/>\r\n     <use x=\"841.113281\" xlink:href=\"#DejaVuSans-48\"/>\r\n     <use x=\"904.736328\" xlink:href=\"#DejaVuSans-44\"/>\r\n     <use x=\"936.523438\" xlink:href=\"#DejaVuSans-32\"/>\r\n     <use x=\"968.310547\" xlink:href=\"#DejaVuSans-52\"/>\r\n     <use x=\"1031.933594\" xlink:href=\"#DejaVuSans-49\"/>\r\n     <use x=\"1095.556641\" xlink:href=\"#DejaVuSans-93\"/>\r\n    </g>\r\n   </g>\r\n   <g id=\"patch_16\">\r\n    <path d=\"M 54.344555 151.418458 \r\nQ 48.072823 135.125441 41.39945 117.789023 \r\n\" style=\"fill:none;stroke:#000000;stroke-linecap:round;\"/>\r\n    <path d=\"M 54.442636 150.402022 \r\nL 54.344555 151.418458 \r\nL 53.590255 150.730132 \r\n\" style=\"fill:none;stroke:#000000;stroke-linecap:round;\"/>\r\n   </g>\r\n   <g id=\"text_8\">\r\n    <g id=\"patch_17\">\r\n     <path d=\"M 43.553664 163.983172 \r\nL 71.286336 163.983172 \r\nL 71.286336 154.832828 \r\nL 43.553664 154.832828 \r\nz\r\n\" style=\"fill:#e957c9;stroke:#000000;stroke-linejoin:miter;\"/>\r\n    </g>\r\n    <!-- gini = 0.227 -->\r\n    <g transform=\"translate(50.386488 157.481187)scale(0.022834 -0.022834)\">\r\n     <use xlink:href=\"#DejaVuSans-103\"/>\r\n     <use x=\"63.476562\" xlink:href=\"#DejaVuSans-105\"/>\r\n     <use x=\"91.259766\" xlink:href=\"#DejaVuSans-110\"/>\r\n     <use x=\"154.638672\" xlink:href=\"#DejaVuSans-105\"/>\r\n     <use x=\"182.421875\" xlink:href=\"#DejaVuSans-32\"/>\r\n     <use x=\"214.208984\" xlink:href=\"#DejaVuSans-61\"/>\r\n     <use x=\"297.998047\" xlink:href=\"#DejaVuSans-32\"/>\r\n     <use x=\"329.785156\" xlink:href=\"#DejaVuSans-48\"/>\r\n     <use x=\"393.408203\" xlink:href=\"#DejaVuSans-46\"/>\r\n     <use x=\"425.195312\" xlink:href=\"#DejaVuSans-50\"/>\r\n     <use x=\"488.818359\" xlink:href=\"#DejaVuSans-50\"/>\r\n     <use x=\"552.441406\" xlink:href=\"#DejaVuSans-55\"/>\r\n    </g>\r\n    <!-- samples = 23 -->\r\n    <g transform=\"translate(49.539142 160.038069)scale(0.022834 -0.022834)\">\r\n     <use xlink:href=\"#DejaVuSans-115\"/>\r\n     <use x=\"52.099609\" xlink:href=\"#DejaVuSans-97\"/>\r\n     <use x=\"113.378906\" xlink:href=\"#DejaVuSans-109\"/>\r\n     <use x=\"210.791016\" xlink:href=\"#DejaVuSans-112\"/>\r\n     <use x=\"274.267578\" xlink:href=\"#DejaVuSans-108\"/>\r\n     <use x=\"302.050781\" xlink:href=\"#DejaVuSans-101\"/>\r\n     <use x=\"363.574219\" xlink:href=\"#DejaVuSans-115\"/>\r\n     <use x=\"415.673828\" xlink:href=\"#DejaVuSans-32\"/>\r\n     <use x=\"447.460938\" xlink:href=\"#DejaVuSans-61\"/>\r\n     <use x=\"531.25\" xlink:href=\"#DejaVuSans-32\"/>\r\n     <use x=\"563.037109\" xlink:href=\"#DejaVuSans-50\"/>\r\n     <use x=\"626.660156\" xlink:href=\"#DejaVuSans-51\"/>\r\n    </g>\r\n    <!-- value = [0, 0, 0, 3, 20] -->\r\n    <g transform=\"translate(44.467015 162.594951)scale(0.022834 -0.022834)\">\r\n     <use xlink:href=\"#DejaVuSans-118\"/>\r\n     <use x=\"59.179688\" xlink:href=\"#DejaVuSans-97\"/>\r\n     <use x=\"120.458984\" xlink:href=\"#DejaVuSans-108\"/>\r\n     <use x=\"148.242188\" xlink:href=\"#DejaVuSans-117\"/>\r\n     <use x=\"211.621094\" xlink:href=\"#DejaVuSans-101\"/>\r\n     <use x=\"273.144531\" xlink:href=\"#DejaVuSans-32\"/>\r\n     <use x=\"304.931641\" xlink:href=\"#DejaVuSans-61\"/>\r\n     <use x=\"388.720703\" xlink:href=\"#DejaVuSans-32\"/>\r\n     <use x=\"420.507812\" xlink:href=\"#DejaVuSans-91\"/>\r\n     <use x=\"459.521484\" xlink:href=\"#DejaVuSans-48\"/>\r\n     <use x=\"523.144531\" xlink:href=\"#DejaVuSans-44\"/>\r\n     <use x=\"554.931641\" xlink:href=\"#DejaVuSans-32\"/>\r\n     <use x=\"586.71875\" xlink:href=\"#DejaVuSans-48\"/>\r\n     <use x=\"650.341797\" xlink:href=\"#DejaVuSans-44\"/>\r\n     <use x=\"682.128906\" xlink:href=\"#DejaVuSans-32\"/>\r\n     <use x=\"713.916016\" xlink:href=\"#DejaVuSans-48\"/>\r\n     <use x=\"777.539062\" xlink:href=\"#DejaVuSans-44\"/>\r\n     <use x=\"809.326172\" xlink:href=\"#DejaVuSans-32\"/>\r\n     <use x=\"841.113281\" xlink:href=\"#DejaVuSans-51\"/>\r\n     <use x=\"904.736328\" xlink:href=\"#DejaVuSans-44\"/>\r\n     <use x=\"936.523438\" xlink:href=\"#DejaVuSans-32\"/>\r\n     <use x=\"968.310547\" xlink:href=\"#DejaVuSans-50\"/>\r\n     <use x=\"1031.933594\" xlink:href=\"#DejaVuSans-48\"/>\r\n     <use x=\"1095.556641\" xlink:href=\"#DejaVuSans-93\"/>\r\n    </g>\r\n   </g>\r\n   <g id=\"patch_18\">\r\n    <path d=\"M 93.975445 151.418458 \r\nQ 100.247177 135.125441 106.92055 117.789023 \r\n\" style=\"fill:none;stroke:#000000;stroke-linecap:round;\"/>\r\n    <path d=\"M 94.729745 150.730132 \r\nL 93.975445 151.418458 \r\nL 93.877364 150.402022 \r\n\" style=\"fill:none;stroke:#000000;stroke-linecap:round;\"/>\r\n   </g>\r\n   <g id=\"text_9\">\r\n    <g id=\"patch_19\">\r\n     <path d=\"M 77.033664 163.983172 \r\nL 104.766336 163.983172 \r\nL 104.766336 154.832828 \r\nL 77.033664 154.832828 \r\nz\r\n\" style=\"fill:#f3a5e2;stroke:#000000;stroke-linejoin:miter;\"/>\r\n    </g>\r\n    <!-- gini = 0.457 -->\r\n    <g transform=\"translate(83.866488 157.481187)scale(0.022834 -0.022834)\">\r\n     <use xlink:href=\"#DejaVuSans-103\"/>\r\n     <use x=\"63.476562\" xlink:href=\"#DejaVuSans-105\"/>\r\n     <use x=\"91.259766\" xlink:href=\"#DejaVuSans-110\"/>\r\n     <use x=\"154.638672\" xlink:href=\"#DejaVuSans-105\"/>\r\n     <use x=\"182.421875\" xlink:href=\"#DejaVuSans-32\"/>\r\n     <use x=\"214.208984\" xlink:href=\"#DejaVuSans-61\"/>\r\n     <use x=\"297.998047\" xlink:href=\"#DejaVuSans-32\"/>\r\n     <use x=\"329.785156\" xlink:href=\"#DejaVuSans-48\"/>\r\n     <use x=\"393.408203\" xlink:href=\"#DejaVuSans-46\"/>\r\n     <use x=\"425.195312\" xlink:href=\"#DejaVuSans-52\"/>\r\n     <use x=\"488.818359\" xlink:href=\"#DejaVuSans-53\"/>\r\n     <use x=\"552.441406\" xlink:href=\"#DejaVuSans-55\"/>\r\n    </g>\r\n    <!-- samples = 17 -->\r\n    <g transform=\"translate(83.019142 160.038069)scale(0.022834 -0.022834)\">\r\n     <use xlink:href=\"#DejaVuSans-115\"/>\r\n     <use x=\"52.099609\" xlink:href=\"#DejaVuSans-97\"/>\r\n     <use x=\"113.378906\" xlink:href=\"#DejaVuSans-109\"/>\r\n     <use x=\"210.791016\" xlink:href=\"#DejaVuSans-112\"/>\r\n     <use x=\"274.267578\" xlink:href=\"#DejaVuSans-108\"/>\r\n     <use x=\"302.050781\" xlink:href=\"#DejaVuSans-101\"/>\r\n     <use x=\"363.574219\" xlink:href=\"#DejaVuSans-115\"/>\r\n     <use x=\"415.673828\" xlink:href=\"#DejaVuSans-32\"/>\r\n     <use x=\"447.460938\" xlink:href=\"#DejaVuSans-61\"/>\r\n     <use x=\"531.25\" xlink:href=\"#DejaVuSans-32\"/>\r\n     <use x=\"563.037109\" xlink:href=\"#DejaVuSans-49\"/>\r\n     <use x=\"626.660156\" xlink:href=\"#DejaVuSans-55\"/>\r\n    </g>\r\n    <!-- value = [0, 0, 0, 6, 11] -->\r\n    <g transform=\"translate(77.947015 162.594951)scale(0.022834 -0.022834)\">\r\n     <use xlink:href=\"#DejaVuSans-118\"/>\r\n     <use x=\"59.179688\" xlink:href=\"#DejaVuSans-97\"/>\r\n     <use x=\"120.458984\" xlink:href=\"#DejaVuSans-108\"/>\r\n     <use x=\"148.242188\" xlink:href=\"#DejaVuSans-117\"/>\r\n     <use x=\"211.621094\" xlink:href=\"#DejaVuSans-101\"/>\r\n     <use x=\"273.144531\" xlink:href=\"#DejaVuSans-32\"/>\r\n     <use x=\"304.931641\" xlink:href=\"#DejaVuSans-61\"/>\r\n     <use x=\"388.720703\" xlink:href=\"#DejaVuSans-32\"/>\r\n     <use x=\"420.507812\" xlink:href=\"#DejaVuSans-91\"/>\r\n     <use x=\"459.521484\" xlink:href=\"#DejaVuSans-48\"/>\r\n     <use x=\"523.144531\" xlink:href=\"#DejaVuSans-44\"/>\r\n     <use x=\"554.931641\" xlink:href=\"#DejaVuSans-32\"/>\r\n     <use x=\"586.71875\" xlink:href=\"#DejaVuSans-48\"/>\r\n     <use x=\"650.341797\" xlink:href=\"#DejaVuSans-44\"/>\r\n     <use x=\"682.128906\" xlink:href=\"#DejaVuSans-32\"/>\r\n     <use x=\"713.916016\" xlink:href=\"#DejaVuSans-48\"/>\r\n     <use x=\"777.539062\" xlink:href=\"#DejaVuSans-44\"/>\r\n     <use x=\"809.326172\" xlink:href=\"#DejaVuSans-32\"/>\r\n     <use x=\"841.113281\" xlink:href=\"#DejaVuSans-54\"/>\r\n     <use x=\"904.736328\" xlink:href=\"#DejaVuSans-44\"/>\r\n     <use x=\"936.523438\" xlink:href=\"#DejaVuSans-32\"/>\r\n     <use x=\"968.310547\" xlink:href=\"#DejaVuSans-49\"/>\r\n     <use x=\"1031.933594\" xlink:href=\"#DejaVuSans-49\"/>\r\n     <use x=\"1095.556641\" xlink:href=\"#DejaVuSans-93\"/>\r\n    </g>\r\n   </g>\r\n   <g id=\"patch_20\">\r\n    <path d=\"M 121.304555 151.418458 \r\nQ 115.032823 135.125441 108.35945 117.789023 \r\n\" style=\"fill:none;stroke:#000000;stroke-linecap:round;\"/>\r\n    <path d=\"M 121.402636 150.402022 \r\nL 121.304555 151.418458 \r\nL 120.550255 150.730132 \r\n\" style=\"fill:none;stroke:#000000;stroke-linecap:round;\"/>\r\n   </g>\r\n   <g id=\"text_10\">\r\n    <g id=\"patch_21\">\r\n     <path d=\"M 110.513664 163.983172 \r\nL 138.246336 163.983172 \r\nL 138.246336 154.832828 \r\nL 110.513664 154.832828 \r\nz\r\n\" style=\"fill:#ec72d2;stroke:#000000;stroke-linejoin:miter;\"/>\r\n    </g>\r\n    <!-- gini = 0.346 -->\r\n    <g transform=\"translate(117.346488 157.481187)scale(0.022834 -0.022834)\">\r\n     <use xlink:href=\"#DejaVuSans-103\"/>\r\n     <use x=\"63.476562\" xlink:href=\"#DejaVuSans-105\"/>\r\n     <use x=\"91.259766\" xlink:href=\"#DejaVuSans-110\"/>\r\n     <use x=\"154.638672\" xlink:href=\"#DejaVuSans-105\"/>\r\n     <use x=\"182.421875\" xlink:href=\"#DejaVuSans-32\"/>\r\n     <use x=\"214.208984\" xlink:href=\"#DejaVuSans-61\"/>\r\n     <use x=\"297.998047\" xlink:href=\"#DejaVuSans-32\"/>\r\n     <use x=\"329.785156\" xlink:href=\"#DejaVuSans-48\"/>\r\n     <use x=\"393.408203\" xlink:href=\"#DejaVuSans-46\"/>\r\n     <use x=\"425.195312\" xlink:href=\"#DejaVuSans-51\"/>\r\n     <use x=\"488.818359\" xlink:href=\"#DejaVuSans-52\"/>\r\n     <use x=\"552.441406\" xlink:href=\"#DejaVuSans-54\"/>\r\n    </g>\r\n    <!-- samples = 18 -->\r\n    <g transform=\"translate(116.499142 160.038069)scale(0.022834 -0.022834)\">\r\n     <use xlink:href=\"#DejaVuSans-115\"/>\r\n     <use x=\"52.099609\" xlink:href=\"#DejaVuSans-97\"/>\r\n     <use x=\"113.378906\" xlink:href=\"#DejaVuSans-109\"/>\r\n     <use x=\"210.791016\" xlink:href=\"#DejaVuSans-112\"/>\r\n     <use x=\"274.267578\" xlink:href=\"#DejaVuSans-108\"/>\r\n     <use x=\"302.050781\" xlink:href=\"#DejaVuSans-101\"/>\r\n     <use x=\"363.574219\" xlink:href=\"#DejaVuSans-115\"/>\r\n     <use x=\"415.673828\" xlink:href=\"#DejaVuSans-32\"/>\r\n     <use x=\"447.460938\" xlink:href=\"#DejaVuSans-61\"/>\r\n     <use x=\"531.25\" xlink:href=\"#DejaVuSans-32\"/>\r\n     <use x=\"563.037109\" xlink:href=\"#DejaVuSans-49\"/>\r\n     <use x=\"626.660156\" xlink:href=\"#DejaVuSans-56\"/>\r\n    </g>\r\n    <!-- value = [0, 0, 0, 4, 14] -->\r\n    <g transform=\"translate(111.427015 162.594951)scale(0.022834 -0.022834)\">\r\n     <use xlink:href=\"#DejaVuSans-118\"/>\r\n     <use x=\"59.179688\" xlink:href=\"#DejaVuSans-97\"/>\r\n     <use x=\"120.458984\" xlink:href=\"#DejaVuSans-108\"/>\r\n     <use x=\"148.242188\" xlink:href=\"#DejaVuSans-117\"/>\r\n     <use x=\"211.621094\" xlink:href=\"#DejaVuSans-101\"/>\r\n     <use x=\"273.144531\" xlink:href=\"#DejaVuSans-32\"/>\r\n     <use x=\"304.931641\" xlink:href=\"#DejaVuSans-61\"/>\r\n     <use x=\"388.720703\" xlink:href=\"#DejaVuSans-32\"/>\r\n     <use x=\"420.507812\" xlink:href=\"#DejaVuSans-91\"/>\r\n     <use x=\"459.521484\" xlink:href=\"#DejaVuSans-48\"/>\r\n     <use x=\"523.144531\" xlink:href=\"#DejaVuSans-44\"/>\r\n     <use x=\"554.931641\" xlink:href=\"#DejaVuSans-32\"/>\r\n     <use x=\"586.71875\" xlink:href=\"#DejaVuSans-48\"/>\r\n     <use x=\"650.341797\" xlink:href=\"#DejaVuSans-44\"/>\r\n     <use x=\"682.128906\" xlink:href=\"#DejaVuSans-32\"/>\r\n     <use x=\"713.916016\" xlink:href=\"#DejaVuSans-48\"/>\r\n     <use x=\"777.539062\" xlink:href=\"#DejaVuSans-44\"/>\r\n     <use x=\"809.326172\" xlink:href=\"#DejaVuSans-32\"/>\r\n     <use x=\"841.113281\" xlink:href=\"#DejaVuSans-52\"/>\r\n     <use x=\"904.736328\" xlink:href=\"#DejaVuSans-44\"/>\r\n     <use x=\"936.523438\" xlink:href=\"#DejaVuSans-32\"/>\r\n     <use x=\"968.310547\" xlink:href=\"#DejaVuSans-49\"/>\r\n     <use x=\"1031.933594\" xlink:href=\"#DejaVuSans-52\"/>\r\n     <use x=\"1095.556641\" xlink:href=\"#DejaVuSans-93\"/>\r\n    </g>\r\n   </g>\r\n   <g id=\"patch_22\">\r\n    <path d=\"M 164.651776 150.585994 \r\nQ 177.044287 134.489055 190.11883 117.506209 \r\n\" style=\"fill:none;stroke:#000000;stroke-linecap:round;\"/>\r\n    <path d=\"M 165.570806 150.140858 \r\nL 164.651776 150.585994 \r\nL 164.847085 149.583689 \r\n\" style=\"fill:none;stroke:#000000;stroke-linecap:round;\"/>\r\n   </g>\r\n   <g id=\"text_11\">\r\n    <g id=\"patch_23\">\r\n     <path d=\"M 143.993664 165.261613 \r\nL 171.726336 165.261613 \r\nL 171.726336 153.554387 \r\nL 143.993664 153.554387 \r\nz\r\n\" style=\"fill:#7a78ed;stroke:#000000;stroke-linejoin:miter;\"/>\r\n    </g>\r\n    <!-- X[13] &lt;= 10.5 -->\r\n    <defs>\r\n     <path d=\"M 6.296875 72.90625 \r\nL 16.890625 72.90625 \r\nL 35.015625 45.796875 \r\nL 53.21875 72.90625 \r\nL 63.8125 72.90625 \r\nL 40.375 37.890625 \r\nL 65.375 0 \r\nL 54.78125 0 \r\nL 34.28125 31 \r\nL 13.625 0 \r\nL 2.984375 0 \r\nL 29 38.921875 \r\nz\r\n\" id=\"DejaVuSans-88\"/>\r\n     <path d=\"M 73.1875 49.21875 \r\nL 22.796875 31.296875 \r\nL 73.1875 13.484375 \r\nL 73.1875 4.59375 \r\nL 10.59375 27.296875 \r\nL 10.59375 35.40625 \r\nL 73.1875 58.109375 \r\nz\r\n\" id=\"DejaVuSans-60\"/>\r\n    </defs>\r\n    <g transform=\"translate(149.55315 156.202747)scale(0.022834 -0.022834)\">\r\n     <use xlink:href=\"#DejaVuSans-88\"/>\r\n     <use x=\"68.505859\" xlink:href=\"#DejaVuSans-91\"/>\r\n     <use x=\"107.519531\" xlink:href=\"#DejaVuSans-49\"/>\r\n     <use x=\"171.142578\" xlink:href=\"#DejaVuSans-51\"/>\r\n     <use x=\"234.765625\" xlink:href=\"#DejaVuSans-93\"/>\r\n     <use x=\"273.779297\" xlink:href=\"#DejaVuSans-32\"/>\r\n     <use x=\"305.566406\" xlink:href=\"#DejaVuSans-60\"/>\r\n     <use x=\"389.355469\" xlink:href=\"#DejaVuSans-61\"/>\r\n     <use x=\"473.144531\" xlink:href=\"#DejaVuSans-32\"/>\r\n     <use x=\"504.931641\" xlink:href=\"#DejaVuSans-49\"/>\r\n     <use x=\"568.554688\" xlink:href=\"#DejaVuSans-48\"/>\r\n     <use x=\"632.177734\" xlink:href=\"#DejaVuSans-46\"/>\r\n     <use x=\"663.964844\" xlink:href=\"#DejaVuSans-53\"/>\r\n    </g>\r\n    <!-- gini = 0.423 -->\r\n    <g transform=\"translate(150.826488 158.759628)scale(0.022834 -0.022834)\">\r\n     <use xlink:href=\"#DejaVuSans-103\"/>\r\n     <use x=\"63.476562\" xlink:href=\"#DejaVuSans-105\"/>\r\n     <use x=\"91.259766\" xlink:href=\"#DejaVuSans-110\"/>\r\n     <use x=\"154.638672\" xlink:href=\"#DejaVuSans-105\"/>\r\n     <use x=\"182.421875\" xlink:href=\"#DejaVuSans-32\"/>\r\n     <use x=\"214.208984\" xlink:href=\"#DejaVuSans-61\"/>\r\n     <use x=\"297.998047\" xlink:href=\"#DejaVuSans-32\"/>\r\n     <use x=\"329.785156\" xlink:href=\"#DejaVuSans-48\"/>\r\n     <use x=\"393.408203\" xlink:href=\"#DejaVuSans-46\"/>\r\n     <use x=\"425.195312\" xlink:href=\"#DejaVuSans-52\"/>\r\n     <use x=\"488.818359\" xlink:href=\"#DejaVuSans-50\"/>\r\n     <use x=\"552.441406\" xlink:href=\"#DejaVuSans-51\"/>\r\n    </g>\r\n    <!-- samples = 49 -->\r\n    <g transform=\"translate(149.979142 161.31651)scale(0.022834 -0.022834)\">\r\n     <use xlink:href=\"#DejaVuSans-115\"/>\r\n     <use x=\"52.099609\" xlink:href=\"#DejaVuSans-97\"/>\r\n     <use x=\"113.378906\" xlink:href=\"#DejaVuSans-109\"/>\r\n     <use x=\"210.791016\" xlink:href=\"#DejaVuSans-112\"/>\r\n     <use x=\"274.267578\" xlink:href=\"#DejaVuSans-108\"/>\r\n     <use x=\"302.050781\" xlink:href=\"#DejaVuSans-101\"/>\r\n     <use x=\"363.574219\" xlink:href=\"#DejaVuSans-115\"/>\r\n     <use x=\"415.673828\" xlink:href=\"#DejaVuSans-32\"/>\r\n     <use x=\"447.460938\" xlink:href=\"#DejaVuSans-61\"/>\r\n     <use x=\"531.25\" xlink:href=\"#DejaVuSans-32\"/>\r\n     <use x=\"563.037109\" xlink:href=\"#DejaVuSans-52\"/>\r\n     <use x=\"626.660156\" xlink:href=\"#DejaVuSans-57\"/>\r\n    </g>\r\n    <!-- value = [0, 0, 5, 36, 8] -->\r\n    <g transform=\"translate(144.907015 163.873391)scale(0.022834 -0.022834)\">\r\n     <use xlink:href=\"#DejaVuSans-118\"/>\r\n     <use x=\"59.179688\" xlink:href=\"#DejaVuSans-97\"/>\r\n     <use x=\"120.458984\" xlink:href=\"#DejaVuSans-108\"/>\r\n     <use x=\"148.242188\" xlink:href=\"#DejaVuSans-117\"/>\r\n     <use x=\"211.621094\" xlink:href=\"#DejaVuSans-101\"/>\r\n     <use x=\"273.144531\" xlink:href=\"#DejaVuSans-32\"/>\r\n     <use x=\"304.931641\" xlink:href=\"#DejaVuSans-61\"/>\r\n     <use x=\"388.720703\" xlink:href=\"#DejaVuSans-32\"/>\r\n     <use x=\"420.507812\" xlink:href=\"#DejaVuSans-91\"/>\r\n     <use x=\"459.521484\" xlink:href=\"#DejaVuSans-48\"/>\r\n     <use x=\"523.144531\" xlink:href=\"#DejaVuSans-44\"/>\r\n     <use x=\"554.931641\" xlink:href=\"#DejaVuSans-32\"/>\r\n     <use x=\"586.71875\" xlink:href=\"#DejaVuSans-48\"/>\r\n     <use x=\"650.341797\" xlink:href=\"#DejaVuSans-44\"/>\r\n     <use x=\"682.128906\" xlink:href=\"#DejaVuSans-32\"/>\r\n     <use x=\"713.916016\" xlink:href=\"#DejaVuSans-53\"/>\r\n     <use x=\"777.539062\" xlink:href=\"#DejaVuSans-44\"/>\r\n     <use x=\"809.326172\" xlink:href=\"#DejaVuSans-32\"/>\r\n     <use x=\"841.113281\" xlink:href=\"#DejaVuSans-51\"/>\r\n     <use x=\"904.736328\" xlink:href=\"#DejaVuSans-54\"/>\r\n     <use x=\"968.359375\" xlink:href=\"#DejaVuSans-44\"/>\r\n     <use x=\"1000.146484\" xlink:href=\"#DejaVuSans-32\"/>\r\n     <use x=\"1031.933594\" xlink:href=\"#DejaVuSans-56\"/>\r\n     <use x=\"1095.556641\" xlink:href=\"#DejaVuSans-93\"/>\r\n    </g>\r\n   </g>\r\n   <g id=\"patch_24\">\r\n    <path d=\"M 218.028224 150.585994 \r\nQ 205.635713 134.489055 192.56117 117.506209 \r\n\" style=\"fill:none;stroke:#000000;stroke-linecap:round;\"/>\r\n    <path d=\"M 217.832915 149.583689 \r\nL 218.028224 150.585994 \r\nL 217.109194 150.140858 \r\n\" style=\"fill:none;stroke:#000000;stroke-linecap:round;\"/>\r\n   </g>\r\n   <g id=\"text_12\">\r\n    <g id=\"patch_25\">\r\n     <path d=\"M 210.227265 165.261613 \r\nL 239.412735 165.261613 \r\nL 239.412735 153.554387 \r\nL 210.227265 153.554387 \r\nz\r\n\" style=\"fill:#8df0de;stroke:#000000;stroke-linejoin:miter;\"/>\r\n    </g>\r\n    <!-- X[9] &lt;= 1.5 -->\r\n    <g transform=\"translate(217.965948 156.202747)scale(0.022834 -0.022834)\">\r\n     <use xlink:href=\"#DejaVuSans-88\"/>\r\n     <use x=\"68.505859\" xlink:href=\"#DejaVuSans-91\"/>\r\n     <use x=\"107.519531\" xlink:href=\"#DejaVuSans-57\"/>\r\n     <use x=\"171.142578\" xlink:href=\"#DejaVuSans-93\"/>\r\n     <use x=\"210.15625\" xlink:href=\"#DejaVuSans-32\"/>\r\n     <use x=\"241.943359\" xlink:href=\"#DejaVuSans-60\"/>\r\n     <use x=\"325.732422\" xlink:href=\"#DejaVuSans-61\"/>\r\n     <use x=\"409.521484\" xlink:href=\"#DejaVuSans-32\"/>\r\n     <use x=\"441.308594\" xlink:href=\"#DejaVuSans-49\"/>\r\n     <use x=\"504.931641\" xlink:href=\"#DejaVuSans-46\"/>\r\n     <use x=\"536.71875\" xlink:href=\"#DejaVuSans-53\"/>\r\n    </g>\r\n    <!-- gini = 0.505 -->\r\n    <g transform=\"translate(217.786488 158.759628)scale(0.022834 -0.022834)\">\r\n     <use xlink:href=\"#DejaVuSans-103\"/>\r\n     <use x=\"63.476562\" xlink:href=\"#DejaVuSans-105\"/>\r\n     <use x=\"91.259766\" xlink:href=\"#DejaVuSans-110\"/>\r\n     <use x=\"154.638672\" xlink:href=\"#DejaVuSans-105\"/>\r\n     <use x=\"182.421875\" xlink:href=\"#DejaVuSans-32\"/>\r\n     <use x=\"214.208984\" xlink:href=\"#DejaVuSans-61\"/>\r\n     <use x=\"297.998047\" xlink:href=\"#DejaVuSans-32\"/>\r\n     <use x=\"329.785156\" xlink:href=\"#DejaVuSans-48\"/>\r\n     <use x=\"393.408203\" xlink:href=\"#DejaVuSans-46\"/>\r\n     <use x=\"425.195312\" xlink:href=\"#DejaVuSans-53\"/>\r\n     <use x=\"488.818359\" xlink:href=\"#DejaVuSans-48\"/>\r\n     <use x=\"552.441406\" xlink:href=\"#DejaVuSans-53\"/>\r\n    </g>\r\n    <!-- samples = 50 -->\r\n    <g transform=\"translate(216.939142 161.31651)scale(0.022834 -0.022834)\">\r\n     <use xlink:href=\"#DejaVuSans-115\"/>\r\n     <use x=\"52.099609\" xlink:href=\"#DejaVuSans-97\"/>\r\n     <use x=\"113.378906\" xlink:href=\"#DejaVuSans-109\"/>\r\n     <use x=\"210.791016\" xlink:href=\"#DejaVuSans-112\"/>\r\n     <use x=\"274.267578\" xlink:href=\"#DejaVuSans-108\"/>\r\n     <use x=\"302.050781\" xlink:href=\"#DejaVuSans-101\"/>\r\n     <use x=\"363.574219\" xlink:href=\"#DejaVuSans-115\"/>\r\n     <use x=\"415.673828\" xlink:href=\"#DejaVuSans-32\"/>\r\n     <use x=\"447.460938\" xlink:href=\"#DejaVuSans-61\"/>\r\n     <use x=\"531.25\" xlink:href=\"#DejaVuSans-32\"/>\r\n     <use x=\"563.037109\" xlink:href=\"#DejaVuSans-53\"/>\r\n     <use x=\"626.660156\" xlink:href=\"#DejaVuSans-48\"/>\r\n    </g>\r\n    <!-- value = [0, 7, 33, 10, 0] -->\r\n    <g transform=\"translate(211.140616 163.873391)scale(0.022834 -0.022834)\">\r\n     <use xlink:href=\"#DejaVuSans-118\"/>\r\n     <use x=\"59.179688\" xlink:href=\"#DejaVuSans-97\"/>\r\n     <use x=\"120.458984\" xlink:href=\"#DejaVuSans-108\"/>\r\n     <use x=\"148.242188\" xlink:href=\"#DejaVuSans-117\"/>\r\n     <use x=\"211.621094\" xlink:href=\"#DejaVuSans-101\"/>\r\n     <use x=\"273.144531\" xlink:href=\"#DejaVuSans-32\"/>\r\n     <use x=\"304.931641\" xlink:href=\"#DejaVuSans-61\"/>\r\n     <use x=\"388.720703\" xlink:href=\"#DejaVuSans-32\"/>\r\n     <use x=\"420.507812\" xlink:href=\"#DejaVuSans-91\"/>\r\n     <use x=\"459.521484\" xlink:href=\"#DejaVuSans-48\"/>\r\n     <use x=\"523.144531\" xlink:href=\"#DejaVuSans-44\"/>\r\n     <use x=\"554.931641\" xlink:href=\"#DejaVuSans-32\"/>\r\n     <use x=\"586.71875\" xlink:href=\"#DejaVuSans-55\"/>\r\n     <use x=\"650.341797\" xlink:href=\"#DejaVuSans-44\"/>\r\n     <use x=\"682.128906\" xlink:href=\"#DejaVuSans-32\"/>\r\n     <use x=\"713.916016\" xlink:href=\"#DejaVuSans-51\"/>\r\n     <use x=\"777.539062\" xlink:href=\"#DejaVuSans-51\"/>\r\n     <use x=\"841.162109\" xlink:href=\"#DejaVuSans-44\"/>\r\n     <use x=\"872.949219\" xlink:href=\"#DejaVuSans-32\"/>\r\n     <use x=\"904.736328\" xlink:href=\"#DejaVuSans-49\"/>\r\n     <use x=\"968.359375\" xlink:href=\"#DejaVuSans-48\"/>\r\n     <use x=\"1031.982422\" xlink:href=\"#DejaVuSans-44\"/>\r\n     <use x=\"1063.769531\" xlink:href=\"#DejaVuSans-32\"/>\r\n     <use x=\"1095.556641\" xlink:href=\"#DejaVuSans-48\"/>\r\n     <use x=\"1159.179688\" xlink:href=\"#DejaVuSans-93\"/>\r\n    </g>\r\n   </g>\r\n   <g id=\"patch_26\">\r\n    <path d=\"M 295.34383 150.149707 \r\nQ 301.372257 134.488759 307.802325 117.784411 \r\n\" style=\"fill:none;stroke:#000000;stroke-linecap:round;\"/>\r\n    <path d=\"M 296.09813 149.461381 \r\nL 295.34383 150.149707 \r\nL 295.245749 149.133271 \r\n\" style=\"fill:none;stroke:#000000;stroke-linecap:round;\"/>\r\n   </g>\r\n   <g id=\"text_13\">\r\n    <g id=\"patch_27\">\r\n     <path d=\"M 277.913664 165.261613 \r\nL 305.646336 165.261613 \r\nL 305.646336 153.554387 \r\nL 277.913664 153.554387 \r\nz\r\n\" style=\"fill:#abef82;stroke:#000000;stroke-linejoin:miter;\"/>\r\n    </g>\r\n    <!-- X[32] &lt;= 0.5 -->\r\n    <g transform=\"translate(284.199549 156.202747)scale(0.022834 -0.022834)\">\r\n     <use xlink:href=\"#DejaVuSans-88\"/>\r\n     <use x=\"68.505859\" xlink:href=\"#DejaVuSans-91\"/>\r\n     <use x=\"107.519531\" xlink:href=\"#DejaVuSans-51\"/>\r\n     <use x=\"171.142578\" xlink:href=\"#DejaVuSans-50\"/>\r\n     <use x=\"234.765625\" xlink:href=\"#DejaVuSans-93\"/>\r\n     <use x=\"273.779297\" xlink:href=\"#DejaVuSans-32\"/>\r\n     <use x=\"305.566406\" xlink:href=\"#DejaVuSans-60\"/>\r\n     <use x=\"389.355469\" xlink:href=\"#DejaVuSans-61\"/>\r\n     <use x=\"473.144531\" xlink:href=\"#DejaVuSans-32\"/>\r\n     <use x=\"504.931641\" xlink:href=\"#DejaVuSans-48\"/>\r\n     <use x=\"568.554688\" xlink:href=\"#DejaVuSans-46\"/>\r\n     <use x=\"600.341797\" xlink:href=\"#DejaVuSans-53\"/>\r\n    </g>\r\n    <!-- gini = 0.429 -->\r\n    <g transform=\"translate(284.746488 158.759628)scale(0.022834 -0.022834)\">\r\n     <use xlink:href=\"#DejaVuSans-103\"/>\r\n     <use x=\"63.476562\" xlink:href=\"#DejaVuSans-105\"/>\r\n     <use x=\"91.259766\" xlink:href=\"#DejaVuSans-110\"/>\r\n     <use x=\"154.638672\" xlink:href=\"#DejaVuSans-105\"/>\r\n     <use x=\"182.421875\" xlink:href=\"#DejaVuSans-32\"/>\r\n     <use x=\"214.208984\" xlink:href=\"#DejaVuSans-61\"/>\r\n     <use x=\"297.998047\" xlink:href=\"#DejaVuSans-32\"/>\r\n     <use x=\"329.785156\" xlink:href=\"#DejaVuSans-48\"/>\r\n     <use x=\"393.408203\" xlink:href=\"#DejaVuSans-46\"/>\r\n     <use x=\"425.195312\" xlink:href=\"#DejaVuSans-52\"/>\r\n     <use x=\"488.818359\" xlink:href=\"#DejaVuSans-50\"/>\r\n     <use x=\"552.441406\" xlink:href=\"#DejaVuSans-57\"/>\r\n    </g>\r\n    <!-- samples = 39 -->\r\n    <g transform=\"translate(283.899142 161.31651)scale(0.022834 -0.022834)\">\r\n     <use xlink:href=\"#DejaVuSans-115\"/>\r\n     <use x=\"52.099609\" xlink:href=\"#DejaVuSans-97\"/>\r\n     <use x=\"113.378906\" xlink:href=\"#DejaVuSans-109\"/>\r\n     <use x=\"210.791016\" xlink:href=\"#DejaVuSans-112\"/>\r\n     <use x=\"274.267578\" xlink:href=\"#DejaVuSans-108\"/>\r\n     <use x=\"302.050781\" xlink:href=\"#DejaVuSans-101\"/>\r\n     <use x=\"363.574219\" xlink:href=\"#DejaVuSans-115\"/>\r\n     <use x=\"415.673828\" xlink:href=\"#DejaVuSans-32\"/>\r\n     <use x=\"447.460938\" xlink:href=\"#DejaVuSans-61\"/>\r\n     <use x=\"531.25\" xlink:href=\"#DejaVuSans-32\"/>\r\n     <use x=\"563.037109\" xlink:href=\"#DejaVuSans-51\"/>\r\n     <use x=\"626.660156\" xlink:href=\"#DejaVuSans-57\"/>\r\n    </g>\r\n    <!-- value = [9, 28, 2, 0, 0] -->\r\n    <g transform=\"translate(278.827015 163.873391)scale(0.022834 -0.022834)\">\r\n     <use xlink:href=\"#DejaVuSans-118\"/>\r\n     <use x=\"59.179688\" xlink:href=\"#DejaVuSans-97\"/>\r\n     <use x=\"120.458984\" xlink:href=\"#DejaVuSans-108\"/>\r\n     <use x=\"148.242188\" xlink:href=\"#DejaVuSans-117\"/>\r\n     <use x=\"211.621094\" xlink:href=\"#DejaVuSans-101\"/>\r\n     <use x=\"273.144531\" xlink:href=\"#DejaVuSans-32\"/>\r\n     <use x=\"304.931641\" xlink:href=\"#DejaVuSans-61\"/>\r\n     <use x=\"388.720703\" xlink:href=\"#DejaVuSans-32\"/>\r\n     <use x=\"420.507812\" xlink:href=\"#DejaVuSans-91\"/>\r\n     <use x=\"459.521484\" xlink:href=\"#DejaVuSans-57\"/>\r\n     <use x=\"523.144531\" xlink:href=\"#DejaVuSans-44\"/>\r\n     <use x=\"554.931641\" xlink:href=\"#DejaVuSans-32\"/>\r\n     <use x=\"586.71875\" xlink:href=\"#DejaVuSans-50\"/>\r\n     <use x=\"650.341797\" xlink:href=\"#DejaVuSans-56\"/>\r\n     <use x=\"713.964844\" xlink:href=\"#DejaVuSans-44\"/>\r\n     <use x=\"745.751953\" xlink:href=\"#DejaVuSans-32\"/>\r\n     <use x=\"777.539062\" xlink:href=\"#DejaVuSans-50\"/>\r\n     <use x=\"841.162109\" xlink:href=\"#DejaVuSans-44\"/>\r\n     <use x=\"872.949219\" xlink:href=\"#DejaVuSans-32\"/>\r\n     <use x=\"904.736328\" xlink:href=\"#DejaVuSans-48\"/>\r\n     <use x=\"968.359375\" xlink:href=\"#DejaVuSans-44\"/>\r\n     <use x=\"1000.146484\" xlink:href=\"#DejaVuSans-32\"/>\r\n     <use x=\"1031.933594\" xlink:href=\"#DejaVuSans-48\"/>\r\n     <use x=\"1095.556641\" xlink:href=\"#DejaVuSans-93\"/>\r\n    </g>\r\n   </g>\r\n   <g id=\"patch_28\">\r\n    <path d=\"M 322.184555 151.418458 \r\nQ 315.912823 135.125441 309.23945 117.789023 \r\n\" style=\"fill:none;stroke:#000000;stroke-linecap:round;\"/>\r\n    <path d=\"M 322.282636 150.402022 \r\nL 322.184555 151.418458 \r\nL 321.430255 150.730132 \r\n\" style=\"fill:none;stroke:#000000;stroke-linecap:round;\"/>\r\n   </g>\r\n   <g id=\"text_14\">\r\n    <g id=\"patch_29\">\r\n     <path d=\"M 311.393664 163.983172 \r\nL 339.126336 163.983172 \r\nL 339.126336 154.832828 \r\nL 311.393664 154.832828 \r\nz\r\n\" style=\"fill:#e89152;stroke:#000000;stroke-linejoin:miter;\"/>\r\n    </g>\r\n    <!-- gini = 0.198 -->\r\n    <g transform=\"translate(318.226488 157.481187)scale(0.022834 -0.022834)\">\r\n     <use xlink:href=\"#DejaVuSans-103\"/>\r\n     <use x=\"63.476562\" xlink:href=\"#DejaVuSans-105\"/>\r\n     <use x=\"91.259766\" xlink:href=\"#DejaVuSans-110\"/>\r\n     <use x=\"154.638672\" xlink:href=\"#DejaVuSans-105\"/>\r\n     <use x=\"182.421875\" xlink:href=\"#DejaVuSans-32\"/>\r\n     <use x=\"214.208984\" xlink:href=\"#DejaVuSans-61\"/>\r\n     <use x=\"297.998047\" xlink:href=\"#DejaVuSans-32\"/>\r\n     <use x=\"329.785156\" xlink:href=\"#DejaVuSans-48\"/>\r\n     <use x=\"393.408203\" xlink:href=\"#DejaVuSans-46\"/>\r\n     <use x=\"425.195312\" xlink:href=\"#DejaVuSans-49\"/>\r\n     <use x=\"488.818359\" xlink:href=\"#DejaVuSans-57\"/>\r\n     <use x=\"552.441406\" xlink:href=\"#DejaVuSans-56\"/>\r\n    </g>\r\n    <!-- samples = 27 -->\r\n    <g transform=\"translate(317.379142 160.038069)scale(0.022834 -0.022834)\">\r\n     <use xlink:href=\"#DejaVuSans-115\"/>\r\n     <use x=\"52.099609\" xlink:href=\"#DejaVuSans-97\"/>\r\n     <use x=\"113.378906\" xlink:href=\"#DejaVuSans-109\"/>\r\n     <use x=\"210.791016\" xlink:href=\"#DejaVuSans-112\"/>\r\n     <use x=\"274.267578\" xlink:href=\"#DejaVuSans-108\"/>\r\n     <use x=\"302.050781\" xlink:href=\"#DejaVuSans-101\"/>\r\n     <use x=\"363.574219\" xlink:href=\"#DejaVuSans-115\"/>\r\n     <use x=\"415.673828\" xlink:href=\"#DejaVuSans-32\"/>\r\n     <use x=\"447.460938\" xlink:href=\"#DejaVuSans-61\"/>\r\n     <use x=\"531.25\" xlink:href=\"#DejaVuSans-32\"/>\r\n     <use x=\"563.037109\" xlink:href=\"#DejaVuSans-50\"/>\r\n     <use x=\"626.660156\" xlink:href=\"#DejaVuSans-55\"/>\r\n    </g>\r\n    <!-- value = [24, 3, 0, 0, 0] -->\r\n    <g transform=\"translate(312.307015 162.594951)scale(0.022834 -0.022834)\">\r\n     <use xlink:href=\"#DejaVuSans-118\"/>\r\n     <use x=\"59.179688\" xlink:href=\"#DejaVuSans-97\"/>\r\n     <use x=\"120.458984\" xlink:href=\"#DejaVuSans-108\"/>\r\n     <use x=\"148.242188\" xlink:href=\"#DejaVuSans-117\"/>\r\n     <use x=\"211.621094\" xlink:href=\"#DejaVuSans-101\"/>\r\n     <use x=\"273.144531\" xlink:href=\"#DejaVuSans-32\"/>\r\n     <use x=\"304.931641\" xlink:href=\"#DejaVuSans-61\"/>\r\n     <use x=\"388.720703\" xlink:href=\"#DejaVuSans-32\"/>\r\n     <use x=\"420.507812\" xlink:href=\"#DejaVuSans-91\"/>\r\n     <use x=\"459.521484\" xlink:href=\"#DejaVuSans-50\"/>\r\n     <use x=\"523.144531\" xlink:href=\"#DejaVuSans-52\"/>\r\n     <use x=\"586.767578\" xlink:href=\"#DejaVuSans-44\"/>\r\n     <use x=\"618.554688\" xlink:href=\"#DejaVuSans-32\"/>\r\n     <use x=\"650.341797\" xlink:href=\"#DejaVuSans-51\"/>\r\n     <use x=\"713.964844\" xlink:href=\"#DejaVuSans-44\"/>\r\n     <use x=\"745.751953\" xlink:href=\"#DejaVuSans-32\"/>\r\n     <use x=\"777.539062\" xlink:href=\"#DejaVuSans-48\"/>\r\n     <use x=\"841.162109\" xlink:href=\"#DejaVuSans-44\"/>\r\n     <use x=\"872.949219\" xlink:href=\"#DejaVuSans-32\"/>\r\n     <use x=\"904.736328\" xlink:href=\"#DejaVuSans-48\"/>\r\n     <use x=\"968.359375\" xlink:href=\"#DejaVuSans-44\"/>\r\n     <use x=\"1000.146484\" xlink:href=\"#DejaVuSans-32\"/>\r\n     <use x=\"1031.933594\" xlink:href=\"#DejaVuSans-48\"/>\r\n     <use x=\"1095.556641\" xlink:href=\"#DejaVuSans-93\"/>\r\n    </g>\r\n   </g>\r\n   <g id=\"patch_30\">\r\n    <path d=\"M 47.471776 107.097994 \r\nQ 59.864287 91.001055 72.93883 74.018209 \r\n\" style=\"fill:none;stroke:#000000;stroke-linecap:round;\"/>\r\n    <path d=\"M 48.390806 106.652858 \r\nL 47.471776 107.097994 \r\nL 47.667085 106.095689 \r\n\" style=\"fill:none;stroke:#000000;stroke-linecap:round;\"/>\r\n   </g>\r\n   <g id=\"text_15\">\r\n    <g id=\"patch_31\">\r\n     <path d=\"M 26.813664 121.773613 \r\nL 54.546336 121.773613 \r\nL 54.546336 110.066387 \r\nL 26.813664 110.066387 \r\nz\r\n\" style=\"fill:#e643c3;stroke:#000000;stroke-linejoin:miter;\"/>\r\n    </g>\r\n    <!-- X[14] &lt;= 7.5 -->\r\n    <g transform=\"translate(33.099549 112.714747)scale(0.022834 -0.022834)\">\r\n     <use xlink:href=\"#DejaVuSans-88\"/>\r\n     <use x=\"68.505859\" xlink:href=\"#DejaVuSans-91\"/>\r\n     <use x=\"107.519531\" xlink:href=\"#DejaVuSans-49\"/>\r\n     <use x=\"171.142578\" xlink:href=\"#DejaVuSans-52\"/>\r\n     <use x=\"234.765625\" xlink:href=\"#DejaVuSans-93\"/>\r\n     <use x=\"273.779297\" xlink:href=\"#DejaVuSans-32\"/>\r\n     <use x=\"305.566406\" xlink:href=\"#DejaVuSans-60\"/>\r\n     <use x=\"389.355469\" xlink:href=\"#DejaVuSans-61\"/>\r\n     <use x=\"473.144531\" xlink:href=\"#DejaVuSans-32\"/>\r\n     <use x=\"504.931641\" xlink:href=\"#DejaVuSans-55\"/>\r\n     <use x=\"568.554688\" xlink:href=\"#DejaVuSans-46\"/>\r\n     <use x=\"600.341797\" xlink:href=\"#DejaVuSans-53\"/>\r\n    </g>\r\n    <!-- gini = 0.089 -->\r\n    <g transform=\"translate(33.646488 115.271628)scale(0.022834 -0.022834)\">\r\n     <use xlink:href=\"#DejaVuSans-103\"/>\r\n     <use x=\"63.476562\" xlink:href=\"#DejaVuSans-105\"/>\r\n     <use x=\"91.259766\" xlink:href=\"#DejaVuSans-110\"/>\r\n     <use x=\"154.638672\" xlink:href=\"#DejaVuSans-105\"/>\r\n     <use x=\"182.421875\" xlink:href=\"#DejaVuSans-32\"/>\r\n     <use x=\"214.208984\" xlink:href=\"#DejaVuSans-61\"/>\r\n     <use x=\"297.998047\" xlink:href=\"#DejaVuSans-32\"/>\r\n     <use x=\"329.785156\" xlink:href=\"#DejaVuSans-48\"/>\r\n     <use x=\"393.408203\" xlink:href=\"#DejaVuSans-46\"/>\r\n     <use x=\"425.195312\" xlink:href=\"#DejaVuSans-48\"/>\r\n     <use x=\"488.818359\" xlink:href=\"#DejaVuSans-56\"/>\r\n     <use x=\"552.441406\" xlink:href=\"#DejaVuSans-57\"/>\r\n    </g>\r\n    <!-- samples = 64 -->\r\n    <g transform=\"translate(32.799142 117.82851)scale(0.022834 -0.022834)\">\r\n     <use xlink:href=\"#DejaVuSans-115\"/>\r\n     <use x=\"52.099609\" xlink:href=\"#DejaVuSans-97\"/>\r\n     <use x=\"113.378906\" xlink:href=\"#DejaVuSans-109\"/>\r\n     <use x=\"210.791016\" xlink:href=\"#DejaVuSans-112\"/>\r\n     <use x=\"274.267578\" xlink:href=\"#DejaVuSans-108\"/>\r\n     <use x=\"302.050781\" xlink:href=\"#DejaVuSans-101\"/>\r\n     <use x=\"363.574219\" xlink:href=\"#DejaVuSans-115\"/>\r\n     <use x=\"415.673828\" xlink:href=\"#DejaVuSans-32\"/>\r\n     <use x=\"447.460938\" xlink:href=\"#DejaVuSans-61\"/>\r\n     <use x=\"531.25\" xlink:href=\"#DejaVuSans-32\"/>\r\n     <use x=\"563.037109\" xlink:href=\"#DejaVuSans-54\"/>\r\n     <use x=\"626.660156\" xlink:href=\"#DejaVuSans-52\"/>\r\n    </g>\r\n    <!-- value = [0, 0, 0, 3, 61] -->\r\n    <g transform=\"translate(27.727015 120.385391)scale(0.022834 -0.022834)\">\r\n     <use xlink:href=\"#DejaVuSans-118\"/>\r\n     <use x=\"59.179688\" xlink:href=\"#DejaVuSans-97\"/>\r\n     <use x=\"120.458984\" xlink:href=\"#DejaVuSans-108\"/>\r\n     <use x=\"148.242188\" xlink:href=\"#DejaVuSans-117\"/>\r\n     <use x=\"211.621094\" xlink:href=\"#DejaVuSans-101\"/>\r\n     <use x=\"273.144531\" xlink:href=\"#DejaVuSans-32\"/>\r\n     <use x=\"304.931641\" xlink:href=\"#DejaVuSans-61\"/>\r\n     <use x=\"388.720703\" xlink:href=\"#DejaVuSans-32\"/>\r\n     <use x=\"420.507812\" xlink:href=\"#DejaVuSans-91\"/>\r\n     <use x=\"459.521484\" xlink:href=\"#DejaVuSans-48\"/>\r\n     <use x=\"523.144531\" xlink:href=\"#DejaVuSans-44\"/>\r\n     <use x=\"554.931641\" xlink:href=\"#DejaVuSans-32\"/>\r\n     <use x=\"586.71875\" xlink:href=\"#DejaVuSans-48\"/>\r\n     <use x=\"650.341797\" xlink:href=\"#DejaVuSans-44\"/>\r\n     <use x=\"682.128906\" xlink:href=\"#DejaVuSans-32\"/>\r\n     <use x=\"713.916016\" xlink:href=\"#DejaVuSans-48\"/>\r\n     <use x=\"777.539062\" xlink:href=\"#DejaVuSans-44\"/>\r\n     <use x=\"809.326172\" xlink:href=\"#DejaVuSans-32\"/>\r\n     <use x=\"841.113281\" xlink:href=\"#DejaVuSans-51\"/>\r\n     <use x=\"904.736328\" xlink:href=\"#DejaVuSans-44\"/>\r\n     <use x=\"936.523438\" xlink:href=\"#DejaVuSans-32\"/>\r\n     <use x=\"968.310547\" xlink:href=\"#DejaVuSans-54\"/>\r\n     <use x=\"1031.933594\" xlink:href=\"#DejaVuSans-49\"/>\r\n     <use x=\"1095.556641\" xlink:href=\"#DejaVuSans-93\"/>\r\n    </g>\r\n   </g>\r\n   <g id=\"patch_32\">\r\n    <path d=\"M 100.848224 107.097994 \r\nQ 88.455713 91.001055 75.38117 74.018209 \r\n\" style=\"fill:none;stroke:#000000;stroke-linecap:round;\"/>\r\n    <path d=\"M 100.652915 106.095689 \r\nL 100.848224 107.097994 \r\nL 99.929194 106.652858 \r\n\" style=\"fill:none;stroke:#000000;stroke-linecap:round;\"/>\r\n   </g>\r\n   <g id=\"text_16\">\r\n    <g id=\"patch_33\">\r\n     <path d=\"M 93.047265 121.773613 \r\nL 122.232735 121.773613 \r\nL 122.232735 110.066387 \r\nL 93.047265 110.066387 \r\nz\r\n\" style=\"fill:#ef88d9;stroke:#000000;stroke-linejoin:miter;\"/>\r\n    </g>\r\n    <!-- X[8] &lt;= 3.5 -->\r\n    <g transform=\"translate(100.785948 112.714747)scale(0.022834 -0.022834)\">\r\n     <use xlink:href=\"#DejaVuSans-88\"/>\r\n     <use x=\"68.505859\" xlink:href=\"#DejaVuSans-91\"/>\r\n     <use x=\"107.519531\" xlink:href=\"#DejaVuSans-56\"/>\r\n     <use x=\"171.142578\" xlink:href=\"#DejaVuSans-93\"/>\r\n     <use x=\"210.15625\" xlink:href=\"#DejaVuSans-32\"/>\r\n     <use x=\"241.943359\" xlink:href=\"#DejaVuSans-60\"/>\r\n     <use x=\"325.732422\" xlink:href=\"#DejaVuSans-61\"/>\r\n     <use x=\"409.521484\" xlink:href=\"#DejaVuSans-32\"/>\r\n     <use x=\"441.308594\" xlink:href=\"#DejaVuSans-51\"/>\r\n     <use x=\"504.931641\" xlink:href=\"#DejaVuSans-46\"/>\r\n     <use x=\"536.71875\" xlink:href=\"#DejaVuSans-53\"/>\r\n    </g>\r\n    <!-- gini = 0.408 -->\r\n    <g transform=\"translate(100.606488 115.271628)scale(0.022834 -0.022834)\">\r\n     <use xlink:href=\"#DejaVuSans-103\"/>\r\n     <use x=\"63.476562\" xlink:href=\"#DejaVuSans-105\"/>\r\n     <use x=\"91.259766\" xlink:href=\"#DejaVuSans-110\"/>\r\n     <use x=\"154.638672\" xlink:href=\"#DejaVuSans-105\"/>\r\n     <use x=\"182.421875\" xlink:href=\"#DejaVuSans-32\"/>\r\n     <use x=\"214.208984\" xlink:href=\"#DejaVuSans-61\"/>\r\n     <use x=\"297.998047\" xlink:href=\"#DejaVuSans-32\"/>\r\n     <use x=\"329.785156\" xlink:href=\"#DejaVuSans-48\"/>\r\n     <use x=\"393.408203\" xlink:href=\"#DejaVuSans-46\"/>\r\n     <use x=\"425.195312\" xlink:href=\"#DejaVuSans-52\"/>\r\n     <use x=\"488.818359\" xlink:href=\"#DejaVuSans-48\"/>\r\n     <use x=\"552.441406\" xlink:href=\"#DejaVuSans-56\"/>\r\n    </g>\r\n    <!-- samples = 35 -->\r\n    <g transform=\"translate(99.759142 117.82851)scale(0.022834 -0.022834)\">\r\n     <use xlink:href=\"#DejaVuSans-115\"/>\r\n     <use x=\"52.099609\" xlink:href=\"#DejaVuSans-97\"/>\r\n     <use x=\"113.378906\" xlink:href=\"#DejaVuSans-109\"/>\r\n     <use x=\"210.791016\" xlink:href=\"#DejaVuSans-112\"/>\r\n     <use x=\"274.267578\" xlink:href=\"#DejaVuSans-108\"/>\r\n     <use x=\"302.050781\" xlink:href=\"#DejaVuSans-101\"/>\r\n     <use x=\"363.574219\" xlink:href=\"#DejaVuSans-115\"/>\r\n     <use x=\"415.673828\" xlink:href=\"#DejaVuSans-32\"/>\r\n     <use x=\"447.460938\" xlink:href=\"#DejaVuSans-61\"/>\r\n     <use x=\"531.25\" xlink:href=\"#DejaVuSans-32\"/>\r\n     <use x=\"563.037109\" xlink:href=\"#DejaVuSans-51\"/>\r\n     <use x=\"626.660156\" xlink:href=\"#DejaVuSans-53\"/>\r\n    </g>\r\n    <!-- value = [0, 0, 0, 10, 25] -->\r\n    <g transform=\"translate(93.960616 120.385391)scale(0.022834 -0.022834)\">\r\n     <use xlink:href=\"#DejaVuSans-118\"/>\r\n     <use x=\"59.179688\" xlink:href=\"#DejaVuSans-97\"/>\r\n     <use x=\"120.458984\" xlink:href=\"#DejaVuSans-108\"/>\r\n     <use x=\"148.242188\" xlink:href=\"#DejaVuSans-117\"/>\r\n     <use x=\"211.621094\" xlink:href=\"#DejaVuSans-101\"/>\r\n     <use x=\"273.144531\" xlink:href=\"#DejaVuSans-32\"/>\r\n     <use x=\"304.931641\" xlink:href=\"#DejaVuSans-61\"/>\r\n     <use x=\"388.720703\" xlink:href=\"#DejaVuSans-32\"/>\r\n     <use x=\"420.507812\" xlink:href=\"#DejaVuSans-91\"/>\r\n     <use x=\"459.521484\" xlink:href=\"#DejaVuSans-48\"/>\r\n     <use x=\"523.144531\" xlink:href=\"#DejaVuSans-44\"/>\r\n     <use x=\"554.931641\" xlink:href=\"#DejaVuSans-32\"/>\r\n     <use x=\"586.71875\" xlink:href=\"#DejaVuSans-48\"/>\r\n     <use x=\"650.341797\" xlink:href=\"#DejaVuSans-44\"/>\r\n     <use x=\"682.128906\" xlink:href=\"#DejaVuSans-32\"/>\r\n     <use x=\"713.916016\" xlink:href=\"#DejaVuSans-48\"/>\r\n     <use x=\"777.539062\" xlink:href=\"#DejaVuSans-44\"/>\r\n     <use x=\"809.326172\" xlink:href=\"#DejaVuSans-32\"/>\r\n     <use x=\"841.113281\" xlink:href=\"#DejaVuSans-49\"/>\r\n     <use x=\"904.736328\" xlink:href=\"#DejaVuSans-48\"/>\r\n     <use x=\"968.359375\" xlink:href=\"#DejaVuSans-44\"/>\r\n     <use x=\"1000.146484\" xlink:href=\"#DejaVuSans-32\"/>\r\n     <use x=\"1031.933594\" xlink:href=\"#DejaVuSans-50\"/>\r\n     <use x=\"1095.556641\" xlink:href=\"#DejaVuSans-53\"/>\r\n     <use x=\"1159.179688\" xlink:href=\"#DejaVuSans-93\"/>\r\n    </g>\r\n   </g>\r\n   <g id=\"patch_34\">\r\n    <path d=\"M 202.398461 107.711938 \r\nQ 224.912827 91.000814 248.324952 73.623335 \r\n\" style=\"fill:none;stroke:#000000;stroke-linecap:round;\"/>\r\n    <path d=\"M 203.404044 107.534277 \r\nL 202.398461 107.711938 \r\nL 202.859682 106.800875 \r\n\" style=\"fill:none;stroke:#000000;stroke-linecap:round;\"/>\r\n   </g>\r\n   <g id=\"text_17\">\r\n    <g id=\"patch_35\">\r\n     <path d=\"M 176.747265 121.773613 \r\nL 205.932735 121.773613 \r\nL 205.932735 110.066387 \r\nL 176.747265 110.066387 \r\nz\r\n\" style=\"fill:#e5e5fc;stroke:#000000;stroke-linejoin:miter;\"/>\r\n    </g>\r\n    <!-- X[14] &lt;= 11.5 -->\r\n    <g transform=\"translate(183.03315 112.714747)scale(0.022834 -0.022834)\">\r\n     <use xlink:href=\"#DejaVuSans-88\"/>\r\n     <use x=\"68.505859\" xlink:href=\"#DejaVuSans-91\"/>\r\n     <use x=\"107.519531\" xlink:href=\"#DejaVuSans-49\"/>\r\n     <use x=\"171.142578\" xlink:href=\"#DejaVuSans-52\"/>\r\n     <use x=\"234.765625\" xlink:href=\"#DejaVuSans-93\"/>\r\n     <use x=\"273.779297\" xlink:href=\"#DejaVuSans-32\"/>\r\n     <use x=\"305.566406\" xlink:href=\"#DejaVuSans-60\"/>\r\n     <use x=\"389.355469\" xlink:href=\"#DejaVuSans-61\"/>\r\n     <use x=\"473.144531\" xlink:href=\"#DejaVuSans-32\"/>\r\n     <use x=\"504.931641\" xlink:href=\"#DejaVuSans-49\"/>\r\n     <use x=\"568.554688\" xlink:href=\"#DejaVuSans-49\"/>\r\n     <use x=\"632.177734\" xlink:href=\"#DejaVuSans-46\"/>\r\n     <use x=\"663.964844\" xlink:href=\"#DejaVuSans-53\"/>\r\n    </g>\r\n    <!-- gini = 0.625 -->\r\n    <g transform=\"translate(184.306488 115.271628)scale(0.022834 -0.022834)\">\r\n     <use xlink:href=\"#DejaVuSans-103\"/>\r\n     <use x=\"63.476562\" xlink:href=\"#DejaVuSans-105\"/>\r\n     <use x=\"91.259766\" xlink:href=\"#DejaVuSans-110\"/>\r\n     <use x=\"154.638672\" xlink:href=\"#DejaVuSans-105\"/>\r\n     <use x=\"182.421875\" xlink:href=\"#DejaVuSans-32\"/>\r\n     <use x=\"214.208984\" xlink:href=\"#DejaVuSans-61\"/>\r\n     <use x=\"297.998047\" xlink:href=\"#DejaVuSans-32\"/>\r\n     <use x=\"329.785156\" xlink:href=\"#DejaVuSans-48\"/>\r\n     <use x=\"393.408203\" xlink:href=\"#DejaVuSans-46\"/>\r\n     <use x=\"425.195312\" xlink:href=\"#DejaVuSans-54\"/>\r\n     <use x=\"488.818359\" xlink:href=\"#DejaVuSans-50\"/>\r\n     <use x=\"552.441406\" xlink:href=\"#DejaVuSans-53\"/>\r\n    </g>\r\n    <!-- samples = 99 -->\r\n    <g transform=\"translate(183.459142 117.82851)scale(0.022834 -0.022834)\">\r\n     <use xlink:href=\"#DejaVuSans-115\"/>\r\n     <use x=\"52.099609\" xlink:href=\"#DejaVuSans-97\"/>\r\n     <use x=\"113.378906\" xlink:href=\"#DejaVuSans-109\"/>\r\n     <use x=\"210.791016\" xlink:href=\"#DejaVuSans-112\"/>\r\n     <use x=\"274.267578\" xlink:href=\"#DejaVuSans-108\"/>\r\n     <use x=\"302.050781\" xlink:href=\"#DejaVuSans-101\"/>\r\n     <use x=\"363.574219\" xlink:href=\"#DejaVuSans-115\"/>\r\n     <use x=\"415.673828\" xlink:href=\"#DejaVuSans-32\"/>\r\n     <use x=\"447.460938\" xlink:href=\"#DejaVuSans-61\"/>\r\n     <use x=\"531.25\" xlink:href=\"#DejaVuSans-32\"/>\r\n     <use x=\"563.037109\" xlink:href=\"#DejaVuSans-57\"/>\r\n     <use x=\"626.660156\" xlink:href=\"#DejaVuSans-57\"/>\r\n    </g>\r\n    <!-- value = [0, 7, 38, 46, 8] -->\r\n    <g transform=\"translate(177.660616 120.385391)scale(0.022834 -0.022834)\">\r\n     <use xlink:href=\"#DejaVuSans-118\"/>\r\n     <use x=\"59.179688\" xlink:href=\"#DejaVuSans-97\"/>\r\n     <use x=\"120.458984\" xlink:href=\"#DejaVuSans-108\"/>\r\n     <use x=\"148.242188\" xlink:href=\"#DejaVuSans-117\"/>\r\n     <use x=\"211.621094\" xlink:href=\"#DejaVuSans-101\"/>\r\n     <use x=\"273.144531\" xlink:href=\"#DejaVuSans-32\"/>\r\n     <use x=\"304.931641\" xlink:href=\"#DejaVuSans-61\"/>\r\n     <use x=\"388.720703\" xlink:href=\"#DejaVuSans-32\"/>\r\n     <use x=\"420.507812\" xlink:href=\"#DejaVuSans-91\"/>\r\n     <use x=\"459.521484\" xlink:href=\"#DejaVuSans-48\"/>\r\n     <use x=\"523.144531\" xlink:href=\"#DejaVuSans-44\"/>\r\n     <use x=\"554.931641\" xlink:href=\"#DejaVuSans-32\"/>\r\n     <use x=\"586.71875\" xlink:href=\"#DejaVuSans-55\"/>\r\n     <use x=\"650.341797\" xlink:href=\"#DejaVuSans-44\"/>\r\n     <use x=\"682.128906\" xlink:href=\"#DejaVuSans-32\"/>\r\n     <use x=\"713.916016\" xlink:href=\"#DejaVuSans-51\"/>\r\n     <use x=\"777.539062\" xlink:href=\"#DejaVuSans-56\"/>\r\n     <use x=\"841.162109\" xlink:href=\"#DejaVuSans-44\"/>\r\n     <use x=\"872.949219\" xlink:href=\"#DejaVuSans-32\"/>\r\n     <use x=\"904.736328\" xlink:href=\"#DejaVuSans-52\"/>\r\n     <use x=\"968.359375\" xlink:href=\"#DejaVuSans-54\"/>\r\n     <use x=\"1031.982422\" xlink:href=\"#DejaVuSans-44\"/>\r\n     <use x=\"1063.769531\" xlink:href=\"#DejaVuSans-32\"/>\r\n     <use x=\"1095.556641\" xlink:href=\"#DejaVuSans-56\"/>\r\n     <use x=\"1159.179688\" xlink:href=\"#DejaVuSans-93\"/>\r\n    </g>\r\n   </g>\r\n   <g id=\"patch_36\">\r\n    <path d=\"M 297.461539 107.711938 \r\nQ 274.947173 91.000814 251.535048 73.623335 \r\n\" style=\"fill:none;stroke:#000000;stroke-linecap:round;\"/>\r\n    <path d=\"M 297.000318 106.800875 \r\nL 297.461539 107.711938 \r\nL 296.455956 107.534277 \r\n\" style=\"fill:none;stroke:#000000;stroke-linecap:round;\"/>\r\n   </g>\r\n   <g id=\"text_18\">\r\n    <g id=\"patch_37\">\r\n     <path d=\"M 293.927265 121.773613 \r\nL 323.112735 121.773613 \r\nL 323.112735 110.066387 \r\nL 293.927265 110.066387 \r\nz\r\n\" style=\"fill:#fef8f4;stroke:#000000;stroke-linejoin:miter;\"/>\r\n    </g>\r\n    <!-- X[14] &lt;= 15.5 -->\r\n    <g transform=\"translate(300.21315 112.714747)scale(0.022834 -0.022834)\">\r\n     <use xlink:href=\"#DejaVuSans-88\"/>\r\n     <use x=\"68.505859\" xlink:href=\"#DejaVuSans-91\"/>\r\n     <use x=\"107.519531\" xlink:href=\"#DejaVuSans-49\"/>\r\n     <use x=\"171.142578\" xlink:href=\"#DejaVuSans-52\"/>\r\n     <use x=\"234.765625\" xlink:href=\"#DejaVuSans-93\"/>\r\n     <use x=\"273.779297\" xlink:href=\"#DejaVuSans-32\"/>\r\n     <use x=\"305.566406\" xlink:href=\"#DejaVuSans-60\"/>\r\n     <use x=\"389.355469\" xlink:href=\"#DejaVuSans-61\"/>\r\n     <use x=\"473.144531\" xlink:href=\"#DejaVuSans-32\"/>\r\n     <use x=\"504.931641\" xlink:href=\"#DejaVuSans-49\"/>\r\n     <use x=\"568.554688\" xlink:href=\"#DejaVuSans-53\"/>\r\n     <use x=\"632.177734\" xlink:href=\"#DejaVuSans-46\"/>\r\n     <use x=\"663.964844\" xlink:href=\"#DejaVuSans-53\"/>\r\n    </g>\r\n    <!-- gini = 0.528 -->\r\n    <g transform=\"translate(301.486488 115.271628)scale(0.022834 -0.022834)\">\r\n     <use xlink:href=\"#DejaVuSans-103\"/>\r\n     <use x=\"63.476562\" xlink:href=\"#DejaVuSans-105\"/>\r\n     <use x=\"91.259766\" xlink:href=\"#DejaVuSans-110\"/>\r\n     <use x=\"154.638672\" xlink:href=\"#DejaVuSans-105\"/>\r\n     <use x=\"182.421875\" xlink:href=\"#DejaVuSans-32\"/>\r\n     <use x=\"214.208984\" xlink:href=\"#DejaVuSans-61\"/>\r\n     <use x=\"297.998047\" xlink:href=\"#DejaVuSans-32\"/>\r\n     <use x=\"329.785156\" xlink:href=\"#DejaVuSans-48\"/>\r\n     <use x=\"393.408203\" xlink:href=\"#DejaVuSans-46\"/>\r\n     <use x=\"425.195312\" xlink:href=\"#DejaVuSans-53\"/>\r\n     <use x=\"488.818359\" xlink:href=\"#DejaVuSans-50\"/>\r\n     <use x=\"552.441406\" xlink:href=\"#DejaVuSans-56\"/>\r\n    </g>\r\n    <!-- samples = 66 -->\r\n    <g transform=\"translate(300.639142 117.82851)scale(0.022834 -0.022834)\">\r\n     <use xlink:href=\"#DejaVuSans-115\"/>\r\n     <use x=\"52.099609\" xlink:href=\"#DejaVuSans-97\"/>\r\n     <use x=\"113.378906\" xlink:href=\"#DejaVuSans-109\"/>\r\n     <use x=\"210.791016\" xlink:href=\"#DejaVuSans-112\"/>\r\n     <use x=\"274.267578\" xlink:href=\"#DejaVuSans-108\"/>\r\n     <use x=\"302.050781\" xlink:href=\"#DejaVuSans-101\"/>\r\n     <use x=\"363.574219\" xlink:href=\"#DejaVuSans-115\"/>\r\n     <use x=\"415.673828\" xlink:href=\"#DejaVuSans-32\"/>\r\n     <use x=\"447.460938\" xlink:href=\"#DejaVuSans-61\"/>\r\n     <use x=\"531.25\" xlink:href=\"#DejaVuSans-32\"/>\r\n     <use x=\"563.037109\" xlink:href=\"#DejaVuSans-54\"/>\r\n     <use x=\"626.660156\" xlink:href=\"#DejaVuSans-54\"/>\r\n    </g>\r\n    <!-- value = [33, 31, 2, 0, 0] -->\r\n    <g transform=\"translate(294.840616 120.385391)scale(0.022834 -0.022834)\">\r\n     <use xlink:href=\"#DejaVuSans-118\"/>\r\n     <use x=\"59.179688\" xlink:href=\"#DejaVuSans-97\"/>\r\n     <use x=\"120.458984\" xlink:href=\"#DejaVuSans-108\"/>\r\n     <use x=\"148.242188\" xlink:href=\"#DejaVuSans-117\"/>\r\n     <use x=\"211.621094\" xlink:href=\"#DejaVuSans-101\"/>\r\n     <use x=\"273.144531\" xlink:href=\"#DejaVuSans-32\"/>\r\n     <use x=\"304.931641\" xlink:href=\"#DejaVuSans-61\"/>\r\n     <use x=\"388.720703\" xlink:href=\"#DejaVuSans-32\"/>\r\n     <use x=\"420.507812\" xlink:href=\"#DejaVuSans-91\"/>\r\n     <use x=\"459.521484\" xlink:href=\"#DejaVuSans-51\"/>\r\n     <use x=\"523.144531\" xlink:href=\"#DejaVuSans-51\"/>\r\n     <use x=\"586.767578\" xlink:href=\"#DejaVuSans-44\"/>\r\n     <use x=\"618.554688\" xlink:href=\"#DejaVuSans-32\"/>\r\n     <use x=\"650.341797\" xlink:href=\"#DejaVuSans-51\"/>\r\n     <use x=\"713.964844\" xlink:href=\"#DejaVuSans-49\"/>\r\n     <use x=\"777.587891\" xlink:href=\"#DejaVuSans-44\"/>\r\n     <use x=\"809.375\" xlink:href=\"#DejaVuSans-32\"/>\r\n     <use x=\"841.162109\" xlink:href=\"#DejaVuSans-50\"/>\r\n     <use x=\"904.785156\" xlink:href=\"#DejaVuSans-44\"/>\r\n     <use x=\"936.572266\" xlink:href=\"#DejaVuSans-32\"/>\r\n     <use x=\"968.359375\" xlink:href=\"#DejaVuSans-48\"/>\r\n     <use x=\"1031.982422\" xlink:href=\"#DejaVuSans-44\"/>\r\n     <use x=\"1063.769531\" xlink:href=\"#DejaVuSans-32\"/>\r\n     <use x=\"1095.556641\" xlink:href=\"#DejaVuSans-48\"/>\r\n     <use x=\"1159.179688\" xlink:href=\"#DejaVuSans-93\"/>\r\n    </g>\r\n   </g>\r\n   <g id=\"patch_38\">\r\n    <path d=\"M 89.794223 64.695741 \r\nQ 124.522144 47.511377 160.25213 29.831163 \r\n\" style=\"fill:none;stroke:#000000;stroke-linecap:round;\"/>\r\n    <path d=\"M 90.815371 64.699975 \r\nL 89.794223 64.695741 \r\nL 90.410299 63.881363 \r\n\" style=\"fill:none;stroke:#000000;stroke-linecap:round;\"/>\r\n   </g>\r\n   <g id=\"text_19\">\r\n    <g id=\"patch_39\">\r\n     <path d=\"M 59.567265 78.285613 \r\nL 88.752735 78.285613 \r\nL 88.752735 66.578387 \r\nL 59.567265 66.578387 \r\nz\r\n\" style=\"fill:#e957ca;stroke:#000000;stroke-linejoin:miter;\"/>\r\n    </g>\r\n    <!-- X[14] &lt;= 8.5 -->\r\n    <g transform=\"translate(66.579549 69.226747)scale(0.022834 -0.022834)\">\r\n     <use xlink:href=\"#DejaVuSans-88\"/>\r\n     <use x=\"68.505859\" xlink:href=\"#DejaVuSans-91\"/>\r\n     <use x=\"107.519531\" xlink:href=\"#DejaVuSans-49\"/>\r\n     <use x=\"171.142578\" xlink:href=\"#DejaVuSans-52\"/>\r\n     <use x=\"234.765625\" xlink:href=\"#DejaVuSans-93\"/>\r\n     <use x=\"273.779297\" xlink:href=\"#DejaVuSans-32\"/>\r\n     <use x=\"305.566406\" xlink:href=\"#DejaVuSans-60\"/>\r\n     <use x=\"389.355469\" xlink:href=\"#DejaVuSans-61\"/>\r\n     <use x=\"473.144531\" xlink:href=\"#DejaVuSans-32\"/>\r\n     <use x=\"504.931641\" xlink:href=\"#DejaVuSans-56\"/>\r\n     <use x=\"568.554688\" xlink:href=\"#DejaVuSans-46\"/>\r\n     <use x=\"600.341797\" xlink:href=\"#DejaVuSans-53\"/>\r\n    </g>\r\n    <!-- gini = 0.228 -->\r\n    <g transform=\"translate(67.126488 71.783628)scale(0.022834 -0.022834)\">\r\n     <use xlink:href=\"#DejaVuSans-103\"/>\r\n     <use x=\"63.476562\" xlink:href=\"#DejaVuSans-105\"/>\r\n     <use x=\"91.259766\" xlink:href=\"#DejaVuSans-110\"/>\r\n     <use x=\"154.638672\" xlink:href=\"#DejaVuSans-105\"/>\r\n     <use x=\"182.421875\" xlink:href=\"#DejaVuSans-32\"/>\r\n     <use x=\"214.208984\" xlink:href=\"#DejaVuSans-61\"/>\r\n     <use x=\"297.998047\" xlink:href=\"#DejaVuSans-32\"/>\r\n     <use x=\"329.785156\" xlink:href=\"#DejaVuSans-48\"/>\r\n     <use x=\"393.408203\" xlink:href=\"#DejaVuSans-46\"/>\r\n     <use x=\"425.195312\" xlink:href=\"#DejaVuSans-50\"/>\r\n     <use x=\"488.818359\" xlink:href=\"#DejaVuSans-50\"/>\r\n     <use x=\"552.441406\" xlink:href=\"#DejaVuSans-56\"/>\r\n    </g>\r\n    <!-- samples = 99 -->\r\n    <g transform=\"translate(66.279142 74.34051)scale(0.022834 -0.022834)\">\r\n     <use xlink:href=\"#DejaVuSans-115\"/>\r\n     <use x=\"52.099609\" xlink:href=\"#DejaVuSans-97\"/>\r\n     <use x=\"113.378906\" xlink:href=\"#DejaVuSans-109\"/>\r\n     <use x=\"210.791016\" xlink:href=\"#DejaVuSans-112\"/>\r\n     <use x=\"274.267578\" xlink:href=\"#DejaVuSans-108\"/>\r\n     <use x=\"302.050781\" xlink:href=\"#DejaVuSans-101\"/>\r\n     <use x=\"363.574219\" xlink:href=\"#DejaVuSans-115\"/>\r\n     <use x=\"415.673828\" xlink:href=\"#DejaVuSans-32\"/>\r\n     <use x=\"447.460938\" xlink:href=\"#DejaVuSans-61\"/>\r\n     <use x=\"531.25\" xlink:href=\"#DejaVuSans-32\"/>\r\n     <use x=\"563.037109\" xlink:href=\"#DejaVuSans-57\"/>\r\n     <use x=\"626.660156\" xlink:href=\"#DejaVuSans-57\"/>\r\n    </g>\r\n    <!-- value = [0, 0, 0, 13, 86] -->\r\n    <g transform=\"translate(60.480616 76.897391)scale(0.022834 -0.022834)\">\r\n     <use xlink:href=\"#DejaVuSans-118\"/>\r\n     <use x=\"59.179688\" xlink:href=\"#DejaVuSans-97\"/>\r\n     <use x=\"120.458984\" xlink:href=\"#DejaVuSans-108\"/>\r\n     <use x=\"148.242188\" xlink:href=\"#DejaVuSans-117\"/>\r\n     <use x=\"211.621094\" xlink:href=\"#DejaVuSans-101\"/>\r\n     <use x=\"273.144531\" xlink:href=\"#DejaVuSans-32\"/>\r\n     <use x=\"304.931641\" xlink:href=\"#DejaVuSans-61\"/>\r\n     <use x=\"388.720703\" xlink:href=\"#DejaVuSans-32\"/>\r\n     <use x=\"420.507812\" xlink:href=\"#DejaVuSans-91\"/>\r\n     <use x=\"459.521484\" xlink:href=\"#DejaVuSans-48\"/>\r\n     <use x=\"523.144531\" xlink:href=\"#DejaVuSans-44\"/>\r\n     <use x=\"554.931641\" xlink:href=\"#DejaVuSans-32\"/>\r\n     <use x=\"586.71875\" xlink:href=\"#DejaVuSans-48\"/>\r\n     <use x=\"650.341797\" xlink:href=\"#DejaVuSans-44\"/>\r\n     <use x=\"682.128906\" xlink:href=\"#DejaVuSans-32\"/>\r\n     <use x=\"713.916016\" xlink:href=\"#DejaVuSans-48\"/>\r\n     <use x=\"777.539062\" xlink:href=\"#DejaVuSans-44\"/>\r\n     <use x=\"809.326172\" xlink:href=\"#DejaVuSans-32\"/>\r\n     <use x=\"841.113281\" xlink:href=\"#DejaVuSans-49\"/>\r\n     <use x=\"904.736328\" xlink:href=\"#DejaVuSans-51\"/>\r\n     <use x=\"968.359375\" xlink:href=\"#DejaVuSans-44\"/>\r\n     <use x=\"1000.146484\" xlink:href=\"#DejaVuSans-32\"/>\r\n     <use x=\"1031.933594\" xlink:href=\"#DejaVuSans-56\"/>\r\n     <use x=\"1095.556641\" xlink:href=\"#DejaVuSans-54\"/>\r\n     <use x=\"1159.179688\" xlink:href=\"#DejaVuSans-93\"/>\r\n    </g>\r\n   </g>\r\n   <g id=\"patch_40\">\r\n    <path d=\"M 234.295777 64.695741 \r\nQ 199.567856 47.511377 163.83787 29.831163 \r\n\" style=\"fill:none;stroke:#000000;stroke-linecap:round;\"/>\r\n    <path d=\"M 233.679701 63.881363 \r\nL 234.295777 64.695741 \r\nL 233.274629 64.699975 \r\n\" style=\"fill:none;stroke:#000000;stroke-linecap:round;\"/>\r\n   </g>\r\n   <g id=\"text_20\">\r\n    <g id=\"patch_41\">\r\n     <path d=\"M 233.884467 78.285613 \r\nL 265.975533 78.285613 \r\nL 265.975533 66.578387 \r\nL 233.884467 66.578387 \r\nz\r\n\" style=\"fill:#f6f5fe;stroke:#000000;stroke-linejoin:miter;\"/>\r\n    </g>\r\n    <!-- X[14] &lt;= 13.5 -->\r\n    <g transform=\"translate(241.62315 69.226747)scale(0.022834 -0.022834)\">\r\n     <use xlink:href=\"#DejaVuSans-88\"/>\r\n     <use x=\"68.505859\" xlink:href=\"#DejaVuSans-91\"/>\r\n     <use x=\"107.519531\" xlink:href=\"#DejaVuSans-49\"/>\r\n     <use x=\"171.142578\" xlink:href=\"#DejaVuSans-52\"/>\r\n     <use x=\"234.765625\" xlink:href=\"#DejaVuSans-93\"/>\r\n     <use x=\"273.779297\" xlink:href=\"#DejaVuSans-32\"/>\r\n     <use x=\"305.566406\" xlink:href=\"#DejaVuSans-60\"/>\r\n     <use x=\"389.355469\" xlink:href=\"#DejaVuSans-61\"/>\r\n     <use x=\"473.144531\" xlink:href=\"#DejaVuSans-32\"/>\r\n     <use x=\"504.931641\" xlink:href=\"#DejaVuSans-49\"/>\r\n     <use x=\"568.554688\" xlink:href=\"#DejaVuSans-51\"/>\r\n     <use x=\"632.177734\" xlink:href=\"#DejaVuSans-46\"/>\r\n     <use x=\"663.964844\" xlink:href=\"#DejaVuSans-53\"/>\r\n    </g>\r\n    <!-- gini = 0.768 -->\r\n    <g transform=\"translate(242.896488 71.783628)scale(0.022834 -0.022834)\">\r\n     <use xlink:href=\"#DejaVuSans-103\"/>\r\n     <use x=\"63.476562\" xlink:href=\"#DejaVuSans-105\"/>\r\n     <use x=\"91.259766\" xlink:href=\"#DejaVuSans-110\"/>\r\n     <use x=\"154.638672\" xlink:href=\"#DejaVuSans-105\"/>\r\n     <use x=\"182.421875\" xlink:href=\"#DejaVuSans-32\"/>\r\n     <use x=\"214.208984\" xlink:href=\"#DejaVuSans-61\"/>\r\n     <use x=\"297.998047\" xlink:href=\"#DejaVuSans-32\"/>\r\n     <use x=\"329.785156\" xlink:href=\"#DejaVuSans-48\"/>\r\n     <use x=\"393.408203\" xlink:href=\"#DejaVuSans-46\"/>\r\n     <use x=\"425.195312\" xlink:href=\"#DejaVuSans-55\"/>\r\n     <use x=\"488.818359\" xlink:href=\"#DejaVuSans-54\"/>\r\n     <use x=\"552.441406\" xlink:href=\"#DejaVuSans-56\"/>\r\n    </g>\r\n    <!-- samples = 165 -->\r\n    <g transform=\"translate(241.322743 74.34051)scale(0.022834 -0.022834)\">\r\n     <use xlink:href=\"#DejaVuSans-115\"/>\r\n     <use x=\"52.099609\" xlink:href=\"#DejaVuSans-97\"/>\r\n     <use x=\"113.378906\" xlink:href=\"#DejaVuSans-109\"/>\r\n     <use x=\"210.791016\" xlink:href=\"#DejaVuSans-112\"/>\r\n     <use x=\"274.267578\" xlink:href=\"#DejaVuSans-108\"/>\r\n     <use x=\"302.050781\" xlink:href=\"#DejaVuSans-101\"/>\r\n     <use x=\"363.574219\" xlink:href=\"#DejaVuSans-115\"/>\r\n     <use x=\"415.673828\" xlink:href=\"#DejaVuSans-32\"/>\r\n     <use x=\"447.460938\" xlink:href=\"#DejaVuSans-61\"/>\r\n     <use x=\"531.25\" xlink:href=\"#DejaVuSans-32\"/>\r\n     <use x=\"563.037109\" xlink:href=\"#DejaVuSans-49\"/>\r\n     <use x=\"626.660156\" xlink:href=\"#DejaVuSans-54\"/>\r\n     <use x=\"690.283203\" xlink:href=\"#DejaVuSans-53\"/>\r\n    </g>\r\n    <!-- value = [33, 38, 40, 46, 8] -->\r\n    <g transform=\"translate(234.797818 76.897391)scale(0.022834 -0.022834)\">\r\n     <use xlink:href=\"#DejaVuSans-118\"/>\r\n     <use x=\"59.179688\" xlink:href=\"#DejaVuSans-97\"/>\r\n     <use x=\"120.458984\" xlink:href=\"#DejaVuSans-108\"/>\r\n     <use x=\"148.242188\" xlink:href=\"#DejaVuSans-117\"/>\r\n     <use x=\"211.621094\" xlink:href=\"#DejaVuSans-101\"/>\r\n     <use x=\"273.144531\" xlink:href=\"#DejaVuSans-32\"/>\r\n     <use x=\"304.931641\" xlink:href=\"#DejaVuSans-61\"/>\r\n     <use x=\"388.720703\" xlink:href=\"#DejaVuSans-32\"/>\r\n     <use x=\"420.507812\" xlink:href=\"#DejaVuSans-91\"/>\r\n     <use x=\"459.521484\" xlink:href=\"#DejaVuSans-51\"/>\r\n     <use x=\"523.144531\" xlink:href=\"#DejaVuSans-51\"/>\r\n     <use x=\"586.767578\" xlink:href=\"#DejaVuSans-44\"/>\r\n     <use x=\"618.554688\" xlink:href=\"#DejaVuSans-32\"/>\r\n     <use x=\"650.341797\" xlink:href=\"#DejaVuSans-51\"/>\r\n     <use x=\"713.964844\" xlink:href=\"#DejaVuSans-56\"/>\r\n     <use x=\"777.587891\" xlink:href=\"#DejaVuSans-44\"/>\r\n     <use x=\"809.375\" xlink:href=\"#DejaVuSans-32\"/>\r\n     <use x=\"841.162109\" xlink:href=\"#DejaVuSans-52\"/>\r\n     <use x=\"904.785156\" xlink:href=\"#DejaVuSans-48\"/>\r\n     <use x=\"968.408203\" xlink:href=\"#DejaVuSans-44\"/>\r\n     <use x=\"1000.195312\" xlink:href=\"#DejaVuSans-32\"/>\r\n     <use x=\"1031.982422\" xlink:href=\"#DejaVuSans-52\"/>\r\n     <use x=\"1095.605469\" xlink:href=\"#DejaVuSans-54\"/>\r\n     <use x=\"1159.228516\" xlink:href=\"#DejaVuSans-44\"/>\r\n     <use x=\"1191.015625\" xlink:href=\"#DejaVuSans-32\"/>\r\n     <use x=\"1222.802734\" xlink:href=\"#DejaVuSans-56\"/>\r\n     <use x=\"1286.425781\" xlink:href=\"#DejaVuSans-93\"/>\r\n    </g>\r\n   </g>\r\n   <g id=\"text_21\">\r\n    <g id=\"patch_42\">\r\n     <path d=\"M 145.273068 34.797613 \r\nL 178.816932 34.797613 \r\nL 178.816932 23.090387 \r\nL 145.273068 23.090387 \r\nz\r\n\" style=\"fill:#fbddf4;stroke:#000000;stroke-linejoin:miter;\"/>\r\n    </g>\r\n    <!-- X[14] &lt;= 9.5 -->\r\n    <g transform=\"translate(154.464549 25.738747)scale(0.022834 -0.022834)\">\r\n     <use xlink:href=\"#DejaVuSans-88\"/>\r\n     <use x=\"68.505859\" xlink:href=\"#DejaVuSans-91\"/>\r\n     <use x=\"107.519531\" xlink:href=\"#DejaVuSans-49\"/>\r\n     <use x=\"171.142578\" xlink:href=\"#DejaVuSans-52\"/>\r\n     <use x=\"234.765625\" xlink:href=\"#DejaVuSans-93\"/>\r\n     <use x=\"273.779297\" xlink:href=\"#DejaVuSans-32\"/>\r\n     <use x=\"305.566406\" xlink:href=\"#DejaVuSans-60\"/>\r\n     <use x=\"389.355469\" xlink:href=\"#DejaVuSans-61\"/>\r\n     <use x=\"473.144531\" xlink:href=\"#DejaVuSans-32\"/>\r\n     <use x=\"504.931641\" xlink:href=\"#DejaVuSans-57\"/>\r\n     <use x=\"568.554688\" xlink:href=\"#DejaVuSans-46\"/>\r\n     <use x=\"600.341797\" xlink:href=\"#DejaVuSans-53\"/>\r\n    </g>\r\n    <!-- gini = 0.764 -->\r\n    <g transform=\"translate(155.011488 28.295628)scale(0.022834 -0.022834)\">\r\n     <use xlink:href=\"#DejaVuSans-103\"/>\r\n     <use x=\"63.476562\" xlink:href=\"#DejaVuSans-105\"/>\r\n     <use x=\"91.259766\" xlink:href=\"#DejaVuSans-110\"/>\r\n     <use x=\"154.638672\" xlink:href=\"#DejaVuSans-105\"/>\r\n     <use x=\"182.421875\" xlink:href=\"#DejaVuSans-32\"/>\r\n     <use x=\"214.208984\" xlink:href=\"#DejaVuSans-61\"/>\r\n     <use x=\"297.998047\" xlink:href=\"#DejaVuSans-32\"/>\r\n     <use x=\"329.785156\" xlink:href=\"#DejaVuSans-48\"/>\r\n     <use x=\"393.408203\" xlink:href=\"#DejaVuSans-46\"/>\r\n     <use x=\"425.195312\" xlink:href=\"#DejaVuSans-55\"/>\r\n     <use x=\"488.818359\" xlink:href=\"#DejaVuSans-54\"/>\r\n     <use x=\"552.441406\" xlink:href=\"#DejaVuSans-52\"/>\r\n    </g>\r\n    <!-- samples = 264 -->\r\n    <g transform=\"translate(153.437743 30.85251)scale(0.022834 -0.022834)\">\r\n     <use xlink:href=\"#DejaVuSans-115\"/>\r\n     <use x=\"52.099609\" xlink:href=\"#DejaVuSans-97\"/>\r\n     <use x=\"113.378906\" xlink:href=\"#DejaVuSans-109\"/>\r\n     <use x=\"210.791016\" xlink:href=\"#DejaVuSans-112\"/>\r\n     <use x=\"274.267578\" xlink:href=\"#DejaVuSans-108\"/>\r\n     <use x=\"302.050781\" xlink:href=\"#DejaVuSans-101\"/>\r\n     <use x=\"363.574219\" xlink:href=\"#DejaVuSans-115\"/>\r\n     <use x=\"415.673828\" xlink:href=\"#DejaVuSans-32\"/>\r\n     <use x=\"447.460938\" xlink:href=\"#DejaVuSans-61\"/>\r\n     <use x=\"531.25\" xlink:href=\"#DejaVuSans-32\"/>\r\n     <use x=\"563.037109\" xlink:href=\"#DejaVuSans-50\"/>\r\n     <use x=\"626.660156\" xlink:href=\"#DejaVuSans-54\"/>\r\n     <use x=\"690.283203\" xlink:href=\"#DejaVuSans-52\"/>\r\n    </g>\r\n    <!-- value = [33, 38, 40, 59, 94] -->\r\n    <g transform=\"translate(146.186419 33.409391)scale(0.022834 -0.022834)\">\r\n     <use xlink:href=\"#DejaVuSans-118\"/>\r\n     <use x=\"59.179688\" xlink:href=\"#DejaVuSans-97\"/>\r\n     <use x=\"120.458984\" xlink:href=\"#DejaVuSans-108\"/>\r\n     <use x=\"148.242188\" xlink:href=\"#DejaVuSans-117\"/>\r\n     <use x=\"211.621094\" xlink:href=\"#DejaVuSans-101\"/>\r\n     <use x=\"273.144531\" xlink:href=\"#DejaVuSans-32\"/>\r\n     <use x=\"304.931641\" xlink:href=\"#DejaVuSans-61\"/>\r\n     <use x=\"388.720703\" xlink:href=\"#DejaVuSans-32\"/>\r\n     <use x=\"420.507812\" xlink:href=\"#DejaVuSans-91\"/>\r\n     <use x=\"459.521484\" xlink:href=\"#DejaVuSans-51\"/>\r\n     <use x=\"523.144531\" xlink:href=\"#DejaVuSans-51\"/>\r\n     <use x=\"586.767578\" xlink:href=\"#DejaVuSans-44\"/>\r\n     <use x=\"618.554688\" xlink:href=\"#DejaVuSans-32\"/>\r\n     <use x=\"650.341797\" xlink:href=\"#DejaVuSans-51\"/>\r\n     <use x=\"713.964844\" xlink:href=\"#DejaVuSans-56\"/>\r\n     <use x=\"777.587891\" xlink:href=\"#DejaVuSans-44\"/>\r\n     <use x=\"809.375\" xlink:href=\"#DejaVuSans-32\"/>\r\n     <use x=\"841.162109\" xlink:href=\"#DejaVuSans-52\"/>\r\n     <use x=\"904.785156\" xlink:href=\"#DejaVuSans-48\"/>\r\n     <use x=\"968.408203\" xlink:href=\"#DejaVuSans-44\"/>\r\n     <use x=\"1000.195312\" xlink:href=\"#DejaVuSans-32\"/>\r\n     <use x=\"1031.982422\" xlink:href=\"#DejaVuSans-53\"/>\r\n     <use x=\"1095.605469\" xlink:href=\"#DejaVuSans-57\"/>\r\n     <use x=\"1159.228516\" xlink:href=\"#DejaVuSans-44\"/>\r\n     <use x=\"1191.015625\" xlink:href=\"#DejaVuSans-32\"/>\r\n     <use x=\"1222.802734\" xlink:href=\"#DejaVuSans-57\"/>\r\n     <use x=\"1286.425781\" xlink:href=\"#DejaVuSans-52\"/>\r\n     <use x=\"1350.048828\" xlink:href=\"#DejaVuSans-93\"/>\r\n    </g>\r\n   </g>\r\n  </g>\r\n </g>\r\n</svg>\r\n",
      "image/png": "[encoded data removed]"
     },
     "metadata": {
      "needs_background": "light"
     }
    }
   ]
  },
  {
   "source": [
    "When a test data (for example : X_five_test_list[2]'s 15 row ) goes into the decision tree which is plot above, it will first check whether feature_14 (X[15]) is greater than 9.50, and will go down to the next level of the decision tree (for example in this case, the feature_14 > 9.5 therefore it will go down to the right leaf). Then, it will re-execute the process (the second level is split by feature_14 <=13.50 or > 13.5, in this case it will go down to the right leaf and down to class A because feature_14 > 15.5) until it reach the leaf. The leaf will specify which class is the data belongs to and that is the prediction by this decision tree."
   ],
   "cell_type": "markdown",
   "metadata": {}
  },
  {
   "source": [
    "## Random Forest : Describe the difference between boosting and bagging"
   ],
   "cell_type": "markdown",
   "metadata": {}
  },
  {
   "source": [
    "Bagging: Randomly extract samples from the training data (take it out and put it back) to train multiple classifiers, and the ***weight of each classifier is the same***. Finally, using the voting method (Majority vote) to get the final result.\n",
    "<br><br>\n",
    "\n",
    "Boosting: First, for a piece of data, M models are established as a family(for example M decision trees are established). These models are relatively simple which are called weak learner. After testing data, we will put our focus on the wrong data that the weak learner did wrong and add more weights to those data then create another family and execute the process again. \n",
    "\n",
    "Difference : Bagging is mainly aim to decrease the variance by using multiple models, Boosting is an iterative technique which adjusts the weight of data based on the last classification (notice that it will also reduce variance).\n"
   ],
   "cell_type": "markdown",
   "metadata": {}
  },
  {
   "source": [
    "## KNN"
   ],
   "cell_type": "markdown",
   "metadata": {}
  },
  {
   "source": [
    "### Pick 2 features, draw and describe the KNN decision boundaries."
   ],
   "cell_type": "markdown",
   "metadata": {}
  },
  {
   "cell_type": "code",
   "execution_count": 170,
   "metadata": {},
   "outputs": [
    {
     "output_type": "display_data",
     "data": {
      "text/plain": "<Figure size 432x288 with 1 Axes>",
      "image/svg+xml": "<?xml version=\"1.0\" encoding=\"utf-8\" standalone=\"no\"?>\r\n<!DOCTYPE svg PUBLIC \"-//W3C//DTD SVG 1.1//EN\"\r\n  \"http://www.w3.org/Graphics/SVG/1.1/DTD/svg11.dtd\">\r\n<!-- Created with matplotlib (https://matplotlib.org/) -->\r\n<svg height=\"289.064062pt\" version=\"1.1\" viewBox=\"0 0 395.773438 289.064062\" width=\"395.773438pt\" xmlns=\"http://www.w3.org/2000/svg\" xmlns:xlink=\"http://www.w3.org/1999/xlink\">\r\n <defs>\r\n  <style type=\"text/css\">\r\n*{stroke-linecap:butt;stroke-linejoin:round;}\r\n  </style>\r\n </defs>\r\n <g id=\"figure_1\">\r\n  <g id=\"patch_1\">\r\n   <path d=\"M 0 289.064062 \r\nL 395.773438 289.064062 \r\nL 395.773438 0 \r\nL 0 0 \r\nz\r\n\" style=\"fill:none;\"/>\r\n  </g>\r\n  <g id=\"axes_1\">\r\n   <g id=\"patch_2\">\r\n    <path d=\"M 53.773438 242.7975 \r\nL 388.573438 242.7975 \r\nL 388.573438 25.3575 \r\nL 53.773438 25.3575 \r\nz\r\n\" style=\"fill:#ffffff;\"/>\r\n   </g>\r\n   <g id=\"PathCollection_1\">\r\n    <path clip-path=\"url(#p0e93af214d)\" d=\"M 179.929959 242.7975 \r\nL 184.782133 242.7975 \r\nL 189.634307 242.7975 \r\nL 194.486481 242.7975 \r\nL 199.338655 242.7975 \r\nL 204.190829 242.7975 \r\nL 209.043003 242.7975 \r\nL 213.895177 242.7975 \r\nL 218.747351 242.7975 \r\nL 223.599524 242.7975 \r\nL 224.327351 242.7975 \r\nL 224.327351 239.112076 \r\nL 224.327351 235.426653 \r\nL 224.327351 231.741229 \r\nL 224.327351 228.055805 \r\nL 224.327351 224.370381 \r\nL 224.327351 220.684958 \r\nL 224.327351 216.999534 \r\nL 224.327351 213.31411 \r\nL 224.327351 209.628686 \r\nL 224.327351 205.943263 \r\nL 224.327351 202.257839 \r\nL 224.327351 198.572415 \r\nL 224.327351 194.886992 \r\nL 224.327351 191.201568 \r\nL 224.327351 187.516144 \r\nL 224.327351 183.83072 \r\nL 224.327351 180.145297 \r\nL 224.327351 176.459873 \r\nL 224.327351 172.774449 \r\nL 224.327351 169.089025 \r\nL 224.327351 165.403602 \r\nL 224.327351 161.718178 \r\nL 224.327351 158.032754 \r\nL 224.327351 154.347331 \r\nL 224.327351 150.661907 \r\nL 223.599524 150.109093 \r\nL 218.747351 150.109093 \r\nL 213.895177 150.109093 \r\nL 209.043003 150.109093 \r\nL 204.190829 150.109093 \r\nL 199.338655 150.109093 \r\nL 194.486481 150.109093 \r\nL 189.634307 150.109093 \r\nL 184.782133 150.109093 \r\nL 179.929959 150.109093 \r\nL 179.202133 150.661907 \r\nL 179.202133 154.347331 \r\nL 179.202133 158.032754 \r\nL 179.202133 161.718178 \r\nL 179.202133 165.403602 \r\nL 179.202133 169.089025 \r\nL 179.202133 172.774449 \r\nL 179.202133 176.459873 \r\nL 179.202133 180.145297 \r\nL 179.202133 183.83072 \r\nL 179.202133 187.516144 \r\nL 179.202133 191.201568 \r\nL 179.202133 194.886992 \r\nL 179.202133 198.572415 \r\nL 179.202133 202.257839 \r\nL 179.202133 205.943263 \r\nL 179.202133 209.628686 \r\nL 179.202133 213.31411 \r\nL 179.202133 216.999534 \r\nL 179.202133 220.684958 \r\nL 179.202133 224.370381 \r\nL 179.202133 228.055805 \r\nL 179.202133 231.741229 \r\nL 179.202133 235.426653 \r\nL 179.202133 239.112076 \r\nL 179.202133 242.7975 \r\nz\r\n\" style=\"fill:#481b6d;fill-opacity:0.4;\"/>\r\n    <path clip-path=\"url(#p0e93af214d)\" d=\"M 276.973437 242.7975 \r\nL 281.825611 242.7975 \r\nL 286.677785 242.7975 \r\nL 291.529959 242.7975 \r\nL 296.382133 242.7975 \r\nL 301.234307 242.7975 \r\nL 306.086481 242.7975 \r\nL 310.938655 242.7975 \r\nL 315.790829 242.7975 \r\nL 320.643003 242.7975 \r\nL 325.495177 242.7975 \r\nL 330.347351 242.7975 \r\nL 335.199524 242.7975 \r\nL 340.051698 242.7975 \r\nL 344.903872 242.7975 \r\nL 349.756046 242.7975 \r\nL 354.60822 242.7975 \r\nL 359.460394 242.7975 \r\nL 364.312568 242.7975 \r\nL 369.164742 242.7975 \r\nL 374.016916 242.7975 \r\nL 378.86909 242.7975 \r\nL 383.721264 242.7975 \r\nL 388.573437 242.7975 \r\nL 388.573437 239.112076 \r\nL 388.573437 235.426653 \r\nL 388.573437 231.741229 \r\nL 388.573437 228.055805 \r\nL 388.573437 224.370381 \r\nL 388.573437 220.684958 \r\nL 388.573437 216.999534 \r\nL 388.573437 213.31411 \r\nL 388.573437 209.628686 \r\nL 388.573437 205.943263 \r\nL 388.573437 202.257839 \r\nL 388.573437 198.572415 \r\nL 388.573437 194.886992 \r\nL 388.573437 191.201568 \r\nL 388.573437 187.516144 \r\nL 388.573437 183.83072 \r\nL 388.573437 180.145297 \r\nL 388.573437 176.459873 \r\nL 388.573437 172.774449 \r\nL 388.573437 169.089025 \r\nL 388.573437 165.403602 \r\nL 388.573437 161.718178 \r\nL 388.573437 158.032754 \r\nL 388.573437 154.347331 \r\nL 388.573437 150.661907 \r\nL 388.573437 150.109093 \r\nL 383.721264 150.109093 \r\nL 378.86909 150.109093 \r\nL 374.016916 150.109093 \r\nL 369.164742 150.109093 \r\nL 364.312568 150.109093 \r\nL 360.18822 146.976483 \r\nL 359.460394 146.423669 \r\nL 354.60822 146.423669 \r\nL 350.483872 143.291059 \r\nL 349.756046 142.738246 \r\nL 344.903872 142.738246 \r\nL 340.779524 139.605636 \r\nL 340.051698 139.052822 \r\nL 335.199524 139.052822 \r\nL 331.075177 135.920212 \r\nL 330.347351 135.367398 \r\nL 325.495177 135.367398 \r\nL 321.370829 132.234788 \r\nL 321.370829 128.549364 \r\nL 321.370829 124.863941 \r\nL 321.370829 121.178517 \r\nL 321.370829 117.493093 \r\nL 321.370829 113.807669 \r\nL 325.495177 110.675059 \r\nL 330.347351 110.675059 \r\nL 335.199524 110.675059 \r\nL 340.051698 110.675059 \r\nL 344.903872 110.675059 \r\nL 349.756046 110.675059 \r\nL 354.60822 110.675059 \r\nL 359.460394 110.675059 \r\nL 364.312568 110.675059 \r\nL 369.164742 110.675059 \r\nL 374.016916 110.675059 \r\nL 378.86909 110.675059 \r\nL 383.721264 110.675059 \r\nL 388.573437 110.675059 \r\nL 388.573437 110.122246 \r\nL 388.573437 106.436822 \r\nL 388.573437 102.751398 \r\nL 388.573437 99.065975 \r\nL 388.573437 95.380551 \r\nL 388.573437 94.827737 \r\nL 383.721264 94.827737 \r\nL 378.86909 94.827737 \r\nL 374.016916 94.827737 \r\nL 369.164742 94.827737 \r\nL 364.312568 94.827737 \r\nL 359.460394 94.827737 \r\nL 354.60822 94.827737 \r\nL 349.756046 94.827737 \r\nL 344.903872 94.827737 \r\nL 340.051698 94.827737 \r\nL 335.199524 94.827737 \r\nL 330.347351 94.827737 \r\nL 325.495177 94.827737 \r\nL 320.643003 94.827737 \r\nL 315.790829 94.827737 \r\nL 310.938655 94.827737 \r\nL 306.086481 94.827737 \r\nL 301.234307 94.827737 \r\nL 296.382133 94.827737 \r\nL 291.529959 94.827737 \r\nL 286.677785 94.827737 \r\nL 281.825611 94.827737 \r\nL 276.973437 94.827737 \r\nL 276.245611 95.380551 \r\nL 276.245611 99.065975 \r\nL 276.245611 102.751398 \r\nL 276.245611 106.436822 \r\nL 276.245611 110.122246 \r\nL 272.121264 113.254856 \r\nL 267.26909 113.254856 \r\nL 262.416916 113.254856 \r\nL 257.564742 113.254856 \r\nL 252.712568 113.254856 \r\nL 251.984742 113.807669 \r\nL 251.984742 117.493093 \r\nL 251.984742 121.178517 \r\nL 251.984742 124.863941 \r\nL 251.984742 128.549364 \r\nL 251.984742 132.234788 \r\nL 251.984742 135.920212 \r\nL 251.984742 139.605636 \r\nL 251.984742 143.291059 \r\nL 251.984742 146.976483 \r\nL 252.712568 147.529297 \r\nL 257.564742 147.529297 \r\nL 262.416916 147.529297 \r\nL 267.26909 147.529297 \r\nL 272.121264 147.529297 \r\nL 272.84909 146.976483 \r\nL 272.84909 143.291059 \r\nL 272.84909 139.605636 \r\nL 272.84909 135.920212 \r\nL 272.84909 132.234788 \r\nL 272.84909 128.549364 \r\nL 272.84909 124.863941 \r\nL 272.84909 121.178517 \r\nL 272.84909 117.493093 \r\nL 276.973437 114.360483 \r\nL 281.097785 117.493093 \r\nL 281.825611 118.045907 \r\nL 285.949959 121.178517 \r\nL 286.677785 121.731331 \r\nL 290.802133 124.863941 \r\nL 291.529959 125.416754 \r\nL 295.654307 128.549364 \r\nL 296.382133 129.102178 \r\nL 300.506481 132.234788 \r\nL 300.506481 135.920212 \r\nL 300.506481 139.605636 \r\nL 300.506481 143.291059 \r\nL 300.506481 146.976483 \r\nL 296.382133 150.109093 \r\nL 291.529959 150.109093 \r\nL 286.677785 150.109093 \r\nL 281.825611 150.109093 \r\nL 276.973437 150.109093 \r\nL 276.245611 150.661907 \r\nL 276.245611 154.347331 \r\nL 276.245611 158.032754 \r\nL 276.245611 161.718178 \r\nL 276.245611 165.403602 \r\nL 276.245611 169.089025 \r\nL 276.245611 172.774449 \r\nL 276.245611 176.459873 \r\nL 276.245611 180.145297 \r\nL 276.245611 183.83072 \r\nL 276.245611 187.516144 \r\nL 276.245611 191.201568 \r\nL 276.245611 194.886992 \r\nL 276.245611 198.572415 \r\nL 276.245611 202.257839 \r\nL 276.245611 205.943263 \r\nL 276.245611 209.628686 \r\nL 276.245611 213.31411 \r\nL 276.245611 216.999534 \r\nL 276.245611 220.684958 \r\nL 276.245611 224.370381 \r\nL 276.245611 228.055805 \r\nL 276.245611 231.741229 \r\nL 276.245611 235.426653 \r\nL 276.245611 239.112076 \r\nL 276.245611 242.7975 \r\nz\r\n\" style=\"fill:#481b6d;fill-opacity:0.4;\"/>\r\n   </g>\r\n   <g id=\"PathCollection_2\">\r\n    <path clip-path=\"url(#p0e93af214d)\" d=\"M 179.202133 239.112076 \r\nL 179.202133 235.426653 \r\nL 179.202133 231.741229 \r\nL 179.202133 228.055805 \r\nL 179.202133 224.370381 \r\nL 179.202133 220.684958 \r\nL 179.202133 216.999534 \r\nL 179.202133 213.31411 \r\nL 179.202133 209.628686 \r\nL 179.202133 205.943263 \r\nL 179.202133 202.257839 \r\nL 179.202133 198.572415 \r\nL 179.202133 194.886992 \r\nL 179.202133 191.201568 \r\nL 179.202133 187.516144 \r\nL 179.202133 183.83072 \r\nL 179.202133 180.145297 \r\nL 179.202133 176.459873 \r\nL 179.202133 172.774449 \r\nL 179.202133 169.089025 \r\nL 179.202133 165.403602 \r\nL 179.202133 161.718178 \r\nL 179.202133 158.032754 \r\nL 179.202133 154.347331 \r\nL 179.202133 150.661907 \r\nL 179.929959 150.109093 \r\nL 184.782133 150.109093 \r\nL 189.634307 150.109093 \r\nL 194.486481 150.109093 \r\nL 199.338655 150.109093 \r\nL 204.190829 150.109093 \r\nL 209.043003 150.109093 \r\nL 213.895177 150.109093 \r\nL 218.747351 150.109093 \r\nL 223.599524 150.109093 \r\nL 224.327351 150.661907 \r\nL 224.327351 154.347331 \r\nL 224.327351 158.032754 \r\nL 224.327351 161.718178 \r\nL 224.327351 165.403602 \r\nL 224.327351 169.089025 \r\nL 224.327351 172.774449 \r\nL 224.327351 176.459873 \r\nL 224.327351 180.145297 \r\nL 224.327351 183.83072 \r\nL 224.327351 187.516144 \r\nL 224.327351 191.201568 \r\nL 224.327351 194.886992 \r\nL 224.327351 198.572415 \r\nL 224.327351 202.257839 \r\nL 224.327351 205.943263 \r\nL 224.327351 209.628686 \r\nL 224.327351 213.31411 \r\nL 224.327351 216.999534 \r\nL 224.327351 220.684958 \r\nL 224.327351 224.370381 \r\nL 224.327351 228.055805 \r\nL 224.327351 231.741229 \r\nL 224.327351 235.426653 \r\nL 224.327351 239.112076 \r\nL 224.327351 242.7975 \r\nL 225.055177 242.7975 \r\nL 225.055177 239.112076 \r\nL 225.055177 235.426653 \r\nL 225.055177 231.741229 \r\nL 225.055177 228.055805 \r\nL 225.055177 224.370381 \r\nL 225.055177 220.684958 \r\nL 225.055177 216.999534 \r\nL 225.055177 213.31411 \r\nL 225.055177 209.628686 \r\nL 225.055177 205.943263 \r\nL 225.055177 202.257839 \r\nL 225.055177 198.572415 \r\nL 225.055177 194.886992 \r\nL 225.055177 191.201568 \r\nL 225.055177 187.516144 \r\nL 225.055177 183.83072 \r\nL 225.055177 180.145297 \r\nL 225.055177 176.459873 \r\nL 225.055177 172.774449 \r\nL 225.055177 169.089025 \r\nL 225.055177 165.403602 \r\nL 225.055177 161.718178 \r\nL 225.055177 158.032754 \r\nL 225.055177 154.347331 \r\nL 225.055177 150.661907 \r\nL 223.599524 149.55628 \r\nL 218.747351 149.55628 \r\nL 213.895177 149.55628 \r\nL 209.043003 149.55628 \r\nL 204.190829 149.55628 \r\nL 199.338655 149.55628 \r\nL 194.486481 149.55628 \r\nL 189.634307 149.55628 \r\nL 184.782133 149.55628 \r\nL 179.929959 149.55628 \r\nL 178.474307 150.661907 \r\nL 178.474307 154.347331 \r\nL 178.474307 158.032754 \r\nL 178.474307 161.718178 \r\nL 178.474307 165.403602 \r\nL 178.474307 169.089025 \r\nL 178.474307 172.774449 \r\nL 178.474307 176.459873 \r\nL 178.474307 180.145297 \r\nL 178.474307 183.83072 \r\nL 178.474307 187.516144 \r\nL 178.474307 191.201568 \r\nL 178.474307 194.886992 \r\nL 178.474307 198.572415 \r\nL 178.474307 202.257839 \r\nL 178.474307 205.943263 \r\nL 178.474307 209.628686 \r\nL 178.474307 213.31411 \r\nL 178.474307 216.999534 \r\nL 178.474307 220.684958 \r\nL 178.474307 224.370381 \r\nL 178.474307 228.055805 \r\nL 178.474307 231.741229 \r\nL 178.474307 235.426653 \r\nL 178.474307 239.112076 \r\nL 178.474307 242.7975 \r\nL 179.202133 242.7975 \r\nz\r\n\" style=\"fill:#3f4788;fill-opacity:0.4;\"/>\r\n    <path clip-path=\"url(#p0e93af214d)\" d=\"M 276.245611 239.112076 \r\nL 276.245611 235.426653 \r\nL 276.245611 231.741229 \r\nL 276.245611 228.055805 \r\nL 276.245611 224.370381 \r\nL 276.245611 220.684958 \r\nL 276.245611 216.999534 \r\nL 276.245611 213.31411 \r\nL 276.245611 209.628686 \r\nL 276.245611 205.943263 \r\nL 276.245611 202.257839 \r\nL 276.245611 198.572415 \r\nL 276.245611 194.886992 \r\nL 276.245611 191.201568 \r\nL 276.245611 187.516144 \r\nL 276.245611 183.83072 \r\nL 276.245611 180.145297 \r\nL 276.245611 176.459873 \r\nL 276.245611 172.774449 \r\nL 276.245611 169.089025 \r\nL 276.245611 165.403602 \r\nL 276.245611 161.718178 \r\nL 276.245611 158.032754 \r\nL 276.245611 154.347331 \r\nL 276.245611 150.661907 \r\nL 276.973437 150.109093 \r\nL 281.825611 150.109093 \r\nL 286.677785 150.109093 \r\nL 291.529959 150.109093 \r\nL 296.382133 150.109093 \r\nL 300.506481 146.976483 \r\nL 300.506481 143.291059 \r\nL 300.506481 139.605636 \r\nL 300.506481 135.920212 \r\nL 300.506481 132.234788 \r\nL 296.382133 129.102178 \r\nL 295.654307 128.549364 \r\nL 291.529959 125.416754 \r\nL 290.802133 124.863941 \r\nL 286.677785 121.731331 \r\nL 285.949959 121.178517 \r\nL 281.825611 118.045907 \r\nL 281.097785 117.493093 \r\nL 276.973437 114.360483 \r\nL 272.84909 117.493093 \r\nL 272.84909 121.178517 \r\nL 272.84909 124.863941 \r\nL 272.84909 128.549364 \r\nL 272.84909 132.234788 \r\nL 272.84909 135.920212 \r\nL 272.84909 139.605636 \r\nL 272.84909 143.291059 \r\nL 272.84909 146.976483 \r\nL 272.121264 147.529297 \r\nL 267.26909 147.529297 \r\nL 262.416916 147.529297 \r\nL 257.564742 147.529297 \r\nL 252.712568 147.529297 \r\nL 251.984742 146.976483 \r\nL 251.984742 143.291059 \r\nL 251.984742 139.605636 \r\nL 251.984742 135.920212 \r\nL 251.984742 132.234788 \r\nL 251.984742 128.549364 \r\nL 251.984742 124.863941 \r\nL 251.984742 121.178517 \r\nL 251.984742 117.493093 \r\nL 251.984742 113.807669 \r\nL 252.712568 113.254856 \r\nL 257.564742 113.254856 \r\nL 262.416916 113.254856 \r\nL 267.26909 113.254856 \r\nL 272.121264 113.254856 \r\nL 276.245611 110.122246 \r\nL 276.245611 106.436822 \r\nL 276.245611 102.751398 \r\nL 276.245611 99.065975 \r\nL 276.245611 95.380551 \r\nL 276.973437 94.827737 \r\nL 281.825611 94.827737 \r\nL 286.677785 94.827737 \r\nL 291.529959 94.827737 \r\nL 296.382133 94.827737 \r\nL 301.234307 94.827737 \r\nL 306.086481 94.827737 \r\nL 310.938655 94.827737 \r\nL 315.790829 94.827737 \r\nL 320.643003 94.827737 \r\nL 325.495177 94.827737 \r\nL 330.347351 94.827737 \r\nL 335.199524 94.827737 \r\nL 340.051698 94.827737 \r\nL 344.903872 94.827737 \r\nL 349.756046 94.827737 \r\nL 354.60822 94.827737 \r\nL 359.460394 94.827737 \r\nL 364.312568 94.827737 \r\nL 369.164742 94.827737 \r\nL 374.016916 94.827737 \r\nL 378.86909 94.827737 \r\nL 383.721264 94.827737 \r\nL 388.573437 94.827737 \r\nL 388.573437 94.274924 \r\nL 383.721264 94.274924 \r\nL 378.86909 94.274924 \r\nL 374.016916 94.274924 \r\nL 369.164742 94.274924 \r\nL 364.312568 94.274924 \r\nL 359.460394 94.274924 \r\nL 354.60822 94.274924 \r\nL 349.756046 94.274924 \r\nL 344.903872 94.274924 \r\nL 340.051698 94.274924 \r\nL 335.199524 94.274924 \r\nL 330.347351 94.274924 \r\nL 325.495177 94.274924 \r\nL 320.643003 94.274924 \r\nL 315.790829 94.274924 \r\nL 310.938655 94.274924 \r\nL 306.086481 94.274924 \r\nL 301.234307 94.274924 \r\nL 296.382133 94.274924 \r\nL 291.529959 94.274924 \r\nL 286.677785 94.274924 \r\nL 281.825611 94.274924 \r\nL 276.973437 94.274924 \r\nL 275.517785 95.380551 \r\nL 275.517785 99.065975 \r\nL 275.517785 102.751398 \r\nL 275.517785 106.436822 \r\nL 275.517785 110.122246 \r\nL 272.121264 112.702042 \r\nL 267.26909 112.702042 \r\nL 262.416916 112.702042 \r\nL 257.564742 112.702042 \r\nL 252.712568 112.702042 \r\nL 251.256916 113.807669 \r\nL 251.256916 117.493093 \r\nL 251.256916 121.178517 \r\nL 251.256916 124.863941 \r\nL 251.256916 128.549364 \r\nL 251.256916 132.234788 \r\nL 251.256916 135.920212 \r\nL 251.256916 139.605636 \r\nL 251.256916 143.291059 \r\nL 251.256916 146.976483 \r\nL 252.712568 148.08211 \r\nL 257.564742 148.08211 \r\nL 262.416916 148.08211 \r\nL 267.26909 148.08211 \r\nL 272.121264 148.08211 \r\nL 273.576916 146.976483 \r\nL 273.576916 143.291059 \r\nL 273.576916 139.605636 \r\nL 273.576916 135.920212 \r\nL 273.576916 132.234788 \r\nL 273.576916 128.549364 \r\nL 273.576916 124.863941 \r\nL 273.576916 121.178517 \r\nL 273.576916 117.493093 \r\nL 276.973437 114.913297 \r\nL 280.369959 117.493093 \r\nL 281.825611 118.59872 \r\nL 285.222133 121.178517 \r\nL 286.677785 122.284144 \r\nL 290.074307 124.863941 \r\nL 291.529959 125.969568 \r\nL 294.926481 128.549364 \r\nL 296.382133 129.654992 \r\nL 299.778655 132.234788 \r\nL 299.778655 135.920212 \r\nL 299.778655 139.605636 \r\nL 299.778655 143.291059 \r\nL 299.778655 146.976483 \r\nL 296.382133 149.55628 \r\nL 291.529959 149.55628 \r\nL 286.677785 149.55628 \r\nL 281.825611 149.55628 \r\nL 276.973437 149.55628 \r\nL 275.517785 150.661907 \r\nL 275.517785 154.347331 \r\nL 275.517785 158.032754 \r\nL 275.517785 161.718178 \r\nL 275.517785 165.403602 \r\nL 275.517785 169.089025 \r\nL 275.517785 172.774449 \r\nL 275.517785 176.459873 \r\nL 275.517785 180.145297 \r\nL 275.517785 183.83072 \r\nL 275.517785 187.516144 \r\nL 275.517785 191.201568 \r\nL 275.517785 194.886992 \r\nL 275.517785 198.572415 \r\nL 275.517785 202.257839 \r\nL 275.517785 205.943263 \r\nL 275.517785 209.628686 \r\nL 275.517785 213.31411 \r\nL 275.517785 216.999534 \r\nL 275.517785 220.684958 \r\nL 275.517785 224.370381 \r\nL 275.517785 228.055805 \r\nL 275.517785 231.741229 \r\nL 275.517785 235.426653 \r\nL 275.517785 239.112076 \r\nL 275.517785 242.7975 \r\nL 276.245611 242.7975 \r\nz\r\n\" style=\"fill:#3f4788;fill-opacity:0.4;\"/>\r\n    <path clip-path=\"url(#p0e93af214d)\" d=\"M 364.312568 150.109093 \r\nL 369.164742 150.109093 \r\nL 374.016916 150.109093 \r\nL 378.86909 150.109093 \r\nL 383.721264 150.109093 \r\nL 388.573437 150.109093 \r\nL 388.573437 149.55628 \r\nL 383.721264 149.55628 \r\nL 378.86909 149.55628 \r\nL 374.016916 149.55628 \r\nL 369.164742 149.55628 \r\nL 364.312568 149.55628 \r\nL 360.916046 146.976483 \r\nL 359.460394 145.870856 \r\nL 354.60822 145.870856 \r\nL 351.211698 143.291059 \r\nL 349.756046 142.185432 \r\nL 344.903872 142.185432 \r\nL 341.507351 139.605636 \r\nL 340.051698 138.500008 \r\nL 335.199524 138.500008 \r\nL 331.803003 135.920212 \r\nL 330.347351 134.814585 \r\nL 325.495177 134.814585 \r\nL 322.098655 132.234788 \r\nL 322.098655 128.549364 \r\nL 322.098655 124.863941 \r\nL 322.098655 121.178517 \r\nL 322.098655 117.493093 \r\nL 322.098655 113.807669 \r\nL 325.495177 111.227873 \r\nL 330.347351 111.227873 \r\nL 335.199524 111.227873 \r\nL 340.051698 111.227873 \r\nL 344.903872 111.227873 \r\nL 349.756046 111.227873 \r\nL 354.60822 111.227873 \r\nL 359.460394 111.227873 \r\nL 364.312568 111.227873 \r\nL 369.164742 111.227873 \r\nL 374.016916 111.227873 \r\nL 378.86909 111.227873 \r\nL 383.721264 111.227873 \r\nL 388.573437 111.227873 \r\nL 388.573437 110.675059 \r\nL 383.721264 110.675059 \r\nL 378.86909 110.675059 \r\nL 374.016916 110.675059 \r\nL 369.164742 110.675059 \r\nL 364.312568 110.675059 \r\nL 359.460394 110.675059 \r\nL 354.60822 110.675059 \r\nL 349.756046 110.675059 \r\nL 344.903872 110.675059 \r\nL 340.051698 110.675059 \r\nL 335.199524 110.675059 \r\nL 330.347351 110.675059 \r\nL 325.495177 110.675059 \r\nL 321.370829 113.807669 \r\nL 321.370829 117.493093 \r\nL 321.370829 121.178517 \r\nL 321.370829 124.863941 \r\nL 321.370829 128.549364 \r\nL 321.370829 132.234788 \r\nL 325.495177 135.367398 \r\nL 330.347351 135.367398 \r\nL 331.075177 135.920212 \r\nL 335.199524 139.052822 \r\nL 340.051698 139.052822 \r\nL 340.779524 139.605636 \r\nL 344.903872 142.738246 \r\nL 349.756046 142.738246 \r\nL 350.483872 143.291059 \r\nL 354.60822 146.423669 \r\nL 359.460394 146.423669 \r\nL 360.18822 146.976483 \r\nz\r\n\" style=\"fill:#3f4788;fill-opacity:0.4;\"/>\r\n   </g>\r\n   <g id=\"PathCollection_3\">\r\n    <path clip-path=\"url(#p0e93af214d)\" d=\"M 178.474307 239.112076 \r\nL 178.474307 235.426653 \r\nL 178.474307 231.741229 \r\nL 178.474307 228.055805 \r\nL 178.474307 224.370381 \r\nL 178.474307 220.684958 \r\nL 178.474307 216.999534 \r\nL 178.474307 213.31411 \r\nL 178.474307 209.628686 \r\nL 178.474307 205.943263 \r\nL 178.474307 202.257839 \r\nL 178.474307 198.572415 \r\nL 178.474307 194.886992 \r\nL 178.474307 191.201568 \r\nL 178.474307 187.516144 \r\nL 178.474307 183.83072 \r\nL 178.474307 180.145297 \r\nL 178.474307 176.459873 \r\nL 178.474307 172.774449 \r\nL 178.474307 169.089025 \r\nL 178.474307 165.403602 \r\nL 178.474307 161.718178 \r\nL 178.474307 158.032754 \r\nL 178.474307 154.347331 \r\nL 178.474307 150.661907 \r\nL 179.929959 149.55628 \r\nL 184.782133 149.55628 \r\nL 189.634307 149.55628 \r\nL 194.486481 149.55628 \r\nL 199.338655 149.55628 \r\nL 204.190829 149.55628 \r\nL 209.043003 149.55628 \r\nL 213.895177 149.55628 \r\nL 218.747351 149.55628 \r\nL 223.599524 149.55628 \r\nL 225.055177 150.661907 \r\nL 225.055177 154.347331 \r\nL 225.055177 158.032754 \r\nL 225.055177 161.718178 \r\nL 225.055177 165.403602 \r\nL 225.055177 169.089025 \r\nL 225.055177 172.774449 \r\nL 225.055177 176.459873 \r\nL 225.055177 180.145297 \r\nL 225.055177 183.83072 \r\nL 225.055177 187.516144 \r\nL 225.055177 191.201568 \r\nL 225.055177 194.886992 \r\nL 225.055177 198.572415 \r\nL 225.055177 202.257839 \r\nL 225.055177 205.943263 \r\nL 225.055177 209.628686 \r\nL 225.055177 213.31411 \r\nL 225.055177 216.999534 \r\nL 225.055177 220.684958 \r\nL 225.055177 224.370381 \r\nL 225.055177 228.055805 \r\nL 225.055177 231.741229 \r\nL 225.055177 235.426653 \r\nL 225.055177 239.112076 \r\nL 225.055177 242.7975 \r\nL 225.783003 242.7975 \r\nL 225.783003 239.112076 \r\nL 225.783003 235.426653 \r\nL 225.783003 231.741229 \r\nL 225.783003 228.055805 \r\nL 225.783003 224.370381 \r\nL 225.783003 220.684958 \r\nL 225.783003 216.999534 \r\nL 225.783003 213.31411 \r\nL 225.783003 209.628686 \r\nL 225.783003 205.943263 \r\nL 225.783003 202.257839 \r\nL 225.783003 198.572415 \r\nL 225.783003 194.886992 \r\nL 225.783003 191.201568 \r\nL 225.783003 187.516144 \r\nL 225.783003 183.83072 \r\nL 225.783003 180.145297 \r\nL 225.783003 176.459873 \r\nL 225.783003 172.774449 \r\nL 225.783003 169.089025 \r\nL 225.783003 165.403602 \r\nL 225.783003 161.718178 \r\nL 225.783003 158.032754 \r\nL 225.783003 154.347331 \r\nL 225.783003 150.661907 \r\nL 223.599524 149.003466 \r\nL 218.747351 149.003466 \r\nL 213.895177 149.003466 \r\nL 209.043003 149.003466 \r\nL 204.190829 149.003466 \r\nL 199.338655 149.003466 \r\nL 194.486481 149.003466 \r\nL 189.634307 149.003466 \r\nL 184.782133 149.003466 \r\nL 179.929959 149.003466 \r\nL 177.746481 150.661907 \r\nL 177.746481 154.347331 \r\nL 177.746481 158.032754 \r\nL 177.746481 161.718178 \r\nL 177.746481 165.403602 \r\nL 177.746481 169.089025 \r\nL 177.746481 172.774449 \r\nL 177.746481 176.459873 \r\nL 177.746481 180.145297 \r\nL 177.746481 183.83072 \r\nL 177.746481 187.516144 \r\nL 177.746481 191.201568 \r\nL 177.746481 194.886992 \r\nL 177.746481 198.572415 \r\nL 177.746481 202.257839 \r\nL 177.746481 205.943263 \r\nL 177.746481 209.628686 \r\nL 177.746481 213.31411 \r\nL 177.746481 216.999534 \r\nL 177.746481 220.684958 \r\nL 177.746481 224.370381 \r\nL 177.746481 228.055805 \r\nL 177.746481 231.741229 \r\nL 177.746481 235.426653 \r\nL 177.746481 239.112076 \r\nL 177.746481 242.7975 \r\nL 178.474307 242.7975 \r\nz\r\n\" style=\"fill:#2e6e8e;fill-opacity:0.4;\"/>\r\n    <path clip-path=\"url(#p0e93af214d)\" d=\"M 275.517785 239.112076 \r\nL 275.517785 235.426653 \r\nL 275.517785 231.741229 \r\nL 275.517785 228.055805 \r\nL 275.517785 224.370381 \r\nL 275.517785 220.684958 \r\nL 275.517785 216.999534 \r\nL 275.517785 213.31411 \r\nL 275.517785 209.628686 \r\nL 275.517785 205.943263 \r\nL 275.517785 202.257839 \r\nL 275.517785 198.572415 \r\nL 275.517785 194.886992 \r\nL 275.517785 191.201568 \r\nL 275.517785 187.516144 \r\nL 275.517785 183.83072 \r\nL 275.517785 180.145297 \r\nL 275.517785 176.459873 \r\nL 275.517785 172.774449 \r\nL 275.517785 169.089025 \r\nL 275.517785 165.403602 \r\nL 275.517785 161.718178 \r\nL 275.517785 158.032754 \r\nL 275.517785 154.347331 \r\nL 275.517785 150.661907 \r\nL 276.973437 149.55628 \r\nL 281.825611 149.55628 \r\nL 286.677785 149.55628 \r\nL 291.529959 149.55628 \r\nL 296.382133 149.55628 \r\nL 299.778655 146.976483 \r\nL 299.778655 143.291059 \r\nL 299.778655 139.605636 \r\nL 299.778655 135.920212 \r\nL 299.778655 132.234788 \r\nL 296.382133 129.654992 \r\nL 294.926481 128.549364 \r\nL 291.529959 125.969568 \r\nL 290.074307 124.863941 \r\nL 286.677785 122.284144 \r\nL 285.222133 121.178517 \r\nL 281.825611 118.59872 \r\nL 280.369959 117.493093 \r\nL 276.973437 114.913297 \r\nL 273.576916 117.493093 \r\nL 273.576916 121.178517 \r\nL 273.576916 124.863941 \r\nL 273.576916 128.549364 \r\nL 273.576916 132.234788 \r\nL 273.576916 135.920212 \r\nL 273.576916 139.605636 \r\nL 273.576916 143.291059 \r\nL 273.576916 146.976483 \r\nL 272.121264 148.08211 \r\nL 267.26909 148.08211 \r\nL 262.416916 148.08211 \r\nL 257.564742 148.08211 \r\nL 252.712568 148.08211 \r\nL 251.256916 146.976483 \r\nL 251.256916 143.291059 \r\nL 251.256916 139.605636 \r\nL 251.256916 135.920212 \r\nL 251.256916 132.234788 \r\nL 251.256916 128.549364 \r\nL 251.256916 124.863941 \r\nL 251.256916 121.178517 \r\nL 251.256916 117.493093 \r\nL 251.256916 113.807669 \r\nL 252.712568 112.702042 \r\nL 257.564742 112.702042 \r\nL 262.416916 112.702042 \r\nL 267.26909 112.702042 \r\nL 272.121264 112.702042 \r\nL 275.517785 110.122246 \r\nL 275.517785 106.436822 \r\nL 275.517785 102.751398 \r\nL 275.517785 99.065975 \r\nL 275.517785 95.380551 \r\nL 276.973437 94.274924 \r\nL 281.825611 94.274924 \r\nL 286.677785 94.274924 \r\nL 291.529959 94.274924 \r\nL 296.382133 94.274924 \r\nL 301.234307 94.274924 \r\nL 306.086481 94.274924 \r\nL 310.938655 94.274924 \r\nL 315.790829 94.274924 \r\nL 320.643003 94.274924 \r\nL 325.495177 94.274924 \r\nL 330.347351 94.274924 \r\nL 335.199524 94.274924 \r\nL 340.051698 94.274924 \r\nL 344.903872 94.274924 \r\nL 349.756046 94.274924 \r\nL 354.60822 94.274924 \r\nL 359.460394 94.274924 \r\nL 364.312568 94.274924 \r\nL 369.164742 94.274924 \r\nL 374.016916 94.274924 \r\nL 378.86909 94.274924 \r\nL 383.721264 94.274924 \r\nL 388.573437 94.274924 \r\nL 388.573437 93.72211 \r\nL 383.721264 93.72211 \r\nL 378.86909 93.72211 \r\nL 374.016916 93.72211 \r\nL 369.164742 93.72211 \r\nL 364.312568 93.72211 \r\nL 359.460394 93.72211 \r\nL 354.60822 93.72211 \r\nL 349.756046 93.72211 \r\nL 344.903872 93.72211 \r\nL 340.051698 93.72211 \r\nL 335.199524 93.72211 \r\nL 330.347351 93.72211 \r\nL 325.495177 93.72211 \r\nL 320.643003 93.72211 \r\nL 315.790829 93.72211 \r\nL 310.938655 93.72211 \r\nL 306.086481 93.72211 \r\nL 301.234307 93.72211 \r\nL 296.382133 93.72211 \r\nL 291.529959 93.72211 \r\nL 286.677785 93.72211 \r\nL 281.825611 93.72211 \r\nL 276.973437 93.72211 \r\nL 274.789959 95.380551 \r\nL 274.789959 99.065975 \r\nL 274.789959 102.751398 \r\nL 274.789959 106.436822 \r\nL 274.789959 110.122246 \r\nL 272.121264 112.149229 \r\nL 267.26909 112.149229 \r\nL 262.416916 112.149229 \r\nL 257.564742 112.149229 \r\nL 252.712568 112.149229 \r\nL 250.52909 113.807669 \r\nL 250.52909 117.493093 \r\nL 250.52909 121.178517 \r\nL 250.52909 124.863941 \r\nL 250.52909 128.549364 \r\nL 250.52909 132.234788 \r\nL 250.52909 135.920212 \r\nL 250.52909 139.605636 \r\nL 250.52909 143.291059 \r\nL 250.52909 146.976483 \r\nL 252.712568 148.634924 \r\nL 257.564742 148.634924 \r\nL 262.416916 148.634924 \r\nL 267.26909 148.634924 \r\nL 272.121264 148.634924 \r\nL 274.304742 146.976483 \r\nL 274.304742 143.291059 \r\nL 274.304742 139.605636 \r\nL 274.304742 135.920212 \r\nL 274.304742 132.234788 \r\nL 274.304742 128.549364 \r\nL 274.304742 124.863941 \r\nL 274.304742 121.178517 \r\nL 274.304742 117.493093 \r\nL 276.973437 115.46611 \r\nL 279.642133 117.493093 \r\nL 281.825611 119.151534 \r\nL 284.494307 121.178517 \r\nL 286.677785 122.836958 \r\nL 289.346481 124.863941 \r\nL 291.529959 126.522381 \r\nL 294.198655 128.549364 \r\nL 296.382133 130.207805 \r\nL 299.050829 132.234788 \r\nL 299.050829 135.920212 \r\nL 299.050829 139.605636 \r\nL 299.050829 143.291059 \r\nL 299.050829 146.976483 \r\nL 296.382133 149.003466 \r\nL 291.529959 149.003466 \r\nL 286.677785 149.003466 \r\nL 281.825611 149.003466 \r\nL 276.973437 149.003466 \r\nL 274.789959 150.661907 \r\nL 274.789959 154.347331 \r\nL 274.789959 158.032754 \r\nL 274.789959 161.718178 \r\nL 274.789959 165.403602 \r\nL 274.789959 169.089025 \r\nL 274.789959 172.774449 \r\nL 274.789959 176.459873 \r\nL 274.789959 180.145297 \r\nL 274.789959 183.83072 \r\nL 274.789959 187.516144 \r\nL 274.789959 191.201568 \r\nL 274.789959 194.886992 \r\nL 274.789959 198.572415 \r\nL 274.789959 202.257839 \r\nL 274.789959 205.943263 \r\nL 274.789959 209.628686 \r\nL 274.789959 213.31411 \r\nL 274.789959 216.999534 \r\nL 274.789959 220.684958 \r\nL 274.789959 224.370381 \r\nL 274.789959 228.055805 \r\nL 274.789959 231.741229 \r\nL 274.789959 235.426653 \r\nL 274.789959 239.112076 \r\nL 274.789959 242.7975 \r\nL 275.517785 242.7975 \r\nz\r\n\" style=\"fill:#2e6e8e;fill-opacity:0.4;\"/>\r\n    <path clip-path=\"url(#p0e93af214d)\" d=\"M 364.312568 149.55628 \r\nL 369.164742 149.55628 \r\nL 374.016916 149.55628 \r\nL 378.86909 149.55628 \r\nL 383.721264 149.55628 \r\nL 388.573437 149.55628 \r\nL 388.573437 149.003466 \r\nL 383.721264 149.003466 \r\nL 378.86909 149.003466 \r\nL 374.016916 149.003466 \r\nL 369.164742 149.003466 \r\nL 364.312568 149.003466 \r\nL 361.643872 146.976483 \r\nL 359.460394 145.318042 \r\nL 354.60822 145.318042 \r\nL 351.939524 143.291059 \r\nL 349.756046 141.632619 \r\nL 344.903872 141.632619 \r\nL 342.235177 139.605636 \r\nL 340.051698 137.947195 \r\nL 335.199524 137.947195 \r\nL 332.530829 135.920212 \r\nL 330.347351 134.261771 \r\nL 325.495177 134.261771 \r\nL 322.826481 132.234788 \r\nL 322.826481 128.549364 \r\nL 322.826481 124.863941 \r\nL 322.826481 121.178517 \r\nL 322.826481 117.493093 \r\nL 322.826481 113.807669 \r\nL 325.495177 111.780686 \r\nL 330.347351 111.780686 \r\nL 335.199524 111.780686 \r\nL 340.051698 111.780686 \r\nL 344.903872 111.780686 \r\nL 349.756046 111.780686 \r\nL 354.60822 111.780686 \r\nL 359.460394 111.780686 \r\nL 364.312568 111.780686 \r\nL 369.164742 111.780686 \r\nL 374.016916 111.780686 \r\nL 378.86909 111.780686 \r\nL 383.721264 111.780686 \r\nL 388.573437 111.780686 \r\nL 388.573437 111.227873 \r\nL 383.721264 111.227873 \r\nL 378.86909 111.227873 \r\nL 374.016916 111.227873 \r\nL 369.164742 111.227873 \r\nL 364.312568 111.227873 \r\nL 359.460394 111.227873 \r\nL 354.60822 111.227873 \r\nL 349.756046 111.227873 \r\nL 344.903872 111.227873 \r\nL 340.051698 111.227873 \r\nL 335.199524 111.227873 \r\nL 330.347351 111.227873 \r\nL 325.495177 111.227873 \r\nL 322.098655 113.807669 \r\nL 322.098655 117.493093 \r\nL 322.098655 121.178517 \r\nL 322.098655 124.863941 \r\nL 322.098655 128.549364 \r\nL 322.098655 132.234788 \r\nL 325.495177 134.814585 \r\nL 330.347351 134.814585 \r\nL 331.803003 135.920212 \r\nL 335.199524 138.500008 \r\nL 340.051698 138.500008 \r\nL 341.507351 139.605636 \r\nL 344.903872 142.185432 \r\nL 349.756046 142.185432 \r\nL 351.211698 143.291059 \r\nL 354.60822 145.870856 \r\nL 359.460394 145.870856 \r\nL 360.916046 146.976483 \r\nz\r\n\" style=\"fill:#2e6e8e;fill-opacity:0.4;\"/>\r\n   </g>\r\n   <g id=\"PathCollection_4\">\r\n    <path clip-path=\"url(#p0e93af214d)\" d=\"M 177.746481 239.112076 \r\nL 177.746481 235.426653 \r\nL 177.746481 231.741229 \r\nL 177.746481 228.055805 \r\nL 177.746481 224.370381 \r\nL 177.746481 220.684958 \r\nL 177.746481 216.999534 \r\nL 177.746481 213.31411 \r\nL 177.746481 209.628686 \r\nL 177.746481 205.943263 \r\nL 177.746481 202.257839 \r\nL 177.746481 198.572415 \r\nL 177.746481 194.886992 \r\nL 177.746481 191.201568 \r\nL 177.746481 187.516144 \r\nL 177.746481 183.83072 \r\nL 177.746481 180.145297 \r\nL 177.746481 176.459873 \r\nL 177.746481 172.774449 \r\nL 177.746481 169.089025 \r\nL 177.746481 165.403602 \r\nL 177.746481 161.718178 \r\nL 177.746481 158.032754 \r\nL 177.746481 154.347331 \r\nL 177.746481 150.661907 \r\nL 179.929959 149.003466 \r\nL 184.782133 149.003466 \r\nL 189.634307 149.003466 \r\nL 194.486481 149.003466 \r\nL 199.338655 149.003466 \r\nL 204.190829 149.003466 \r\nL 209.043003 149.003466 \r\nL 213.895177 149.003466 \r\nL 218.747351 149.003466 \r\nL 223.599524 149.003466 \r\nL 225.783003 150.661907 \r\nL 225.783003 154.347331 \r\nL 225.783003 158.032754 \r\nL 225.783003 161.718178 \r\nL 225.783003 165.403602 \r\nL 225.783003 169.089025 \r\nL 225.783003 172.774449 \r\nL 225.783003 176.459873 \r\nL 225.783003 180.145297 \r\nL 225.783003 183.83072 \r\nL 225.783003 187.516144 \r\nL 225.783003 191.201568 \r\nL 225.783003 194.886992 \r\nL 225.783003 198.572415 \r\nL 225.783003 202.257839 \r\nL 225.783003 205.943263 \r\nL 225.783003 209.628686 \r\nL 225.783003 213.31411 \r\nL 225.783003 216.999534 \r\nL 225.783003 220.684958 \r\nL 225.783003 224.370381 \r\nL 225.783003 228.055805 \r\nL 225.783003 231.741229 \r\nL 225.783003 235.426653 \r\nL 225.783003 239.112076 \r\nL 225.783003 242.7975 \r\nL 226.510829 242.7975 \r\nL 226.510829 239.112076 \r\nL 226.510829 235.426653 \r\nL 226.510829 231.741229 \r\nL 226.510829 228.055805 \r\nL 226.510829 224.370381 \r\nL 226.510829 220.684958 \r\nL 226.510829 216.999534 \r\nL 226.510829 213.31411 \r\nL 226.510829 209.628686 \r\nL 226.510829 205.943263 \r\nL 226.510829 202.257839 \r\nL 226.510829 198.572415 \r\nL 226.510829 194.886992 \r\nL 226.510829 191.201568 \r\nL 226.510829 187.516144 \r\nL 226.510829 183.83072 \r\nL 226.510829 180.145297 \r\nL 226.510829 176.459873 \r\nL 226.510829 172.774449 \r\nL 226.510829 169.089025 \r\nL 226.510829 165.403602 \r\nL 226.510829 161.718178 \r\nL 226.510829 158.032754 \r\nL 226.510829 154.347331 \r\nL 226.510829 150.661907 \r\nL 223.599524 148.450653 \r\nL 218.747351 148.450653 \r\nL 213.895177 148.450653 \r\nL 209.043003 148.450653 \r\nL 204.190829 148.450653 \r\nL 199.338655 148.450653 \r\nL 194.486481 148.450653 \r\nL 189.634307 148.450653 \r\nL 184.782133 148.450653 \r\nL 179.929959 148.450653 \r\nL 177.018655 150.661907 \r\nL 177.018655 154.347331 \r\nL 177.018655 158.032754 \r\nL 177.018655 161.718178 \r\nL 177.018655 165.403602 \r\nL 177.018655 169.089025 \r\nL 177.018655 172.774449 \r\nL 177.018655 176.459873 \r\nL 177.018655 180.145297 \r\nL 177.018655 183.83072 \r\nL 177.018655 187.516144 \r\nL 177.018655 191.201568 \r\nL 177.018655 194.886992 \r\nL 177.018655 198.572415 \r\nL 177.018655 202.257839 \r\nL 177.018655 205.943263 \r\nL 177.018655 209.628686 \r\nL 177.018655 213.31411 \r\nL 177.018655 216.999534 \r\nL 177.018655 220.684958 \r\nL 177.018655 224.370381 \r\nL 177.018655 228.055805 \r\nL 177.018655 231.741229 \r\nL 177.018655 235.426653 \r\nL 177.018655 239.112076 \r\nL 177.018655 242.7975 \r\nL 177.746481 242.7975 \r\nz\r\n\" style=\"fill:#21918c;fill-opacity:0.4;\"/>\r\n    <path clip-path=\"url(#p0e93af214d)\" d=\"M 274.789959 239.112076 \r\nL 274.789959 235.426653 \r\nL 274.789959 231.741229 \r\nL 274.789959 228.055805 \r\nL 274.789959 224.370381 \r\nL 274.789959 220.684958 \r\nL 274.789959 216.999534 \r\nL 274.789959 213.31411 \r\nL 274.789959 209.628686 \r\nL 274.789959 205.943263 \r\nL 274.789959 202.257839 \r\nL 274.789959 198.572415 \r\nL 274.789959 194.886992 \r\nL 274.789959 191.201568 \r\nL 274.789959 187.516144 \r\nL 274.789959 183.83072 \r\nL 274.789959 180.145297 \r\nL 274.789959 176.459873 \r\nL 274.789959 172.774449 \r\nL 274.789959 169.089025 \r\nL 274.789959 165.403602 \r\nL 274.789959 161.718178 \r\nL 274.789959 158.032754 \r\nL 274.789959 154.347331 \r\nL 274.789959 150.661907 \r\nL 276.973437 149.003466 \r\nL 281.825611 149.003466 \r\nL 286.677785 149.003466 \r\nL 291.529959 149.003466 \r\nL 296.382133 149.003466 \r\nL 299.050829 146.976483 \r\nL 299.050829 143.291059 \r\nL 299.050829 139.605636 \r\nL 299.050829 135.920212 \r\nL 299.050829 132.234788 \r\nL 296.382133 130.207805 \r\nL 294.198655 128.549364 \r\nL 291.529959 126.522381 \r\nL 289.346481 124.863941 \r\nL 286.677785 122.836958 \r\nL 284.494307 121.178517 \r\nL 281.825611 119.151534 \r\nL 279.642133 117.493093 \r\nL 276.973437 115.46611 \r\nL 274.304742 117.493093 \r\nL 274.304742 121.178517 \r\nL 274.304742 124.863941 \r\nL 274.304742 128.549364 \r\nL 274.304742 132.234788 \r\nL 274.304742 135.920212 \r\nL 274.304742 139.605636 \r\nL 274.304742 143.291059 \r\nL 274.304742 146.976483 \r\nL 272.121264 148.634924 \r\nL 267.26909 148.634924 \r\nL 262.416916 148.634924 \r\nL 257.564742 148.634924 \r\nL 252.712568 148.634924 \r\nL 250.52909 146.976483 \r\nL 250.52909 143.291059 \r\nL 250.52909 139.605636 \r\nL 250.52909 135.920212 \r\nL 250.52909 132.234788 \r\nL 250.52909 128.549364 \r\nL 250.52909 124.863941 \r\nL 250.52909 121.178517 \r\nL 250.52909 117.493093 \r\nL 250.52909 113.807669 \r\nL 252.712568 112.149229 \r\nL 257.564742 112.149229 \r\nL 262.416916 112.149229 \r\nL 267.26909 112.149229 \r\nL 272.121264 112.149229 \r\nL 274.789959 110.122246 \r\nL 274.789959 106.436822 \r\nL 274.789959 102.751398 \r\nL 274.789959 99.065975 \r\nL 274.789959 95.380551 \r\nL 276.973437 93.72211 \r\nL 281.825611 93.72211 \r\nL 286.677785 93.72211 \r\nL 291.529959 93.72211 \r\nL 296.382133 93.72211 \r\nL 301.234307 93.72211 \r\nL 306.086481 93.72211 \r\nL 310.938655 93.72211 \r\nL 315.790829 93.72211 \r\nL 320.643003 93.72211 \r\nL 325.495177 93.72211 \r\nL 330.347351 93.72211 \r\nL 335.199524 93.72211 \r\nL 340.051698 93.72211 \r\nL 344.903872 93.72211 \r\nL 349.756046 93.72211 \r\nL 354.60822 93.72211 \r\nL 359.460394 93.72211 \r\nL 364.312568 93.72211 \r\nL 369.164742 93.72211 \r\nL 374.016916 93.72211 \r\nL 378.86909 93.72211 \r\nL 383.721264 93.72211 \r\nL 388.573437 93.72211 \r\nL 388.573437 93.169297 \r\nL 383.721264 93.169297 \r\nL 378.86909 93.169297 \r\nL 374.016916 93.169297 \r\nL 369.164742 93.169297 \r\nL 364.312568 93.169297 \r\nL 359.460394 93.169297 \r\nL 354.60822 93.169297 \r\nL 349.756046 93.169297 \r\nL 344.903872 93.169297 \r\nL 340.051698 93.169297 \r\nL 335.199524 93.169297 \r\nL 330.347351 93.169297 \r\nL 325.495177 93.169297 \r\nL 320.643003 93.169297 \r\nL 315.790829 93.169297 \r\nL 310.938655 93.169297 \r\nL 306.086481 93.169297 \r\nL 301.234307 93.169297 \r\nL 296.382133 93.169297 \r\nL 291.529959 93.169297 \r\nL 286.677785 93.169297 \r\nL 281.825611 93.169297 \r\nL 276.973437 93.169297 \r\nL 274.062133 95.380551 \r\nL 274.062133 99.065975 \r\nL 274.062133 102.751398 \r\nL 274.062133 106.436822 \r\nL 274.062133 110.122246 \r\nL 272.121264 111.596415 \r\nL 267.26909 111.596415 \r\nL 262.416916 111.596415 \r\nL 257.564742 111.596415 \r\nL 252.712568 111.596415 \r\nL 249.801264 113.807669 \r\nL 249.801264 117.493093 \r\nL 249.801264 121.178517 \r\nL 249.801264 124.863941 \r\nL 249.801264 128.549364 \r\nL 249.801264 132.234788 \r\nL 249.801264 135.920212 \r\nL 249.801264 139.605636 \r\nL 249.801264 143.291059 \r\nL 249.801264 146.976483 \r\nL 252.712568 149.187737 \r\nL 257.564742 149.187737 \r\nL 262.416916 149.187737 \r\nL 267.26909 149.187737 \r\nL 272.121264 149.187737 \r\nL 274.062133 150.661907 \r\nL 274.062133 154.347331 \r\nL 274.062133 158.032754 \r\nL 274.062133 161.718178 \r\nL 274.062133 165.403602 \r\nL 274.062133 169.089025 \r\nL 274.062133 172.774449 \r\nL 274.062133 176.459873 \r\nL 274.062133 180.145297 \r\nL 274.062133 183.83072 \r\nL 274.062133 187.516144 \r\nL 274.062133 191.201568 \r\nL 274.062133 194.886992 \r\nL 274.062133 198.572415 \r\nL 274.062133 202.257839 \r\nL 274.062133 205.943263 \r\nL 274.062133 209.628686 \r\nL 274.062133 213.31411 \r\nL 274.062133 216.999534 \r\nL 274.062133 220.684958 \r\nL 274.062133 224.370381 \r\nL 274.062133 228.055805 \r\nL 274.062133 231.741229 \r\nL 274.062133 235.426653 \r\nL 274.062133 239.112076 \r\nL 274.062133 242.7975 \r\nL 274.789959 242.7975 \r\nz\r\nM 275.032568 146.976483 \r\nL 275.032568 143.291059 \r\nL 275.032568 139.605636 \r\nL 275.032568 135.920212 \r\nL 275.032568 132.234788 \r\nL 275.032568 128.549364 \r\nL 275.032568 124.863941 \r\nL 275.032568 121.178517 \r\nL 275.032568 117.493093 \r\nL 276.973437 116.018924 \r\nL 278.914307 117.493093 \r\nL 281.825611 119.704347 \r\nL 283.766481 121.178517 \r\nL 286.677785 123.389771 \r\nL 288.618655 124.863941 \r\nL 291.529959 127.075195 \r\nL 293.470829 128.549364 \r\nL 296.382133 130.760619 \r\nL 298.323003 132.234788 \r\nL 298.323003 135.920212 \r\nL 298.323003 139.605636 \r\nL 298.323003 143.291059 \r\nL 298.323003 146.976483 \r\nL 296.382133 148.450653 \r\nL 291.529959 148.450653 \r\nL 286.677785 148.450653 \r\nL 281.825611 148.450653 \r\nL 276.973437 148.450653 \r\nz\r\n\" style=\"fill:#21918c;fill-opacity:0.4;\"/>\r\n    <path clip-path=\"url(#p0e93af214d)\" d=\"M 364.312568 149.003466 \r\nL 369.164742 149.003466 \r\nL 374.016916 149.003466 \r\nL 378.86909 149.003466 \r\nL 383.721264 149.003466 \r\nL 388.573437 149.003466 \r\nL 388.573437 148.450653 \r\nL 383.721264 148.450653 \r\nL 378.86909 148.450653 \r\nL 374.016916 148.450653 \r\nL 369.164742 148.450653 \r\nL 364.312568 148.450653 \r\nL 362.371698 146.976483 \r\nL 359.460394 144.765229 \r\nL 354.60822 144.765229 \r\nL 352.667351 143.291059 \r\nL 349.756046 141.079805 \r\nL 344.903872 141.079805 \r\nL 342.963003 139.605636 \r\nL 340.051698 137.394381 \r\nL 335.199524 137.394381 \r\nL 333.258655 135.920212 \r\nL 330.347351 133.708958 \r\nL 325.495177 133.708958 \r\nL 323.554307 132.234788 \r\nL 323.554307 128.549364 \r\nL 323.554307 124.863941 \r\nL 323.554307 121.178517 \r\nL 323.554307 117.493093 \r\nL 323.554307 113.807669 \r\nL 325.495177 112.3335 \r\nL 330.347351 112.3335 \r\nL 335.199524 112.3335 \r\nL 340.051698 112.3335 \r\nL 344.903872 112.3335 \r\nL 349.756046 112.3335 \r\nL 354.60822 112.3335 \r\nL 359.460394 112.3335 \r\nL 364.312568 112.3335 \r\nL 369.164742 112.3335 \r\nL 374.016916 112.3335 \r\nL 378.86909 112.3335 \r\nL 383.721264 112.3335 \r\nL 388.573437 112.3335 \r\nL 388.573437 111.780686 \r\nL 383.721264 111.780686 \r\nL 378.86909 111.780686 \r\nL 374.016916 111.780686 \r\nL 369.164742 111.780686 \r\nL 364.312568 111.780686 \r\nL 359.460394 111.780686 \r\nL 354.60822 111.780686 \r\nL 349.756046 111.780686 \r\nL 344.903872 111.780686 \r\nL 340.051698 111.780686 \r\nL 335.199524 111.780686 \r\nL 330.347351 111.780686 \r\nL 325.495177 111.780686 \r\nL 322.826481 113.807669 \r\nL 322.826481 117.493093 \r\nL 322.826481 121.178517 \r\nL 322.826481 124.863941 \r\nL 322.826481 128.549364 \r\nL 322.826481 132.234788 \r\nL 325.495177 134.261771 \r\nL 330.347351 134.261771 \r\nL 332.530829 135.920212 \r\nL 335.199524 137.947195 \r\nL 340.051698 137.947195 \r\nL 342.235177 139.605636 \r\nL 344.903872 141.632619 \r\nL 349.756046 141.632619 \r\nL 351.939524 143.291059 \r\nL 354.60822 145.318042 \r\nL 359.460394 145.318042 \r\nL 361.643872 146.976483 \r\nz\r\n\" style=\"fill:#21918c;fill-opacity:0.4;\"/>\r\n   </g>\r\n   <g id=\"PathCollection_5\">\r\n    <path clip-path=\"url(#p0e93af214d)\" d=\"M 177.018655 239.112076 \r\nL 177.018655 235.426653 \r\nL 177.018655 231.741229 \r\nL 177.018655 228.055805 \r\nL 177.018655 224.370381 \r\nL 177.018655 220.684958 \r\nL 177.018655 216.999534 \r\nL 177.018655 213.31411 \r\nL 177.018655 209.628686 \r\nL 177.018655 205.943263 \r\nL 177.018655 202.257839 \r\nL 177.018655 198.572415 \r\nL 177.018655 194.886992 \r\nL 177.018655 191.201568 \r\nL 177.018655 187.516144 \r\nL 177.018655 183.83072 \r\nL 177.018655 180.145297 \r\nL 177.018655 176.459873 \r\nL 177.018655 172.774449 \r\nL 177.018655 169.089025 \r\nL 177.018655 165.403602 \r\nL 177.018655 161.718178 \r\nL 177.018655 158.032754 \r\nL 177.018655 154.347331 \r\nL 177.018655 150.661907 \r\nL 179.929959 148.450653 \r\nL 184.782133 148.450653 \r\nL 189.634307 148.450653 \r\nL 194.486481 148.450653 \r\nL 199.338655 148.450653 \r\nL 204.190829 148.450653 \r\nL 209.043003 148.450653 \r\nL 213.895177 148.450653 \r\nL 218.747351 148.450653 \r\nL 223.599524 148.450653 \r\nL 226.510829 150.661907 \r\nL 226.510829 154.347331 \r\nL 226.510829 158.032754 \r\nL 226.510829 161.718178 \r\nL 226.510829 165.403602 \r\nL 226.510829 169.089025 \r\nL 226.510829 172.774449 \r\nL 226.510829 176.459873 \r\nL 226.510829 180.145297 \r\nL 226.510829 183.83072 \r\nL 226.510829 187.516144 \r\nL 226.510829 191.201568 \r\nL 226.510829 194.886992 \r\nL 226.510829 198.572415 \r\nL 226.510829 202.257839 \r\nL 226.510829 205.943263 \r\nL 226.510829 209.628686 \r\nL 226.510829 213.31411 \r\nL 226.510829 216.999534 \r\nL 226.510829 220.684958 \r\nL 226.510829 224.370381 \r\nL 226.510829 228.055805 \r\nL 226.510829 231.741229 \r\nL 226.510829 235.426653 \r\nL 226.510829 239.112076 \r\nL 226.510829 242.7975 \r\nL 227.238655 242.7975 \r\nL 227.238655 239.112076 \r\nL 227.238655 235.426653 \r\nL 227.238655 231.741229 \r\nL 227.238655 228.055805 \r\nL 227.238655 224.370381 \r\nL 227.238655 220.684958 \r\nL 227.238655 216.999534 \r\nL 227.238655 213.31411 \r\nL 227.238655 209.628686 \r\nL 227.238655 205.943263 \r\nL 227.238655 202.257839 \r\nL 227.238655 198.572415 \r\nL 227.238655 194.886992 \r\nL 227.238655 191.201568 \r\nL 227.238655 187.516144 \r\nL 227.238655 183.83072 \r\nL 227.238655 180.145297 \r\nL 227.238655 176.459873 \r\nL 227.238655 172.774449 \r\nL 227.238655 169.089025 \r\nL 227.238655 165.403602 \r\nL 227.238655 161.718178 \r\nL 227.238655 158.032754 \r\nL 227.238655 154.347331 \r\nL 227.238655 150.661907 \r\nL 223.599524 147.897839 \r\nL 218.747351 147.897839 \r\nL 213.895177 147.897839 \r\nL 209.043003 147.897839 \r\nL 204.190829 147.897839 \r\nL 199.338655 147.897839 \r\nL 194.486481 147.897839 \r\nL 189.634307 147.897839 \r\nL 184.782133 147.897839 \r\nL 179.929959 147.897839 \r\nL 176.290829 150.661907 \r\nL 176.290829 154.347331 \r\nL 176.290829 158.032754 \r\nL 176.290829 161.718178 \r\nL 176.290829 165.403602 \r\nL 176.290829 169.089025 \r\nL 176.290829 172.774449 \r\nL 176.290829 176.459873 \r\nL 176.290829 180.145297 \r\nL 176.290829 183.83072 \r\nL 176.290829 187.516144 \r\nL 176.290829 191.201568 \r\nL 176.290829 194.886992 \r\nL 176.290829 198.572415 \r\nL 176.290829 202.257839 \r\nL 176.290829 205.943263 \r\nL 176.290829 209.628686 \r\nL 176.290829 213.31411 \r\nL 176.290829 216.999534 \r\nL 176.290829 220.684958 \r\nL 176.290829 224.370381 \r\nL 176.290829 228.055805 \r\nL 176.290829 231.741229 \r\nL 176.290829 235.426653 \r\nL 176.290829 239.112076 \r\nL 176.290829 242.7975 \r\nL 177.018655 242.7975 \r\nz\r\n\" style=\"fill:#2db27d;fill-opacity:0.4;\"/>\r\n    <path clip-path=\"url(#p0e93af214d)\" d=\"M 274.062133 239.112076 \r\nL 274.062133 235.426653 \r\nL 274.062133 231.741229 \r\nL 274.062133 228.055805 \r\nL 274.062133 224.370381 \r\nL 274.062133 220.684958 \r\nL 274.062133 216.999534 \r\nL 274.062133 213.31411 \r\nL 274.062133 209.628686 \r\nL 274.062133 205.943263 \r\nL 274.062133 202.257839 \r\nL 274.062133 198.572415 \r\nL 274.062133 194.886992 \r\nL 274.062133 191.201568 \r\nL 274.062133 187.516144 \r\nL 274.062133 183.83072 \r\nL 274.062133 180.145297 \r\nL 274.062133 176.459873 \r\nL 274.062133 172.774449 \r\nL 274.062133 169.089025 \r\nL 274.062133 165.403602 \r\nL 274.062133 161.718178 \r\nL 274.062133 158.032754 \r\nL 274.062133 154.347331 \r\nL 274.062133 150.661907 \r\nL 272.121264 149.187737 \r\nL 267.26909 149.187737 \r\nL 262.416916 149.187737 \r\nL 257.564742 149.187737 \r\nL 252.712568 149.187737 \r\nL 249.801264 146.976483 \r\nL 249.801264 143.291059 \r\nL 249.801264 139.605636 \r\nL 249.801264 135.920212 \r\nL 249.801264 132.234788 \r\nL 249.801264 128.549364 \r\nL 249.801264 124.863941 \r\nL 249.801264 121.178517 \r\nL 249.801264 117.493093 \r\nL 249.801264 113.807669 \r\nL 252.712568 111.596415 \r\nL 257.564742 111.596415 \r\nL 262.416916 111.596415 \r\nL 267.26909 111.596415 \r\nL 272.121264 111.596415 \r\nL 274.062133 110.122246 \r\nL 274.062133 106.436822 \r\nL 274.062133 102.751398 \r\nL 274.062133 99.065975 \r\nL 274.062133 95.380551 \r\nL 276.973437 93.169297 \r\nL 281.825611 93.169297 \r\nL 286.677785 93.169297 \r\nL 291.529959 93.169297 \r\nL 296.382133 93.169297 \r\nL 301.234307 93.169297 \r\nL 306.086481 93.169297 \r\nL 310.938655 93.169297 \r\nL 315.790829 93.169297 \r\nL 320.643003 93.169297 \r\nL 325.495177 93.169297 \r\nL 330.347351 93.169297 \r\nL 335.199524 93.169297 \r\nL 340.051698 93.169297 \r\nL 344.903872 93.169297 \r\nL 349.756046 93.169297 \r\nL 354.60822 93.169297 \r\nL 359.460394 93.169297 \r\nL 364.312568 93.169297 \r\nL 369.164742 93.169297 \r\nL 374.016916 93.169297 \r\nL 378.86909 93.169297 \r\nL 383.721264 93.169297 \r\nL 388.573437 93.169297 \r\nL 388.573437 92.616483 \r\nL 383.721264 92.616483 \r\nL 378.86909 92.616483 \r\nL 374.016916 92.616483 \r\nL 369.164742 92.616483 \r\nL 364.312568 92.616483 \r\nL 359.460394 92.616483 \r\nL 354.60822 92.616483 \r\nL 349.756046 92.616483 \r\nL 344.903872 92.616483 \r\nL 340.051698 92.616483 \r\nL 335.199524 92.616483 \r\nL 330.347351 92.616483 \r\nL 325.495177 92.616483 \r\nL 320.643003 92.616483 \r\nL 315.790829 92.616483 \r\nL 310.938655 92.616483 \r\nL 306.086481 92.616483 \r\nL 301.234307 92.616483 \r\nL 296.382133 92.616483 \r\nL 291.529959 92.616483 \r\nL 286.677785 92.616483 \r\nL 281.825611 92.616483 \r\nL 276.973437 92.616483 \r\nL 273.334307 95.380551 \r\nL 273.334307 99.065975 \r\nL 273.334307 102.751398 \r\nL 273.334307 106.436822 \r\nL 273.334307 110.122246 \r\nL 272.121264 111.043602 \r\nL 267.26909 111.043602 \r\nL 262.416916 111.043602 \r\nL 257.564742 111.043602 \r\nL 252.712568 111.043602 \r\nL 249.073437 113.807669 \r\nL 249.073437 117.493093 \r\nL 249.073437 121.178517 \r\nL 249.073437 124.863941 \r\nL 249.073437 128.549364 \r\nL 249.073437 132.234788 \r\nL 249.073437 135.920212 \r\nL 249.073437 139.605636 \r\nL 249.073437 143.291059 \r\nL 249.073437 146.976483 \r\nL 252.712568 149.740551 \r\nL 257.564742 149.740551 \r\nL 262.416916 149.740551 \r\nL 267.26909 149.740551 \r\nL 272.121264 149.740551 \r\nL 273.334307 150.661907 \r\nL 273.334307 154.347331 \r\nL 273.334307 158.032754 \r\nL 273.334307 161.718178 \r\nL 273.334307 165.403602 \r\nL 273.334307 169.089025 \r\nL 273.334307 172.774449 \r\nL 273.334307 176.459873 \r\nL 273.334307 180.145297 \r\nL 273.334307 183.83072 \r\nL 273.334307 187.516144 \r\nL 273.334307 191.201568 \r\nL 273.334307 194.886992 \r\nL 273.334307 198.572415 \r\nL 273.334307 202.257839 \r\nL 273.334307 205.943263 \r\nL 273.334307 209.628686 \r\nL 273.334307 213.31411 \r\nL 273.334307 216.999534 \r\nL 273.334307 220.684958 \r\nL 273.334307 224.370381 \r\nL 273.334307 228.055805 \r\nL 273.334307 231.741229 \r\nL 273.334307 235.426653 \r\nL 273.334307 239.112076 \r\nL 273.334307 242.7975 \r\nL 274.062133 242.7975 \r\nz\r\n\" style=\"fill:#2db27d;fill-opacity:0.4;\"/>\r\n    <path clip-path=\"url(#p0e93af214d)\" d=\"M 276.973437 148.450653 \r\nL 281.825611 148.450653 \r\nL 286.677785 148.450653 \r\nL 291.529959 148.450653 \r\nL 296.382133 148.450653 \r\nL 298.323003 146.976483 \r\nL 298.323003 143.291059 \r\nL 298.323003 139.605636 \r\nL 298.323003 135.920212 \r\nL 298.323003 132.234788 \r\nL 296.382133 130.760619 \r\nL 293.470829 128.549364 \r\nL 291.529959 127.075195 \r\nL 288.618655 124.863941 \r\nL 286.677785 123.389771 \r\nL 283.766481 121.178517 \r\nL 281.825611 119.704347 \r\nL 278.914307 117.493093 \r\nL 276.973437 116.018924 \r\nL 275.032568 117.493093 \r\nL 275.032568 121.178517 \r\nL 275.032568 124.863941 \r\nL 275.032568 128.549364 \r\nL 275.032568 132.234788 \r\nL 275.032568 135.920212 \r\nL 275.032568 139.605636 \r\nL 275.032568 143.291059 \r\nL 275.032568 146.976483 \r\nz\r\nM 275.760394 146.976483 \r\nL 275.760394 143.291059 \r\nL 275.760394 139.605636 \r\nL 275.760394 135.920212 \r\nL 275.760394 132.234788 \r\nL 275.760394 128.549364 \r\nL 275.760394 124.863941 \r\nL 275.760394 121.178517 \r\nL 275.760394 117.493093 \r\nL 276.973437 116.571737 \r\nL 278.186481 117.493093 \r\nL 281.825611 120.257161 \r\nL 283.038655 121.178517 \r\nL 286.677785 123.942585 \r\nL 287.890829 124.863941 \r\nL 291.529959 127.628008 \r\nL 292.743003 128.549364 \r\nL 296.382133 131.313432 \r\nL 297.595177 132.234788 \r\nL 297.595177 135.920212 \r\nL 297.595177 139.605636 \r\nL 297.595177 143.291059 \r\nL 297.595177 146.976483 \r\nL 296.382133 147.897839 \r\nL 291.529959 147.897839 \r\nL 286.677785 147.897839 \r\nL 281.825611 147.897839 \r\nL 276.973437 147.897839 \r\nz\r\n\" style=\"fill:#2db27d;fill-opacity:0.4;\"/>\r\n    <path clip-path=\"url(#p0e93af214d)\" d=\"M 364.312568 148.450653 \r\nL 369.164742 148.450653 \r\nL 374.016916 148.450653 \r\nL 378.86909 148.450653 \r\nL 383.721264 148.450653 \r\nL 388.573437 148.450653 \r\nL 388.573437 147.897839 \r\nL 383.721264 147.897839 \r\nL 378.86909 147.897839 \r\nL 374.016916 147.897839 \r\nL 369.164742 147.897839 \r\nL 364.312568 147.897839 \r\nL 363.099524 146.976483 \r\nL 359.460394 144.212415 \r\nL 354.60822 144.212415 \r\nL 353.395177 143.291059 \r\nL 349.756046 140.526992 \r\nL 344.903872 140.526992 \r\nL 343.690829 139.605636 \r\nL 340.051698 136.841568 \r\nL 335.199524 136.841568 \r\nL 333.986481 135.920212 \r\nL 330.347351 133.156144 \r\nL 325.495177 133.156144 \r\nL 324.282133 132.234788 \r\nL 324.282133 128.549364 \r\nL 324.282133 124.863941 \r\nL 324.282133 121.178517 \r\nL 324.282133 117.493093 \r\nL 324.282133 113.807669 \r\nL 325.495177 112.886314 \r\nL 330.347351 112.886314 \r\nL 335.199524 112.886314 \r\nL 340.051698 112.886314 \r\nL 344.903872 112.886314 \r\nL 349.756046 112.886314 \r\nL 354.60822 112.886314 \r\nL 359.460394 112.886314 \r\nL 364.312568 112.886314 \r\nL 369.164742 112.886314 \r\nL 374.016916 112.886314 \r\nL 378.86909 112.886314 \r\nL 383.721264 112.886314 \r\nL 388.573437 112.886314 \r\nL 388.573437 112.3335 \r\nL 383.721264 112.3335 \r\nL 378.86909 112.3335 \r\nL 374.016916 112.3335 \r\nL 369.164742 112.3335 \r\nL 364.312568 112.3335 \r\nL 359.460394 112.3335 \r\nL 354.60822 112.3335 \r\nL 349.756046 112.3335 \r\nL 344.903872 112.3335 \r\nL 340.051698 112.3335 \r\nL 335.199524 112.3335 \r\nL 330.347351 112.3335 \r\nL 325.495177 112.3335 \r\nL 323.554307 113.807669 \r\nL 323.554307 117.493093 \r\nL 323.554307 121.178517 \r\nL 323.554307 124.863941 \r\nL 323.554307 128.549364 \r\nL 323.554307 132.234788 \r\nL 325.495177 133.708958 \r\nL 330.347351 133.708958 \r\nL 333.258655 135.920212 \r\nL 335.199524 137.394381 \r\nL 340.051698 137.394381 \r\nL 342.963003 139.605636 \r\nL 344.903872 141.079805 \r\nL 349.756046 141.079805 \r\nL 352.667351 143.291059 \r\nL 354.60822 144.765229 \r\nL 359.460394 144.765229 \r\nL 362.371698 146.976483 \r\nz\r\n\" style=\"fill:#2db27d;fill-opacity:0.4;\"/>\r\n   </g>\r\n   <g id=\"PathCollection_6\">\r\n    <path clip-path=\"url(#p0e93af214d)\" d=\"M 176.290829 239.112076 \r\nL 176.290829 235.426653 \r\nL 176.290829 231.741229 \r\nL 176.290829 228.055805 \r\nL 176.290829 224.370381 \r\nL 176.290829 220.684958 \r\nL 176.290829 216.999534 \r\nL 176.290829 213.31411 \r\nL 176.290829 209.628686 \r\nL 176.290829 205.943263 \r\nL 176.290829 202.257839 \r\nL 176.290829 198.572415 \r\nL 176.290829 194.886992 \r\nL 176.290829 191.201568 \r\nL 176.290829 187.516144 \r\nL 176.290829 183.83072 \r\nL 176.290829 180.145297 \r\nL 176.290829 176.459873 \r\nL 176.290829 172.774449 \r\nL 176.290829 169.089025 \r\nL 176.290829 165.403602 \r\nL 176.290829 161.718178 \r\nL 176.290829 158.032754 \r\nL 176.290829 154.347331 \r\nL 176.290829 150.661907 \r\nL 179.929959 147.897839 \r\nL 184.782133 147.897839 \r\nL 189.634307 147.897839 \r\nL 194.486481 147.897839 \r\nL 199.338655 147.897839 \r\nL 204.190829 147.897839 \r\nL 209.043003 147.897839 \r\nL 213.895177 147.897839 \r\nL 218.747351 147.897839 \r\nL 223.599524 147.897839 \r\nL 227.238655 150.661907 \r\nL 227.238655 154.347331 \r\nL 227.238655 158.032754 \r\nL 227.238655 161.718178 \r\nL 227.238655 165.403602 \r\nL 227.238655 169.089025 \r\nL 227.238655 172.774449 \r\nL 227.238655 176.459873 \r\nL 227.238655 180.145297 \r\nL 227.238655 183.83072 \r\nL 227.238655 187.516144 \r\nL 227.238655 191.201568 \r\nL 227.238655 194.886992 \r\nL 227.238655 198.572415 \r\nL 227.238655 202.257839 \r\nL 227.238655 205.943263 \r\nL 227.238655 209.628686 \r\nL 227.238655 213.31411 \r\nL 227.238655 216.999534 \r\nL 227.238655 220.684958 \r\nL 227.238655 224.370381 \r\nL 227.238655 228.055805 \r\nL 227.238655 231.741229 \r\nL 227.238655 235.426653 \r\nL 227.238655 239.112076 \r\nL 227.238655 242.7975 \r\nL 227.966481 242.7975 \r\nL 227.966481 239.112076 \r\nL 227.966481 235.426653 \r\nL 227.966481 231.741229 \r\nL 227.966481 228.055805 \r\nL 227.966481 224.370381 \r\nL 227.966481 220.684958 \r\nL 227.966481 216.999534 \r\nL 227.966481 213.31411 \r\nL 227.966481 209.628686 \r\nL 227.966481 205.943263 \r\nL 227.966481 202.257839 \r\nL 227.966481 198.572415 \r\nL 227.966481 194.886992 \r\nL 227.966481 191.201568 \r\nL 227.966481 187.516144 \r\nL 227.966481 183.83072 \r\nL 227.966481 180.145297 \r\nL 227.966481 176.459873 \r\nL 227.966481 172.774449 \r\nL 227.966481 169.089025 \r\nL 227.966481 165.403602 \r\nL 227.966481 161.718178 \r\nL 227.966481 158.032754 \r\nL 227.966481 154.347331 \r\nL 227.966481 150.661907 \r\nL 223.599524 147.345025 \r\nL 218.747351 147.345025 \r\nL 213.895177 147.345025 \r\nL 209.043003 147.345025 \r\nL 204.190829 147.345025 \r\nL 199.338655 147.345025 \r\nL 194.486481 147.345025 \r\nL 189.634307 147.345025 \r\nL 184.782133 147.345025 \r\nL 179.929959 147.345025 \r\nL 175.563003 150.661907 \r\nL 175.563003 154.347331 \r\nL 175.563003 158.032754 \r\nL 175.563003 161.718178 \r\nL 175.563003 165.403602 \r\nL 175.563003 169.089025 \r\nL 175.563003 172.774449 \r\nL 175.563003 176.459873 \r\nL 175.563003 180.145297 \r\nL 175.563003 183.83072 \r\nL 175.563003 187.516144 \r\nL 175.563003 191.201568 \r\nL 175.563003 194.886992 \r\nL 175.563003 198.572415 \r\nL 175.563003 202.257839 \r\nL 175.563003 205.943263 \r\nL 175.563003 209.628686 \r\nL 175.563003 213.31411 \r\nL 175.563003 216.999534 \r\nL 175.563003 220.684958 \r\nL 175.563003 224.370381 \r\nL 175.563003 228.055805 \r\nL 175.563003 231.741229 \r\nL 175.563003 235.426653 \r\nL 175.563003 239.112076 \r\nL 175.563003 242.7975 \r\nL 176.290829 242.7975 \r\nz\r\n\" style=\"fill:#73d056;fill-opacity:0.4;\"/>\r\n    <path clip-path=\"url(#p0e93af214d)\" d=\"M 273.334307 239.112076 \r\nL 273.334307 235.426653 \r\nL 273.334307 231.741229 \r\nL 273.334307 228.055805 \r\nL 273.334307 224.370381 \r\nL 273.334307 220.684958 \r\nL 273.334307 216.999534 \r\nL 273.334307 213.31411 \r\nL 273.334307 209.628686 \r\nL 273.334307 205.943263 \r\nL 273.334307 202.257839 \r\nL 273.334307 198.572415 \r\nL 273.334307 194.886992 \r\nL 273.334307 191.201568 \r\nL 273.334307 187.516144 \r\nL 273.334307 183.83072 \r\nL 273.334307 180.145297 \r\nL 273.334307 176.459873 \r\nL 273.334307 172.774449 \r\nL 273.334307 169.089025 \r\nL 273.334307 165.403602 \r\nL 273.334307 161.718178 \r\nL 273.334307 158.032754 \r\nL 273.334307 154.347331 \r\nL 273.334307 150.661907 \r\nL 272.121264 149.740551 \r\nL 267.26909 149.740551 \r\nL 262.416916 149.740551 \r\nL 257.564742 149.740551 \r\nL 252.712568 149.740551 \r\nL 249.073437 146.976483 \r\nL 249.073437 143.291059 \r\nL 249.073437 139.605636 \r\nL 249.073437 135.920212 \r\nL 249.073437 132.234788 \r\nL 249.073437 128.549364 \r\nL 249.073437 124.863941 \r\nL 249.073437 121.178517 \r\nL 249.073437 117.493093 \r\nL 249.073437 113.807669 \r\nL 252.712568 111.043602 \r\nL 257.564742 111.043602 \r\nL 262.416916 111.043602 \r\nL 267.26909 111.043602 \r\nL 272.121264 111.043602 \r\nL 273.334307 110.122246 \r\nL 273.334307 106.436822 \r\nL 273.334307 102.751398 \r\nL 273.334307 99.065975 \r\nL 273.334307 95.380551 \r\nL 276.973437 92.616483 \r\nL 281.825611 92.616483 \r\nL 286.677785 92.616483 \r\nL 291.529959 92.616483 \r\nL 296.382133 92.616483 \r\nL 301.234307 92.616483 \r\nL 306.086481 92.616483 \r\nL 310.938655 92.616483 \r\nL 315.790829 92.616483 \r\nL 320.643003 92.616483 \r\nL 325.495177 92.616483 \r\nL 330.347351 92.616483 \r\nL 335.199524 92.616483 \r\nL 340.051698 92.616483 \r\nL 344.903872 92.616483 \r\nL 349.756046 92.616483 \r\nL 354.60822 92.616483 \r\nL 359.460394 92.616483 \r\nL 364.312568 92.616483 \r\nL 369.164742 92.616483 \r\nL 374.016916 92.616483 \r\nL 378.86909 92.616483 \r\nL 383.721264 92.616483 \r\nL 388.573437 92.616483 \r\nL 388.573437 92.063669 \r\nL 383.721264 92.063669 \r\nL 378.86909 92.063669 \r\nL 374.016916 92.063669 \r\nL 369.164742 92.063669 \r\nL 364.312568 92.063669 \r\nL 359.460394 92.063669 \r\nL 354.60822 92.063669 \r\nL 349.756046 92.063669 \r\nL 344.903872 92.063669 \r\nL 340.051698 92.063669 \r\nL 335.199524 92.063669 \r\nL 330.347351 92.063669 \r\nL 325.495177 92.063669 \r\nL 320.643003 92.063669 \r\nL 315.790829 92.063669 \r\nL 310.938655 92.063669 \r\nL 306.086481 92.063669 \r\nL 301.234307 92.063669 \r\nL 296.382133 92.063669 \r\nL 291.529959 92.063669 \r\nL 286.677785 92.063669 \r\nL 281.825611 92.063669 \r\nL 276.973437 92.063669 \r\nL 272.606481 95.380551 \r\nL 272.606481 99.065975 \r\nL 272.606481 102.751398 \r\nL 272.606481 106.436822 \r\nL 272.606481 110.122246 \r\nL 272.121264 110.490788 \r\nL 267.26909 110.490788 \r\nL 262.416916 110.490788 \r\nL 257.564742 110.490788 \r\nL 252.712568 110.490788 \r\nL 248.345611 113.807669 \r\nL 248.345611 117.493093 \r\nL 248.345611 121.178517 \r\nL 248.345611 124.863941 \r\nL 248.345611 128.549364 \r\nL 248.345611 132.234788 \r\nL 248.345611 135.920212 \r\nL 248.345611 139.605636 \r\nL 248.345611 143.291059 \r\nL 248.345611 146.976483 \r\nL 252.712568 150.293364 \r\nL 257.564742 150.293364 \r\nL 262.416916 150.293364 \r\nL 267.26909 150.293364 \r\nL 272.121264 150.293364 \r\nL 272.606481 150.661907 \r\nL 272.606481 154.347331 \r\nL 272.606481 158.032754 \r\nL 272.606481 161.718178 \r\nL 272.606481 165.403602 \r\nL 272.606481 169.089025 \r\nL 272.606481 172.774449 \r\nL 272.606481 176.459873 \r\nL 272.606481 180.145297 \r\nL 272.606481 183.83072 \r\nL 272.606481 187.516144 \r\nL 272.606481 191.201568 \r\nL 272.606481 194.886992 \r\nL 272.606481 198.572415 \r\nL 272.606481 202.257839 \r\nL 272.606481 205.943263 \r\nL 272.606481 209.628686 \r\nL 272.606481 213.31411 \r\nL 272.606481 216.999534 \r\nL 272.606481 220.684958 \r\nL 272.606481 224.370381 \r\nL 272.606481 228.055805 \r\nL 272.606481 231.741229 \r\nL 272.606481 235.426653 \r\nL 272.606481 239.112076 \r\nL 272.606481 242.7975 \r\nL 273.334307 242.7975 \r\nz\r\n\" style=\"fill:#73d056;fill-opacity:0.4;\"/>\r\n    <path clip-path=\"url(#p0e93af214d)\" d=\"M 276.973437 147.897839 \r\nL 281.825611 147.897839 \r\nL 286.677785 147.897839 \r\nL 291.529959 147.897839 \r\nL 296.382133 147.897839 \r\nL 297.595177 146.976483 \r\nL 297.595177 143.291059 \r\nL 297.595177 139.605636 \r\nL 297.595177 135.920212 \r\nL 297.595177 132.234788 \r\nL 296.382133 131.313432 \r\nL 292.743003 128.549364 \r\nL 291.529959 127.628008 \r\nL 287.890829 124.863941 \r\nL 286.677785 123.942585 \r\nL 283.038655 121.178517 \r\nL 281.825611 120.257161 \r\nL 278.186481 117.493093 \r\nL 276.973437 116.571737 \r\nL 275.760394 117.493093 \r\nL 275.760394 121.178517 \r\nL 275.760394 124.863941 \r\nL 275.760394 128.549364 \r\nL 275.760394 132.234788 \r\nL 275.760394 135.920212 \r\nL 275.760394 139.605636 \r\nL 275.760394 143.291059 \r\nL 275.760394 146.976483 \r\nz\r\nM 276.48822 146.976483 \r\nL 276.48822 143.291059 \r\nL 276.48822 139.605636 \r\nL 276.48822 135.920212 \r\nL 276.48822 132.234788 \r\nL 276.48822 128.549364 \r\nL 276.48822 124.863941 \r\nL 276.48822 121.178517 \r\nL 276.48822 117.493093 \r\nL 276.973437 117.124551 \r\nL 277.458655 117.493093 \r\nL 281.825611 120.809975 \r\nL 282.310829 121.178517 \r\nL 286.677785 124.495398 \r\nL 287.163003 124.863941 \r\nL 291.529959 128.180822 \r\nL 292.015177 128.549364 \r\nL 296.382133 131.866246 \r\nL 296.867351 132.234788 \r\nL 296.867351 135.920212 \r\nL 296.867351 139.605636 \r\nL 296.867351 143.291059 \r\nL 296.867351 146.976483 \r\nL 296.382133 147.345025 \r\nL 291.529959 147.345025 \r\nL 286.677785 147.345025 \r\nL 281.825611 147.345025 \r\nL 276.973437 147.345025 \r\nz\r\n\" style=\"fill:#73d056;fill-opacity:0.4;\"/>\r\n    <path clip-path=\"url(#p0e93af214d)\" d=\"M 364.312568 147.897839 \r\nL 369.164742 147.897839 \r\nL 374.016916 147.897839 \r\nL 378.86909 147.897839 \r\nL 383.721264 147.897839 \r\nL 388.573437 147.897839 \r\nL 388.573437 147.345025 \r\nL 383.721264 147.345025 \r\nL 378.86909 147.345025 \r\nL 374.016916 147.345025 \r\nL 369.164742 147.345025 \r\nL 364.312568 147.345025 \r\nL 363.827351 146.976483 \r\nL 359.460394 143.659602 \r\nL 354.60822 143.659602 \r\nL 354.123003 143.291059 \r\nL 349.756046 139.974178 \r\nL 344.903872 139.974178 \r\nL 344.418655 139.605636 \r\nL 340.051698 136.288754 \r\nL 335.199524 136.288754 \r\nL 334.714307 135.920212 \r\nL 330.347351 132.603331 \r\nL 325.495177 132.603331 \r\nL 325.009959 132.234788 \r\nL 325.009959 128.549364 \r\nL 325.009959 124.863941 \r\nL 325.009959 121.178517 \r\nL 325.009959 117.493093 \r\nL 325.009959 113.807669 \r\nL 325.495177 113.439127 \r\nL 330.347351 113.439127 \r\nL 335.199524 113.439127 \r\nL 340.051698 113.439127 \r\nL 344.903872 113.439127 \r\nL 349.756046 113.439127 \r\nL 354.60822 113.439127 \r\nL 359.460394 113.439127 \r\nL 364.312568 113.439127 \r\nL 369.164742 113.439127 \r\nL 374.016916 113.439127 \r\nL 378.86909 113.439127 \r\nL 383.721264 113.439127 \r\nL 388.573437 113.439127 \r\nL 388.573437 112.886314 \r\nL 383.721264 112.886314 \r\nL 378.86909 112.886314 \r\nL 374.016916 112.886314 \r\nL 369.164742 112.886314 \r\nL 364.312568 112.886314 \r\nL 359.460394 112.886314 \r\nL 354.60822 112.886314 \r\nL 349.756046 112.886314 \r\nL 344.903872 112.886314 \r\nL 340.051698 112.886314 \r\nL 335.199524 112.886314 \r\nL 330.347351 112.886314 \r\nL 325.495177 112.886314 \r\nL 324.282133 113.807669 \r\nL 324.282133 117.493093 \r\nL 324.282133 121.178517 \r\nL 324.282133 124.863941 \r\nL 324.282133 128.549364 \r\nL 324.282133 132.234788 \r\nL 325.495177 133.156144 \r\nL 330.347351 133.156144 \r\nL 333.986481 135.920212 \r\nL 335.199524 136.841568 \r\nL 340.051698 136.841568 \r\nL 343.690829 139.605636 \r\nL 344.903872 140.526992 \r\nL 349.756046 140.526992 \r\nL 353.395177 143.291059 \r\nL 354.60822 144.212415 \r\nL 359.460394 144.212415 \r\nL 363.099524 146.976483 \r\nz\r\n\" style=\"fill:#73d056;fill-opacity:0.4;\"/>\r\n   </g>\r\n   <g id=\"PathCollection_7\">\r\n    <path clip-path=\"url(#p0e93af214d)\" d=\"M 58.625611 242.7975 \r\nL 63.477785 242.7975 \r\nL 68.329959 242.7975 \r\nL 73.182133 242.7975 \r\nL 78.034307 242.7975 \r\nL 82.886481 242.7975 \r\nL 87.738655 242.7975 \r\nL 92.590829 242.7975 \r\nL 97.443003 242.7975 \r\nL 102.295177 242.7975 \r\nL 107.147351 242.7975 \r\nL 111.999524 242.7975 \r\nL 116.851698 242.7975 \r\nL 121.703872 242.7975 \r\nL 126.556046 242.7975 \r\nL 131.40822 242.7975 \r\nL 136.260394 242.7975 \r\nL 141.112568 242.7975 \r\nL 145.964742 242.7975 \r\nL 150.816916 242.7975 \r\nL 155.66909 242.7975 \r\nL 160.521264 242.7975 \r\nL 165.373437 242.7975 \r\nL 170.225611 242.7975 \r\nL 175.077785 242.7975 \r\nL 175.563003 242.7975 \r\nL 175.563003 239.112076 \r\nL 175.563003 235.426653 \r\nL 175.563003 231.741229 \r\nL 175.563003 228.055805 \r\nL 175.563003 224.370381 \r\nL 175.563003 220.684958 \r\nL 175.563003 216.999534 \r\nL 175.563003 213.31411 \r\nL 175.563003 209.628686 \r\nL 175.563003 205.943263 \r\nL 175.563003 202.257839 \r\nL 175.563003 198.572415 \r\nL 175.563003 194.886992 \r\nL 175.563003 191.201568 \r\nL 175.563003 187.516144 \r\nL 175.563003 183.83072 \r\nL 175.563003 180.145297 \r\nL 175.563003 176.459873 \r\nL 175.563003 172.774449 \r\nL 175.563003 169.089025 \r\nL 175.563003 165.403602 \r\nL 175.563003 161.718178 \r\nL 175.563003 158.032754 \r\nL 175.563003 154.347331 \r\nL 175.563003 150.661907 \r\nL 179.929959 147.345025 \r\nL 184.782133 147.345025 \r\nL 189.634307 147.345025 \r\nL 194.486481 147.345025 \r\nL 199.338655 147.345025 \r\nL 204.190829 147.345025 \r\nL 209.043003 147.345025 \r\nL 213.895177 147.345025 \r\nL 218.747351 147.345025 \r\nL 223.599524 147.345025 \r\nL 227.966481 150.661907 \r\nL 227.966481 154.347331 \r\nL 227.966481 158.032754 \r\nL 227.966481 161.718178 \r\nL 227.966481 165.403602 \r\nL 227.966481 169.089025 \r\nL 227.966481 172.774449 \r\nL 227.966481 176.459873 \r\nL 227.966481 180.145297 \r\nL 227.966481 183.83072 \r\nL 227.966481 187.516144 \r\nL 227.966481 191.201568 \r\nL 227.966481 194.886992 \r\nL 227.966481 198.572415 \r\nL 227.966481 202.257839 \r\nL 227.966481 205.943263 \r\nL 227.966481 209.628686 \r\nL 227.966481 213.31411 \r\nL 227.966481 216.999534 \r\nL 227.966481 220.684958 \r\nL 227.966481 224.370381 \r\nL 227.966481 228.055805 \r\nL 227.966481 231.741229 \r\nL 227.966481 235.426653 \r\nL 227.966481 239.112076 \r\nL 227.966481 242.7975 \r\nL 228.451698 242.7975 \r\nL 233.303872 242.7975 \r\nL 238.156046 242.7975 \r\nL 243.00822 242.7975 \r\nL 247.860394 242.7975 \r\nL 252.712568 242.7975 \r\nL 257.564742 242.7975 \r\nL 262.416916 242.7975 \r\nL 267.26909 242.7975 \r\nL 272.121264 242.7975 \r\nL 272.606481 242.7975 \r\nL 272.606481 239.112076 \r\nL 272.606481 235.426653 \r\nL 272.606481 231.741229 \r\nL 272.606481 228.055805 \r\nL 272.606481 224.370381 \r\nL 272.606481 220.684958 \r\nL 272.606481 216.999534 \r\nL 272.606481 213.31411 \r\nL 272.606481 209.628686 \r\nL 272.606481 205.943263 \r\nL 272.606481 202.257839 \r\nL 272.606481 198.572415 \r\nL 272.606481 194.886992 \r\nL 272.606481 191.201568 \r\nL 272.606481 187.516144 \r\nL 272.606481 183.83072 \r\nL 272.606481 180.145297 \r\nL 272.606481 176.459873 \r\nL 272.606481 172.774449 \r\nL 272.606481 169.089025 \r\nL 272.606481 165.403602 \r\nL 272.606481 161.718178 \r\nL 272.606481 158.032754 \r\nL 272.606481 154.347331 \r\nL 272.606481 150.661907 \r\nL 272.121264 150.293364 \r\nL 267.26909 150.293364 \r\nL 262.416916 150.293364 \r\nL 257.564742 150.293364 \r\nL 252.712568 150.293364 \r\nL 248.345611 146.976483 \r\nL 248.345611 143.291059 \r\nL 248.345611 139.605636 \r\nL 248.345611 135.920212 \r\nL 248.345611 132.234788 \r\nL 248.345611 128.549364 \r\nL 248.345611 124.863941 \r\nL 248.345611 121.178517 \r\nL 248.345611 117.493093 \r\nL 248.345611 113.807669 \r\nL 252.712568 110.490788 \r\nL 257.564742 110.490788 \r\nL 262.416916 110.490788 \r\nL 267.26909 110.490788 \r\nL 272.121264 110.490788 \r\nL 272.606481 110.122246 \r\nL 272.606481 106.436822 \r\nL 272.606481 102.751398 \r\nL 272.606481 99.065975 \r\nL 272.606481 95.380551 \r\nL 276.973437 92.063669 \r\nL 281.825611 92.063669 \r\nL 286.677785 92.063669 \r\nL 291.529959 92.063669 \r\nL 296.382133 92.063669 \r\nL 301.234307 92.063669 \r\nL 306.086481 92.063669 \r\nL 310.938655 92.063669 \r\nL 315.790829 92.063669 \r\nL 320.643003 92.063669 \r\nL 325.495177 92.063669 \r\nL 330.347351 92.063669 \r\nL 335.199524 92.063669 \r\nL 340.051698 92.063669 \r\nL 344.903872 92.063669 \r\nL 349.756046 92.063669 \r\nL 354.60822 92.063669 \r\nL 359.460394 92.063669 \r\nL 364.312568 92.063669 \r\nL 369.164742 92.063669 \r\nL 374.016916 92.063669 \r\nL 378.86909 92.063669 \r\nL 383.721264 92.063669 \r\nL 388.573437 92.063669 \r\nL 388.573437 91.695127 \r\nL 388.573437 88.009703 \r\nL 388.573437 84.32428 \r\nL 388.573437 80.638856 \r\nL 388.573437 76.953432 \r\nL 388.573437 73.268008 \r\nL 388.573437 69.582585 \r\nL 388.573437 65.897161 \r\nL 388.573437 62.211737 \r\nL 388.573437 58.526314 \r\nL 388.573437 54.84089 \r\nL 388.573437 51.155466 \r\nL 388.573437 47.470042 \r\nL 388.573437 43.784619 \r\nL 388.573437 40.099195 \r\nL 388.573437 36.413771 \r\nL 388.573437 32.728347 \r\nL 388.573437 29.042924 \r\nL 388.573437 25.3575 \r\nL 383.721264 25.3575 \r\nL 378.86909 25.3575 \r\nL 374.016916 25.3575 \r\nL 369.164742 25.3575 \r\nL 364.312568 25.3575 \r\nL 359.460394 25.3575 \r\nL 354.60822 25.3575 \r\nL 349.756046 25.3575 \r\nL 344.903872 25.3575 \r\nL 340.051698 25.3575 \r\nL 335.199524 25.3575 \r\nL 330.347351 25.3575 \r\nL 325.495177 25.3575 \r\nL 320.643003 25.3575 \r\nL 315.790829 25.3575 \r\nL 310.938655 25.3575 \r\nL 306.086481 25.3575 \r\nL 301.234307 25.3575 \r\nL 296.382133 25.3575 \r\nL 291.529959 25.3575 \r\nL 286.677785 25.3575 \r\nL 281.825611 25.3575 \r\nL 276.973437 25.3575 \r\nL 272.121264 25.3575 \r\nL 267.26909 25.3575 \r\nL 262.416916 25.3575 \r\nL 257.564742 25.3575 \r\nL 252.712568 25.3575 \r\nL 247.860394 25.3575 \r\nL 243.00822 25.3575 \r\nL 238.156046 25.3575 \r\nL 233.303872 25.3575 \r\nL 228.451698 25.3575 \r\nL 223.599524 25.3575 \r\nL 218.747351 25.3575 \r\nL 213.895177 25.3575 \r\nL 209.043003 25.3575 \r\nL 204.190829 25.3575 \r\nL 199.338655 25.3575 \r\nL 194.486481 25.3575 \r\nL 189.634307 25.3575 \r\nL 184.782133 25.3575 \r\nL 179.929959 25.3575 \r\nL 175.077785 25.3575 \r\nL 170.225611 25.3575 \r\nL 165.373437 25.3575 \r\nL 160.521264 25.3575 \r\nL 155.66909 25.3575 \r\nL 150.816916 25.3575 \r\nL 145.964742 25.3575 \r\nL 141.112568 25.3575 \r\nL 136.260394 25.3575 \r\nL 131.40822 25.3575 \r\nL 126.556046 25.3575 \r\nL 121.703872 25.3575 \r\nL 116.851698 25.3575 \r\nL 111.999524 25.3575 \r\nL 107.147351 25.3575 \r\nL 102.295177 25.3575 \r\nL 97.443003 25.3575 \r\nL 92.590829 25.3575 \r\nL 87.738655 25.3575 \r\nL 82.886481 25.3575 \r\nL 78.034307 25.3575 \r\nL 73.182133 25.3575 \r\nL 68.329959 25.3575 \r\nL 63.477785 25.3575 \r\nL 58.625611 25.3575 \r\nL 53.773438 25.3575 \r\nL 53.773438 29.042924 \r\nL 53.773438 32.728347 \r\nL 53.773438 36.413771 \r\nL 53.773438 40.099195 \r\nL 53.773438 43.784619 \r\nL 53.773438 47.470042 \r\nL 53.773438 51.155466 \r\nL 53.773438 54.84089 \r\nL 53.773438 58.526314 \r\nL 53.773438 62.211737 \r\nL 53.773438 65.897161 \r\nL 53.773438 69.582585 \r\nL 53.773438 73.268008 \r\nL 53.773438 76.953432 \r\nL 53.773438 80.638856 \r\nL 53.773438 84.32428 \r\nL 53.773438 88.009703 \r\nL 53.773438 91.695127 \r\nL 53.773438 95.380551 \r\nL 53.773438 99.065975 \r\nL 53.773438 102.751398 \r\nL 53.773438 106.436822 \r\nL 53.773438 110.122246 \r\nL 53.773438 113.807669 \r\nL 53.773438 117.493093 \r\nL 53.773438 121.178517 \r\nL 53.773438 124.863941 \r\nL 53.773438 128.549364 \r\nL 53.773438 132.234788 \r\nL 53.773438 135.920212 \r\nL 53.773438 139.605636 \r\nL 53.773438 143.291059 \r\nL 53.773438 146.976483 \r\nL 53.773438 150.661907 \r\nL 53.773438 154.347331 \r\nL 53.773438 158.032754 \r\nL 53.773438 161.718178 \r\nL 53.773438 165.403602 \r\nL 53.773438 169.089025 \r\nL 53.773438 172.774449 \r\nL 53.773438 176.459873 \r\nL 53.773438 180.145297 \r\nL 53.773438 183.83072 \r\nL 53.773438 187.516144 \r\nL 53.773438 191.201568 \r\nL 53.773438 194.886992 \r\nL 53.773438 198.572415 \r\nL 53.773438 202.257839 \r\nL 53.773438 205.943263 \r\nL 53.773438 209.628686 \r\nL 53.773438 213.31411 \r\nL 53.773438 216.999534 \r\nL 53.773438 220.684958 \r\nL 53.773438 224.370381 \r\nL 53.773438 228.055805 \r\nL 53.773438 231.741229 \r\nL 53.773438 235.426653 \r\nL 53.773438 239.112076 \r\nL 53.773438 242.7975 \r\nz\r\n\" style=\"fill:#d0e11c;fill-opacity:0.4;\"/>\r\n    <path clip-path=\"url(#p0e93af214d)\" d=\"M 276.973437 147.345025 \r\nL 281.825611 147.345025 \r\nL 286.677785 147.345025 \r\nL 291.529959 147.345025 \r\nL 296.382133 147.345025 \r\nL 296.867351 146.976483 \r\nL 296.867351 143.291059 \r\nL 296.867351 139.605636 \r\nL 296.867351 135.920212 \r\nL 296.867351 132.234788 \r\nL 296.382133 131.866246 \r\nL 292.015177 128.549364 \r\nL 291.529959 128.180822 \r\nL 287.163003 124.863941 \r\nL 286.677785 124.495398 \r\nL 282.310829 121.178517 \r\nL 281.825611 120.809975 \r\nL 277.458655 117.493093 \r\nL 276.973437 117.124551 \r\nL 276.48822 117.493093 \r\nL 276.48822 121.178517 \r\nL 276.48822 124.863941 \r\nL 276.48822 128.549364 \r\nL 276.48822 132.234788 \r\nL 276.48822 135.920212 \r\nL 276.48822 139.605636 \r\nL 276.48822 143.291059 \r\nL 276.48822 146.976483 \r\nz\r\n\" style=\"fill:#d0e11c;fill-opacity:0.4;\"/>\r\n    <path clip-path=\"url(#p0e93af214d)\" d=\"M 364.312568 147.345025 \r\nL 369.164742 147.345025 \r\nL 374.016916 147.345025 \r\nL 378.86909 147.345025 \r\nL 383.721264 147.345025 \r\nL 388.573437 147.345025 \r\nL 388.573437 146.976483 \r\nL 388.573437 143.291059 \r\nL 388.573437 139.605636 \r\nL 388.573437 135.920212 \r\nL 388.573437 132.234788 \r\nL 388.573437 128.549364 \r\nL 388.573437 124.863941 \r\nL 388.573437 121.178517 \r\nL 388.573437 117.493093 \r\nL 388.573437 113.807669 \r\nL 388.573437 113.439127 \r\nL 383.721264 113.439127 \r\nL 378.86909 113.439127 \r\nL 374.016916 113.439127 \r\nL 369.164742 113.439127 \r\nL 364.312568 113.439127 \r\nL 359.460394 113.439127 \r\nL 354.60822 113.439127 \r\nL 349.756046 113.439127 \r\nL 344.903872 113.439127 \r\nL 340.051698 113.439127 \r\nL 335.199524 113.439127 \r\nL 330.347351 113.439127 \r\nL 325.495177 113.439127 \r\nL 325.009959 113.807669 \r\nL 325.009959 117.493093 \r\nL 325.009959 121.178517 \r\nL 325.009959 124.863941 \r\nL 325.009959 128.549364 \r\nL 325.009959 132.234788 \r\nL 325.495177 132.603331 \r\nL 330.347351 132.603331 \r\nL 334.714307 135.920212 \r\nL 335.199524 136.288754 \r\nL 340.051698 136.288754 \r\nL 344.418655 139.605636 \r\nL 344.903872 139.974178 \r\nL 349.756046 139.974178 \r\nL 354.123003 143.291059 \r\nL 354.60822 143.659602 \r\nL 359.460394 143.659602 \r\nL 363.827351 146.976483 \r\nz\r\n\" style=\"fill:#d0e11c;fill-opacity:0.4;\"/>\r\n   </g>\r\n   <g id=\"PathCollection_8\">\r\n    <defs>\r\n     <path d=\"M 0 3 \r\nC 0.795609 3 1.55874 2.683901 2.12132 2.12132 \r\nC 2.683901 1.55874 3 0.795609 3 0 \r\nC 3 -0.795609 2.683901 -1.55874 2.12132 -2.12132 \r\nC 1.55874 -2.683901 0.795609 -3 0 -3 \r\nC -0.795609 -3 -1.55874 -2.683901 -2.12132 -2.12132 \r\nC -2.683901 -1.55874 -3 -0.795609 -3 0 \r\nC -3 0.795609 -2.683901 1.55874 -2.12132 2.12132 \r\nC -1.55874 2.683901 -0.795609 3 0 3 \r\nz\r\n\" id=\"C0_0_230e5f01e2\"/>\r\n    </defs>\r\n    <g clip-path=\"url(#p0e93af214d)\">\r\n     <use style=\"fill:#ffffff;fill-opacity:0.8;stroke:#ffffff;stroke-opacity:0.8;\" x=\"199.338655\" xlink:href=\"#C0_0_230e5f01e2\" y=\"58.526314\"/>\r\n    </g>\r\n    <g clip-path=\"url(#p0e93af214d)\">\r\n     <use style=\"fill:#ffffff;fill-opacity:0.8;stroke:#ffffff;stroke-opacity:0.8;\" x=\"150.816916\" xlink:href=\"#C0_0_230e5f01e2\" y=\"58.526314\"/>\r\n    </g>\r\n    <g clip-path=\"url(#p0e93af214d)\">\r\n     <use style=\"fill:#ffffff;fill-opacity:0.8;stroke:#ffffff;stroke-opacity:0.8;\" x=\"102.295177\" xlink:href=\"#C0_0_230e5f01e2\" y=\"169.089025\"/>\r\n    </g>\r\n    <g clip-path=\"url(#p0e93af214d)\">\r\n     <use style=\"fill:#ffffff;fill-opacity:0.8;stroke:#ffffff;stroke-opacity:0.8;\" x=\"102.295177\" xlink:href=\"#C0_0_230e5f01e2\" y=\"58.526314\"/>\r\n    </g>\r\n    <g clip-path=\"url(#p0e93af214d)\">\r\n     <use style=\"fill:#ffffff;fill-opacity:0.8;stroke:#ffffff;stroke-opacity:0.8;\" x=\"344.903872\" xlink:href=\"#C0_0_230e5f01e2\" y=\"95.380551\"/>\r\n    </g>\r\n    <g clip-path=\"url(#p0e93af214d)\">\r\n     <use style=\"fill:#ffffff;fill-opacity:0.8;stroke:#ffffff;stroke-opacity:0.8;\" x=\"150.816916\" xlink:href=\"#C0_0_230e5f01e2\" y=\"58.526314\"/>\r\n    </g>\r\n    <g clip-path=\"url(#p0e93af214d)\">\r\n     <use style=\"fill:#ffffff;fill-opacity:0.8;stroke:#ffffff;stroke-opacity:0.8;\" x=\"102.295177\" xlink:href=\"#C0_0_230e5f01e2\" y=\"58.526314\"/>\r\n    </g>\r\n    <g clip-path=\"url(#p0e93af214d)\">\r\n     <use style=\"fill-opacity:0.8;stroke:#000000;stroke-opacity:0.8;\" x=\"247.860394\" xlink:href=\"#C0_0_230e5f01e2\" y=\"95.380551\"/>\r\n    </g>\r\n    <g clip-path=\"url(#p0e93af214d)\">\r\n     <use style=\"fill-opacity:0.8;stroke:#000000;stroke-opacity:0.8;\" x=\"296.382133\" xlink:href=\"#C0_0_230e5f01e2\" y=\"169.089025\"/>\r\n    </g>\r\n    <g clip-path=\"url(#p0e93af214d)\">\r\n     <use style=\"fill:#ffffff;fill-opacity:0.8;stroke:#ffffff;stroke-opacity:0.8;\" x=\"199.338655\" xlink:href=\"#C0_0_230e5f01e2\" y=\"58.526314\"/>\r\n    </g>\r\n    <g clip-path=\"url(#p0e93af214d)\">\r\n     <use style=\"fill-opacity:0.8;stroke:#000000;stroke-opacity:0.8;\" x=\"247.860394\" xlink:href=\"#C0_0_230e5f01e2\" y=\"132.234788\"/>\r\n    </g>\r\n    <g clip-path=\"url(#p0e93af214d)\">\r\n     <use style=\"fill-opacity:0.8;stroke:#000000;stroke-opacity:0.8;\" x=\"199.338655\" xlink:href=\"#C0_0_230e5f01e2\" y=\"58.526314\"/>\r\n    </g>\r\n    <g clip-path=\"url(#p0e93af214d)\">\r\n     <use style=\"fill-opacity:0.8;stroke:#000000;stroke-opacity:0.8;\" x=\"296.382133\" xlink:href=\"#C0_0_230e5f01e2\" y=\"169.089025\"/>\r\n    </g>\r\n    <g clip-path=\"url(#p0e93af214d)\">\r\n     <use style=\"fill-opacity:0.8;stroke:#000000;stroke-opacity:0.8;\" x=\"247.860394\" xlink:href=\"#C0_0_230e5f01e2\" y=\"95.380551\"/>\r\n    </g>\r\n    <g clip-path=\"url(#p0e93af214d)\">\r\n     <use style=\"fill-opacity:0.8;stroke:#000000;stroke-opacity:0.8;\" x=\"199.338655\" xlink:href=\"#C0_0_230e5f01e2\" y=\"132.234788\"/>\r\n    </g>\r\n    <g clip-path=\"url(#p0e93af214d)\">\r\n     <use style=\"fill:#ffffff;fill-opacity:0.8;stroke:#ffffff;stroke-opacity:0.8;\" x=\"150.816916\" xlink:href=\"#C0_0_230e5f01e2\" y=\"132.234788\"/>\r\n    </g>\r\n    <g clip-path=\"url(#p0e93af214d)\">\r\n     <use style=\"fill-opacity:0.8;stroke:#000000;stroke-opacity:0.8;\" x=\"102.295177\" xlink:href=\"#C0_0_230e5f01e2\" y=\"169.089025\"/>\r\n    </g>\r\n    <g clip-path=\"url(#p0e93af214d)\">\r\n     <use style=\"fill-opacity:0.8;stroke:#000000;stroke-opacity:0.8;\" x=\"150.816916\" xlink:href=\"#C0_0_230e5f01e2\" y=\"132.234788\"/>\r\n    </g>\r\n    <g clip-path=\"url(#p0e93af214d)\">\r\n     <use style=\"fill:#ffffff;fill-opacity:0.8;stroke:#ffffff;stroke-opacity:0.8;\" x=\"199.338655\" xlink:href=\"#C0_0_230e5f01e2\" y=\"132.234788\"/>\r\n    </g>\r\n    <g clip-path=\"url(#p0e93af214d)\">\r\n     <use style=\"fill:#ffffff;fill-opacity:0.8;stroke:#ffffff;stroke-opacity:0.8;\" x=\"102.295177\" xlink:href=\"#C0_0_230e5f01e2\" y=\"132.234788\"/>\r\n    </g>\r\n    <g clip-path=\"url(#p0e93af214d)\">\r\n     <use style=\"fill-opacity:0.8;stroke:#000000;stroke-opacity:0.8;\" x=\"150.816916\" xlink:href=\"#C0_0_230e5f01e2\" y=\"169.089025\"/>\r\n    </g>\r\n    <g clip-path=\"url(#p0e93af214d)\">\r\n     <use style=\"fill:#ffffff;fill-opacity:0.8;stroke:#ffffff;stroke-opacity:0.8;\" x=\"150.816916\" xlink:href=\"#C0_0_230e5f01e2\" y=\"58.526314\"/>\r\n    </g>\r\n    <g clip-path=\"url(#p0e93af214d)\">\r\n     <use style=\"fill:#ffffff;fill-opacity:0.8;stroke:#ffffff;stroke-opacity:0.8;\" x=\"150.816916\" xlink:href=\"#C0_0_230e5f01e2\" y=\"169.089025\"/>\r\n    </g>\r\n    <g clip-path=\"url(#p0e93af214d)\">\r\n     <use style=\"fill:#ffffff;fill-opacity:0.8;stroke:#ffffff;stroke-opacity:0.8;\" x=\"150.816916\" xlink:href=\"#C0_0_230e5f01e2\" y=\"95.380551\"/>\r\n    </g>\r\n    <g clip-path=\"url(#p0e93af214d)\">\r\n     <use style=\"fill:#ffffff;fill-opacity:0.8;stroke:#ffffff;stroke-opacity:0.8;\" x=\"102.295177\" xlink:href=\"#C0_0_230e5f01e2\" y=\"58.526314\"/>\r\n    </g>\r\n    <g clip-path=\"url(#p0e93af214d)\">\r\n     <use style=\"fill:#ffffff;fill-opacity:0.8;stroke:#ffffff;stroke-opacity:0.8;\" x=\"150.816916\" xlink:href=\"#C0_0_230e5f01e2\" y=\"132.234788\"/>\r\n    </g>\r\n    <g clip-path=\"url(#p0e93af214d)\">\r\n     <use style=\"fill:#ffffff;fill-opacity:0.8;stroke:#ffffff;stroke-opacity:0.8;\" x=\"102.295177\" xlink:href=\"#C0_0_230e5f01e2\" y=\"95.380551\"/>\r\n    </g>\r\n    <g clip-path=\"url(#p0e93af214d)\">\r\n     <use style=\"fill:#ffffff;fill-opacity:0.8;stroke:#ffffff;stroke-opacity:0.8;\" x=\"199.338655\" xlink:href=\"#C0_0_230e5f01e2\" y=\"58.526314\"/>\r\n    </g>\r\n    <g clip-path=\"url(#p0e93af214d)\">\r\n     <use style=\"fill:#ffffff;fill-opacity:0.8;stroke:#ffffff;stroke-opacity:0.8;\" x=\"150.816916\" xlink:href=\"#C0_0_230e5f01e2\" y=\"58.526314\"/>\r\n    </g>\r\n    <g clip-path=\"url(#p0e93af214d)\">\r\n     <use style=\"fill:#ffffff;fill-opacity:0.8;stroke:#ffffff;stroke-opacity:0.8;\" x=\"199.338655\" xlink:href=\"#C0_0_230e5f01e2\" y=\"58.526314\"/>\r\n    </g>\r\n    <g clip-path=\"url(#p0e93af214d)\">\r\n     <use style=\"fill-opacity:0.8;stroke:#000000;stroke-opacity:0.8;\" x=\"247.860394\" xlink:href=\"#C0_0_230e5f01e2\" y=\"58.526314\"/>\r\n    </g>\r\n    <g clip-path=\"url(#p0e93af214d)\">\r\n     <use style=\"fill:#ffffff;fill-opacity:0.8;stroke:#ffffff;stroke-opacity:0.8;\" x=\"102.295177\" xlink:href=\"#C0_0_230e5f01e2\" y=\"95.380551\"/>\r\n    </g>\r\n    <g clip-path=\"url(#p0e93af214d)\">\r\n     <use style=\"fill:#ffffff;fill-opacity:0.8;stroke:#ffffff;stroke-opacity:0.8;\" x=\"199.338655\" xlink:href=\"#C0_0_230e5f01e2\" y=\"95.380551\"/>\r\n    </g>\r\n    <g clip-path=\"url(#p0e93af214d)\">\r\n     <use style=\"fill:#ffffff;fill-opacity:0.8;stroke:#ffffff;stroke-opacity:0.8;\" x=\"150.816916\" xlink:href=\"#C0_0_230e5f01e2\" y=\"58.526314\"/>\r\n    </g>\r\n    <g clip-path=\"url(#p0e93af214d)\">\r\n     <use style=\"fill:#ffffff;fill-opacity:0.8;stroke:#ffffff;stroke-opacity:0.8;\" x=\"150.816916\" xlink:href=\"#C0_0_230e5f01e2\" y=\"95.380551\"/>\r\n    </g>\r\n    <g clip-path=\"url(#p0e93af214d)\">\r\n     <use style=\"fill:#ffffff;fill-opacity:0.8;stroke:#ffffff;stroke-opacity:0.8;\" x=\"102.295177\" xlink:href=\"#C0_0_230e5f01e2\" y=\"95.380551\"/>\r\n    </g>\r\n    <g clip-path=\"url(#p0e93af214d)\">\r\n     <use style=\"fill-opacity:0.8;stroke:#000000;stroke-opacity:0.8;\" x=\"247.860394\" xlink:href=\"#C0_0_230e5f01e2\" y=\"169.089025\"/>\r\n    </g>\r\n    <g clip-path=\"url(#p0e93af214d)\">\r\n     <use style=\"fill:#ffffff;fill-opacity:0.8;stroke:#ffffff;stroke-opacity:0.8;\" x=\"150.816916\" xlink:href=\"#C0_0_230e5f01e2\" y=\"95.380551\"/>\r\n    </g>\r\n    <g clip-path=\"url(#p0e93af214d)\">\r\n     <use style=\"fill:#ffffff;fill-opacity:0.8;stroke:#ffffff;stroke-opacity:0.8;\" x=\"199.338655\" xlink:href=\"#C0_0_230e5f01e2\" y=\"58.526314\"/>\r\n    </g>\r\n    <g clip-path=\"url(#p0e93af214d)\">\r\n     <use style=\"fill:#ffffff;fill-opacity:0.8;stroke:#ffffff;stroke-opacity:0.8;\" x=\"247.860394\" xlink:href=\"#C0_0_230e5f01e2\" y=\"169.089025\"/>\r\n    </g>\r\n    <g clip-path=\"url(#p0e93af214d)\">\r\n     <use style=\"fill:#ffffff;fill-opacity:0.8;stroke:#ffffff;stroke-opacity:0.8;\" x=\"102.295177\" xlink:href=\"#C0_0_230e5f01e2\" y=\"169.089025\"/>\r\n    </g>\r\n    <g clip-path=\"url(#p0e93af214d)\">\r\n     <use style=\"fill-opacity:0.8;stroke:#000000;stroke-opacity:0.8;\" x=\"247.860394\" xlink:href=\"#C0_0_230e5f01e2\" y=\"58.526314\"/>\r\n    </g>\r\n    <g clip-path=\"url(#p0e93af214d)\">\r\n     <use style=\"fill:#ffffff;fill-opacity:0.8;stroke:#ffffff;stroke-opacity:0.8;\" x=\"102.295177\" xlink:href=\"#C0_0_230e5f01e2\" y=\"58.526314\"/>\r\n    </g>\r\n    <g clip-path=\"url(#p0e93af214d)\">\r\n     <use style=\"fill-opacity:0.8;stroke:#000000;stroke-opacity:0.8;\" x=\"199.338655\" xlink:href=\"#C0_0_230e5f01e2\" y=\"132.234788\"/>\r\n    </g>\r\n    <g clip-path=\"url(#p0e93af214d)\">\r\n     <use style=\"fill-opacity:0.8;stroke:#000000;stroke-opacity:0.8;\" x=\"247.860394\" xlink:href=\"#C0_0_230e5f01e2\" y=\"95.380551\"/>\r\n    </g>\r\n    <g clip-path=\"url(#p0e93af214d)\">\r\n     <use style=\"fill:#ffffff;fill-opacity:0.8;stroke:#ffffff;stroke-opacity:0.8;\" x=\"199.338655\" xlink:href=\"#C0_0_230e5f01e2\" y=\"132.234788\"/>\r\n    </g>\r\n    <g clip-path=\"url(#p0e93af214d)\">\r\n     <use style=\"fill:#ffffff;fill-opacity:0.8;stroke:#ffffff;stroke-opacity:0.8;\" x=\"199.338655\" xlink:href=\"#C0_0_230e5f01e2\" y=\"58.526314\"/>\r\n    </g>\r\n    <g clip-path=\"url(#p0e93af214d)\">\r\n     <use style=\"fill-opacity:0.8;stroke:#000000;stroke-opacity:0.8;\" x=\"199.338655\" xlink:href=\"#C0_0_230e5f01e2\" y=\"169.089025\"/>\r\n    </g>\r\n    <g clip-path=\"url(#p0e93af214d)\">\r\n     <use style=\"fill-opacity:0.8;stroke:#000000;stroke-opacity:0.8;\" x=\"247.860394\" xlink:href=\"#C0_0_230e5f01e2\" y=\"169.089025\"/>\r\n    </g>\r\n    <g clip-path=\"url(#p0e93af214d)\">\r\n     <use style=\"fill:#ffffff;fill-opacity:0.8;stroke:#ffffff;stroke-opacity:0.8;\" x=\"199.338655\" xlink:href=\"#C0_0_230e5f01e2\" y=\"132.234788\"/>\r\n    </g>\r\n    <g clip-path=\"url(#p0e93af214d)\">\r\n     <use style=\"fill:#ffffff;fill-opacity:0.8;stroke:#ffffff;stroke-opacity:0.8;\" x=\"247.860394\" xlink:href=\"#C0_0_230e5f01e2\" y=\"95.380551\"/>\r\n    </g>\r\n    <g clip-path=\"url(#p0e93af214d)\">\r\n     <use style=\"fill-opacity:0.8;stroke:#000000;stroke-opacity:0.8;\" x=\"199.338655\" xlink:href=\"#C0_0_230e5f01e2\" y=\"95.380551\"/>\r\n    </g>\r\n    <g clip-path=\"url(#p0e93af214d)\">\r\n     <use style=\"fill:#ffffff;fill-opacity:0.8;stroke:#ffffff;stroke-opacity:0.8;\" x=\"102.295177\" xlink:href=\"#C0_0_230e5f01e2\" y=\"169.089025\"/>\r\n    </g>\r\n    <g clip-path=\"url(#p0e93af214d)\">\r\n     <use style=\"fill-opacity:0.8;stroke:#000000;stroke-opacity:0.8;\" x=\"247.860394\" xlink:href=\"#C0_0_230e5f01e2\" y=\"58.526314\"/>\r\n    </g>\r\n    <g clip-path=\"url(#p0e93af214d)\">\r\n     <use style=\"fill-opacity:0.8;stroke:#000000;stroke-opacity:0.8;\" x=\"150.816916\" xlink:href=\"#C0_0_230e5f01e2\" y=\"58.526314\"/>\r\n    </g>\r\n    <g clip-path=\"url(#p0e93af214d)\">\r\n     <use style=\"fill:#ffffff;fill-opacity:0.8;stroke:#ffffff;stroke-opacity:0.8;\" x=\"150.816916\" xlink:href=\"#C0_0_230e5f01e2\" y=\"95.380551\"/>\r\n    </g>\r\n    <g clip-path=\"url(#p0e93af214d)\">\r\n     <use style=\"fill:#ffffff;fill-opacity:0.8;stroke:#ffffff;stroke-opacity:0.8;\" x=\"102.295177\" xlink:href=\"#C0_0_230e5f01e2\" y=\"58.526314\"/>\r\n    </g>\r\n    <g clip-path=\"url(#p0e93af214d)\">\r\n     <use style=\"fill-opacity:0.8;stroke:#000000;stroke-opacity:0.8;\" x=\"199.338655\" xlink:href=\"#C0_0_230e5f01e2\" y=\"58.526314\"/>\r\n    </g>\r\n    <g clip-path=\"url(#p0e93af214d)\">\r\n     <use style=\"fill:#ffffff;fill-opacity:0.8;stroke:#ffffff;stroke-opacity:0.8;\" x=\"199.338655\" xlink:href=\"#C0_0_230e5f01e2\" y=\"95.380551\"/>\r\n    </g>\r\n    <g clip-path=\"url(#p0e93af214d)\">\r\n     <use style=\"fill-opacity:0.8;stroke:#000000;stroke-opacity:0.8;\" x=\"102.295177\" xlink:href=\"#C0_0_230e5f01e2\" y=\"58.526314\"/>\r\n    </g>\r\n    <g clip-path=\"url(#p0e93af214d)\">\r\n     <use style=\"fill:#ffffff;fill-opacity:0.8;stroke:#ffffff;stroke-opacity:0.8;\" x=\"247.860394\" xlink:href=\"#C0_0_230e5f01e2\" y=\"169.089025\"/>\r\n    </g>\r\n    <g clip-path=\"url(#p0e93af214d)\">\r\n     <use style=\"fill:#ffffff;fill-opacity:0.8;stroke:#ffffff;stroke-opacity:0.8;\" x=\"199.338655\" xlink:href=\"#C0_0_230e5f01e2\" y=\"58.526314\"/>\r\n    </g>\r\n    <g clip-path=\"url(#p0e93af214d)\">\r\n     <use style=\"fill:#ffffff;fill-opacity:0.8;stroke:#ffffff;stroke-opacity:0.8;\" x=\"150.816916\" xlink:href=\"#C0_0_230e5f01e2\" y=\"58.526314\"/>\r\n    </g>\r\n    <g clip-path=\"url(#p0e93af214d)\">\r\n     <use style=\"fill:#ffffff;fill-opacity:0.8;stroke:#ffffff;stroke-opacity:0.8;\" x=\"247.860394\" xlink:href=\"#C0_0_230e5f01e2\" y=\"58.526314\"/>\r\n    </g>\r\n    <g clip-path=\"url(#p0e93af214d)\">\r\n     <use style=\"fill:#ffffff;fill-opacity:0.8;stroke:#ffffff;stroke-opacity:0.8;\" x=\"150.816916\" xlink:href=\"#C0_0_230e5f01e2\" y=\"132.234788\"/>\r\n    </g>\r\n    <g clip-path=\"url(#p0e93af214d)\">\r\n     <use style=\"fill-opacity:0.8;stroke:#000000;stroke-opacity:0.8;\" x=\"296.382133\" xlink:href=\"#C0_0_230e5f01e2\" y=\"95.380551\"/>\r\n    </g>\r\n    <g clip-path=\"url(#p0e93af214d)\">\r\n     <use style=\"fill-opacity:0.8;stroke:#000000;stroke-opacity:0.8;\" x=\"150.816916\" xlink:href=\"#C0_0_230e5f01e2\" y=\"132.234788\"/>\r\n    </g>\r\n    <g clip-path=\"url(#p0e93af214d)\">\r\n     <use style=\"fill:#ffffff;fill-opacity:0.8;stroke:#ffffff;stroke-opacity:0.8;\" x=\"247.860394\" xlink:href=\"#C0_0_230e5f01e2\" y=\"58.526314\"/>\r\n    </g>\r\n    <g clip-path=\"url(#p0e93af214d)\">\r\n     <use style=\"fill:#ffffff;fill-opacity:0.8;stroke:#ffffff;stroke-opacity:0.8;\" x=\"247.860394\" xlink:href=\"#C0_0_230e5f01e2\" y=\"132.234788\"/>\r\n    </g>\r\n    <g clip-path=\"url(#p0e93af214d)\">\r\n     <use style=\"fill-opacity:0.8;stroke:#000000;stroke-opacity:0.8;\" x=\"247.860394\" xlink:href=\"#C0_0_230e5f01e2\" y=\"132.234788\"/>\r\n    </g>\r\n    <g clip-path=\"url(#p0e93af214d)\">\r\n     <use style=\"fill:#ffffff;fill-opacity:0.8;stroke:#ffffff;stroke-opacity:0.8;\" x=\"102.295177\" xlink:href=\"#C0_0_230e5f01e2\" y=\"58.526314\"/>\r\n    </g>\r\n    <g clip-path=\"url(#p0e93af214d)\">\r\n     <use style=\"fill:#ffffff;fill-opacity:0.8;stroke:#ffffff;stroke-opacity:0.8;\" x=\"247.860394\" xlink:href=\"#C0_0_230e5f01e2\" y=\"95.380551\"/>\r\n    </g>\r\n    <g clip-path=\"url(#p0e93af214d)\">\r\n     <use style=\"fill:#ffffff;fill-opacity:0.8;stroke:#ffffff;stroke-opacity:0.8;\" x=\"150.816916\" xlink:href=\"#C0_0_230e5f01e2\" y=\"58.526314\"/>\r\n    </g>\r\n    <g clip-path=\"url(#p0e93af214d)\">\r\n     <use style=\"fill-opacity:0.8;stroke:#000000;stroke-opacity:0.8;\" x=\"150.816916\" xlink:href=\"#C0_0_230e5f01e2\" y=\"95.380551\"/>\r\n    </g>\r\n    <g clip-path=\"url(#p0e93af214d)\">\r\n     <use style=\"fill:#ffffff;fill-opacity:0.8;stroke:#ffffff;stroke-opacity:0.8;\" x=\"344.903872\" xlink:href=\"#C0_0_230e5f01e2\" y=\"58.526314\"/>\r\n    </g>\r\n    <g clip-path=\"url(#p0e93af214d)\">\r\n     <use style=\"fill:#ffffff;fill-opacity:0.8;stroke:#ffffff;stroke-opacity:0.8;\" x=\"102.295177\" xlink:href=\"#C0_0_230e5f01e2\" y=\"169.089025\"/>\r\n    </g>\r\n    <g clip-path=\"url(#p0e93af214d)\">\r\n     <use style=\"fill:#ffffff;fill-opacity:0.8;stroke:#ffffff;stroke-opacity:0.8;\" x=\"102.295177\" xlink:href=\"#C0_0_230e5f01e2\" y=\"95.380551\"/>\r\n    </g>\r\n    <g clip-path=\"url(#p0e93af214d)\">\r\n     <use style=\"fill:#ffffff;fill-opacity:0.8;stroke:#ffffff;stroke-opacity:0.8;\" x=\"199.338655\" xlink:href=\"#C0_0_230e5f01e2\" y=\"132.234788\"/>\r\n    </g>\r\n    <g clip-path=\"url(#p0e93af214d)\">\r\n     <use style=\"fill-opacity:0.8;stroke:#000000;stroke-opacity:0.8;\" x=\"150.816916\" xlink:href=\"#C0_0_230e5f01e2\" y=\"58.526314\"/>\r\n    </g>\r\n    <g clip-path=\"url(#p0e93af214d)\">\r\n     <use style=\"fill:#ffffff;fill-opacity:0.8;stroke:#ffffff;stroke-opacity:0.8;\" x=\"247.860394\" xlink:href=\"#C0_0_230e5f01e2\" y=\"95.380551\"/>\r\n    </g>\r\n    <g clip-path=\"url(#p0e93af214d)\">\r\n     <use style=\"fill:#ffffff;fill-opacity:0.8;stroke:#ffffff;stroke-opacity:0.8;\" x=\"199.338655\" xlink:href=\"#C0_0_230e5f01e2\" y=\"95.380551\"/>\r\n    </g>\r\n    <g clip-path=\"url(#p0e93af214d)\">\r\n     <use style=\"fill-opacity:0.8;stroke:#000000;stroke-opacity:0.8;\" x=\"199.338655\" xlink:href=\"#C0_0_230e5f01e2\" y=\"169.089025\"/>\r\n    </g>\r\n    <g clip-path=\"url(#p0e93af214d)\">\r\n     <use style=\"fill:#ffffff;fill-opacity:0.8;stroke:#ffffff;stroke-opacity:0.8;\" x=\"150.816916\" xlink:href=\"#C0_0_230e5f01e2\" y=\"95.380551\"/>\r\n    </g>\r\n    <g clip-path=\"url(#p0e93af214d)\">\r\n     <use style=\"fill:#ffffff;fill-opacity:0.8;stroke:#ffffff;stroke-opacity:0.8;\" x=\"102.295177\" xlink:href=\"#C0_0_230e5f01e2\" y=\"58.526314\"/>\r\n    </g>\r\n    <g clip-path=\"url(#p0e93af214d)\">\r\n     <use style=\"fill:#ffffff;fill-opacity:0.8;stroke:#ffffff;stroke-opacity:0.8;\" x=\"150.816916\" xlink:href=\"#C0_0_230e5f01e2\" y=\"132.234788\"/>\r\n    </g>\r\n    <g clip-path=\"url(#p0e93af214d)\">\r\n     <use style=\"fill:#ffffff;fill-opacity:0.8;stroke:#ffffff;stroke-opacity:0.8;\" x=\"247.860394\" xlink:href=\"#C0_0_230e5f01e2\" y=\"132.234788\"/>\r\n    </g>\r\n    <g clip-path=\"url(#p0e93af214d)\">\r\n     <use style=\"fill:#ffffff;fill-opacity:0.8;stroke:#ffffff;stroke-opacity:0.8;\" x=\"102.295177\" xlink:href=\"#C0_0_230e5f01e2\" y=\"58.526314\"/>\r\n    </g>\r\n    <g clip-path=\"url(#p0e93af214d)\">\r\n     <use style=\"fill:#ffffff;fill-opacity:0.8;stroke:#ffffff;stroke-opacity:0.8;\" x=\"247.860394\" xlink:href=\"#C0_0_230e5f01e2\" y=\"132.234788\"/>\r\n    </g>\r\n    <g clip-path=\"url(#p0e93af214d)\">\r\n     <use style=\"fill:#ffffff;fill-opacity:0.8;stroke:#ffffff;stroke-opacity:0.8;\" x=\"102.295177\" xlink:href=\"#C0_0_230e5f01e2\" y=\"58.526314\"/>\r\n    </g>\r\n    <g clip-path=\"url(#p0e93af214d)\">\r\n     <use style=\"fill-opacity:0.8;stroke:#000000;stroke-opacity:0.8;\" x=\"199.338655\" xlink:href=\"#C0_0_230e5f01e2\" y=\"58.526314\"/>\r\n    </g>\r\n    <g clip-path=\"url(#p0e93af214d)\">\r\n     <use style=\"fill:#ffffff;fill-opacity:0.8;stroke:#ffffff;stroke-opacity:0.8;\" x=\"247.860394\" xlink:href=\"#C0_0_230e5f01e2\" y=\"58.526314\"/>\r\n    </g>\r\n    <g clip-path=\"url(#p0e93af214d)\">\r\n     <use style=\"fill:#ffffff;fill-opacity:0.8;stroke:#ffffff;stroke-opacity:0.8;\" x=\"102.295177\" xlink:href=\"#C0_0_230e5f01e2\" y=\"95.380551\"/>\r\n    </g>\r\n    <g clip-path=\"url(#p0e93af214d)\">\r\n     <use style=\"fill:#ffffff;fill-opacity:0.8;stroke:#ffffff;stroke-opacity:0.8;\" x=\"247.860394\" xlink:href=\"#C0_0_230e5f01e2\" y=\"169.089025\"/>\r\n    </g>\r\n    <g clip-path=\"url(#p0e93af214d)\">\r\n     <use style=\"fill-opacity:0.8;stroke:#000000;stroke-opacity:0.8;\" x=\"102.295177\" xlink:href=\"#C0_0_230e5f01e2\" y=\"132.234788\"/>\r\n    </g>\r\n    <g clip-path=\"url(#p0e93af214d)\">\r\n     <use style=\"fill:#ffffff;fill-opacity:0.8;stroke:#ffffff;stroke-opacity:0.8;\" x=\"247.860394\" xlink:href=\"#C0_0_230e5f01e2\" y=\"58.526314\"/>\r\n    </g>\r\n    <g clip-path=\"url(#p0e93af214d)\">\r\n     <use style=\"fill-opacity:0.8;stroke:#000000;stroke-opacity:0.8;\" x=\"150.816916\" xlink:href=\"#C0_0_230e5f01e2\" y=\"58.526314\"/>\r\n    </g>\r\n    <g clip-path=\"url(#p0e93af214d)\">\r\n     <use style=\"fill:#ffffff;fill-opacity:0.8;stroke:#ffffff;stroke-opacity:0.8;\" x=\"247.860394\" xlink:href=\"#C0_0_230e5f01e2\" y=\"169.089025\"/>\r\n    </g>\r\n    <g clip-path=\"url(#p0e93af214d)\">\r\n     <use style=\"fill-opacity:0.8;stroke:#000000;stroke-opacity:0.8;\" x=\"247.860394\" xlink:href=\"#C0_0_230e5f01e2\" y=\"132.234788\"/>\r\n    </g>\r\n    <g clip-path=\"url(#p0e93af214d)\">\r\n     <use style=\"fill:#ffffff;fill-opacity:0.8;stroke:#ffffff;stroke-opacity:0.8;\" x=\"150.816916\" xlink:href=\"#C0_0_230e5f01e2\" y=\"95.380551\"/>\r\n    </g>\r\n    <g clip-path=\"url(#p0e93af214d)\">\r\n     <use style=\"fill:#ffffff;fill-opacity:0.8;stroke:#ffffff;stroke-opacity:0.8;\" x=\"199.338655\" xlink:href=\"#C0_0_230e5f01e2\" y=\"132.234788\"/>\r\n    </g>\r\n    <g clip-path=\"url(#p0e93af214d)\">\r\n     <use style=\"fill:#ffffff;fill-opacity:0.8;stroke:#ffffff;stroke-opacity:0.8;\" x=\"102.295177\" xlink:href=\"#C0_0_230e5f01e2\" y=\"58.526314\"/>\r\n    </g>\r\n    <g clip-path=\"url(#p0e93af214d)\">\r\n     <use style=\"fill:#ffffff;fill-opacity:0.8;stroke:#ffffff;stroke-opacity:0.8;\" x=\"150.816916\" xlink:href=\"#C0_0_230e5f01e2\" y=\"95.380551\"/>\r\n    </g>\r\n    <g clip-path=\"url(#p0e93af214d)\">\r\n     <use style=\"fill-opacity:0.8;stroke:#000000;stroke-opacity:0.8;\" x=\"247.860394\" xlink:href=\"#C0_0_230e5f01e2\" y=\"132.234788\"/>\r\n    </g>\r\n    <g clip-path=\"url(#p0e93af214d)\">\r\n     <use style=\"fill:#ffffff;fill-opacity:0.8;stroke:#ffffff;stroke-opacity:0.8;\" x=\"199.338655\" xlink:href=\"#C0_0_230e5f01e2\" y=\"95.380551\"/>\r\n    </g>\r\n    <g clip-path=\"url(#p0e93af214d)\">\r\n     <use style=\"fill:#ffffff;fill-opacity:0.8;stroke:#ffffff;stroke-opacity:0.8;\" x=\"247.860394\" xlink:href=\"#C0_0_230e5f01e2\" y=\"58.526314\"/>\r\n    </g>\r\n    <g clip-path=\"url(#p0e93af214d)\">\r\n     <use style=\"fill-opacity:0.8;stroke:#000000;stroke-opacity:0.8;\" x=\"296.382133\" xlink:href=\"#C0_0_230e5f01e2\" y=\"132.234788\"/>\r\n    </g>\r\n    <g clip-path=\"url(#p0e93af214d)\">\r\n     <use style=\"fill:#ffffff;fill-opacity:0.8;stroke:#ffffff;stroke-opacity:0.8;\" x=\"199.338655\" xlink:href=\"#C0_0_230e5f01e2\" y=\"58.526314\"/>\r\n    </g>\r\n    <g clip-path=\"url(#p0e93af214d)\">\r\n     <use style=\"fill-opacity:0.8;stroke:#000000;stroke-opacity:0.8;\" x=\"102.295177\" xlink:href=\"#C0_0_230e5f01e2\" y=\"58.526314\"/>\r\n    </g>\r\n    <g clip-path=\"url(#p0e93af214d)\">\r\n     <use style=\"fill-opacity:0.8;stroke:#000000;stroke-opacity:0.8;\" x=\"150.816916\" xlink:href=\"#C0_0_230e5f01e2\" y=\"95.380551\"/>\r\n    </g>\r\n    <g clip-path=\"url(#p0e93af214d)\">\r\n     <use style=\"fill-opacity:0.8;stroke:#000000;stroke-opacity:0.8;\" x=\"150.816916\" xlink:href=\"#C0_0_230e5f01e2\" y=\"132.234788\"/>\r\n    </g>\r\n    <g clip-path=\"url(#p0e93af214d)\">\r\n     <use style=\"fill-opacity:0.8;stroke:#000000;stroke-opacity:0.8;\" x=\"247.860394\" xlink:href=\"#C0_0_230e5f01e2\" y=\"95.380551\"/>\r\n    </g>\r\n    <g clip-path=\"url(#p0e93af214d)\">\r\n     <use style=\"fill:#ffffff;fill-opacity:0.8;stroke:#ffffff;stroke-opacity:0.8;\" x=\"150.816916\" xlink:href=\"#C0_0_230e5f01e2\" y=\"58.526314\"/>\r\n    </g>\r\n    <g clip-path=\"url(#p0e93af214d)\">\r\n     <use style=\"fill:#ffffff;fill-opacity:0.8;stroke:#ffffff;stroke-opacity:0.8;\" x=\"102.295177\" xlink:href=\"#C0_0_230e5f01e2\" y=\"58.526314\"/>\r\n    </g>\r\n    <g clip-path=\"url(#p0e93af214d)\">\r\n     <use style=\"fill-opacity:0.8;stroke:#000000;stroke-opacity:0.8;\" x=\"199.338655\" xlink:href=\"#C0_0_230e5f01e2\" y=\"95.380551\"/>\r\n    </g>\r\n    <g clip-path=\"url(#p0e93af214d)\">\r\n     <use style=\"fill:#ffffff;fill-opacity:0.8;stroke:#ffffff;stroke-opacity:0.8;\" x=\"199.338655\" xlink:href=\"#C0_0_230e5f01e2\" y=\"132.234788\"/>\r\n    </g>\r\n    <g clip-path=\"url(#p0e93af214d)\">\r\n     <use style=\"fill:#ffffff;fill-opacity:0.8;stroke:#ffffff;stroke-opacity:0.8;\" x=\"296.382133\" xlink:href=\"#C0_0_230e5f01e2\" y=\"132.234788\"/>\r\n    </g>\r\n    <g clip-path=\"url(#p0e93af214d)\">\r\n     <use style=\"fill:#ffffff;fill-opacity:0.8;stroke:#ffffff;stroke-opacity:0.8;\" x=\"150.816916\" xlink:href=\"#C0_0_230e5f01e2\" y=\"132.234788\"/>\r\n    </g>\r\n    <g clip-path=\"url(#p0e93af214d)\">\r\n     <use style=\"fill:#ffffff;fill-opacity:0.8;stroke:#ffffff;stroke-opacity:0.8;\" x=\"102.295177\" xlink:href=\"#C0_0_230e5f01e2\" y=\"58.526314\"/>\r\n    </g>\r\n    <g clip-path=\"url(#p0e93af214d)\">\r\n     <use style=\"fill:#ffffff;fill-opacity:0.8;stroke:#ffffff;stroke-opacity:0.8;\" x=\"150.816916\" xlink:href=\"#C0_0_230e5f01e2\" y=\"58.526314\"/>\r\n    </g>\r\n    <g clip-path=\"url(#p0e93af214d)\">\r\n     <use style=\"fill-opacity:0.8;stroke:#000000;stroke-opacity:0.8;\" x=\"199.338655\" xlink:href=\"#C0_0_230e5f01e2\" y=\"169.089025\"/>\r\n    </g>\r\n    <g clip-path=\"url(#p0e93af214d)\">\r\n     <use style=\"fill:#ffffff;fill-opacity:0.8;stroke:#ffffff;stroke-opacity:0.8;\" x=\"102.295177\" xlink:href=\"#C0_0_230e5f01e2\" y=\"95.380551\"/>\r\n    </g>\r\n    <g clip-path=\"url(#p0e93af214d)\">\r\n     <use style=\"fill:#ffffff;fill-opacity:0.8;stroke:#ffffff;stroke-opacity:0.8;\" x=\"102.295177\" xlink:href=\"#C0_0_230e5f01e2\" y=\"58.526314\"/>\r\n    </g>\r\n    <g clip-path=\"url(#p0e93af214d)\">\r\n     <use style=\"fill:#ffffff;fill-opacity:0.8;stroke:#ffffff;stroke-opacity:0.8;\" x=\"150.816916\" xlink:href=\"#C0_0_230e5f01e2\" y=\"58.526314\"/>\r\n    </g>\r\n    <g clip-path=\"url(#p0e93af214d)\">\r\n     <use style=\"fill:#ffffff;fill-opacity:0.8;stroke:#ffffff;stroke-opacity:0.8;\" x=\"199.338655\" xlink:href=\"#C0_0_230e5f01e2\" y=\"169.089025\"/>\r\n    </g>\r\n    <g clip-path=\"url(#p0e93af214d)\">\r\n     <use style=\"fill-opacity:0.8;stroke:#000000;stroke-opacity:0.8;\" x=\"150.816916\" xlink:href=\"#C0_0_230e5f01e2\" y=\"95.380551\"/>\r\n    </g>\r\n    <g clip-path=\"url(#p0e93af214d)\">\r\n     <use style=\"fill-opacity:0.8;stroke:#000000;stroke-opacity:0.8;\" x=\"102.295177\" xlink:href=\"#C0_0_230e5f01e2\" y=\"132.234788\"/>\r\n    </g>\r\n    <g clip-path=\"url(#p0e93af214d)\">\r\n     <use style=\"fill:#ffffff;fill-opacity:0.8;stroke:#ffffff;stroke-opacity:0.8;\" x=\"199.338655\" xlink:href=\"#C0_0_230e5f01e2\" y=\"132.234788\"/>\r\n    </g>\r\n    <g clip-path=\"url(#p0e93af214d)\">\r\n     <use style=\"fill:#ffffff;fill-opacity:0.8;stroke:#ffffff;stroke-opacity:0.8;\" x=\"150.816916\" xlink:href=\"#C0_0_230e5f01e2\" y=\"132.234788\"/>\r\n    </g>\r\n    <g clip-path=\"url(#p0e93af214d)\">\r\n     <use style=\"fill:#ffffff;fill-opacity:0.8;stroke:#ffffff;stroke-opacity:0.8;\" x=\"150.816916\" xlink:href=\"#C0_0_230e5f01e2\" y=\"95.380551\"/>\r\n    </g>\r\n    <g clip-path=\"url(#p0e93af214d)\">\r\n     <use style=\"fill-opacity:0.8;stroke:#000000;stroke-opacity:0.8;\" x=\"199.338655\" xlink:href=\"#C0_0_230e5f01e2\" y=\"95.380551\"/>\r\n    </g>\r\n    <g clip-path=\"url(#p0e93af214d)\">\r\n     <use style=\"fill-opacity:0.8;stroke:#000000;stroke-opacity:0.8;\" x=\"102.295177\" xlink:href=\"#C0_0_230e5f01e2\" y=\"95.380551\"/>\r\n    </g>\r\n    <g clip-path=\"url(#p0e93af214d)\">\r\n     <use style=\"fill:#ffffff;fill-opacity:0.8;stroke:#ffffff;stroke-opacity:0.8;\" x=\"247.860394\" xlink:href=\"#C0_0_230e5f01e2\" y=\"58.526314\"/>\r\n    </g>\r\n    <g clip-path=\"url(#p0e93af214d)\">\r\n     <use style=\"fill:#ffffff;fill-opacity:0.8;stroke:#ffffff;stroke-opacity:0.8;\" x=\"102.295177\" xlink:href=\"#C0_0_230e5f01e2\" y=\"58.526314\"/>\r\n    </g>\r\n    <g clip-path=\"url(#p0e93af214d)\">\r\n     <use style=\"fill:#ffffff;fill-opacity:0.8;stroke:#ffffff;stroke-opacity:0.8;\" x=\"150.816916\" xlink:href=\"#C0_0_230e5f01e2\" y=\"132.234788\"/>\r\n    </g>\r\n    <g clip-path=\"url(#p0e93af214d)\">\r\n     <use style=\"fill:#ffffff;fill-opacity:0.8;stroke:#ffffff;stroke-opacity:0.8;\" x=\"247.860394\" xlink:href=\"#C0_0_230e5f01e2\" y=\"169.089025\"/>\r\n    </g>\r\n    <g clip-path=\"url(#p0e93af214d)\">\r\n     <use style=\"fill:#ffffff;fill-opacity:0.8;stroke:#ffffff;stroke-opacity:0.8;\" x=\"102.295177\" xlink:href=\"#C0_0_230e5f01e2\" y=\"58.526314\"/>\r\n    </g>\r\n    <g clip-path=\"url(#p0e93af214d)\">\r\n     <use style=\"fill-opacity:0.8;stroke:#000000;stroke-opacity:0.8;\" x=\"199.338655\" xlink:href=\"#C0_0_230e5f01e2\" y=\"169.089025\"/>\r\n    </g>\r\n    <g clip-path=\"url(#p0e93af214d)\">\r\n     <use style=\"fill:#ffffff;fill-opacity:0.8;stroke:#ffffff;stroke-opacity:0.8;\" x=\"296.382133\" xlink:href=\"#C0_0_230e5f01e2\" y=\"132.234788\"/>\r\n    </g>\r\n    <g clip-path=\"url(#p0e93af214d)\">\r\n     <use style=\"fill:#ffffff;fill-opacity:0.8;stroke:#ffffff;stroke-opacity:0.8;\" x=\"296.382133\" xlink:href=\"#C0_0_230e5f01e2\" y=\"169.089025\"/>\r\n    </g>\r\n    <g clip-path=\"url(#p0e93af214d)\">\r\n     <use style=\"fill:#ffffff;fill-opacity:0.8;stroke:#ffffff;stroke-opacity:0.8;\" x=\"199.338655\" xlink:href=\"#C0_0_230e5f01e2\" y=\"132.234788\"/>\r\n    </g>\r\n    <g clip-path=\"url(#p0e93af214d)\">\r\n     <use style=\"fill-opacity:0.8;stroke:#000000;stroke-opacity:0.8;\" x=\"247.860394\" xlink:href=\"#C0_0_230e5f01e2\" y=\"95.380551\"/>\r\n    </g>\r\n    <g clip-path=\"url(#p0e93af214d)\">\r\n     <use style=\"fill:#ffffff;fill-opacity:0.8;stroke:#ffffff;stroke-opacity:0.8;\" x=\"102.295177\" xlink:href=\"#C0_0_230e5f01e2\" y=\"58.526314\"/>\r\n    </g>\r\n    <g clip-path=\"url(#p0e93af214d)\">\r\n     <use style=\"fill:#ffffff;fill-opacity:0.8;stroke:#ffffff;stroke-opacity:0.8;\" x=\"296.382133\" xlink:href=\"#C0_0_230e5f01e2\" y=\"169.089025\"/>\r\n    </g>\r\n    <g clip-path=\"url(#p0e93af214d)\">\r\n     <use style=\"fill:#ffffff;fill-opacity:0.8;stroke:#ffffff;stroke-opacity:0.8;\" x=\"199.338655\" xlink:href=\"#C0_0_230e5f01e2\" y=\"58.526314\"/>\r\n    </g>\r\n    <g clip-path=\"url(#p0e93af214d)\">\r\n     <use style=\"fill:#ffffff;fill-opacity:0.8;stroke:#ffffff;stroke-opacity:0.8;\" x=\"247.860394\" xlink:href=\"#C0_0_230e5f01e2\" y=\"58.526314\"/>\r\n    </g>\r\n    <g clip-path=\"url(#p0e93af214d)\">\r\n     <use style=\"fill:#ffffff;fill-opacity:0.8;stroke:#ffffff;stroke-opacity:0.8;\" x=\"150.816916\" xlink:href=\"#C0_0_230e5f01e2\" y=\"95.380551\"/>\r\n    </g>\r\n    <g clip-path=\"url(#p0e93af214d)\">\r\n     <use style=\"fill:#ffffff;fill-opacity:0.8;stroke:#ffffff;stroke-opacity:0.8;\" x=\"150.816916\" xlink:href=\"#C0_0_230e5f01e2\" y=\"132.234788\"/>\r\n    </g>\r\n    <g clip-path=\"url(#p0e93af214d)\">\r\n     <use style=\"fill-opacity:0.8;stroke:#000000;stroke-opacity:0.8;\" x=\"102.295177\" xlink:href=\"#C0_0_230e5f01e2\" y=\"132.234788\"/>\r\n    </g>\r\n    <g clip-path=\"url(#p0e93af214d)\">\r\n     <use style=\"fill-opacity:0.8;stroke:#000000;stroke-opacity:0.8;\" x=\"199.338655\" xlink:href=\"#C0_0_230e5f01e2\" y=\"169.089025\"/>\r\n    </g>\r\n    <g clip-path=\"url(#p0e93af214d)\">\r\n     <use style=\"fill:#ffffff;fill-opacity:0.8;stroke:#ffffff;stroke-opacity:0.8;\" x=\"247.860394\" xlink:href=\"#C0_0_230e5f01e2\" y=\"58.526314\"/>\r\n    </g>\r\n    <g clip-path=\"url(#p0e93af214d)\">\r\n     <use style=\"fill-opacity:0.8;stroke:#000000;stroke-opacity:0.8;\" x=\"150.816916\" xlink:href=\"#C0_0_230e5f01e2\" y=\"95.380551\"/>\r\n    </g>\r\n    <g clip-path=\"url(#p0e93af214d)\">\r\n     <use style=\"fill-opacity:0.8;stroke:#000000;stroke-opacity:0.8;\" x=\"199.338655\" xlink:href=\"#C0_0_230e5f01e2\" y=\"132.234788\"/>\r\n    </g>\r\n    <g clip-path=\"url(#p0e93af214d)\">\r\n     <use style=\"fill:#ffffff;fill-opacity:0.8;stroke:#ffffff;stroke-opacity:0.8;\" x=\"102.295177\" xlink:href=\"#C0_0_230e5f01e2\" y=\"95.380551\"/>\r\n    </g>\r\n    <g clip-path=\"url(#p0e93af214d)\">\r\n     <use style=\"fill:#ffffff;fill-opacity:0.8;stroke:#ffffff;stroke-opacity:0.8;\" x=\"150.816916\" xlink:href=\"#C0_0_230e5f01e2\" y=\"132.234788\"/>\r\n    </g>\r\n    <g clip-path=\"url(#p0e93af214d)\">\r\n     <use style=\"fill:#ffffff;fill-opacity:0.8;stroke:#ffffff;stroke-opacity:0.8;\" x=\"150.816916\" xlink:href=\"#C0_0_230e5f01e2\" y=\"132.234788\"/>\r\n    </g>\r\n    <g clip-path=\"url(#p0e93af214d)\">\r\n     <use style=\"fill:#ffffff;fill-opacity:0.8;stroke:#ffffff;stroke-opacity:0.8;\" x=\"199.338655\" xlink:href=\"#C0_0_230e5f01e2\" y=\"58.526314\"/>\r\n    </g>\r\n    <g clip-path=\"url(#p0e93af214d)\">\r\n     <use style=\"fill:#ffffff;fill-opacity:0.8;stroke:#ffffff;stroke-opacity:0.8;\" x=\"199.338655\" xlink:href=\"#C0_0_230e5f01e2\" y=\"132.234788\"/>\r\n    </g>\r\n    <g clip-path=\"url(#p0e93af214d)\">\r\n     <use style=\"fill:#ffffff;fill-opacity:0.8;stroke:#ffffff;stroke-opacity:0.8;\" x=\"199.338655\" xlink:href=\"#C0_0_230e5f01e2\" y=\"205.943263\"/>\r\n    </g>\r\n    <g clip-path=\"url(#p0e93af214d)\">\r\n     <use style=\"fill-opacity:0.8;stroke:#000000;stroke-opacity:0.8;\" x=\"102.295177\" xlink:href=\"#C0_0_230e5f01e2\" y=\"95.380551\"/>\r\n    </g>\r\n    <g clip-path=\"url(#p0e93af214d)\">\r\n     <use style=\"fill-opacity:0.8;stroke:#000000;stroke-opacity:0.8;\" x=\"199.338655\" xlink:href=\"#C0_0_230e5f01e2\" y=\"132.234788\"/>\r\n    </g>\r\n    <g clip-path=\"url(#p0e93af214d)\">\r\n     <use style=\"fill-opacity:0.8;stroke:#000000;stroke-opacity:0.8;\" x=\"102.295177\" xlink:href=\"#C0_0_230e5f01e2\" y=\"95.380551\"/>\r\n    </g>\r\n    <g clip-path=\"url(#p0e93af214d)\">\r\n     <use style=\"fill:#ffffff;fill-opacity:0.8;stroke:#ffffff;stroke-opacity:0.8;\" x=\"199.338655\" xlink:href=\"#C0_0_230e5f01e2\" y=\"169.089025\"/>\r\n    </g>\r\n    <g clip-path=\"url(#p0e93af214d)\">\r\n     <use style=\"fill:#ffffff;fill-opacity:0.8;stroke:#ffffff;stroke-opacity:0.8;\" x=\"150.816916\" xlink:href=\"#C0_0_230e5f01e2\" y=\"58.526314\"/>\r\n    </g>\r\n    <g clip-path=\"url(#p0e93af214d)\">\r\n     <use style=\"fill:#ffffff;fill-opacity:0.8;stroke:#ffffff;stroke-opacity:0.8;\" x=\"102.295177\" xlink:href=\"#C0_0_230e5f01e2\" y=\"132.234788\"/>\r\n    </g>\r\n    <g clip-path=\"url(#p0e93af214d)\">\r\n     <use style=\"fill:#ffffff;fill-opacity:0.8;stroke:#ffffff;stroke-opacity:0.8;\" x=\"150.816916\" xlink:href=\"#C0_0_230e5f01e2\" y=\"95.380551\"/>\r\n    </g>\r\n    <g clip-path=\"url(#p0e93af214d)\">\r\n     <use style=\"fill-opacity:0.8;stroke:#000000;stroke-opacity:0.8;\" x=\"102.295177\" xlink:href=\"#C0_0_230e5f01e2\" y=\"58.526314\"/>\r\n    </g>\r\n    <g clip-path=\"url(#p0e93af214d)\">\r\n     <use style=\"fill-opacity:0.8;stroke:#000000;stroke-opacity:0.8;\" x=\"150.816916\" xlink:href=\"#C0_0_230e5f01e2\" y=\"58.526314\"/>\r\n    </g>\r\n    <g clip-path=\"url(#p0e93af214d)\">\r\n     <use style=\"fill:#ffffff;fill-opacity:0.8;stroke:#ffffff;stroke-opacity:0.8;\" x=\"199.338655\" xlink:href=\"#C0_0_230e5f01e2\" y=\"169.089025\"/>\r\n    </g>\r\n    <g clip-path=\"url(#p0e93af214d)\">\r\n     <use style=\"fill:#ffffff;fill-opacity:0.8;stroke:#ffffff;stroke-opacity:0.8;\" x=\"102.295177\" xlink:href=\"#C0_0_230e5f01e2\" y=\"95.380551\"/>\r\n    </g>\r\n    <g clip-path=\"url(#p0e93af214d)\">\r\n     <use style=\"fill:#ffffff;fill-opacity:0.8;stroke:#ffffff;stroke-opacity:0.8;\" x=\"199.338655\" xlink:href=\"#C0_0_230e5f01e2\" y=\"95.380551\"/>\r\n    </g>\r\n    <g clip-path=\"url(#p0e93af214d)\">\r\n     <use style=\"fill-opacity:0.8;stroke:#000000;stroke-opacity:0.8;\" x=\"102.295177\" xlink:href=\"#C0_0_230e5f01e2\" y=\"58.526314\"/>\r\n    </g>\r\n    <g clip-path=\"url(#p0e93af214d)\">\r\n     <use style=\"fill-opacity:0.8;stroke:#000000;stroke-opacity:0.8;\" x=\"247.860394\" xlink:href=\"#C0_0_230e5f01e2\" y=\"132.234788\"/>\r\n    </g>\r\n    <g clip-path=\"url(#p0e93af214d)\">\r\n     <use style=\"fill:#ffffff;fill-opacity:0.8;stroke:#ffffff;stroke-opacity:0.8;\" x=\"150.816916\" xlink:href=\"#C0_0_230e5f01e2\" y=\"58.526314\"/>\r\n    </g>\r\n    <g clip-path=\"url(#p0e93af214d)\">\r\n     <use style=\"fill-opacity:0.8;stroke:#000000;stroke-opacity:0.8;\" x=\"296.382133\" xlink:href=\"#C0_0_230e5f01e2\" y=\"95.380551\"/>\r\n    </g>\r\n    <g clip-path=\"url(#p0e93af214d)\">\r\n     <use style=\"fill:#ffffff;fill-opacity:0.8;stroke:#ffffff;stroke-opacity:0.8;\" x=\"199.338655\" xlink:href=\"#C0_0_230e5f01e2\" y=\"58.526314\"/>\r\n    </g>\r\n    <g clip-path=\"url(#p0e93af214d)\">\r\n     <use style=\"fill:#ffffff;fill-opacity:0.8;stroke:#ffffff;stroke-opacity:0.8;\" x=\"102.295177\" xlink:href=\"#C0_0_230e5f01e2\" y=\"58.526314\"/>\r\n    </g>\r\n    <g clip-path=\"url(#p0e93af214d)\">\r\n     <use style=\"fill:#ffffff;fill-opacity:0.8;stroke:#ffffff;stroke-opacity:0.8;\" x=\"199.338655\" xlink:href=\"#C0_0_230e5f01e2\" y=\"95.380551\"/>\r\n    </g>\r\n    <g clip-path=\"url(#p0e93af214d)\">\r\n     <use style=\"fill:#ffffff;fill-opacity:0.8;stroke:#ffffff;stroke-opacity:0.8;\" x=\"102.295177\" xlink:href=\"#C0_0_230e5f01e2\" y=\"58.526314\"/>\r\n    </g>\r\n    <g clip-path=\"url(#p0e93af214d)\">\r\n     <use style=\"fill:#ffffff;fill-opacity:0.8;stroke:#ffffff;stroke-opacity:0.8;\" x=\"199.338655\" xlink:href=\"#C0_0_230e5f01e2\" y=\"58.526314\"/>\r\n    </g>\r\n    <g clip-path=\"url(#p0e93af214d)\">\r\n     <use style=\"fill:#ffffff;fill-opacity:0.8;stroke:#ffffff;stroke-opacity:0.8;\" x=\"102.295177\" xlink:href=\"#C0_0_230e5f01e2\" y=\"58.526314\"/>\r\n    </g>\r\n    <g clip-path=\"url(#p0e93af214d)\">\r\n     <use style=\"fill-opacity:0.8;stroke:#000000;stroke-opacity:0.8;\" x=\"296.382133\" xlink:href=\"#C0_0_230e5f01e2\" y=\"169.089025\"/>\r\n    </g>\r\n    <g clip-path=\"url(#p0e93af214d)\">\r\n     <use style=\"fill:#ffffff;fill-opacity:0.8;stroke:#ffffff;stroke-opacity:0.8;\" x=\"102.295177\" xlink:href=\"#C0_0_230e5f01e2\" y=\"58.526314\"/>\r\n    </g>\r\n    <g clip-path=\"url(#p0e93af214d)\">\r\n     <use style=\"fill:#ffffff;fill-opacity:0.8;stroke:#ffffff;stroke-opacity:0.8;\" x=\"150.816916\" xlink:href=\"#C0_0_230e5f01e2\" y=\"58.526314\"/>\r\n    </g>\r\n    <g clip-path=\"url(#p0e93af214d)\">\r\n     <use style=\"fill:#ffffff;fill-opacity:0.8;stroke:#ffffff;stroke-opacity:0.8;\" x=\"150.816916\" xlink:href=\"#C0_0_230e5f01e2\" y=\"132.234788\"/>\r\n    </g>\r\n    <g clip-path=\"url(#p0e93af214d)\">\r\n     <use style=\"fill-opacity:0.8;stroke:#000000;stroke-opacity:0.8;\" x=\"199.338655\" xlink:href=\"#C0_0_230e5f01e2\" y=\"95.380551\"/>\r\n    </g>\r\n    <g clip-path=\"url(#p0e93af214d)\">\r\n     <use style=\"fill-opacity:0.8;stroke:#000000;stroke-opacity:0.8;\" x=\"344.903872\" xlink:href=\"#C0_0_230e5f01e2\" y=\"132.234788\"/>\r\n    </g>\r\n    <g clip-path=\"url(#p0e93af214d)\">\r\n     <use style=\"fill:#ffffff;fill-opacity:0.8;stroke:#ffffff;stroke-opacity:0.8;\" x=\"102.295177\" xlink:href=\"#C0_0_230e5f01e2\" y=\"132.234788\"/>\r\n    </g>\r\n    <g clip-path=\"url(#p0e93af214d)\">\r\n     <use style=\"fill:#ffffff;fill-opacity:0.8;stroke:#ffffff;stroke-opacity:0.8;\" x=\"247.860394\" xlink:href=\"#C0_0_230e5f01e2\" y=\"95.380551\"/>\r\n    </g>\r\n    <g clip-path=\"url(#p0e93af214d)\">\r\n     <use style=\"fill:#ffffff;fill-opacity:0.8;stroke:#ffffff;stroke-opacity:0.8;\" x=\"102.295177\" xlink:href=\"#C0_0_230e5f01e2\" y=\"169.089025\"/>\r\n    </g>\r\n    <g clip-path=\"url(#p0e93af214d)\">\r\n     <use style=\"fill:#ffffff;fill-opacity:0.8;stroke:#ffffff;stroke-opacity:0.8;\" x=\"102.295177\" xlink:href=\"#C0_0_230e5f01e2\" y=\"58.526314\"/>\r\n    </g>\r\n    <g clip-path=\"url(#p0e93af214d)\">\r\n     <use style=\"fill:#ffffff;fill-opacity:0.8;stroke:#ffffff;stroke-opacity:0.8;\" x=\"247.860394\" xlink:href=\"#C0_0_230e5f01e2\" y=\"95.380551\"/>\r\n    </g>\r\n    <g clip-path=\"url(#p0e93af214d)\">\r\n     <use style=\"fill-opacity:0.8;stroke:#000000;stroke-opacity:0.8;\" x=\"150.816916\" xlink:href=\"#C0_0_230e5f01e2\" y=\"132.234788\"/>\r\n    </g>\r\n    <g clip-path=\"url(#p0e93af214d)\">\r\n     <use style=\"fill-opacity:0.8;stroke:#000000;stroke-opacity:0.8;\" x=\"199.338655\" xlink:href=\"#C0_0_230e5f01e2\" y=\"132.234788\"/>\r\n    </g>\r\n    <g clip-path=\"url(#p0e93af214d)\">\r\n     <use style=\"fill-opacity:0.8;stroke:#000000;stroke-opacity:0.8;\" x=\"199.338655\" xlink:href=\"#C0_0_230e5f01e2\" y=\"95.380551\"/>\r\n    </g>\r\n    <g clip-path=\"url(#p0e93af214d)\">\r\n     <use style=\"fill:#ffffff;fill-opacity:0.8;stroke:#ffffff;stroke-opacity:0.8;\" x=\"150.816916\" xlink:href=\"#C0_0_230e5f01e2\" y=\"132.234788\"/>\r\n    </g>\r\n    <g clip-path=\"url(#p0e93af214d)\">\r\n     <use style=\"fill:#ffffff;fill-opacity:0.8;stroke:#ffffff;stroke-opacity:0.8;\" x=\"247.860394\" xlink:href=\"#C0_0_230e5f01e2\" y=\"169.089025\"/>\r\n    </g>\r\n    <g clip-path=\"url(#p0e93af214d)\">\r\n     <use style=\"fill:#ffffff;fill-opacity:0.8;stroke:#ffffff;stroke-opacity:0.8;\" x=\"199.338655\" xlink:href=\"#C0_0_230e5f01e2\" y=\"58.526314\"/>\r\n    </g>\r\n    <g clip-path=\"url(#p0e93af214d)\">\r\n     <use style=\"fill:#ffffff;fill-opacity:0.8;stroke:#ffffff;stroke-opacity:0.8;\" x=\"150.816916\" xlink:href=\"#C0_0_230e5f01e2\" y=\"132.234788\"/>\r\n    </g>\r\n    <g clip-path=\"url(#p0e93af214d)\">\r\n     <use style=\"fill:#ffffff;fill-opacity:0.8;stroke:#ffffff;stroke-opacity:0.8;\" x=\"150.816916\" xlink:href=\"#C0_0_230e5f01e2\" y=\"95.380551\"/>\r\n    </g>\r\n    <g clip-path=\"url(#p0e93af214d)\">\r\n     <use style=\"fill:#ffffff;fill-opacity:0.8;stroke:#ffffff;stroke-opacity:0.8;\" x=\"150.816916\" xlink:href=\"#C0_0_230e5f01e2\" y=\"58.526314\"/>\r\n    </g>\r\n    <g clip-path=\"url(#p0e93af214d)\">\r\n     <use style=\"fill-opacity:0.8;stroke:#000000;stroke-opacity:0.8;\" x=\"296.382133\" xlink:href=\"#C0_0_230e5f01e2\" y=\"169.089025\"/>\r\n    </g>\r\n    <g clip-path=\"url(#p0e93af214d)\">\r\n     <use style=\"fill:#ffffff;fill-opacity:0.8;stroke:#ffffff;stroke-opacity:0.8;\" x=\"102.295177\" xlink:href=\"#C0_0_230e5f01e2\" y=\"58.526314\"/>\r\n    </g>\r\n    <g clip-path=\"url(#p0e93af214d)\">\r\n     <use style=\"fill-opacity:0.8;stroke:#000000;stroke-opacity:0.8;\" x=\"247.860394\" xlink:href=\"#C0_0_230e5f01e2\" y=\"132.234788\"/>\r\n    </g>\r\n    <g clip-path=\"url(#p0e93af214d)\">\r\n     <use style=\"fill:#ffffff;fill-opacity:0.8;stroke:#ffffff;stroke-opacity:0.8;\" x=\"150.816916\" xlink:href=\"#C0_0_230e5f01e2\" y=\"169.089025\"/>\r\n    </g>\r\n    <g clip-path=\"url(#p0e93af214d)\">\r\n     <use style=\"fill:#ffffff;fill-opacity:0.8;stroke:#ffffff;stroke-opacity:0.8;\" x=\"199.338655\" xlink:href=\"#C0_0_230e5f01e2\" y=\"132.234788\"/>\r\n    </g>\r\n    <g clip-path=\"url(#p0e93af214d)\">\r\n     <use style=\"fill:#ffffff;fill-opacity:0.8;stroke:#ffffff;stroke-opacity:0.8;\" x=\"199.338655\" xlink:href=\"#C0_0_230e5f01e2\" y=\"95.380551\"/>\r\n    </g>\r\n    <g clip-path=\"url(#p0e93af214d)\">\r\n     <use style=\"fill:#ffffff;fill-opacity:0.8;stroke:#ffffff;stroke-opacity:0.8;\" x=\"247.860394\" xlink:href=\"#C0_0_230e5f01e2\" y=\"132.234788\"/>\r\n    </g>\r\n    <g clip-path=\"url(#p0e93af214d)\">\r\n     <use style=\"fill-opacity:0.8;stroke:#000000;stroke-opacity:0.8;\" x=\"199.338655\" xlink:href=\"#C0_0_230e5f01e2\" y=\"95.380551\"/>\r\n    </g>\r\n    <g clip-path=\"url(#p0e93af214d)\">\r\n     <use style=\"fill:#ffffff;fill-opacity:0.8;stroke:#ffffff;stroke-opacity:0.8;\" x=\"150.816916\" xlink:href=\"#C0_0_230e5f01e2\" y=\"132.234788\"/>\r\n    </g>\r\n    <g clip-path=\"url(#p0e93af214d)\">\r\n     <use style=\"fill:#ffffff;fill-opacity:0.8;stroke:#ffffff;stroke-opacity:0.8;\" x=\"102.295177\" xlink:href=\"#C0_0_230e5f01e2\" y=\"132.234788\"/>\r\n    </g>\r\n    <g clip-path=\"url(#p0e93af214d)\">\r\n     <use style=\"fill-opacity:0.8;stroke:#000000;stroke-opacity:0.8;\" x=\"296.382133\" xlink:href=\"#C0_0_230e5f01e2\" y=\"169.089025\"/>\r\n    </g>\r\n    <g clip-path=\"url(#p0e93af214d)\">\r\n     <use style=\"fill-opacity:0.8;stroke:#000000;stroke-opacity:0.8;\" x=\"102.295177\" xlink:href=\"#C0_0_230e5f01e2\" y=\"132.234788\"/>\r\n    </g>\r\n    <g clip-path=\"url(#p0e93af214d)\">\r\n     <use style=\"fill:#ffffff;fill-opacity:0.8;stroke:#ffffff;stroke-opacity:0.8;\" x=\"247.860394\" xlink:href=\"#C0_0_230e5f01e2\" y=\"58.526314\"/>\r\n    </g>\r\n    <g clip-path=\"url(#p0e93af214d)\">\r\n     <use style=\"fill:#ffffff;fill-opacity:0.8;stroke:#ffffff;stroke-opacity:0.8;\" x=\"102.295177\" xlink:href=\"#C0_0_230e5f01e2\" y=\"95.380551\"/>\r\n    </g>\r\n    <g clip-path=\"url(#p0e93af214d)\">\r\n     <use style=\"fill:#ffffff;fill-opacity:0.8;stroke:#ffffff;stroke-opacity:0.8;\" x=\"199.338655\" xlink:href=\"#C0_0_230e5f01e2\" y=\"132.234788\"/>\r\n    </g>\r\n    <g clip-path=\"url(#p0e93af214d)\">\r\n     <use style=\"fill:#ffffff;fill-opacity:0.8;stroke:#ffffff;stroke-opacity:0.8;\" x=\"247.860394\" xlink:href=\"#C0_0_230e5f01e2\" y=\"95.380551\"/>\r\n    </g>\r\n    <g clip-path=\"url(#p0e93af214d)\">\r\n     <use style=\"fill:#ffffff;fill-opacity:0.8;stroke:#ffffff;stroke-opacity:0.8;\" x=\"247.860394\" xlink:href=\"#C0_0_230e5f01e2\" y=\"58.526314\"/>\r\n    </g>\r\n    <g clip-path=\"url(#p0e93af214d)\">\r\n     <use style=\"fill:#ffffff;fill-opacity:0.8;stroke:#ffffff;stroke-opacity:0.8;\" x=\"102.295177\" xlink:href=\"#C0_0_230e5f01e2\" y=\"95.380551\"/>\r\n    </g>\r\n    <g clip-path=\"url(#p0e93af214d)\">\r\n     <use style=\"fill-opacity:0.8;stroke:#000000;stroke-opacity:0.8;\" x=\"296.382133\" xlink:href=\"#C0_0_230e5f01e2\" y=\"95.380551\"/>\r\n    </g>\r\n    <g clip-path=\"url(#p0e93af214d)\">\r\n     <use style=\"fill:#ffffff;fill-opacity:0.8;stroke:#ffffff;stroke-opacity:0.8;\" x=\"247.860394\" xlink:href=\"#C0_0_230e5f01e2\" y=\"169.089025\"/>\r\n    </g>\r\n    <g clip-path=\"url(#p0e93af214d)\">\r\n     <use style=\"fill:#ffffff;fill-opacity:0.8;stroke:#ffffff;stroke-opacity:0.8;\" x=\"199.338655\" xlink:href=\"#C0_0_230e5f01e2\" y=\"95.380551\"/>\r\n    </g>\r\n    <g clip-path=\"url(#p0e93af214d)\">\r\n     <use style=\"fill-opacity:0.8;stroke:#000000;stroke-opacity:0.8;\" x=\"150.816916\" xlink:href=\"#C0_0_230e5f01e2\" y=\"132.234788\"/>\r\n    </g>\r\n    <g clip-path=\"url(#p0e93af214d)\">\r\n     <use style=\"fill:#ffffff;fill-opacity:0.8;stroke:#ffffff;stroke-opacity:0.8;\" x=\"199.338655\" xlink:href=\"#C0_0_230e5f01e2\" y=\"58.526314\"/>\r\n    </g>\r\n    <g clip-path=\"url(#p0e93af214d)\">\r\n     <use style=\"fill:#ffffff;fill-opacity:0.8;stroke:#ffffff;stroke-opacity:0.8;\" x=\"102.295177\" xlink:href=\"#C0_0_230e5f01e2\" y=\"58.526314\"/>\r\n    </g>\r\n    <g clip-path=\"url(#p0e93af214d)\">\r\n     <use style=\"fill:#ffffff;fill-opacity:0.8;stroke:#ffffff;stroke-opacity:0.8;\" x=\"150.816916\" xlink:href=\"#C0_0_230e5f01e2\" y=\"58.526314\"/>\r\n    </g>\r\n    <g clip-path=\"url(#p0e93af214d)\">\r\n     <use style=\"fill-opacity:0.8;stroke:#000000;stroke-opacity:0.8;\" x=\"247.860394\" xlink:href=\"#C0_0_230e5f01e2\" y=\"58.526314\"/>\r\n    </g>\r\n    <g clip-path=\"url(#p0e93af214d)\">\r\n     <use style=\"fill:#ffffff;fill-opacity:0.8;stroke:#ffffff;stroke-opacity:0.8;\" x=\"150.816916\" xlink:href=\"#C0_0_230e5f01e2\" y=\"58.526314\"/>\r\n    </g>\r\n    <g clip-path=\"url(#p0e93af214d)\">\r\n     <use style=\"fill:#ffffff;fill-opacity:0.8;stroke:#ffffff;stroke-opacity:0.8;\" x=\"296.382133\" xlink:href=\"#C0_0_230e5f01e2\" y=\"95.380551\"/>\r\n    </g>\r\n    <g clip-path=\"url(#p0e93af214d)\">\r\n     <use style=\"fill:#ffffff;fill-opacity:0.8;stroke:#ffffff;stroke-opacity:0.8;\" x=\"296.382133\" xlink:href=\"#C0_0_230e5f01e2\" y=\"95.380551\"/>\r\n    </g>\r\n    <g clip-path=\"url(#p0e93af214d)\">\r\n     <use style=\"fill:#ffffff;fill-opacity:0.8;stroke:#ffffff;stroke-opacity:0.8;\" x=\"102.295177\" xlink:href=\"#C0_0_230e5f01e2\" y=\"132.234788\"/>\r\n    </g>\r\n    <g clip-path=\"url(#p0e93af214d)\">\r\n     <use style=\"fill:#ffffff;fill-opacity:0.8;stroke:#ffffff;stroke-opacity:0.8;\" x=\"102.295177\" xlink:href=\"#C0_0_230e5f01e2\" y=\"58.526314\"/>\r\n    </g>\r\n    <g clip-path=\"url(#p0e93af214d)\">\r\n     <use style=\"fill:#ffffff;fill-opacity:0.8;stroke:#ffffff;stroke-opacity:0.8;\" x=\"102.295177\" xlink:href=\"#C0_0_230e5f01e2\" y=\"132.234788\"/>\r\n    </g>\r\n    <g clip-path=\"url(#p0e93af214d)\">\r\n     <use style=\"fill-opacity:0.8;stroke:#000000;stroke-opacity:0.8;\" x=\"199.338655\" xlink:href=\"#C0_0_230e5f01e2\" y=\"58.526314\"/>\r\n    </g>\r\n    <g clip-path=\"url(#p0e93af214d)\">\r\n     <use style=\"fill:#ffffff;fill-opacity:0.8;stroke:#ffffff;stroke-opacity:0.8;\" x=\"102.295177\" xlink:href=\"#C0_0_230e5f01e2\" y=\"58.526314\"/>\r\n    </g>\r\n    <g clip-path=\"url(#p0e93af214d)\">\r\n     <use style=\"fill:#ffffff;fill-opacity:0.8;stroke:#ffffff;stroke-opacity:0.8;\" x=\"247.860394\" xlink:href=\"#C0_0_230e5f01e2\" y=\"169.089025\"/>\r\n    </g>\r\n    <g clip-path=\"url(#p0e93af214d)\">\r\n     <use style=\"fill-opacity:0.8;stroke:#000000;stroke-opacity:0.8;\" x=\"102.295177\" xlink:href=\"#C0_0_230e5f01e2\" y=\"58.526314\"/>\r\n    </g>\r\n    <g clip-path=\"url(#p0e93af214d)\">\r\n     <use style=\"fill:#ffffff;fill-opacity:0.8;stroke:#ffffff;stroke-opacity:0.8;\" x=\"247.860394\" xlink:href=\"#C0_0_230e5f01e2\" y=\"132.234788\"/>\r\n    </g>\r\n    <g clip-path=\"url(#p0e93af214d)\">\r\n     <use style=\"fill:#ffffff;fill-opacity:0.8;stroke:#ffffff;stroke-opacity:0.8;\" x=\"102.295177\" xlink:href=\"#C0_0_230e5f01e2\" y=\"58.526314\"/>\r\n    </g>\r\n    <g clip-path=\"url(#p0e93af214d)\">\r\n     <use style=\"fill:#ffffff;fill-opacity:0.8;stroke:#ffffff;stroke-opacity:0.8;\" x=\"102.295177\" xlink:href=\"#C0_0_230e5f01e2\" y=\"132.234788\"/>\r\n    </g>\r\n    <g clip-path=\"url(#p0e93af214d)\">\r\n     <use style=\"fill:#ffffff;fill-opacity:0.8;stroke:#ffffff;stroke-opacity:0.8;\" x=\"150.816916\" xlink:href=\"#C0_0_230e5f01e2\" y=\"58.526314\"/>\r\n    </g>\r\n    <g clip-path=\"url(#p0e93af214d)\">\r\n     <use style=\"fill-opacity:0.8;stroke:#000000;stroke-opacity:0.8;\" x=\"296.382133\" xlink:href=\"#C0_0_230e5f01e2\" y=\"95.380551\"/>\r\n    </g>\r\n    <g clip-path=\"url(#p0e93af214d)\">\r\n     <use style=\"fill-opacity:0.8;stroke:#000000;stroke-opacity:0.8;\" x=\"199.338655\" xlink:href=\"#C0_0_230e5f01e2\" y=\"58.526314\"/>\r\n    </g>\r\n    <g clip-path=\"url(#p0e93af214d)\">\r\n     <use style=\"fill-opacity:0.8;stroke:#000000;stroke-opacity:0.8;\" x=\"247.860394\" xlink:href=\"#C0_0_230e5f01e2\" y=\"132.234788\"/>\r\n    </g>\r\n    <g clip-path=\"url(#p0e93af214d)\">\r\n     <use style=\"fill-opacity:0.8;stroke:#000000;stroke-opacity:0.8;\" x=\"199.338655\" xlink:href=\"#C0_0_230e5f01e2\" y=\"58.526314\"/>\r\n    </g>\r\n    <g clip-path=\"url(#p0e93af214d)\">\r\n     <use style=\"fill-opacity:0.8;stroke:#000000;stroke-opacity:0.8;\" x=\"247.860394\" xlink:href=\"#C0_0_230e5f01e2\" y=\"132.234788\"/>\r\n    </g>\r\n    <g clip-path=\"url(#p0e93af214d)\">\r\n     <use style=\"fill-opacity:0.8;stroke:#000000;stroke-opacity:0.8;\" x=\"199.338655\" xlink:href=\"#C0_0_230e5f01e2\" y=\"169.089025\"/>\r\n    </g>\r\n    <g clip-path=\"url(#p0e93af214d)\">\r\n     <use style=\"fill:#ffffff;fill-opacity:0.8;stroke:#ffffff;stroke-opacity:0.8;\" x=\"296.382133\" xlink:href=\"#C0_0_230e5f01e2\" y=\"95.380551\"/>\r\n    </g>\r\n    <g clip-path=\"url(#p0e93af214d)\">\r\n     <use style=\"fill:#ffffff;fill-opacity:0.8;stroke:#ffffff;stroke-opacity:0.8;\" x=\"150.816916\" xlink:href=\"#C0_0_230e5f01e2\" y=\"58.526314\"/>\r\n    </g>\r\n    <g clip-path=\"url(#p0e93af214d)\">\r\n     <use style=\"fill-opacity:0.8;stroke:#000000;stroke-opacity:0.8;\" x=\"247.860394\" xlink:href=\"#C0_0_230e5f01e2\" y=\"58.526314\"/>\r\n    </g>\r\n    <g clip-path=\"url(#p0e93af214d)\">\r\n     <use style=\"fill:#ffffff;fill-opacity:0.8;stroke:#ffffff;stroke-opacity:0.8;\" x=\"247.860394\" xlink:href=\"#C0_0_230e5f01e2\" y=\"58.526314\"/>\r\n    </g>\r\n    <g clip-path=\"url(#p0e93af214d)\">\r\n     <use style=\"fill-opacity:0.8;stroke:#000000;stroke-opacity:0.8;\" x=\"199.338655\" xlink:href=\"#C0_0_230e5f01e2\" y=\"58.526314\"/>\r\n    </g>\r\n    <g clip-path=\"url(#p0e93af214d)\">\r\n     <use style=\"fill-opacity:0.8;stroke:#000000;stroke-opacity:0.8;\" x=\"150.816916\" xlink:href=\"#C0_0_230e5f01e2\" y=\"132.234788\"/>\r\n    </g>\r\n    <g clip-path=\"url(#p0e93af214d)\">\r\n     <use style=\"fill-opacity:0.8;stroke:#000000;stroke-opacity:0.8;\" x=\"150.816916\" xlink:href=\"#C0_0_230e5f01e2\" y=\"132.234788\"/>\r\n    </g>\r\n    <g clip-path=\"url(#p0e93af214d)\">\r\n     <use style=\"fill-opacity:0.8;stroke:#000000;stroke-opacity:0.8;\" x=\"247.860394\" xlink:href=\"#C0_0_230e5f01e2\" y=\"169.089025\"/>\r\n    </g>\r\n    <g clip-path=\"url(#p0e93af214d)\">\r\n     <use style=\"fill:#ffffff;fill-opacity:0.8;stroke:#ffffff;stroke-opacity:0.8;\" x=\"199.338655\" xlink:href=\"#C0_0_230e5f01e2\" y=\"58.526314\"/>\r\n    </g>\r\n    <g clip-path=\"url(#p0e93af214d)\">\r\n     <use style=\"fill:#ffffff;fill-opacity:0.8;stroke:#ffffff;stroke-opacity:0.8;\" x=\"199.338655\" xlink:href=\"#C0_0_230e5f01e2\" y=\"95.380551\"/>\r\n    </g>\r\n    <g clip-path=\"url(#p0e93af214d)\">\r\n     <use style=\"fill-opacity:0.8;stroke:#000000;stroke-opacity:0.8;\" x=\"102.295177\" xlink:href=\"#C0_0_230e5f01e2\" y=\"132.234788\"/>\r\n    </g>\r\n    <g clip-path=\"url(#p0e93af214d)\">\r\n     <use style=\"fill:#ffffff;fill-opacity:0.8;stroke:#ffffff;stroke-opacity:0.8;\" x=\"150.816916\" xlink:href=\"#C0_0_230e5f01e2\" y=\"132.234788\"/>\r\n    </g>\r\n    <g clip-path=\"url(#p0e93af214d)\">\r\n     <use style=\"fill:#ffffff;fill-opacity:0.8;stroke:#ffffff;stroke-opacity:0.8;\" x=\"199.338655\" xlink:href=\"#C0_0_230e5f01e2\" y=\"169.089025\"/>\r\n    </g>\r\n    <g clip-path=\"url(#p0e93af214d)\">\r\n     <use style=\"fill-opacity:0.8;stroke:#000000;stroke-opacity:0.8;\" x=\"247.860394\" xlink:href=\"#C0_0_230e5f01e2\" y=\"132.234788\"/>\r\n    </g>\r\n    <g clip-path=\"url(#p0e93af214d)\">\r\n     <use style=\"fill:#ffffff;fill-opacity:0.8;stroke:#ffffff;stroke-opacity:0.8;\" x=\"199.338655\" xlink:href=\"#C0_0_230e5f01e2\" y=\"95.380551\"/>\r\n    </g>\r\n    <g clip-path=\"url(#p0e93af214d)\">\r\n     <use style=\"fill:#ffffff;fill-opacity:0.8;stroke:#ffffff;stroke-opacity:0.8;\" x=\"199.338655\" xlink:href=\"#C0_0_230e5f01e2\" y=\"132.234788\"/>\r\n    </g>\r\n    <g clip-path=\"url(#p0e93af214d)\">\r\n     <use style=\"fill-opacity:0.8;stroke:#000000;stroke-opacity:0.8;\" x=\"247.860394\" xlink:href=\"#C0_0_230e5f01e2\" y=\"95.380551\"/>\r\n    </g>\r\n    <g clip-path=\"url(#p0e93af214d)\">\r\n     <use style=\"fill-opacity:0.8;stroke:#000000;stroke-opacity:0.8;\" x=\"150.816916\" xlink:href=\"#C0_0_230e5f01e2\" y=\"58.526314\"/>\r\n    </g>\r\n    <g clip-path=\"url(#p0e93af214d)\">\r\n     <use style=\"fill:#ffffff;fill-opacity:0.8;stroke:#ffffff;stroke-opacity:0.8;\" x=\"199.338655\" xlink:href=\"#C0_0_230e5f01e2\" y=\"95.380551\"/>\r\n    </g>\r\n    <g clip-path=\"url(#p0e93af214d)\">\r\n     <use style=\"fill:#ffffff;fill-opacity:0.8;stroke:#ffffff;stroke-opacity:0.8;\" x=\"150.816916\" xlink:href=\"#C0_0_230e5f01e2\" y=\"132.234788\"/>\r\n    </g>\r\n    <g clip-path=\"url(#p0e93af214d)\">\r\n     <use style=\"fill:#ffffff;fill-opacity:0.8;stroke:#ffffff;stroke-opacity:0.8;\" x=\"102.295177\" xlink:href=\"#C0_0_230e5f01e2\" y=\"58.526314\"/>\r\n    </g>\r\n    <g clip-path=\"url(#p0e93af214d)\">\r\n     <use style=\"fill:#ffffff;fill-opacity:0.8;stroke:#ffffff;stroke-opacity:0.8;\" x=\"150.816916\" xlink:href=\"#C0_0_230e5f01e2\" y=\"58.526314\"/>\r\n    </g>\r\n    <g clip-path=\"url(#p0e93af214d)\">\r\n     <use style=\"fill-opacity:0.8;stroke:#000000;stroke-opacity:0.8;\" x=\"199.338655\" xlink:href=\"#C0_0_230e5f01e2\" y=\"132.234788\"/>\r\n    </g>\r\n    <g clip-path=\"url(#p0e93af214d)\">\r\n     <use style=\"fill:#ffffff;fill-opacity:0.8;stroke:#ffffff;stroke-opacity:0.8;\" x=\"199.338655\" xlink:href=\"#C0_0_230e5f01e2\" y=\"95.380551\"/>\r\n    </g>\r\n    <g clip-path=\"url(#p0e93af214d)\">\r\n     <use style=\"fill:#ffffff;fill-opacity:0.8;stroke:#ffffff;stroke-opacity:0.8;\" x=\"150.816916\" xlink:href=\"#C0_0_230e5f01e2\" y=\"95.380551\"/>\r\n    </g>\r\n    <g clip-path=\"url(#p0e93af214d)\">\r\n     <use style=\"fill-opacity:0.8;stroke:#000000;stroke-opacity:0.8;\" x=\"199.338655\" xlink:href=\"#C0_0_230e5f01e2\" y=\"132.234788\"/>\r\n    </g>\r\n    <g clip-path=\"url(#p0e93af214d)\">\r\n     <use style=\"fill-opacity:0.8;stroke:#000000;stroke-opacity:0.8;\" x=\"199.338655\" xlink:href=\"#C0_0_230e5f01e2\" y=\"169.089025\"/>\r\n    </g>\r\n    <g clip-path=\"url(#p0e93af214d)\">\r\n     <use style=\"fill-opacity:0.8;stroke:#000000;stroke-opacity:0.8;\" x=\"102.295177\" xlink:href=\"#C0_0_230e5f01e2\" y=\"169.089025\"/>\r\n    </g>\r\n    <g clip-path=\"url(#p0e93af214d)\">\r\n     <use style=\"fill:#ffffff;fill-opacity:0.8;stroke:#ffffff;stroke-opacity:0.8;\" x=\"150.816916\" xlink:href=\"#C0_0_230e5f01e2\" y=\"95.380551\"/>\r\n    </g>\r\n    <g clip-path=\"url(#p0e93af214d)\">\r\n     <use style=\"fill:#ffffff;fill-opacity:0.8;stroke:#ffffff;stroke-opacity:0.8;\" x=\"150.816916\" xlink:href=\"#C0_0_230e5f01e2\" y=\"58.526314\"/>\r\n    </g>\r\n   </g>\r\n   <g id=\"matplotlib.axis_1\">\r\n    <g id=\"xtick_1\">\r\n     <g id=\"line2d_1\">\r\n      <defs>\r\n       <path d=\"M 0 0 \r\nL 0 3.5 \r\n\" id=\"mb29de10268\" style=\"stroke:#000000;stroke-width:0.8;\"/>\r\n      </defs>\r\n      <g>\r\n       <use style=\"stroke:#000000;stroke-width:0.8;\" x=\"53.773438\" xlink:href=\"#mb29de10268\" y=\"242.7975\"/>\r\n      </g>\r\n     </g>\r\n     <g id=\"text_1\">\r\n      <!-- 14 -->\r\n      <defs>\r\n       <path d=\"M 12.40625 8.296875 \r\nL 28.515625 8.296875 \r\nL 28.515625 63.921875 \r\nL 10.984375 60.40625 \r\nL 10.984375 69.390625 \r\nL 28.421875 72.90625 \r\nL 38.28125 72.90625 \r\nL 38.28125 8.296875 \r\nL 54.390625 8.296875 \r\nL 54.390625 0 \r\nL 12.40625 0 \r\nz\r\n\" id=\"DejaVuSans-49\"/>\r\n       <path d=\"M 37.796875 64.3125 \r\nL 12.890625 25.390625 \r\nL 37.796875 25.390625 \r\nz\r\nM 35.203125 72.90625 \r\nL 47.609375 72.90625 \r\nL 47.609375 25.390625 \r\nL 58.015625 25.390625 \r\nL 58.015625 17.1875 \r\nL 47.609375 17.1875 \r\nL 47.609375 0 \r\nL 37.796875 0 \r\nL 37.796875 17.1875 \r\nL 4.890625 17.1875 \r\nL 4.890625 26.703125 \r\nz\r\n\" id=\"DejaVuSans-52\"/>\r\n      </defs>\r\n      <g transform=\"translate(44.865938 260.435313)scale(0.14 -0.14)\">\r\n       <use xlink:href=\"#DejaVuSans-49\"/>\r\n       <use x=\"63.623047\" xlink:href=\"#DejaVuSans-52\"/>\r\n      </g>\r\n     </g>\r\n    </g>\r\n    <g id=\"xtick_2\">\r\n     <g id=\"line2d_2\">\r\n      <g>\r\n       <use style=\"stroke:#000000;stroke-width:0.8;\" x=\"102.295177\" xlink:href=\"#mb29de10268\" y=\"242.7975\"/>\r\n      </g>\r\n     </g>\r\n     <g id=\"text_2\">\r\n      <!-- 15 -->\r\n      <defs>\r\n       <path d=\"M 10.796875 72.90625 \r\nL 49.515625 72.90625 \r\nL 49.515625 64.59375 \r\nL 19.828125 64.59375 \r\nL 19.828125 46.734375 \r\nQ 21.96875 47.46875 24.109375 47.828125 \r\nQ 26.265625 48.1875 28.421875 48.1875 \r\nQ 40.625 48.1875 47.75 41.5 \r\nQ 54.890625 34.8125 54.890625 23.390625 \r\nQ 54.890625 11.625 47.5625 5.09375 \r\nQ 40.234375 -1.421875 26.90625 -1.421875 \r\nQ 22.3125 -1.421875 17.546875 -0.640625 \r\nQ 12.796875 0.140625 7.71875 1.703125 \r\nL 7.71875 11.625 \r\nQ 12.109375 9.234375 16.796875 8.0625 \r\nQ 21.484375 6.890625 26.703125 6.890625 \r\nQ 35.15625 6.890625 40.078125 11.328125 \r\nQ 45.015625 15.765625 45.015625 23.390625 \r\nQ 45.015625 31 40.078125 35.4375 \r\nQ 35.15625 39.890625 26.703125 39.890625 \r\nQ 22.75 39.890625 18.8125 39.015625 \r\nQ 14.890625 38.140625 10.796875 36.28125 \r\nz\r\n\" id=\"DejaVuSans-53\"/>\r\n      </defs>\r\n      <g transform=\"translate(93.387677 260.435313)scale(0.14 -0.14)\">\r\n       <use xlink:href=\"#DejaVuSans-49\"/>\r\n       <use x=\"63.623047\" xlink:href=\"#DejaVuSans-53\"/>\r\n      </g>\r\n     </g>\r\n    </g>\r\n    <g id=\"xtick_3\">\r\n     <g id=\"line2d_3\">\r\n      <g>\r\n       <use style=\"stroke:#000000;stroke-width:0.8;\" x=\"150.816916\" xlink:href=\"#mb29de10268\" y=\"242.7975\"/>\r\n      </g>\r\n     </g>\r\n     <g id=\"text_3\">\r\n      <!-- 16 -->\r\n      <defs>\r\n       <path d=\"M 33.015625 40.375 \r\nQ 26.375 40.375 22.484375 35.828125 \r\nQ 18.609375 31.296875 18.609375 23.390625 \r\nQ 18.609375 15.53125 22.484375 10.953125 \r\nQ 26.375 6.390625 33.015625 6.390625 \r\nQ 39.65625 6.390625 43.53125 10.953125 \r\nQ 47.40625 15.53125 47.40625 23.390625 \r\nQ 47.40625 31.296875 43.53125 35.828125 \r\nQ 39.65625 40.375 33.015625 40.375 \r\nz\r\nM 52.59375 71.296875 \r\nL 52.59375 62.3125 \r\nQ 48.875 64.0625 45.09375 64.984375 \r\nQ 41.3125 65.921875 37.59375 65.921875 \r\nQ 27.828125 65.921875 22.671875 59.328125 \r\nQ 17.53125 52.734375 16.796875 39.40625 \r\nQ 19.671875 43.65625 24.015625 45.921875 \r\nQ 28.375 48.1875 33.59375 48.1875 \r\nQ 44.578125 48.1875 50.953125 41.515625 \r\nQ 57.328125 34.859375 57.328125 23.390625 \r\nQ 57.328125 12.15625 50.6875 5.359375 \r\nQ 44.046875 -1.421875 33.015625 -1.421875 \r\nQ 20.359375 -1.421875 13.671875 8.265625 \r\nQ 6.984375 17.96875 6.984375 36.375 \r\nQ 6.984375 53.65625 15.1875 63.9375 \r\nQ 23.390625 74.21875 37.203125 74.21875 \r\nQ 40.921875 74.21875 44.703125 73.484375 \r\nQ 48.484375 72.75 52.59375 71.296875 \r\nz\r\n\" id=\"DejaVuSans-54\"/>\r\n      </defs>\r\n      <g transform=\"translate(141.909416 260.435313)scale(0.14 -0.14)\">\r\n       <use xlink:href=\"#DejaVuSans-49\"/>\r\n       <use x=\"63.623047\" xlink:href=\"#DejaVuSans-54\"/>\r\n      </g>\r\n     </g>\r\n    </g>\r\n    <g id=\"xtick_4\">\r\n     <g id=\"line2d_4\">\r\n      <g>\r\n       <use style=\"stroke:#000000;stroke-width:0.8;\" x=\"199.338655\" xlink:href=\"#mb29de10268\" y=\"242.7975\"/>\r\n      </g>\r\n     </g>\r\n     <g id=\"text_4\">\r\n      <!-- 17 -->\r\n      <defs>\r\n       <path d=\"M 8.203125 72.90625 \r\nL 55.078125 72.90625 \r\nL 55.078125 68.703125 \r\nL 28.609375 0 \r\nL 18.3125 0 \r\nL 43.21875 64.59375 \r\nL 8.203125 64.59375 \r\nz\r\n\" id=\"DejaVuSans-55\"/>\r\n      </defs>\r\n      <g transform=\"translate(190.431155 260.435313)scale(0.14 -0.14)\">\r\n       <use xlink:href=\"#DejaVuSans-49\"/>\r\n       <use x=\"63.623047\" xlink:href=\"#DejaVuSans-55\"/>\r\n      </g>\r\n     </g>\r\n    </g>\r\n    <g id=\"xtick_5\">\r\n     <g id=\"line2d_5\">\r\n      <g>\r\n       <use style=\"stroke:#000000;stroke-width:0.8;\" x=\"247.860394\" xlink:href=\"#mb29de10268\" y=\"242.7975\"/>\r\n      </g>\r\n     </g>\r\n     <g id=\"text_5\">\r\n      <!-- 18 -->\r\n      <defs>\r\n       <path d=\"M 31.78125 34.625 \r\nQ 24.75 34.625 20.71875 30.859375 \r\nQ 16.703125 27.09375 16.703125 20.515625 \r\nQ 16.703125 13.921875 20.71875 10.15625 \r\nQ 24.75 6.390625 31.78125 6.390625 \r\nQ 38.8125 6.390625 42.859375 10.171875 \r\nQ 46.921875 13.96875 46.921875 20.515625 \r\nQ 46.921875 27.09375 42.890625 30.859375 \r\nQ 38.875 34.625 31.78125 34.625 \r\nz\r\nM 21.921875 38.8125 \r\nQ 15.578125 40.375 12.03125 44.71875 \r\nQ 8.5 49.078125 8.5 55.328125 \r\nQ 8.5 64.0625 14.71875 69.140625 \r\nQ 20.953125 74.21875 31.78125 74.21875 \r\nQ 42.671875 74.21875 48.875 69.140625 \r\nQ 55.078125 64.0625 55.078125 55.328125 \r\nQ 55.078125 49.078125 51.53125 44.71875 \r\nQ 48 40.375 41.703125 38.8125 \r\nQ 48.828125 37.15625 52.796875 32.3125 \r\nQ 56.78125 27.484375 56.78125 20.515625 \r\nQ 56.78125 9.90625 50.3125 4.234375 \r\nQ 43.84375 -1.421875 31.78125 -1.421875 \r\nQ 19.734375 -1.421875 13.25 4.234375 \r\nQ 6.78125 9.90625 6.78125 20.515625 \r\nQ 6.78125 27.484375 10.78125 32.3125 \r\nQ 14.796875 37.15625 21.921875 38.8125 \r\nz\r\nM 18.3125 54.390625 \r\nQ 18.3125 48.734375 21.84375 45.5625 \r\nQ 25.390625 42.390625 31.78125 42.390625 \r\nQ 38.140625 42.390625 41.71875 45.5625 \r\nQ 45.3125 48.734375 45.3125 54.390625 \r\nQ 45.3125 60.0625 41.71875 63.234375 \r\nQ 38.140625 66.40625 31.78125 66.40625 \r\nQ 25.390625 66.40625 21.84375 63.234375 \r\nQ 18.3125 60.0625 18.3125 54.390625 \r\nz\r\n\" id=\"DejaVuSans-56\"/>\r\n      </defs>\r\n      <g transform=\"translate(238.952894 260.435313)scale(0.14 -0.14)\">\r\n       <use xlink:href=\"#DejaVuSans-49\"/>\r\n       <use x=\"63.623047\" xlink:href=\"#DejaVuSans-56\"/>\r\n      </g>\r\n     </g>\r\n    </g>\r\n    <g id=\"xtick_6\">\r\n     <g id=\"line2d_6\">\r\n      <g>\r\n       <use style=\"stroke:#000000;stroke-width:0.8;\" x=\"296.382133\" xlink:href=\"#mb29de10268\" y=\"242.7975\"/>\r\n      </g>\r\n     </g>\r\n     <g id=\"text_6\">\r\n      <!-- 19 -->\r\n      <defs>\r\n       <path d=\"M 10.984375 1.515625 \r\nL 10.984375 10.5 \r\nQ 14.703125 8.734375 18.5 7.8125 \r\nQ 22.3125 6.890625 25.984375 6.890625 \r\nQ 35.75 6.890625 40.890625 13.453125 \r\nQ 46.046875 20.015625 46.78125 33.40625 \r\nQ 43.953125 29.203125 39.59375 26.953125 \r\nQ 35.25 24.703125 29.984375 24.703125 \r\nQ 19.046875 24.703125 12.671875 31.3125 \r\nQ 6.296875 37.9375 6.296875 49.421875 \r\nQ 6.296875 60.640625 12.9375 67.421875 \r\nQ 19.578125 74.21875 30.609375 74.21875 \r\nQ 43.265625 74.21875 49.921875 64.515625 \r\nQ 56.59375 54.828125 56.59375 36.375 \r\nQ 56.59375 19.140625 48.40625 8.859375 \r\nQ 40.234375 -1.421875 26.421875 -1.421875 \r\nQ 22.703125 -1.421875 18.890625 -0.6875 \r\nQ 15.09375 0.046875 10.984375 1.515625 \r\nz\r\nM 30.609375 32.421875 \r\nQ 37.25 32.421875 41.125 36.953125 \r\nQ 45.015625 41.5 45.015625 49.421875 \r\nQ 45.015625 57.28125 41.125 61.84375 \r\nQ 37.25 66.40625 30.609375 66.40625 \r\nQ 23.96875 66.40625 20.09375 61.84375 \r\nQ 16.21875 57.28125 16.21875 49.421875 \r\nQ 16.21875 41.5 20.09375 36.953125 \r\nQ 23.96875 32.421875 30.609375 32.421875 \r\nz\r\n\" id=\"DejaVuSans-57\"/>\r\n      </defs>\r\n      <g transform=\"translate(287.474633 260.435313)scale(0.14 -0.14)\">\r\n       <use xlink:href=\"#DejaVuSans-49\"/>\r\n       <use x=\"63.623047\" xlink:href=\"#DejaVuSans-57\"/>\r\n      </g>\r\n     </g>\r\n    </g>\r\n    <g id=\"xtick_7\">\r\n     <g id=\"line2d_7\">\r\n      <g>\r\n       <use style=\"stroke:#000000;stroke-width:0.8;\" x=\"344.903872\" xlink:href=\"#mb29de10268\" y=\"242.7975\"/>\r\n      </g>\r\n     </g>\r\n     <g id=\"text_7\">\r\n      <!-- 20 -->\r\n      <defs>\r\n       <path d=\"M 19.1875 8.296875 \r\nL 53.609375 8.296875 \r\nL 53.609375 0 \r\nL 7.328125 0 \r\nL 7.328125 8.296875 \r\nQ 12.9375 14.109375 22.625 23.890625 \r\nQ 32.328125 33.6875 34.8125 36.53125 \r\nQ 39.546875 41.84375 41.421875 45.53125 \r\nQ 43.3125 49.21875 43.3125 52.78125 \r\nQ 43.3125 58.59375 39.234375 62.25 \r\nQ 35.15625 65.921875 28.609375 65.921875 \r\nQ 23.96875 65.921875 18.8125 64.3125 \r\nQ 13.671875 62.703125 7.8125 59.421875 \r\nL 7.8125 69.390625 \r\nQ 13.765625 71.78125 18.9375 73 \r\nQ 24.125 74.21875 28.421875 74.21875 \r\nQ 39.75 74.21875 46.484375 68.546875 \r\nQ 53.21875 62.890625 53.21875 53.421875 \r\nQ 53.21875 48.921875 51.53125 44.890625 \r\nQ 49.859375 40.875 45.40625 35.40625 \r\nQ 44.1875 33.984375 37.640625 27.21875 \r\nQ 31.109375 20.453125 19.1875 8.296875 \r\nz\r\n\" id=\"DejaVuSans-50\"/>\r\n       <path d=\"M 31.78125 66.40625 \r\nQ 24.171875 66.40625 20.328125 58.90625 \r\nQ 16.5 51.421875 16.5 36.375 \r\nQ 16.5 21.390625 20.328125 13.890625 \r\nQ 24.171875 6.390625 31.78125 6.390625 \r\nQ 39.453125 6.390625 43.28125 13.890625 \r\nQ 47.125 21.390625 47.125 36.375 \r\nQ 47.125 51.421875 43.28125 58.90625 \r\nQ 39.453125 66.40625 31.78125 66.40625 \r\nz\r\nM 31.78125 74.21875 \r\nQ 44.046875 74.21875 50.515625 64.515625 \r\nQ 56.984375 54.828125 56.984375 36.375 \r\nQ 56.984375 17.96875 50.515625 8.265625 \r\nQ 44.046875 -1.421875 31.78125 -1.421875 \r\nQ 19.53125 -1.421875 13.0625 8.265625 \r\nQ 6.59375 17.96875 6.59375 36.375 \r\nQ 6.59375 54.828125 13.0625 64.515625 \r\nQ 19.53125 74.21875 31.78125 74.21875 \r\nz\r\n\" id=\"DejaVuSans-48\"/>\r\n      </defs>\r\n      <g transform=\"translate(335.996372 260.435313)scale(0.14 -0.14)\">\r\n       <use xlink:href=\"#DejaVuSans-50\"/>\r\n       <use x=\"63.623047\" xlink:href=\"#DejaVuSans-48\"/>\r\n      </g>\r\n     </g>\r\n    </g>\r\n    <g id=\"text_8\">\r\n     <!-- age -->\r\n     <defs>\r\n      <path d=\"M 34.28125 27.484375 \r\nQ 23.390625 27.484375 19.1875 25 \r\nQ 14.984375 22.515625 14.984375 16.5 \r\nQ 14.984375 11.71875 18.140625 8.90625 \r\nQ 21.296875 6.109375 26.703125 6.109375 \r\nQ 34.1875 6.109375 38.703125 11.40625 \r\nQ 43.21875 16.703125 43.21875 25.484375 \r\nL 43.21875 27.484375 \r\nz\r\nM 52.203125 31.203125 \r\nL 52.203125 0 \r\nL 43.21875 0 \r\nL 43.21875 8.296875 \r\nQ 40.140625 3.328125 35.546875 0.953125 \r\nQ 30.953125 -1.421875 24.3125 -1.421875 \r\nQ 15.921875 -1.421875 10.953125 3.296875 \r\nQ 6 8.015625 6 15.921875 \r\nQ 6 25.140625 12.171875 29.828125 \r\nQ 18.359375 34.515625 30.609375 34.515625 \r\nL 43.21875 34.515625 \r\nL 43.21875 35.40625 \r\nQ 43.21875 41.609375 39.140625 45 \r\nQ 35.0625 48.390625 27.6875 48.390625 \r\nQ 23 48.390625 18.546875 47.265625 \r\nQ 14.109375 46.140625 10.015625 43.890625 \r\nL 10.015625 52.203125 \r\nQ 14.9375 54.109375 19.578125 55.046875 \r\nQ 24.21875 56 28.609375 56 \r\nQ 40.484375 56 46.34375 49.84375 \r\nQ 52.203125 43.703125 52.203125 31.203125 \r\nz\r\n\" id=\"DejaVuSans-97\"/>\r\n      <path d=\"M 45.40625 27.984375 \r\nQ 45.40625 37.75 41.375 43.109375 \r\nQ 37.359375 48.484375 30.078125 48.484375 \r\nQ 22.859375 48.484375 18.828125 43.109375 \r\nQ 14.796875 37.75 14.796875 27.984375 \r\nQ 14.796875 18.265625 18.828125 12.890625 \r\nQ 22.859375 7.515625 30.078125 7.515625 \r\nQ 37.359375 7.515625 41.375 12.890625 \r\nQ 45.40625 18.265625 45.40625 27.984375 \r\nz\r\nM 54.390625 6.78125 \r\nQ 54.390625 -7.171875 48.1875 -13.984375 \r\nQ 42 -20.796875 29.203125 -20.796875 \r\nQ 24.46875 -20.796875 20.265625 -20.09375 \r\nQ 16.0625 -19.390625 12.109375 -17.921875 \r\nL 12.109375 -9.1875 \r\nQ 16.0625 -11.328125 19.921875 -12.34375 \r\nQ 23.78125 -13.375 27.78125 -13.375 \r\nQ 36.625 -13.375 41.015625 -8.765625 \r\nQ 45.40625 -4.15625 45.40625 5.171875 \r\nL 45.40625 9.625 \r\nQ 42.625 4.78125 38.28125 2.390625 \r\nQ 33.9375 0 27.875 0 \r\nQ 17.828125 0 11.671875 7.65625 \r\nQ 5.515625 15.328125 5.515625 27.984375 \r\nQ 5.515625 40.671875 11.671875 48.328125 \r\nQ 17.828125 56 27.875 56 \r\nQ 33.9375 56 38.28125 53.609375 \r\nQ 42.625 51.21875 45.40625 46.390625 \r\nL 45.40625 54.6875 \r\nL 54.390625 54.6875 \r\nz\r\n\" id=\"DejaVuSans-103\"/>\r\n      <path d=\"M 56.203125 29.59375 \r\nL 56.203125 25.203125 \r\nL 14.890625 25.203125 \r\nQ 15.484375 15.921875 20.484375 11.0625 \r\nQ 25.484375 6.203125 34.421875 6.203125 \r\nQ 39.59375 6.203125 44.453125 7.46875 \r\nQ 49.3125 8.734375 54.109375 11.28125 \r\nL 54.109375 2.78125 \r\nQ 49.265625 0.734375 44.1875 -0.34375 \r\nQ 39.109375 -1.421875 33.890625 -1.421875 \r\nQ 20.796875 -1.421875 13.15625 6.1875 \r\nQ 5.515625 13.8125 5.515625 26.8125 \r\nQ 5.515625 40.234375 12.765625 48.109375 \r\nQ 20.015625 56 32.328125 56 \r\nQ 43.359375 56 49.78125 48.890625 \r\nQ 56.203125 41.796875 56.203125 29.59375 \r\nz\r\nM 47.21875 32.234375 \r\nQ 47.125 39.59375 43.09375 43.984375 \r\nQ 39.0625 48.390625 32.421875 48.390625 \r\nQ 24.90625 48.390625 20.390625 44.140625 \r\nQ 15.875 39.890625 15.1875 32.171875 \r\nz\r\n\" id=\"DejaVuSans-101\"/>\r\n     </defs>\r\n     <g transform=\"translate(207.201172 278.744531)scale(0.15 -0.15)\">\r\n      <use xlink:href=\"#DejaVuSans-97\"/>\r\n      <use x=\"61.279297\" xlink:href=\"#DejaVuSans-103\"/>\r\n      <use x=\"124.755859\" xlink:href=\"#DejaVuSans-101\"/>\r\n     </g>\r\n    </g>\r\n   </g>\r\n   <g id=\"matplotlib.axis_2\">\r\n    <g id=\"ytick_1\">\r\n     <g id=\"line2d_8\">\r\n      <defs>\r\n       <path d=\"M 0 0 \r\nL -3.5 0 \r\n\" id=\"m477243f50b\" style=\"stroke:#000000;stroke-width:0.8;\"/>\r\n      </defs>\r\n      <g>\r\n       <use style=\"stroke:#000000;stroke-width:0.8;\" x=\"53.773438\" xlink:href=\"#m477243f50b\" y=\"242.7975\"/>\r\n      </g>\r\n     </g>\r\n     <g id=\"text_9\">\r\n      <!-- −1 -->\r\n      <defs>\r\n       <path d=\"M 10.59375 35.5 \r\nL 73.1875 35.5 \r\nL 73.1875 27.203125 \r\nL 10.59375 27.203125 \r\nz\r\n\" id=\"DejaVuSans-8722\"/>\r\n      </defs>\r\n      <g transform=\"translate(26.134375 248.116406)scale(0.14 -0.14)\">\r\n       <use xlink:href=\"#DejaVuSans-8722\"/>\r\n       <use x=\"83.789062\" xlink:href=\"#DejaVuSans-49\"/>\r\n      </g>\r\n     </g>\r\n    </g>\r\n    <g id=\"ytick_2\">\r\n     <g id=\"line2d_9\">\r\n      <g>\r\n       <use style=\"stroke:#000000;stroke-width:0.8;\" x=\"53.773438\" xlink:href=\"#m477243f50b\" y=\"205.943263\"/>\r\n      </g>\r\n     </g>\r\n     <g id=\"text_10\">\r\n      <!-- 0 -->\r\n      <g transform=\"translate(37.865938 211.262169)scale(0.14 -0.14)\">\r\n       <use xlink:href=\"#DejaVuSans-48\"/>\r\n      </g>\r\n     </g>\r\n    </g>\r\n    <g id=\"ytick_3\">\r\n     <g id=\"line2d_10\">\r\n      <g>\r\n       <use style=\"stroke:#000000;stroke-width:0.8;\" x=\"53.773438\" xlink:href=\"#m477243f50b\" y=\"169.089025\"/>\r\n      </g>\r\n     </g>\r\n     <g id=\"text_11\">\r\n      <!-- 1 -->\r\n      <g transform=\"translate(37.865938 174.407932)scale(0.14 -0.14)\">\r\n       <use xlink:href=\"#DejaVuSans-49\"/>\r\n      </g>\r\n     </g>\r\n    </g>\r\n    <g id=\"ytick_4\">\r\n     <g id=\"line2d_11\">\r\n      <g>\r\n       <use style=\"stroke:#000000;stroke-width:0.8;\" x=\"53.773438\" xlink:href=\"#m477243f50b\" y=\"132.234788\"/>\r\n      </g>\r\n     </g>\r\n     <g id=\"text_12\">\r\n      <!-- 2 -->\r\n      <g transform=\"translate(37.865938 137.553694)scale(0.14 -0.14)\">\r\n       <use xlink:href=\"#DejaVuSans-50\"/>\r\n      </g>\r\n     </g>\r\n    </g>\r\n    <g id=\"ytick_5\">\r\n     <g id=\"line2d_12\">\r\n      <g>\r\n       <use style=\"stroke:#000000;stroke-width:0.8;\" x=\"53.773438\" xlink:href=\"#m477243f50b\" y=\"95.380551\"/>\r\n      </g>\r\n     </g>\r\n     <g id=\"text_13\">\r\n      <!-- 3 -->\r\n      <defs>\r\n       <path d=\"M 40.578125 39.3125 \r\nQ 47.65625 37.796875 51.625 33 \r\nQ 55.609375 28.21875 55.609375 21.1875 \r\nQ 55.609375 10.40625 48.1875 4.484375 \r\nQ 40.765625 -1.421875 27.09375 -1.421875 \r\nQ 22.515625 -1.421875 17.65625 -0.515625 \r\nQ 12.796875 0.390625 7.625 2.203125 \r\nL 7.625 11.71875 \r\nQ 11.71875 9.328125 16.59375 8.109375 \r\nQ 21.484375 6.890625 26.8125 6.890625 \r\nQ 36.078125 6.890625 40.9375 10.546875 \r\nQ 45.796875 14.203125 45.796875 21.1875 \r\nQ 45.796875 27.640625 41.28125 31.265625 \r\nQ 36.765625 34.90625 28.71875 34.90625 \r\nL 20.21875 34.90625 \r\nL 20.21875 43.015625 \r\nL 29.109375 43.015625 \r\nQ 36.375 43.015625 40.234375 45.921875 \r\nQ 44.09375 48.828125 44.09375 54.296875 \r\nQ 44.09375 59.90625 40.109375 62.90625 \r\nQ 36.140625 65.921875 28.71875 65.921875 \r\nQ 24.65625 65.921875 20.015625 65.03125 \r\nQ 15.375 64.15625 9.8125 62.3125 \r\nL 9.8125 71.09375 \r\nQ 15.4375 72.65625 20.34375 73.4375 \r\nQ 25.25 74.21875 29.59375 74.21875 \r\nQ 40.828125 74.21875 47.359375 69.109375 \r\nQ 53.90625 64.015625 53.90625 55.328125 \r\nQ 53.90625 49.265625 50.4375 45.09375 \r\nQ 46.96875 40.921875 40.578125 39.3125 \r\nz\r\n\" id=\"DejaVuSans-51\"/>\r\n      </defs>\r\n      <g transform=\"translate(37.865938 100.699457)scale(0.14 -0.14)\">\r\n       <use xlink:href=\"#DejaVuSans-51\"/>\r\n      </g>\r\n     </g>\r\n    </g>\r\n    <g id=\"ytick_6\">\r\n     <g id=\"line2d_13\">\r\n      <g>\r\n       <use style=\"stroke:#000000;stroke-width:0.8;\" x=\"53.773438\" xlink:href=\"#m477243f50b\" y=\"58.526314\"/>\r\n      </g>\r\n     </g>\r\n     <g id=\"text_14\">\r\n      <!-- 4 -->\r\n      <g transform=\"translate(37.865938 63.84522)scale(0.14 -0.14)\">\r\n       <use xlink:href=\"#DejaVuSans-52\"/>\r\n      </g>\r\n     </g>\r\n    </g>\r\n    <g id=\"text_15\">\r\n     <!-- mother_education -->\r\n     <defs>\r\n      <path d=\"M 52 44.1875 \r\nQ 55.375 50.25 60.0625 53.125 \r\nQ 64.75 56 71.09375 56 \r\nQ 79.640625 56 84.28125 50.015625 \r\nQ 88.921875 44.046875 88.921875 33.015625 \r\nL 88.921875 0 \r\nL 79.890625 0 \r\nL 79.890625 32.71875 \r\nQ 79.890625 40.578125 77.09375 44.375 \r\nQ 74.3125 48.1875 68.609375 48.1875 \r\nQ 61.625 48.1875 57.5625 43.546875 \r\nQ 53.515625 38.921875 53.515625 30.90625 \r\nL 53.515625 0 \r\nL 44.484375 0 \r\nL 44.484375 32.71875 \r\nQ 44.484375 40.625 41.703125 44.40625 \r\nQ 38.921875 48.1875 33.109375 48.1875 \r\nQ 26.21875 48.1875 22.15625 43.53125 \r\nQ 18.109375 38.875 18.109375 30.90625 \r\nL 18.109375 0 \r\nL 9.078125 0 \r\nL 9.078125 54.6875 \r\nL 18.109375 54.6875 \r\nL 18.109375 46.1875 \r\nQ 21.1875 51.21875 25.484375 53.609375 \r\nQ 29.78125 56 35.6875 56 \r\nQ 41.65625 56 45.828125 52.96875 \r\nQ 50 49.953125 52 44.1875 \r\nz\r\n\" id=\"DejaVuSans-109\"/>\r\n      <path d=\"M 30.609375 48.390625 \r\nQ 23.390625 48.390625 19.1875 42.75 \r\nQ 14.984375 37.109375 14.984375 27.296875 \r\nQ 14.984375 17.484375 19.15625 11.84375 \r\nQ 23.34375 6.203125 30.609375 6.203125 \r\nQ 37.796875 6.203125 41.984375 11.859375 \r\nQ 46.1875 17.53125 46.1875 27.296875 \r\nQ 46.1875 37.015625 41.984375 42.703125 \r\nQ 37.796875 48.390625 30.609375 48.390625 \r\nz\r\nM 30.609375 56 \r\nQ 42.328125 56 49.015625 48.375 \r\nQ 55.71875 40.765625 55.71875 27.296875 \r\nQ 55.71875 13.875 49.015625 6.21875 \r\nQ 42.328125 -1.421875 30.609375 -1.421875 \r\nQ 18.84375 -1.421875 12.171875 6.21875 \r\nQ 5.515625 13.875 5.515625 27.296875 \r\nQ 5.515625 40.765625 12.171875 48.375 \r\nQ 18.84375 56 30.609375 56 \r\nz\r\n\" id=\"DejaVuSans-111\"/>\r\n      <path d=\"M 18.3125 70.21875 \r\nL 18.3125 54.6875 \r\nL 36.8125 54.6875 \r\nL 36.8125 47.703125 \r\nL 18.3125 47.703125 \r\nL 18.3125 18.015625 \r\nQ 18.3125 11.328125 20.140625 9.421875 \r\nQ 21.96875 7.515625 27.59375 7.515625 \r\nL 36.8125 7.515625 \r\nL 36.8125 0 \r\nL 27.59375 0 \r\nQ 17.1875 0 13.234375 3.875 \r\nQ 9.28125 7.765625 9.28125 18.015625 \r\nL 9.28125 47.703125 \r\nL 2.6875 47.703125 \r\nL 2.6875 54.6875 \r\nL 9.28125 54.6875 \r\nL 9.28125 70.21875 \r\nz\r\n\" id=\"DejaVuSans-116\"/>\r\n      <path d=\"M 54.890625 33.015625 \r\nL 54.890625 0 \r\nL 45.90625 0 \r\nL 45.90625 32.71875 \r\nQ 45.90625 40.484375 42.875 44.328125 \r\nQ 39.84375 48.1875 33.796875 48.1875 \r\nQ 26.515625 48.1875 22.3125 43.546875 \r\nQ 18.109375 38.921875 18.109375 30.90625 \r\nL 18.109375 0 \r\nL 9.078125 0 \r\nL 9.078125 75.984375 \r\nL 18.109375 75.984375 \r\nL 18.109375 46.1875 \r\nQ 21.34375 51.125 25.703125 53.5625 \r\nQ 30.078125 56 35.796875 56 \r\nQ 45.21875 56 50.046875 50.171875 \r\nQ 54.890625 44.34375 54.890625 33.015625 \r\nz\r\n\" id=\"DejaVuSans-104\"/>\r\n      <path d=\"M 41.109375 46.296875 \r\nQ 39.59375 47.171875 37.8125 47.578125 \r\nQ 36.03125 48 33.890625 48 \r\nQ 26.265625 48 22.1875 43.046875 \r\nQ 18.109375 38.09375 18.109375 28.8125 \r\nL 18.109375 0 \r\nL 9.078125 0 \r\nL 9.078125 54.6875 \r\nL 18.109375 54.6875 \r\nL 18.109375 46.1875 \r\nQ 20.953125 51.171875 25.484375 53.578125 \r\nQ 30.03125 56 36.53125 56 \r\nQ 37.453125 56 38.578125 55.875 \r\nQ 39.703125 55.765625 41.0625 55.515625 \r\nz\r\n\" id=\"DejaVuSans-114\"/>\r\n      <path d=\"M 50.984375 -16.609375 \r\nL 50.984375 -23.578125 \r\nL -0.984375 -23.578125 \r\nL -0.984375 -16.609375 \r\nz\r\n\" id=\"DejaVuSans-95\"/>\r\n      <path d=\"M 45.40625 46.390625 \r\nL 45.40625 75.984375 \r\nL 54.390625 75.984375 \r\nL 54.390625 0 \r\nL 45.40625 0 \r\nL 45.40625 8.203125 \r\nQ 42.578125 3.328125 38.25 0.953125 \r\nQ 33.9375 -1.421875 27.875 -1.421875 \r\nQ 17.96875 -1.421875 11.734375 6.484375 \r\nQ 5.515625 14.40625 5.515625 27.296875 \r\nQ 5.515625 40.1875 11.734375 48.09375 \r\nQ 17.96875 56 27.875 56 \r\nQ 33.9375 56 38.25 53.625 \r\nQ 42.578125 51.265625 45.40625 46.390625 \r\nz\r\nM 14.796875 27.296875 \r\nQ 14.796875 17.390625 18.875 11.75 \r\nQ 22.953125 6.109375 30.078125 6.109375 \r\nQ 37.203125 6.109375 41.296875 11.75 \r\nQ 45.40625 17.390625 45.40625 27.296875 \r\nQ 45.40625 37.203125 41.296875 42.84375 \r\nQ 37.203125 48.484375 30.078125 48.484375 \r\nQ 22.953125 48.484375 18.875 42.84375 \r\nQ 14.796875 37.203125 14.796875 27.296875 \r\nz\r\n\" id=\"DejaVuSans-100\"/>\r\n      <path d=\"M 8.5 21.578125 \r\nL 8.5 54.6875 \r\nL 17.484375 54.6875 \r\nL 17.484375 21.921875 \r\nQ 17.484375 14.15625 20.5 10.265625 \r\nQ 23.53125 6.390625 29.59375 6.390625 \r\nQ 36.859375 6.390625 41.078125 11.03125 \r\nQ 45.3125 15.671875 45.3125 23.6875 \r\nL 45.3125 54.6875 \r\nL 54.296875 54.6875 \r\nL 54.296875 0 \r\nL 45.3125 0 \r\nL 45.3125 8.40625 \r\nQ 42.046875 3.421875 37.71875 1 \r\nQ 33.40625 -1.421875 27.6875 -1.421875 \r\nQ 18.265625 -1.421875 13.375 4.4375 \r\nQ 8.5 10.296875 8.5 21.578125 \r\nz\r\nM 31.109375 56 \r\nz\r\n\" id=\"DejaVuSans-117\"/>\r\n      <path d=\"M 48.78125 52.59375 \r\nL 48.78125 44.1875 \r\nQ 44.96875 46.296875 41.140625 47.34375 \r\nQ 37.3125 48.390625 33.40625 48.390625 \r\nQ 24.65625 48.390625 19.8125 42.84375 \r\nQ 14.984375 37.3125 14.984375 27.296875 \r\nQ 14.984375 17.28125 19.8125 11.734375 \r\nQ 24.65625 6.203125 33.40625 6.203125 \r\nQ 37.3125 6.203125 41.140625 7.25 \r\nQ 44.96875 8.296875 48.78125 10.40625 \r\nL 48.78125 2.09375 \r\nQ 45.015625 0.34375 40.984375 -0.53125 \r\nQ 36.96875 -1.421875 32.421875 -1.421875 \r\nQ 20.0625 -1.421875 12.78125 6.34375 \r\nQ 5.515625 14.109375 5.515625 27.296875 \r\nQ 5.515625 40.671875 12.859375 48.328125 \r\nQ 20.21875 56 33.015625 56 \r\nQ 37.15625 56 41.109375 55.140625 \r\nQ 45.0625 54.296875 48.78125 52.59375 \r\nz\r\n\" id=\"DejaVuSans-99\"/>\r\n      <path d=\"M 9.421875 54.6875 \r\nL 18.40625 54.6875 \r\nL 18.40625 0 \r\nL 9.421875 0 \r\nz\r\nM 9.421875 75.984375 \r\nL 18.40625 75.984375 \r\nL 18.40625 64.59375 \r\nL 9.421875 64.59375 \r\nz\r\n\" id=\"DejaVuSans-105\"/>\r\n      <path d=\"M 54.890625 33.015625 \r\nL 54.890625 0 \r\nL 45.90625 0 \r\nL 45.90625 32.71875 \r\nQ 45.90625 40.484375 42.875 44.328125 \r\nQ 39.84375 48.1875 33.796875 48.1875 \r\nQ 26.515625 48.1875 22.3125 43.546875 \r\nQ 18.109375 38.921875 18.109375 30.90625 \r\nL 18.109375 0 \r\nL 9.078125 0 \r\nL 9.078125 54.6875 \r\nL 18.109375 54.6875 \r\nL 18.109375 46.1875 \r\nQ 21.34375 51.125 25.703125 53.5625 \r\nQ 30.078125 56 35.796875 56 \r\nQ 45.21875 56 50.046875 50.171875 \r\nQ 54.890625 44.34375 54.890625 33.015625 \r\nz\r\n\" id=\"DejaVuSans-110\"/>\r\n     </defs>\r\n     <g transform=\"translate(18.597656 202.328672)rotate(-90)scale(0.15 -0.15)\">\r\n      <use xlink:href=\"#DejaVuSans-109\"/>\r\n      <use x=\"97.412109\" xlink:href=\"#DejaVuSans-111\"/>\r\n      <use x=\"158.59375\" xlink:href=\"#DejaVuSans-116\"/>\r\n      <use x=\"197.802734\" xlink:href=\"#DejaVuSans-104\"/>\r\n      <use x=\"261.181641\" xlink:href=\"#DejaVuSans-101\"/>\r\n      <use x=\"322.705078\" xlink:href=\"#DejaVuSans-114\"/>\r\n      <use x=\"363.818359\" xlink:href=\"#DejaVuSans-95\"/>\r\n      <use x=\"413.818359\" xlink:href=\"#DejaVuSans-101\"/>\r\n      <use x=\"475.341797\" xlink:href=\"#DejaVuSans-100\"/>\r\n      <use x=\"538.818359\" xlink:href=\"#DejaVuSans-117\"/>\r\n      <use x=\"602.197266\" xlink:href=\"#DejaVuSans-99\"/>\r\n      <use x=\"657.177734\" xlink:href=\"#DejaVuSans-97\"/>\r\n      <use x=\"718.457031\" xlink:href=\"#DejaVuSans-116\"/>\r\n      <use x=\"757.666016\" xlink:href=\"#DejaVuSans-105\"/>\r\n      <use x=\"785.449219\" xlink:href=\"#DejaVuSans-111\"/>\r\n      <use x=\"846.630859\" xlink:href=\"#DejaVuSans-110\"/>\r\n     </g>\r\n    </g>\r\n   </g>\r\n   <g id=\"patch_3\">\r\n    <path d=\"M 53.773438 242.7975 \r\nL 53.773438 25.3575 \r\n\" style=\"fill:none;stroke:#000000;stroke-linecap:square;stroke-linejoin:miter;stroke-width:0.8;\"/>\r\n   </g>\r\n   <g id=\"patch_4\">\r\n    <path d=\"M 388.573438 242.7975 \r\nL 388.573438 25.3575 \r\n\" style=\"fill:none;stroke:#000000;stroke-linecap:square;stroke-linejoin:miter;stroke-width:0.8;\"/>\r\n   </g>\r\n   <g id=\"patch_5\">\r\n    <path d=\"M 53.773438 242.7975 \r\nL 388.573437 242.7975 \r\n\" style=\"fill:none;stroke:#000000;stroke-linecap:square;stroke-linejoin:miter;stroke-width:0.8;\"/>\r\n   </g>\r\n   <g id=\"patch_6\">\r\n    <path d=\"M 53.773438 25.3575 \r\nL 388.573437 25.3575 \r\n\" style=\"fill:none;stroke:#000000;stroke-linecap:square;stroke-linejoin:miter;stroke-width:0.8;\"/>\r\n   </g>\r\n   <g id=\"text_16\">\r\n    <!-- KNN decision boundary with neighbros: 5 -->\r\n    <defs>\r\n     <path d=\"M 9.8125 72.90625 \r\nL 19.671875 72.90625 \r\nL 19.671875 42.09375 \r\nL 52.390625 72.90625 \r\nL 65.09375 72.90625 \r\nL 28.90625 38.921875 \r\nL 67.671875 0 \r\nL 54.6875 0 \r\nL 19.671875 35.109375 \r\nL 19.671875 0 \r\nL 9.8125 0 \r\nz\r\n\" id=\"DejaVuSans-75\"/>\r\n     <path d=\"M 9.8125 72.90625 \r\nL 23.09375 72.90625 \r\nL 55.421875 11.921875 \r\nL 55.421875 72.90625 \r\nL 64.984375 72.90625 \r\nL 64.984375 0 \r\nL 51.703125 0 \r\nL 19.390625 60.984375 \r\nL 19.390625 0 \r\nL 9.8125 0 \r\nz\r\n\" id=\"DejaVuSans-78\"/>\r\n     <path id=\"DejaVuSans-32\"/>\r\n     <path d=\"M 44.28125 53.078125 \r\nL 44.28125 44.578125 \r\nQ 40.484375 46.53125 36.375 47.5 \r\nQ 32.28125 48.484375 27.875 48.484375 \r\nQ 21.1875 48.484375 17.84375 46.4375 \r\nQ 14.5 44.390625 14.5 40.28125 \r\nQ 14.5 37.15625 16.890625 35.375 \r\nQ 19.28125 33.59375 26.515625 31.984375 \r\nL 29.59375 31.296875 \r\nQ 39.15625 29.25 43.1875 25.515625 \r\nQ 47.21875 21.78125 47.21875 15.09375 \r\nQ 47.21875 7.46875 41.1875 3.015625 \r\nQ 35.15625 -1.421875 24.609375 -1.421875 \r\nQ 20.21875 -1.421875 15.453125 -0.5625 \r\nQ 10.6875 0.296875 5.421875 2 \r\nL 5.421875 11.28125 \r\nQ 10.40625 8.6875 15.234375 7.390625 \r\nQ 20.0625 6.109375 24.8125 6.109375 \r\nQ 31.15625 6.109375 34.5625 8.28125 \r\nQ 37.984375 10.453125 37.984375 14.40625 \r\nQ 37.984375 18.0625 35.515625 20.015625 \r\nQ 33.0625 21.96875 24.703125 23.78125 \r\nL 21.578125 24.515625 \r\nQ 13.234375 26.265625 9.515625 29.90625 \r\nQ 5.8125 33.546875 5.8125 39.890625 \r\nQ 5.8125 47.609375 11.28125 51.796875 \r\nQ 16.75 56 26.8125 56 \r\nQ 31.78125 56 36.171875 55.265625 \r\nQ 40.578125 54.546875 44.28125 53.078125 \r\nz\r\n\" id=\"DejaVuSans-115\"/>\r\n     <path d=\"M 48.6875 27.296875 \r\nQ 48.6875 37.203125 44.609375 42.84375 \r\nQ 40.53125 48.484375 33.40625 48.484375 \r\nQ 26.265625 48.484375 22.1875 42.84375 \r\nQ 18.109375 37.203125 18.109375 27.296875 \r\nQ 18.109375 17.390625 22.1875 11.75 \r\nQ 26.265625 6.109375 33.40625 6.109375 \r\nQ 40.53125 6.109375 44.609375 11.75 \r\nQ 48.6875 17.390625 48.6875 27.296875 \r\nz\r\nM 18.109375 46.390625 \r\nQ 20.953125 51.265625 25.265625 53.625 \r\nQ 29.59375 56 35.59375 56 \r\nQ 45.5625 56 51.78125 48.09375 \r\nQ 58.015625 40.1875 58.015625 27.296875 \r\nQ 58.015625 14.40625 51.78125 6.484375 \r\nQ 45.5625 -1.421875 35.59375 -1.421875 \r\nQ 29.59375 -1.421875 25.265625 0.953125 \r\nQ 20.953125 3.328125 18.109375 8.203125 \r\nL 18.109375 0 \r\nL 9.078125 0 \r\nL 9.078125 75.984375 \r\nL 18.109375 75.984375 \r\nz\r\n\" id=\"DejaVuSans-98\"/>\r\n     <path d=\"M 32.171875 -5.078125 \r\nQ 28.375 -14.84375 24.75 -17.8125 \r\nQ 21.140625 -20.796875 15.09375 -20.796875 \r\nL 7.90625 -20.796875 \r\nL 7.90625 -13.28125 \r\nL 13.1875 -13.28125 \r\nQ 16.890625 -13.28125 18.9375 -11.515625 \r\nQ 21 -9.765625 23.484375 -3.21875 \r\nL 25.09375 0.875 \r\nL 2.984375 54.6875 \r\nL 12.5 54.6875 \r\nL 29.59375 11.921875 \r\nL 46.6875 54.6875 \r\nL 56.203125 54.6875 \r\nz\r\n\" id=\"DejaVuSans-121\"/>\r\n     <path d=\"M 4.203125 54.6875 \r\nL 13.1875 54.6875 \r\nL 24.421875 12.015625 \r\nL 35.59375 54.6875 \r\nL 46.1875 54.6875 \r\nL 57.421875 12.015625 \r\nL 68.609375 54.6875 \r\nL 77.59375 54.6875 \r\nL 63.28125 0 \r\nL 52.6875 0 \r\nL 40.921875 44.828125 \r\nL 29.109375 0 \r\nL 18.5 0 \r\nz\r\n\" id=\"DejaVuSans-119\"/>\r\n     <path d=\"M 11.71875 12.40625 \r\nL 22.015625 12.40625 \r\nL 22.015625 0 \r\nL 11.71875 0 \r\nz\r\nM 11.71875 51.703125 \r\nL 22.015625 51.703125 \r\nL 22.015625 39.3125 \r\nL 11.71875 39.3125 \r\nz\r\n\" id=\"DejaVuSans-58\"/>\r\n    </defs>\r\n    <g transform=\"translate(55.778437 19.3575)scale(0.16 -0.16)\">\r\n     <use xlink:href=\"#DejaVuSans-75\"/>\r\n     <use x=\"65.576172\" xlink:href=\"#DejaVuSans-78\"/>\r\n     <use x=\"140.380859\" xlink:href=\"#DejaVuSans-78\"/>\r\n     <use x=\"215.185547\" xlink:href=\"#DejaVuSans-32\"/>\r\n     <use x=\"246.972656\" xlink:href=\"#DejaVuSans-100\"/>\r\n     <use x=\"310.449219\" xlink:href=\"#DejaVuSans-101\"/>\r\n     <use x=\"371.972656\" xlink:href=\"#DejaVuSans-99\"/>\r\n     <use x=\"426.953125\" xlink:href=\"#DejaVuSans-105\"/>\r\n     <use x=\"454.736328\" xlink:href=\"#DejaVuSans-115\"/>\r\n     <use x=\"506.835938\" xlink:href=\"#DejaVuSans-105\"/>\r\n     <use x=\"534.619141\" xlink:href=\"#DejaVuSans-111\"/>\r\n     <use x=\"595.800781\" xlink:href=\"#DejaVuSans-110\"/>\r\n     <use x=\"659.179688\" xlink:href=\"#DejaVuSans-32\"/>\r\n     <use x=\"690.966797\" xlink:href=\"#DejaVuSans-98\"/>\r\n     <use x=\"754.443359\" xlink:href=\"#DejaVuSans-111\"/>\r\n     <use x=\"815.625\" xlink:href=\"#DejaVuSans-117\"/>\r\n     <use x=\"879.003906\" xlink:href=\"#DejaVuSans-110\"/>\r\n     <use x=\"942.382812\" xlink:href=\"#DejaVuSans-100\"/>\r\n     <use x=\"1005.859375\" xlink:href=\"#DejaVuSans-97\"/>\r\n     <use x=\"1067.138672\" xlink:href=\"#DejaVuSans-114\"/>\r\n     <use x=\"1108.251953\" xlink:href=\"#DejaVuSans-121\"/>\r\n     <use x=\"1167.431641\" xlink:href=\"#DejaVuSans-32\"/>\r\n     <use x=\"1199.21875\" xlink:href=\"#DejaVuSans-119\"/>\r\n     <use x=\"1281.005859\" xlink:href=\"#DejaVuSans-105\"/>\r\n     <use x=\"1308.789062\" xlink:href=\"#DejaVuSans-116\"/>\r\n     <use x=\"1347.998047\" xlink:href=\"#DejaVuSans-104\"/>\r\n     <use x=\"1411.376953\" xlink:href=\"#DejaVuSans-32\"/>\r\n     <use x=\"1443.164062\" xlink:href=\"#DejaVuSans-110\"/>\r\n     <use x=\"1506.542969\" xlink:href=\"#DejaVuSans-101\"/>\r\n     <use x=\"1568.066406\" xlink:href=\"#DejaVuSans-105\"/>\r\n     <use x=\"1595.849609\" xlink:href=\"#DejaVuSans-103\"/>\r\n     <use x=\"1659.326172\" xlink:href=\"#DejaVuSans-104\"/>\r\n     <use x=\"1722.705078\" xlink:href=\"#DejaVuSans-98\"/>\r\n     <use x=\"1786.181641\" xlink:href=\"#DejaVuSans-114\"/>\r\n     <use x=\"1825.044922\" xlink:href=\"#DejaVuSans-111\"/>\r\n     <use x=\"1886.226562\" xlink:href=\"#DejaVuSans-115\"/>\r\n     <use x=\"1938.326172\" xlink:href=\"#DejaVuSans-58\"/>\r\n     <use x=\"1972.017578\" xlink:href=\"#DejaVuSans-32\"/>\r\n     <use x=\"2003.804688\" xlink:href=\"#DejaVuSans-53\"/>\r\n    </g>\r\n   </g>\r\n  </g>\r\n </g>\r\n <defs>\r\n  <clipPath id=\"p0e93af214d\">\r\n   <rect height=\"217.44\" width=\"334.8\" x=\"53.773438\" y=\"25.3575\"/>\r\n  </clipPath>\r\n </defs>\r\n</svg>\r\n",
      "image/png": "[encoded data removed]"
     },
     "metadata": {
      "needs_background": "light"
     }
    }
   ],
   "source": [
    "df_original['final_grade'] = '0'\n",
    "df_original.loc[(df_original.final_score >= 10), 'final_grade'] = '1'\n",
    "df_knn=df_original.drop(columns=['final_score'])\n",
    "\n",
    "\n",
    "X_binary = df_knn.iloc[:,:32].values   \n",
    "Y_binary = df_knn['final_grade'].values\n",
    "\n",
    "# hold out splitting data into 70% training and 30% test data: \n",
    "# test_size is the ratio\n",
    "X_binary_train, X_binary_test, y_binary_train, y_binary_test = train_test_split(X_binary, Y_binary, test_size=0.3, random_state=1) \n",
    "X_binary_train1 = X_binary_train[:,[2,6]]   # age\n",
    "\n",
    "#X_binary_train1 = preprocessing.normalize(X_binary_train1)\n",
    "\n",
    "\n",
    "import matplotlib.pyplot as plt\n",
    "\n",
    "def plot_decision_boundaries(X, y, model_class, **model_params):\n",
    "    \n",
    "    reduced_data = X[:, :2]\n",
    "    model = model_class(**model_params)\n",
    "    model.fit(reduced_data, y)\n",
    "\n",
    "    h = .02\n",
    "\n",
    "    x_min, x_max = reduced_data[:, 0].min() - 1, reduced_data[:, 0].max() + 1\n",
    "    y_min, y_max = reduced_data[:, 1].min() - 1, reduced_data[:, 1].max() + 1\n",
    "\n",
    "    xx, yy = np.meshgrid(np.arange(x_min, x_max, h), np.arange(y_min, y_max, h))\n",
    "    Z = model.predict(np.c_[xx.ravel(), yy.ravel()])    \n",
    "\n",
    "    x_min, x_max = X[:, 0].min() - 1, X[:, 0].max() + 1\n",
    "    y_min, y_max = X[:, 1].min() - 1, X[:, 1].max() + 1\n",
    "    xx, yy = np.meshgrid(np.arange(x_min, x_max, 0.1),\n",
    "                         np.arange(y_min, y_max, 0.1))\n",
    "    Z = model.predict(np.c_[xx.ravel(), yy.ravel()]).reshape(xx.shape)\n",
    "    plt.contourf(xx, yy, Z, alpha=0.4)\n",
    "    plt.scatter(X[:, 0], X[:, 1], c=y, alpha=0.8)\n",
    "    plt.xlabel(\"age\",fontsize=15)\n",
    "    plt.ylabel(\"mother_education\",fontsize=15)\n",
    "    plt.xticks(fontsize=14)\n",
    "    plt.yticks(fontsize=14)\n",
    "    return plt\n",
    "\n",
    "\n",
    "plt.figure()\n",
    "plt.title(\"KNN decision boundary with neighbros: 5\",fontsize=16)\n",
    "plot_decision_boundaries(X_binary_train1,y_binary_train, KNeighborsClassifier,n_neighbors=5)\n",
    "plt.show()\n",
    "\n",
    "#df_knn.head(10)"
   ]
  },
  {
   "source": [
    "### code explain\n",
    "```\n",
    "X_binary_train1 = X_binary_train[:,[2,6]] #pick age and mother_education column to retrain the model \n",
    "\n",
    "reduced_data = X[:, :2] # Reduces to the first two columns of data\n",
    "model = model_class(**model_params) # **model_params=n_neighboors\n",
    "model.fit(reduced_data, y)  # fit the model\n",
    "\n",
    "# Step size of the mesh. Decrease to increase the quality of the VQ.\n",
    "h = .02     # point in the mesh [x_min, m_max]x[y_min, y_max].    \n",
    "\n",
    "# Plot the decision boundary. For that, we will assign a color to each\n",
    "x_min, x_max = reduced_data[:, 0].min() - 1, reduced_data[:, 0].max() + 1\n",
    "y_min, y_max = reduced_data[:, 1].min() - 1, reduced_data[:, 1].max() + 1\n",
    "\n",
    "# Meshgrid creation\n",
    "xx, yy = np.meshgrid(np.arange(x_min, x_max, h), np.arange(y_min, y_max, h))\n",
    "\n",
    "# Obtain labels for each point in mesh using the model.\n",
    "Z = model.predict(np.c_[xx.ravel(), yy.ravel()])    \n",
    "\n",
    "x_min, x_max = X[:, 0].min() - 1, X[:, 0].max() + 1\n",
    "y_min, y_max = X[:, 1].min() - 1, X[:, 1].max() + 1\n",
    "\n",
    "# Predictions to obtain the classification results\n",
    "Z = model.predict(np.c_[xx.ravel(), yy.ravel()]).reshape(xx.shape)\n",
    "```\n",
    "\n",
    "### decribe the decision boundary\n",
    "different color represent different binary class (fail and pass), the decision boundaries split data by location into two classes. However this KNN model is just train by two feature, the real KNN boundaries will be in multi-dimension and also split into two region (in binary class)"
   ],
   "cell_type": "markdown",
   "metadata": {}
  },
  {
   "source": [
    "### Show the prediction and reasoning of 1-samples in the validation set."
   ],
   "cell_type": "markdown",
   "metadata": {}
  },
  {
   "cell_type": "code",
   "execution_count": 171,
   "metadata": {},
   "outputs": [
    {
     "output_type": "stream",
     "name": "stdout",
     "text": [
      "[[0.1364073  0.15521163 0.1569752  0.16308343 0.17066576]\n [0.22789766 0.23796716 0.25167573 0.25673018 0.2623377 ]\n [0.12615428 0.13215374 0.14665271 0.15833516 0.16129864]\n ...\n [0.19643139 0.20456897 0.20491889 0.21126332 0.21256303]\n [0.16969668 0.21365639 0.23150218 0.24498197 0.24845154]\n [0.21934305 0.22935449 0.23939498 0.26922448 0.26976382]]\n[[250 158  33 242 203]\n [241 207 172  20 249]\n [ 78  33 253  53 203]\n ...\n [219 232 247 119  74]\n [110 256 195 152 185]\n [ 50 135  92  62 217]]\n"
     ]
    }
   ],
   "source": [
    "# KNN first model \n",
    "\n",
    "X_norm_train = preprocessing.normalize(X_five_train)\n",
    "X_norm_test = preprocessing.normalize(X_five_test)\n",
    "\n",
    "X_norm_test = X_norm_test[0,0:]\n",
    "neigh1.fit(X_norm_train,y_five_train)\n",
    "distance, ind = neigh1.kneighbors(n_neighbors=5)\n",
    "#print(X_norm_train[0])\n",
    "print(distance)\n",
    "print(ind)"
   ]
  },
  {
   "source": [
    "We use the formula in Chapter3 p.28 ![title](picture.png)<br><br> \n",
    "\n",
    "\n",
    "According to the above two arrays, the distance array gives the K nearest distance between test data and K nodes. The indices indicates which K nodes are these. For example, the first row distance = ```[0.1364073  0.15521163 0.1569752  0.16308343 0.17066576] ```and indices =  ```[250 158  33 242 203] ```means that the distance between test data and node251(starts from zero index) is 0.1364073 ,and distance between test data and node159 is 0.15521163 and so on. (notice that the rows are for different test data)<br><br>\n",
    "Next we are going to predict the pass or fail, first assume that ```[250 158  33 242 203] ```class = ```[pass,pass,fail,fail,pass] ```(the real class can be find in the dataset).Then, we caculate {1/pow(0.1364073,2) + 1/pow(0.15521163,2) + 0/pow(0.1569752,2) + 0/pow(0.16308343,2) + 1*pow(0.17066576,2)} / {pow(0.1364073,2) + pow(0.15521163,2) + pow(0.1569752,2) + pow(0.16308343,2) + pow(0.17066576,2)} and check if it is greater than 0.5. If yes, predict=pass, else predict=false. (I'm not going to caculate here, just writing down how it works, hope it is clear enough)\n",
    "\n",
    "\n",
    "  "
   ],
   "cell_type": "markdown",
   "metadata": {}
  }
 ]
}